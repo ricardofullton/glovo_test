{
 "cells": [
  {
   "cell_type": "markdown",
   "metadata": {},
   "source": [
    "# Glovo Interview Ricardo Huarte"
   ]
  },
  {
   "cell_type": "code",
   "execution_count": 1,
   "metadata": {},
   "outputs": [
    {
     "name": "stderr",
     "output_type": "stream",
     "text": [
      "Using TensorFlow backend.\n"
     ]
    }
   ],
   "source": [
    "import pandas as pd\n",
    "import numpy as np\n",
    "import matplotlib.pyplot as plt\n",
    "import seaborn as sns\n",
    "import missingno as msno\n",
    "from fancyimpute import KNN    \n",
    "from sklearn.model_selection import train_test_split,cross_val_score, KFold, StratifiedKFold ,GridSearchCV, RandomizedSearchCV\n",
    "from sklearn.ensemble import RandomForestClassifier, AdaBoostClassifier\n",
    "from scipy.stats import uniform\n",
    "from sklearn.preprocessing import StandardScaler,OneHotEncoder, LabelEncoder, Imputer\n",
    "from sklearn.linear_model import LogisticRegression\n",
    "from sklearn.metrics import roc_auc_score,confusion_matrix, classification_report, auc, roc_curve, precision_recall_curve, \\\n",
    "average_precision_score,make_scorer,recall_score, accuracy_score, precision_score\n",
    "from sklearn import svm\n",
    "from xgboost.sklearn import XGBClassifier  \n",
    "from xgboost.sklearn import XGBRegressor\n",
    "import warnings; warnings.simplefilter('ignore')\n",
    "from keras.models import Sequential\n",
    "from keras.layers import Dense\n",
    "from keras.wrappers.scikit_learn import KerasClassifier\n",
    "from sklearn.pipeline import Pipeline"
   ]
  },
  {
   "cell_type": "markdown",
   "metadata": {},
   "source": [
    "## About Data Set:\n",
    "You will find 2 .csv files attached to this task. 1 of the files consist of courier’s lifetime dependent features and other consist courier’s weekly variant features. Features are renamed for confidentiality purposes and data dictionary will NOT be provided. However, in 2 different .csv files, same courier ID represents same courier."
   ]
  },
  {
   "cell_type": "markdown",
   "metadata": {},
   "source": [
    "## Task 1: Exploratory Analysis and Data Munging"
   ]
  },
  {
   "cell_type": "markdown",
   "metadata": {},
   "source": [
    "In this task, you are being expected to clean data, treat missing values, find out related features and finally label the data.\n",
    "Every courier did not work every week. Thus, some of courier-week combinations’ data are not provided. First, come up with a way to treat these missing values. Removing missing values are not suggested since provided data set is small and it will affect your predictive model’s evaluation metric.\n",
    "Create a report / dashboard and correlation matrix, in addition to results of your univariate and bivariate analysis and explain your findings.\n",
    "Finally, label your data. If a specific courier’s week 9, 10 and 11 data is not provided, we label this courier as “1” otherwise “0”. After labeling, remove week 8(Yes including 8!), 9, 10 and 11 data to avoid bias in your next task. In addition, distribution of feature_3 is a hint how the data is generated."
   ]
  },
  {
   "cell_type": "code",
   "execution_count": 2,
   "metadata": {
    "collapsed": true
   },
   "outputs": [],
   "source": [
    "%matplotlib inline"
   ]
  },
  {
   "cell_type": "code",
   "execution_count": 3,
   "metadata": {
    "collapsed": true
   },
   "outputs": [],
   "source": [
    "weekly = pd.read_csv(filepath_or_buffer='Courier_weekly_data.csv')"
   ]
  },
  {
   "cell_type": "markdown",
   "metadata": {},
   "source": [
    "### Checking how many couriers worked on the given weeks"
   ]
  },
  {
   "cell_type": "code",
   "execution_count": 4,
   "metadata": {},
   "outputs": [
    {
     "data": {
      "text/plain": [
       "387"
      ]
     },
     "execution_count": 4,
     "metadata": {},
     "output_type": "execute_result"
    }
   ],
   "source": [
    "weekly[(weekly.week==11) | (weekly.week==10) | (weekly.week==9)]['courier'].drop_duplicates().count()"
   ]
  },
  {
   "cell_type": "code",
   "execution_count": 5,
   "metadata": {
    "collapsed": true
   },
   "outputs": [],
   "source": [
    "weeks=weekly.copy()"
   ]
  },
  {
   "cell_type": "code",
   "execution_count": 6,
   "metadata": {
    "collapsed": true
   },
   "outputs": [],
   "source": [
    "# function to create the label for the pertinent weeks\n",
    "def week_label(row):\n",
    "    courier_set=weekly[(weekly.courier==row['courier']) & ((weekly.week==9) | (weekly.week==10) |(weekly.week==11))]\n",
    "    if courier_set['courier'].count() == 0:\n",
    "        label=1\n",
    "    else: \n",
    "        label=0\n",
    "    return label"
   ]
  },
  {
   "cell_type": "code",
   "execution_count": 7,
   "metadata": {},
   "outputs": [
    {
     "data": {
      "text/html": [
       "<div>\n",
       "<style>\n",
       "    .dataframe thead tr:only-child th {\n",
       "        text-align: right;\n",
       "    }\n",
       "\n",
       "    .dataframe thead th {\n",
       "        text-align: left;\n",
       "    }\n",
       "\n",
       "    .dataframe tbody tr th {\n",
       "        vertical-align: top;\n",
       "    }\n",
       "</style>\n",
       "<table border=\"1\" class=\"dataframe\">\n",
       "  <thead>\n",
       "    <tr style=\"text-align: right;\">\n",
       "      <th></th>\n",
       "      <th>courier</th>\n",
       "      <th>week</th>\n",
       "      <th>feature_1</th>\n",
       "      <th>feature_2</th>\n",
       "      <th>feature_3</th>\n",
       "      <th>feature_4</th>\n",
       "      <th>feature_5</th>\n",
       "      <th>feature_6</th>\n",
       "      <th>feature_7</th>\n",
       "      <th>feature_8</th>\n",
       "      <th>feature_9</th>\n",
       "      <th>feature_10</th>\n",
       "      <th>feature_11</th>\n",
       "      <th>feature_12</th>\n",
       "      <th>feature_13</th>\n",
       "      <th>feature_14</th>\n",
       "      <th>feature_15</th>\n",
       "      <th>feature_16</th>\n",
       "      <th>feature_17</th>\n",
       "      <th>label</th>\n",
       "    </tr>\n",
       "  </thead>\n",
       "  <tbody>\n",
       "    <tr>\n",
       "      <th>0</th>\n",
       "      <td>3767</td>\n",
       "      <td>2</td>\n",
       "      <td>6</td>\n",
       "      <td>34</td>\n",
       "      <td>38</td>\n",
       "      <td>0.0789</td>\n",
       "      <td>0.9211</td>\n",
       "      <td>140.4737</td>\n",
       "      <td>0.1316</td>\n",
       "      <td>2162.4737</td>\n",
       "      <td>0.7632</td>\n",
       "      <td>7.340776</td>\n",
       "      <td>8</td>\n",
       "      <td>20.208158</td>\n",
       "      <td>5.236316</td>\n",
       "      <td>0.8158</td>\n",
       "      <td>43.384804</td>\n",
       "      <td>1</td>\n",
       "      <td>19</td>\n",
       "      <td>1</td>\n",
       "    </tr>\n",
       "    <tr>\n",
       "      <th>1</th>\n",
       "      <td>3767</td>\n",
       "      <td>4</td>\n",
       "      <td>-1</td>\n",
       "      <td>42</td>\n",
       "      <td>37</td>\n",
       "      <td>0.0000</td>\n",
       "      <td>1.0000</td>\n",
       "      <td>135.5946</td>\n",
       "      <td>0.0811</td>\n",
       "      <td>2097.4054</td>\n",
       "      <td>0.9459</td>\n",
       "      <td>11.883784</td>\n",
       "      <td>19</td>\n",
       "      <td>18.855405</td>\n",
       "      <td>5.689459</td>\n",
       "      <td>0.8919</td>\n",
       "      <td>35.078042</td>\n",
       "      <td>3</td>\n",
       "      <td>11</td>\n",
       "      <td>1</td>\n",
       "    </tr>\n",
       "    <tr>\n",
       "      <th>2</th>\n",
       "      <td>3767</td>\n",
       "      <td>5</td>\n",
       "      <td>24</td>\n",
       "      <td>41</td>\n",
       "      <td>43</td>\n",
       "      <td>0.0233</td>\n",
       "      <td>0.9767</td>\n",
       "      <td>131.0930</td>\n",
       "      <td>0.0233</td>\n",
       "      <td>2043.8837</td>\n",
       "      <td>0.9302</td>\n",
       "      <td>7.072100</td>\n",
       "      <td>16</td>\n",
       "      <td>18.925116</td>\n",
       "      <td>5.138605</td>\n",
       "      <td>0.9302</td>\n",
       "      <td>31.455285</td>\n",
       "      <td>1</td>\n",
       "      <td>10</td>\n",
       "      <td>1</td>\n",
       "    </tr>\n",
       "    <tr>\n",
       "      <th>3</th>\n",
       "      <td>3767</td>\n",
       "      <td>6</td>\n",
       "      <td>-22</td>\n",
       "      <td>65</td>\n",
       "      <td>66</td>\n",
       "      <td>0.0606</td>\n",
       "      <td>0.9394</td>\n",
       "      <td>120.1515</td>\n",
       "      <td>0.0000</td>\n",
       "      <td>2124.2727</td>\n",
       "      <td>0.7727</td>\n",
       "      <td>7.356567</td>\n",
       "      <td>33</td>\n",
       "      <td>18.259697</td>\n",
       "      <td>4.704394</td>\n",
       "      <td>0.7879</td>\n",
       "      <td>34.252991</td>\n",
       "      <td>1</td>\n",
       "      <td>30</td>\n",
       "      <td>1</td>\n",
       "    </tr>\n",
       "    <tr>\n",
       "      <th>4</th>\n",
       "      <td>6282</td>\n",
       "      <td>2</td>\n",
       "      <td>9</td>\n",
       "      <td>33</td>\n",
       "      <td>27</td>\n",
       "      <td>0.0741</td>\n",
       "      <td>0.9259</td>\n",
       "      <td>100.0000</td>\n",
       "      <td>0.0370</td>\n",
       "      <td>4075.7407</td>\n",
       "      <td>0.8889</td>\n",
       "      <td>8.501233</td>\n",
       "      <td>5</td>\n",
       "      <td>26.863704</td>\n",
       "      <td>4.828519</td>\n",
       "      <td>0.8889</td>\n",
       "      <td>46.478114</td>\n",
       "      <td>1</td>\n",
       "      <td>4</td>\n",
       "      <td>0</td>\n",
       "    </tr>\n",
       "  </tbody>\n",
       "</table>\n",
       "</div>"
      ],
      "text/plain": [
       "   courier  week  feature_1  feature_2  feature_3  feature_4  feature_5  \\\n",
       "0     3767     2          6         34         38     0.0789     0.9211   \n",
       "1     3767     4         -1         42         37     0.0000     1.0000   \n",
       "2     3767     5         24         41         43     0.0233     0.9767   \n",
       "3     3767     6        -22         65         66     0.0606     0.9394   \n",
       "4     6282     2          9         33         27     0.0741     0.9259   \n",
       "\n",
       "   feature_6  feature_7  feature_8  feature_9  feature_10  feature_11  \\\n",
       "0   140.4737     0.1316  2162.4737     0.7632    7.340776           8   \n",
       "1   135.5946     0.0811  2097.4054     0.9459   11.883784          19   \n",
       "2   131.0930     0.0233  2043.8837     0.9302    7.072100          16   \n",
       "3   120.1515     0.0000  2124.2727     0.7727    7.356567          33   \n",
       "4   100.0000     0.0370  4075.7407     0.8889    8.501233           5   \n",
       "\n",
       "   feature_12  feature_13  feature_14  feature_15  feature_16  feature_17  \\\n",
       "0   20.208158    5.236316      0.8158   43.384804           1          19   \n",
       "1   18.855405    5.689459      0.8919   35.078042           3          11   \n",
       "2   18.925116    5.138605      0.9302   31.455285           1          10   \n",
       "3   18.259697    4.704394      0.7879   34.252991           1          30   \n",
       "4   26.863704    4.828519      0.8889   46.478114           1           4   \n",
       "\n",
       "   label  \n",
       "0      1  \n",
       "1      1  \n",
       "2      1  \n",
       "3      1  \n",
       "4      0  "
      ]
     },
     "execution_count": 7,
     "metadata": {},
     "output_type": "execute_result"
    }
   ],
   "source": [
    "weeks['label']=weeks.apply(week_label, axis=1)\n",
    "# keeping only given weeks for prediction\n",
    "weeks=weeks[(weeks.week<8)]\n",
    "weeks.head(5)"
   ]
  },
  {
   "cell_type": "code",
   "execution_count": 8,
   "metadata": {},
   "outputs": [
    {
     "data": {
      "text/plain": [
       "<matplotlib.axes._subplots.AxesSubplot at 0x1997295be48>"
      ]
     },
     "execution_count": 8,
     "metadata": {},
     "output_type": "execute_result"
    },
    {
     "data": {
      "image/png": "[encoded data removed]",
      "text/plain": [
       "<matplotlib.figure.Figure at 0x19973263d68>"
      ]
     },
     "metadata": {},
     "output_type": "display_data"
    }
   ],
   "source": [
    "week_corr=weeks.corr()\n",
    "sns.heatmap(week_corr, vmax=1., square=False,cmap=\"RdYlBu\")"
   ]
  },
  {
   "cell_type": "code",
   "execution_count": 9,
   "metadata": {},
   "outputs": [
    {
     "data": {
      "text/plain": [
       "(array([398., 596., 676., 608., 383., 226.,  89.,  34.,   9.,   6.]),\n",
       " array([  1. ,  19.3,  37.6,  55.9,  74.2,  92.5, 110.8, 129.1, 147.4,\n",
       "        165.7, 184. ]),\n",
       " <a list of 10 Patch objects>)"
      ]
     },
     "execution_count": 9,
     "metadata": {},
     "output_type": "execute_result"
    },
    {
     "data": {
      "image/png": "[encoded data removed]",
      "text/plain": [
       "<matplotlib.figure.Figure at 0x19972c786d8>"
      ]
     },
     "metadata": {},
     "output_type": "display_data"
    }
   ],
   "source": [
    "plt.hist(weeks.feature_3,alpha=0.5,color='red')"
   ]
  },
  {
   "cell_type": "code",
   "execution_count": 10,
   "metadata": {},
   "outputs": [
    {
     "data": {
      "text/plain": [
       "Text(0.5,1,'churned')"
      ]
     },
     "execution_count": 10,
     "metadata": {},
     "output_type": "execute_result"
    },
    {
     "data": {
      "image/png": "[encoded data removed]",
      "text/plain": [
       "<matplotlib.figure.Figure at 0x19972d3ee48>"
      ]
     },
     "metadata": {},
     "output_type": "display_data"
    }
   ],
   "source": [
    "#normalize histogram\n",
    "plt.hist(weeks[(weeks.label==1)].feature_3,alpha=0.5,color='red',density=1)\n",
    "plt.hist(weeks[(weeks.label==0)].feature_3,alpha=0.5,color='green',density=1)\n",
    "plt.title('churned')"
   ]
  },
  {
   "cell_type": "code",
   "execution_count": 11,
   "metadata": {
    "collapsed": true
   },
   "outputs": [],
   "source": [
    "# creating some functions for new features\n",
    "def max_consecutive(vector):\n",
    "    longest = 0\n",
    "    current = 0\n",
    "    for num in vector:\n",
    "        if num == 1:\n",
    "            current += 1\n",
    "        else:\n",
    "            longest = max(longest, current)\n",
    "            current = 0\n",
    "\n",
    "    return max(longest, current)\n",
    "def latest_streak(series):\n",
    "    week_vector=[0,0,0,0,0,0,0,0]\n",
    "    count=0\n",
    "    \n",
    "    for i in series:\n",
    "        week_vector[i]=1\n",
    "    reversed_week=list(reversed(week_vector))\n",
    "    for i in reversed_week:\n",
    "        if i==1:\n",
    "            count+=1\n",
    "        else: \n",
    "            break\n",
    "    return count\n",
    "def max_streak(series):\n",
    "    week_vector=[0,0,0,0,0,0,0,0]\n",
    "    \n",
    "    for i in series:\n",
    "        week_vector[i]=1\n",
    "    streak=max_consecutive(week_vector)\n",
    "    return streak\n",
    "def get_range(series):\n",
    "    return max(series)-min(series)\n",
    "def lifetime_mean(series):\n",
    "    return np.sum(series)/8\n"
   ]
  },
  {
   "cell_type": "code",
   "execution_count": 12,
   "metadata": {},
   "outputs": [
    {
     "data": {
      "text/plain": [
       "6"
      ]
     },
     "execution_count": 12,
     "metadata": {},
     "output_type": "execute_result"
    }
   ],
   "source": [
    "max_consecutive([0,1,1,1,0,0,1,0,1,1,1,1,1,1,0])"
   ]
  },
  {
   "cell_type": "markdown",
   "metadata": {},
   "source": [
    "# About dealing with the sparse week information\n",
    "### In order to have a dataset in the form of a vector per courier, I try with different aggregation methods along with defined new features that will give us information about the time sparsity\n",
    "### Week Count is just the amount of weeks that the courier worked\n",
    "### Week Max Streak is the number of maximum weeks in a row a courier worked\n",
    "### Week latest streak is the maximum number of weeks worked towards the end of the period, meaning from the 7th week backwards\n",
    "\n",
    "### Although for some features we apparently have integers instead of doubles, we will take the mean or the lifetime average (in this one we take the sum and divide by all 8 weeks), if data dictionary was provided then would be easier to choose how to deal with such features, otherwise, we will treat them the same"
   ]
  },
  {
   "cell_type": "markdown",
   "metadata": {},
   "source": [
    "## trying different aggregation methods on the data"
   ]
  },
  {
   "cell_type": "code",
   "execution_count": 13,
   "metadata": {
    "collapsed": true
   },
   "outputs": [],
   "source": [
    "aggreg=get_range\n",
    "aggreg='mean'\n",
    "#aggreg=lifetime_mean\n",
    "aggregname='mean'"
   ]
  },
  {
   "cell_type": "code",
   "execution_count": 14,
   "metadata": {
    "collapsed": true
   },
   "outputs": [],
   "source": [
    "gold=weeks.groupby(['courier','label'], as_index=False )\\\n",
    ".agg({'week':['count',  max_streak,latest_streak],\\\n",
    "              'feature_1':aggreg,\\\n",
    "               'feature_2':aggreg,'feature_3':aggreg\\\n",
    "      ,'feature_4':aggreg,'feature_5':aggreg\\\n",
    "      ,'feature_6':aggreg,'feature_7':aggreg\\\n",
    "      ,'feature_8':aggreg,'feature_9':aggreg\\\n",
    "      ,'feature_10':aggreg,'feature_11':aggreg\\\n",
    "     ,'feature_12':aggreg,'feature_13':aggreg\\\n",
    "     ,'feature_14':aggreg,'feature_15':aggreg\\\n",
    "     ,'feature_16':aggreg,'feature_17':aggreg})"
   ]
  },
  {
   "cell_type": "code",
   "execution_count": 15,
   "metadata": {},
   "outputs": [
    {
     "data": {
      "text/html": [
       "<div>\n",
       "<style>\n",
       "    .dataframe thead tr:only-child th {\n",
       "        text-align: right;\n",
       "    }\n",
       "\n",
       "    .dataframe thead th {\n",
       "        text-align: left;\n",
       "    }\n",
       "\n",
       "    .dataframe tbody tr th {\n",
       "        vertical-align: top;\n",
       "    }\n",
       "</style>\n",
       "<table border=\"1\" class=\"dataframe\">\n",
       "  <thead>\n",
       "    <tr>\n",
       "      <th></th>\n",
       "      <th>courier</th>\n",
       "      <th>label</th>\n",
       "      <th colspan=\"3\" halign=\"left\">week</th>\n",
       "      <th>feature_1</th>\n",
       "      <th>feature_2</th>\n",
       "      <th>feature_3</th>\n",
       "      <th>feature_4</th>\n",
       "      <th>feature_5</th>\n",
       "      <th>...</th>\n",
       "      <th>feature_8</th>\n",
       "      <th>feature_9</th>\n",
       "      <th>feature_10</th>\n",
       "      <th>feature_11</th>\n",
       "      <th>feature_12</th>\n",
       "      <th>feature_13</th>\n",
       "      <th>feature_14</th>\n",
       "      <th>feature_15</th>\n",
       "      <th>feature_16</th>\n",
       "      <th>feature_17</th>\n",
       "    </tr>\n",
       "    <tr>\n",
       "      <th></th>\n",
       "      <th></th>\n",
       "      <th></th>\n",
       "      <th>count</th>\n",
       "      <th>max_streak</th>\n",
       "      <th>latest_streak</th>\n",
       "      <th>mean</th>\n",
       "      <th>mean</th>\n",
       "      <th>mean</th>\n",
       "      <th>mean</th>\n",
       "      <th>mean</th>\n",
       "      <th>...</th>\n",
       "      <th>mean</th>\n",
       "      <th>mean</th>\n",
       "      <th>mean</th>\n",
       "      <th>mean</th>\n",
       "      <th>mean</th>\n",
       "      <th>mean</th>\n",
       "      <th>mean</th>\n",
       "      <th>mean</th>\n",
       "      <th>mean</th>\n",
       "      <th>mean</th>\n",
       "    </tr>\n",
       "  </thead>\n",
       "  <tbody>\n",
       "    <tr>\n",
       "      <th>1</th>\n",
       "      <td>6282</td>\n",
       "      <td>0</td>\n",
       "      <td>6</td>\n",
       "      <td>6</td>\n",
       "      <td>6</td>\n",
       "      <td>1.333333</td>\n",
       "      <td>36.666667</td>\n",
       "      <td>48.5</td>\n",
       "      <td>0.075517</td>\n",
       "      <td>0.924483</td>\n",
       "      <td>...</td>\n",
       "      <td>4300.18395</td>\n",
       "      <td>0.881117</td>\n",
       "      <td>8.317717</td>\n",
       "      <td>13.0</td>\n",
       "      <td>21.595879</td>\n",
       "      <td>5.379692</td>\n",
       "      <td>0.88055</td>\n",
       "      <td>72.957087</td>\n",
       "      <td>1.5</td>\n",
       "      <td>6.166667</td>\n",
       "    </tr>\n",
       "  </tbody>\n",
       "</table>\n",
       "<p>1 rows × 22 columns</p>\n",
       "</div>"
      ],
      "text/plain": [
       "  courier label  week                          feature_1  feature_2 feature_3  \\\n",
       "                count max_streak latest_streak      mean       mean      mean   \n",
       "1    6282     0     6          6             6  1.333333  36.666667      48.5   \n",
       "\n",
       "  feature_4 feature_5    ...       feature_8 feature_9 feature_10 feature_11  \\\n",
       "       mean      mean    ...            mean      mean       mean       mean   \n",
       "1  0.075517  0.924483    ...      4300.18395  0.881117   8.317717       13.0   \n",
       "\n",
       "  feature_12 feature_13 feature_14 feature_15 feature_16 feature_17  \n",
       "        mean       mean       mean       mean       mean       mean  \n",
       "1  21.595879   5.379692    0.88055  72.957087        1.5   6.166667  \n",
       "\n",
       "[1 rows x 22 columns]"
      ]
     },
     "execution_count": 15,
     "metadata": {},
     "output_type": "execute_result"
    }
   ],
   "source": [
    "gold[(gold.courier==6282)]"
   ]
  },
  {
   "cell_type": "code",
   "execution_count": 16,
   "metadata": {
    "collapsed": true
   },
   "outputs": [],
   "source": [
    "gold.columns = [gold + i for gold, i in zip(gold.columns.get_level_values(0), gold.columns.get_level_values(1).astype(str))]\n",
    "golden_names=[w.replace(aggregname,'') for w in gold.columns.get_level_values(0)]\n",
    "gold.columns = golden_names\n",
    "gold=gold.rename(columns={'label':'y'})\n",
    "gold.set_index('courier', inplace=True)"
   ]
  },
  {
   "cell_type": "code",
   "execution_count": 17,
   "metadata": {
    "collapsed": true
   },
   "outputs": [],
   "source": [
    "#gold.columns = [gold  for gold in gold.columns.get_level_values(0)]"
   ]
  },
  {
   "cell_type": "code",
   "execution_count": 18,
   "metadata": {
    "scrolled": false
   },
   "outputs": [
    {
     "data": {
      "text/plain": [
       "<matplotlib.axes._subplots.AxesSubplot at 0x19972de9be0>"
      ]
     },
     "execution_count": 18,
     "metadata": {},
     "output_type": "execute_result"
    },
    {
     "data": {
      "image/png": "[encoded data removed]",
      "text/plain": [
       "<matplotlib.figure.Figure at 0x19972dfa198>"
      ]
     },
     "metadata": {},
     "output_type": "display_data"
    }
   ],
   "source": [
    "gold_corr=gold.corr()\n",
    "sns.heatmap(gold_corr, vmax=1., square=False,cmap=\"RdYlBu\")"
   ]
  },
  {
   "cell_type": "code",
   "execution_count": 19,
   "metadata": {},
   "outputs": [
    {
     "data": {
      "text/html": [
       "<div>\n",
       "<style>\n",
       "    .dataframe thead tr:only-child th {\n",
       "        text-align: right;\n",
       "    }\n",
       "\n",
       "    .dataframe thead th {\n",
       "        text-align: left;\n",
       "    }\n",
       "\n",
       "    .dataframe tbody tr th {\n",
       "        vertical-align: top;\n",
       "    }\n",
       "</style>\n",
       "<table border=\"1\" class=\"dataframe\">\n",
       "  <thead>\n",
       "    <tr style=\"text-align: right;\">\n",
       "      <th></th>\n",
       "      <th>y</th>\n",
       "      <th>weekcount</th>\n",
       "      <th>weekmax_streak</th>\n",
       "      <th>weeklatest_streak</th>\n",
       "      <th>feature_1</th>\n",
       "      <th>feature_2</th>\n",
       "      <th>feature_3</th>\n",
       "      <th>feature_4</th>\n",
       "      <th>feature_5</th>\n",
       "      <th>feature_6</th>\n",
       "      <th>...</th>\n",
       "      <th>feature_8</th>\n",
       "      <th>feature_9</th>\n",
       "      <th>feature_10</th>\n",
       "      <th>feature_11</th>\n",
       "      <th>feature_12</th>\n",
       "      <th>feature_13</th>\n",
       "      <th>feature_14</th>\n",
       "      <th>feature_15</th>\n",
       "      <th>feature_16</th>\n",
       "      <th>feature_17</th>\n",
       "    </tr>\n",
       "    <tr>\n",
       "      <th>courier</th>\n",
       "      <th></th>\n",
       "      <th></th>\n",
       "      <th></th>\n",
       "      <th></th>\n",
       "      <th></th>\n",
       "      <th></th>\n",
       "      <th></th>\n",
       "      <th></th>\n",
       "      <th></th>\n",
       "      <th></th>\n",
       "      <th></th>\n",
       "      <th></th>\n",
       "      <th></th>\n",
       "      <th></th>\n",
       "      <th></th>\n",
       "      <th></th>\n",
       "      <th></th>\n",
       "      <th></th>\n",
       "      <th></th>\n",
       "      <th></th>\n",
       "      <th></th>\n",
       "    </tr>\n",
       "  </thead>\n",
       "  <tbody>\n",
       "    <tr>\n",
       "      <th>3767</th>\n",
       "      <td>1</td>\n",
       "      <td>4</td>\n",
       "      <td>3</td>\n",
       "      <td>0</td>\n",
       "      <td>1.750000</td>\n",
       "      <td>45.500000</td>\n",
       "      <td>46.0</td>\n",
       "      <td>0.040700</td>\n",
       "      <td>0.959300</td>\n",
       "      <td>131.82820</td>\n",
       "      <td>...</td>\n",
       "      <td>2107.008875</td>\n",
       "      <td>0.853000</td>\n",
       "      <td>8.413307</td>\n",
       "      <td>19.0</td>\n",
       "      <td>19.062094</td>\n",
       "      <td>5.192193</td>\n",
       "      <td>0.85645</td>\n",
       "      <td>36.042781</td>\n",
       "      <td>1.5</td>\n",
       "      <td>17.500000</td>\n",
       "    </tr>\n",
       "    <tr>\n",
       "      <th>6282</th>\n",
       "      <td>0</td>\n",
       "      <td>6</td>\n",
       "      <td>6</td>\n",
       "      <td>6</td>\n",
       "      <td>1.333333</td>\n",
       "      <td>36.666667</td>\n",
       "      <td>48.5</td>\n",
       "      <td>0.075517</td>\n",
       "      <td>0.924483</td>\n",
       "      <td>111.29100</td>\n",
       "      <td>...</td>\n",
       "      <td>4300.183950</td>\n",
       "      <td>0.881117</td>\n",
       "      <td>8.317717</td>\n",
       "      <td>13.0</td>\n",
       "      <td>21.595879</td>\n",
       "      <td>5.379692</td>\n",
       "      <td>0.88055</td>\n",
       "      <td>72.957087</td>\n",
       "      <td>1.5</td>\n",
       "      <td>6.166667</td>\n",
       "    </tr>\n",
       "    <tr>\n",
       "      <th>10622</th>\n",
       "      <td>1</td>\n",
       "      <td>2</td>\n",
       "      <td>2</td>\n",
       "      <td>0</td>\n",
       "      <td>-3.500000</td>\n",
       "      <td>84.500000</td>\n",
       "      <td>54.0</td>\n",
       "      <td>0.119050</td>\n",
       "      <td>0.880950</td>\n",
       "      <td>100.15875</td>\n",
       "      <td>...</td>\n",
       "      <td>2576.890500</td>\n",
       "      <td>0.623800</td>\n",
       "      <td>10.199895</td>\n",
       "      <td>20.5</td>\n",
       "      <td>21.568016</td>\n",
       "      <td>4.179873</td>\n",
       "      <td>0.66030</td>\n",
       "      <td>35.646190</td>\n",
       "      <td>2.5</td>\n",
       "      <td>15.500000</td>\n",
       "    </tr>\n",
       "  </tbody>\n",
       "</table>\n",
       "<p>3 rows × 21 columns</p>\n",
       "</div>"
      ],
      "text/plain": [
       "         y  weekcount  weekmax_streak  weeklatest_streak  feature_1  \\\n",
       "courier                                                               \n",
       "3767     1          4               3                  0   1.750000   \n",
       "6282     0          6               6                  6   1.333333   \n",
       "10622    1          2               2                  0  -3.500000   \n",
       "\n",
       "         feature_2  feature_3  feature_4  feature_5  feature_6     ...      \\\n",
       "courier                                                            ...       \n",
       "3767     45.500000       46.0   0.040700   0.959300  131.82820     ...       \n",
       "6282     36.666667       48.5   0.075517   0.924483  111.29100     ...       \n",
       "10622    84.500000       54.0   0.119050   0.880950  100.15875     ...       \n",
       "\n",
       "           feature_8  feature_9  feature_10  feature_11  feature_12  \\\n",
       "courier                                                               \n",
       "3767     2107.008875   0.853000    8.413307        19.0   19.062094   \n",
       "6282     4300.183950   0.881117    8.317717        13.0   21.595879   \n",
       "10622    2576.890500   0.623800   10.199895        20.5   21.568016   \n",
       "\n",
       "         feature_13  feature_14  feature_15  feature_16  feature_17  \n",
       "courier                                                              \n",
       "3767       5.192193     0.85645   36.042781         1.5   17.500000  \n",
       "6282       5.379692     0.88055   72.957087         1.5    6.166667  \n",
       "10622      4.179873     0.66030   35.646190         2.5   15.500000  \n",
       "\n",
       "[3 rows x 21 columns]"
      ]
     },
     "execution_count": 19,
     "metadata": {},
     "output_type": "execute_result"
    }
   ],
   "source": [
    "gold.head(3)"
   ]
  },
  {
   "cell_type": "code",
   "execution_count": 20,
   "metadata": {},
   "outputs": [
    {
     "data": {
      "text/plain": [
       "Text(0.5,1,'churned')"
      ]
     },
     "execution_count": 20,
     "metadata": {},
     "output_type": "execute_result"
    },
    {
     "data": {
      "image/png": "[encoded data removed]",
      "text/plain": [
       "<matplotlib.figure.Figure at 0x1997314fdd8>"
      ]
     },
     "metadata": {},
     "output_type": "display_data"
    }
   ],
   "source": [
    "plt.hist(gold[(gold.y==1)].feature_11,alpha=0.5,color='red',density=1)\n",
    "plt.hist(gold[(gold.y==0)].feature_11,alpha=0.5,color='yellow',density=1)\n",
    "plt.title('churned')"
   ]
  },
  {
   "cell_type": "markdown",
   "metadata": {},
   "source": [
    "plt.hist(gold[(gold.y==1)].weekmax_streak,alpha=0.5,color='red',density=1)\n",
    "plt.hist(gold[(gold.y==0)].weekmax_streak,alpha=0.5,color='yellow',density=1)\n",
    "plt.title('churned')"
   ]
  },
  {
   "cell_type": "markdown",
   "metadata": {},
   "source": [
    "#### There seems to be a difference between the distribution  of feature 2. 3. and 11 per class"
   ]
  },
  {
   "cell_type": "code",
   "execution_count": 21,
   "metadata": {},
   "outputs": [
    {
     "data": {
      "text/html": [
       "<div>\n",
       "<style>\n",
       "    .dataframe thead tr:only-child th {\n",
       "        text-align: right;\n",
       "    }\n",
       "\n",
       "    .dataframe thead th {\n",
       "        text-align: left;\n",
       "    }\n",
       "\n",
       "    .dataframe tbody tr th {\n",
       "        vertical-align: top;\n",
       "    }\n",
       "</style>\n",
       "<table border=\"1\" class=\"dataframe\">\n",
       "  <thead>\n",
       "    <tr style=\"text-align: right;\">\n",
       "      <th></th>\n",
       "      <th>y</th>\n",
       "      <th>weekcount</th>\n",
       "      <th>weekmax_streak</th>\n",
       "      <th>weeklatest_streak</th>\n",
       "      <th>feature_1</th>\n",
       "      <th>feature_2</th>\n",
       "      <th>feature_3</th>\n",
       "      <th>feature_4</th>\n",
       "      <th>feature_5</th>\n",
       "      <th>feature_6</th>\n",
       "      <th>...</th>\n",
       "      <th>feature_8</th>\n",
       "      <th>feature_9</th>\n",
       "      <th>feature_10</th>\n",
       "      <th>feature_11</th>\n",
       "      <th>feature_12</th>\n",
       "      <th>feature_13</th>\n",
       "      <th>feature_14</th>\n",
       "      <th>feature_15</th>\n",
       "      <th>feature_16</th>\n",
       "      <th>feature_17</th>\n",
       "    </tr>\n",
       "    <tr>\n",
       "      <th>courier</th>\n",
       "      <th></th>\n",
       "      <th></th>\n",
       "      <th></th>\n",
       "      <th></th>\n",
       "      <th></th>\n",
       "      <th></th>\n",
       "      <th></th>\n",
       "      <th></th>\n",
       "      <th></th>\n",
       "      <th></th>\n",
       "      <th></th>\n",
       "      <th></th>\n",
       "      <th></th>\n",
       "      <th></th>\n",
       "      <th></th>\n",
       "      <th></th>\n",
       "      <th></th>\n",
       "      <th></th>\n",
       "      <th></th>\n",
       "      <th></th>\n",
       "      <th></th>\n",
       "    </tr>\n",
       "  </thead>\n",
       "  <tbody>\n",
       "    <tr>\n",
       "      <th>3767</th>\n",
       "      <td>1</td>\n",
       "      <td>4</td>\n",
       "      <td>3</td>\n",
       "      <td>0</td>\n",
       "      <td>1.750000</td>\n",
       "      <td>45.500000</td>\n",
       "      <td>46.000</td>\n",
       "      <td>0.040700</td>\n",
       "      <td>0.959300</td>\n",
       "      <td>131.82820</td>\n",
       "      <td>...</td>\n",
       "      <td>2107.008875</td>\n",
       "      <td>0.853000</td>\n",
       "      <td>8.413307</td>\n",
       "      <td>19.000</td>\n",
       "      <td>19.062094</td>\n",
       "      <td>5.192193</td>\n",
       "      <td>0.856450</td>\n",
       "      <td>36.042781</td>\n",
       "      <td>1.5</td>\n",
       "      <td>17.500000</td>\n",
       "    </tr>\n",
       "    <tr>\n",
       "      <th>6282</th>\n",
       "      <td>0</td>\n",
       "      <td>6</td>\n",
       "      <td>6</td>\n",
       "      <td>6</td>\n",
       "      <td>1.333333</td>\n",
       "      <td>36.666667</td>\n",
       "      <td>48.500</td>\n",
       "      <td>0.075517</td>\n",
       "      <td>0.924483</td>\n",
       "      <td>111.29100</td>\n",
       "      <td>...</td>\n",
       "      <td>4300.183950</td>\n",
       "      <td>0.881117</td>\n",
       "      <td>8.317717</td>\n",
       "      <td>13.000</td>\n",
       "      <td>21.595879</td>\n",
       "      <td>5.379692</td>\n",
       "      <td>0.880550</td>\n",
       "      <td>72.957087</td>\n",
       "      <td>1.5</td>\n",
       "      <td>6.166667</td>\n",
       "    </tr>\n",
       "    <tr>\n",
       "      <th>10622</th>\n",
       "      <td>1</td>\n",
       "      <td>2</td>\n",
       "      <td>2</td>\n",
       "      <td>0</td>\n",
       "      <td>-3.500000</td>\n",
       "      <td>84.500000</td>\n",
       "      <td>54.000</td>\n",
       "      <td>0.119050</td>\n",
       "      <td>0.880950</td>\n",
       "      <td>100.15875</td>\n",
       "      <td>...</td>\n",
       "      <td>2576.890500</td>\n",
       "      <td>0.623800</td>\n",
       "      <td>10.199895</td>\n",
       "      <td>20.500</td>\n",
       "      <td>21.568016</td>\n",
       "      <td>4.179873</td>\n",
       "      <td>0.660300</td>\n",
       "      <td>35.646190</td>\n",
       "      <td>2.5</td>\n",
       "      <td>15.500000</td>\n",
       "    </tr>\n",
       "    <tr>\n",
       "      <th>13096</th>\n",
       "      <td>0</td>\n",
       "      <td>2</td>\n",
       "      <td>2</td>\n",
       "      <td>0</td>\n",
       "      <td>0.000000</td>\n",
       "      <td>59.000000</td>\n",
       "      <td>89.500</td>\n",
       "      <td>0.161600</td>\n",
       "      <td>0.838400</td>\n",
       "      <td>104.29600</td>\n",
       "      <td>...</td>\n",
       "      <td>4590.275250</td>\n",
       "      <td>0.686000</td>\n",
       "      <td>9.630672</td>\n",
       "      <td>34.500</td>\n",
       "      <td>17.902412</td>\n",
       "      <td>5.166684</td>\n",
       "      <td>0.720300</td>\n",
       "      <td>84.347978</td>\n",
       "      <td>3.0</td>\n",
       "      <td>19.000000</td>\n",
       "    </tr>\n",
       "    <tr>\n",
       "      <th>14261</th>\n",
       "      <td>1</td>\n",
       "      <td>8</td>\n",
       "      <td>8</td>\n",
       "      <td>8</td>\n",
       "      <td>-3.625000</td>\n",
       "      <td>75.500000</td>\n",
       "      <td>70.875</td>\n",
       "      <td>0.018425</td>\n",
       "      <td>0.981575</td>\n",
       "      <td>115.62990</td>\n",
       "      <td>...</td>\n",
       "      <td>3870.750225</td>\n",
       "      <td>0.892537</td>\n",
       "      <td>10.001638</td>\n",
       "      <td>34.875</td>\n",
       "      <td>21.166889</td>\n",
       "      <td>5.433909</td>\n",
       "      <td>0.900662</td>\n",
       "      <td>49.311612</td>\n",
       "      <td>2.5</td>\n",
       "      <td>6.750000</td>\n",
       "    </tr>\n",
       "  </tbody>\n",
       "</table>\n",
       "<p>5 rows × 21 columns</p>\n",
       "</div>"
      ],
      "text/plain": [
       "         y  weekcount  weekmax_streak  weeklatest_streak  feature_1  \\\n",
       "courier                                                               \n",
       "3767     1          4               3                  0   1.750000   \n",
       "6282     0          6               6                  6   1.333333   \n",
       "10622    1          2               2                  0  -3.500000   \n",
       "13096    0          2               2                  0   0.000000   \n",
       "14261    1          8               8                  8  -3.625000   \n",
       "\n",
       "         feature_2  feature_3  feature_4  feature_5  feature_6     ...      \\\n",
       "courier                                                            ...       \n",
       "3767     45.500000     46.000   0.040700   0.959300  131.82820     ...       \n",
       "6282     36.666667     48.500   0.075517   0.924483  111.29100     ...       \n",
       "10622    84.500000     54.000   0.119050   0.880950  100.15875     ...       \n",
       "13096    59.000000     89.500   0.161600   0.838400  104.29600     ...       \n",
       "14261    75.500000     70.875   0.018425   0.981575  115.62990     ...       \n",
       "\n",
       "           feature_8  feature_9  feature_10  feature_11  feature_12  \\\n",
       "courier                                                               \n",
       "3767     2107.008875   0.853000    8.413307      19.000   19.062094   \n",
       "6282     4300.183950   0.881117    8.317717      13.000   21.595879   \n",
       "10622    2576.890500   0.623800   10.199895      20.500   21.568016   \n",
       "13096    4590.275250   0.686000    9.630672      34.500   17.902412   \n",
       "14261    3870.750225   0.892537   10.001638      34.875   21.166889   \n",
       "\n",
       "         feature_13  feature_14  feature_15  feature_16  feature_17  \n",
       "courier                                                              \n",
       "3767       5.192193    0.856450   36.042781         1.5   17.500000  \n",
       "6282       5.379692    0.880550   72.957087         1.5    6.166667  \n",
       "10622      4.179873    0.660300   35.646190         2.5   15.500000  \n",
       "13096      5.166684    0.720300   84.347978         3.0   19.000000  \n",
       "14261      5.433909    0.900662   49.311612         2.5    6.750000  \n",
       "\n",
       "[5 rows x 21 columns]"
      ]
     },
     "execution_count": 21,
     "metadata": {},
     "output_type": "execute_result"
    }
   ],
   "source": [
    "gold.head()"
   ]
  },
  {
   "cell_type": "code",
   "execution_count": 22,
   "metadata": {},
   "outputs": [
    {
     "data": {
      "text/plain": [
       "<matplotlib.axes._subplots.AxesSubplot at 0x199731bfb38>"
      ]
     },
     "execution_count": 22,
     "metadata": {},
     "output_type": "execute_result"
    },
    {
     "data": {
      "image/png": "[encoded data removed]",
      "text/plain": [
       "<matplotlib.figure.Figure at 0x1997318a668>"
      ]
     },
     "metadata": {},
     "output_type": "display_data"
    }
   ],
   "source": [
    "sns.heatmap(gold_corr, vmax=1., square=False,cmap=\"RdYlBu\")"
   ]
  },
  {
   "cell_type": "code",
   "execution_count": 23,
   "metadata": {
    "collapsed": true,
    "scrolled": false
   },
   "outputs": [],
   "source": [
    "#sns.pairplot(gold, hue='y')"
   ]
  },
  {
   "cell_type": "code",
   "execution_count": 24,
   "metadata": {
    "collapsed": true
   },
   "outputs": [],
   "source": [
    "#gold=gold[['y','weekcount','weekmax_streak','weeklatest_streak','feature_5','feature_6','feature_9','feature_10','feature_12','feature_13','feature_14','feature_15']]"
   ]
  },
  {
   "cell_type": "code",
   "execution_count": 25,
   "metadata": {
    "collapsed": true
   },
   "outputs": [],
   "source": [
    "gold=gold[['y','weekcount','weekmax_streak','weeklatest_streak','feature_1','feature_2','feature_3','feature_11','feature_16']]"
   ]
  },
  {
   "cell_type": "code",
   "execution_count": 26,
   "metadata": {
    "collapsed": true
   },
   "outputs": [],
   "source": [
    "# After running several test with multiple features and after having almost the same accuracy and after looking at the distribution of the features per class and looking at the feature correlation I chose to go with feature 2 and 3 "
   ]
  },
  {
   "cell_type": "code",
   "execution_count": 27,
   "metadata": {
    "collapsed": true
   },
   "outputs": [],
   "source": [
    "#gold=gold[['y','weekcount','weekmax_streak','weeklatest_streak','feature_3','feature_2']]"
   ]
  },
  {
   "cell_type": "markdown",
   "metadata": {
    "collapsed": true
   },
   "source": [
    "## Bringing lifetime info into the mix"
   ]
  },
  {
   "cell_type": "code",
   "execution_count": 28,
   "metadata": {
    "collapsed": true
   },
   "outputs": [],
   "source": [
    "#adding lifetime info\n",
    "lifetime = pd.read_csv(filepath_or_buffer='Courier_lifetime_data.csv')\n"
   ]
  },
  {
   "cell_type": "code",
   "execution_count": 29,
   "metadata": {},
   "outputs": [
    {
     "data": {
      "text/html": [
       "<div>\n",
       "<style>\n",
       "    .dataframe thead tr:only-child th {\n",
       "        text-align: right;\n",
       "    }\n",
       "\n",
       "    .dataframe thead th {\n",
       "        text-align: left;\n",
       "    }\n",
       "\n",
       "    .dataframe tbody tr th {\n",
       "        vertical-align: top;\n",
       "    }\n",
       "</style>\n",
       "<table border=\"1\" class=\"dataframe\">\n",
       "  <thead>\n",
       "    <tr style=\"text-align: right;\">\n",
       "      <th></th>\n",
       "      <th>courier</th>\n",
       "      <th>feature_1</th>\n",
       "      <th>feature_2</th>\n",
       "    </tr>\n",
       "  </thead>\n",
       "  <tbody>\n",
       "    <tr>\n",
       "      <th>0</th>\n",
       "      <td>208</td>\n",
       "      <td>a</td>\n",
       "      <td>25.0</td>\n",
       "    </tr>\n",
       "    <tr>\n",
       "      <th>1</th>\n",
       "      <td>218</td>\n",
       "      <td>c</td>\n",
       "      <td>0.0</td>\n",
       "    </tr>\n",
       "    <tr>\n",
       "      <th>2</th>\n",
       "      <td>225</td>\n",
       "      <td>c</td>\n",
       "      <td>NaN</td>\n",
       "    </tr>\n",
       "    <tr>\n",
       "      <th>3</th>\n",
       "      <td>231</td>\n",
       "      <td>c</td>\n",
       "      <td>0.0</td>\n",
       "    </tr>\n",
       "    <tr>\n",
       "      <th>4</th>\n",
       "      <td>242</td>\n",
       "      <td>c</td>\n",
       "      <td>NaN</td>\n",
       "    </tr>\n",
       "  </tbody>\n",
       "</table>\n",
       "</div>"
      ],
      "text/plain": [
       "   courier feature_1  feature_2\n",
       "0      208         a       25.0\n",
       "1      218         c        0.0\n",
       "2      225         c        NaN\n",
       "3      231         c        0.0\n",
       "4      242         c        NaN"
      ]
     },
     "execution_count": 29,
     "metadata": {},
     "output_type": "execute_result"
    }
   ],
   "source": [
    "lifetime.head()"
   ]
  },
  {
   "cell_type": "code",
   "execution_count": 30,
   "metadata": {
    "collapsed": true
   },
   "outputs": [],
   "source": [
    "lifetime.rename(columns={'feature_1':'lifetime_feature_1','feature_2':'lifetime_feature_2'}, inplace=True)"
   ]
  },
  {
   "cell_type": "code",
   "execution_count": 31,
   "metadata": {
    "collapsed": true
   },
   "outputs": [],
   "source": [
    "gen_le = LabelEncoder()\n",
    "gen_labels = gen_le.fit_transform(lifetime['lifetime_feature_1'])\n",
    "lifetime['lifetime_feature_1'] = gen_labels"
   ]
  },
  {
   "cell_type": "code",
   "execution_count": 32,
   "metadata": {
    "collapsed": true
   },
   "outputs": [],
   "source": [
    "lifetime_encoded= pd.get_dummies(lifetime, columns=['lifetime_feature_1'])"
   ]
  },
  {
   "cell_type": "code",
   "execution_count": 33,
   "metadata": {
    "collapsed": true
   },
   "outputs": [],
   "source": [
    "#lifetime_encoded=lifetime.copy()"
   ]
  },
  {
   "cell_type": "code",
   "execution_count": 34,
   "metadata": {
    "collapsed": true
   },
   "outputs": [],
   "source": [
    "lifetime_encoded.set_index('courier', inplace=True)"
   ]
  },
  {
   "cell_type": "code",
   "execution_count": 35,
   "metadata": {},
   "outputs": [
    {
     "data": {
      "text/html": [
       "<div>\n",
       "<style>\n",
       "    .dataframe thead tr:only-child th {\n",
       "        text-align: right;\n",
       "    }\n",
       "\n",
       "    .dataframe thead th {\n",
       "        text-align: left;\n",
       "    }\n",
       "\n",
       "    .dataframe tbody tr th {\n",
       "        vertical-align: top;\n",
       "    }\n",
       "</style>\n",
       "<table border=\"1\" class=\"dataframe\">\n",
       "  <thead>\n",
       "    <tr style=\"text-align: right;\">\n",
       "      <th></th>\n",
       "      <th>lifetime_feature_2</th>\n",
       "      <th>lifetime_feature_1_0</th>\n",
       "      <th>lifetime_feature_1_1</th>\n",
       "      <th>lifetime_feature_1_2</th>\n",
       "      <th>lifetime_feature_1_3</th>\n",
       "    </tr>\n",
       "    <tr>\n",
       "      <th>courier</th>\n",
       "      <th></th>\n",
       "      <th></th>\n",
       "      <th></th>\n",
       "      <th></th>\n",
       "      <th></th>\n",
       "    </tr>\n",
       "  </thead>\n",
       "  <tbody>\n",
       "    <tr>\n",
       "      <th>208</th>\n",
       "      <td>25.0</td>\n",
       "      <td>1</td>\n",
       "      <td>0</td>\n",
       "      <td>0</td>\n",
       "      <td>0</td>\n",
       "    </tr>\n",
       "    <tr>\n",
       "      <th>218</th>\n",
       "      <td>0.0</td>\n",
       "      <td>0</td>\n",
       "      <td>0</td>\n",
       "      <td>1</td>\n",
       "      <td>0</td>\n",
       "    </tr>\n",
       "    <tr>\n",
       "      <th>225</th>\n",
       "      <td>NaN</td>\n",
       "      <td>0</td>\n",
       "      <td>0</td>\n",
       "      <td>1</td>\n",
       "      <td>0</td>\n",
       "    </tr>\n",
       "    <tr>\n",
       "      <th>231</th>\n",
       "      <td>0.0</td>\n",
       "      <td>0</td>\n",
       "      <td>0</td>\n",
       "      <td>1</td>\n",
       "      <td>0</td>\n",
       "    </tr>\n",
       "    <tr>\n",
       "      <th>242</th>\n",
       "      <td>NaN</td>\n",
       "      <td>0</td>\n",
       "      <td>0</td>\n",
       "      <td>1</td>\n",
       "      <td>0</td>\n",
       "    </tr>\n",
       "  </tbody>\n",
       "</table>\n",
       "</div>"
      ],
      "text/plain": [
       "         lifetime_feature_2  lifetime_feature_1_0  lifetime_feature_1_1  \\\n",
       "courier                                                                   \n",
       "208                    25.0                     1                     0   \n",
       "218                     0.0                     0                     0   \n",
       "225                     NaN                     0                     0   \n",
       "231                     0.0                     0                     0   \n",
       "242                     NaN                     0                     0   \n",
       "\n",
       "         lifetime_feature_1_2  lifetime_feature_1_3  \n",
       "courier                                              \n",
       "208                         0                     0  \n",
       "218                         1                     0  \n",
       "225                         1                     0  \n",
       "231                         1                     0  \n",
       "242                         1                     0  "
      ]
     },
     "execution_count": 35,
     "metadata": {},
     "output_type": "execute_result"
    }
   ],
   "source": [
    "lifetime_encoded.head()"
   ]
  },
  {
   "cell_type": "code",
   "execution_count": 36,
   "metadata": {
    "collapsed": true
   },
   "outputs": [],
   "source": [
    "#lifetime_encoded=lifetime_encoded.drop('feature_2', axis=1)"
   ]
  },
  {
   "cell_type": "code",
   "execution_count": 37,
   "metadata": {
    "collapsed": true
   },
   "outputs": [],
   "source": [
    "gold=gold.merge(lifetime_encoded, how='left', left_index=True, right_index=True)\n"
   ]
  },
  {
   "cell_type": "code",
   "execution_count": 38,
   "metadata": {},
   "outputs": [
    {
     "data": {
      "text/html": [
       "<div>\n",
       "<style>\n",
       "    .dataframe thead tr:only-child th {\n",
       "        text-align: right;\n",
       "    }\n",
       "\n",
       "    .dataframe thead th {\n",
       "        text-align: left;\n",
       "    }\n",
       "\n",
       "    .dataframe tbody tr th {\n",
       "        vertical-align: top;\n",
       "    }\n",
       "</style>\n",
       "<table border=\"1\" class=\"dataframe\">\n",
       "  <thead>\n",
       "    <tr style=\"text-align: right;\">\n",
       "      <th></th>\n",
       "      <th>y</th>\n",
       "      <th>weekcount</th>\n",
       "      <th>weekmax_streak</th>\n",
       "      <th>weeklatest_streak</th>\n",
       "      <th>feature_1</th>\n",
       "      <th>feature_2</th>\n",
       "      <th>feature_3</th>\n",
       "      <th>feature_11</th>\n",
       "      <th>feature_16</th>\n",
       "      <th>lifetime_feature_2</th>\n",
       "      <th>lifetime_feature_1_0</th>\n",
       "      <th>lifetime_feature_1_1</th>\n",
       "      <th>lifetime_feature_1_2</th>\n",
       "      <th>lifetime_feature_1_3</th>\n",
       "    </tr>\n",
       "    <tr>\n",
       "      <th>courier</th>\n",
       "      <th></th>\n",
       "      <th></th>\n",
       "      <th></th>\n",
       "      <th></th>\n",
       "      <th></th>\n",
       "      <th></th>\n",
       "      <th></th>\n",
       "      <th></th>\n",
       "      <th></th>\n",
       "      <th></th>\n",
       "      <th></th>\n",
       "      <th></th>\n",
       "      <th></th>\n",
       "      <th></th>\n",
       "    </tr>\n",
       "  </thead>\n",
       "  <tbody>\n",
       "    <tr>\n",
       "      <th>3767</th>\n",
       "      <td>1</td>\n",
       "      <td>4</td>\n",
       "      <td>3</td>\n",
       "      <td>0</td>\n",
       "      <td>1.750000</td>\n",
       "      <td>45.500000</td>\n",
       "      <td>46.000</td>\n",
       "      <td>19.000</td>\n",
       "      <td>1.5</td>\n",
       "      <td>33.0</td>\n",
       "      <td>0</td>\n",
       "      <td>1</td>\n",
       "      <td>0</td>\n",
       "      <td>0</td>\n",
       "    </tr>\n",
       "    <tr>\n",
       "      <th>6282</th>\n",
       "      <td>0</td>\n",
       "      <td>6</td>\n",
       "      <td>6</td>\n",
       "      <td>6</td>\n",
       "      <td>1.333333</td>\n",
       "      <td>36.666667</td>\n",
       "      <td>48.500</td>\n",
       "      <td>13.000</td>\n",
       "      <td>1.5</td>\n",
       "      <td>35.0</td>\n",
       "      <td>1</td>\n",
       "      <td>0</td>\n",
       "      <td>0</td>\n",
       "      <td>0</td>\n",
       "    </tr>\n",
       "    <tr>\n",
       "      <th>10622</th>\n",
       "      <td>1</td>\n",
       "      <td>2</td>\n",
       "      <td>2</td>\n",
       "      <td>0</td>\n",
       "      <td>-3.500000</td>\n",
       "      <td>84.500000</td>\n",
       "      <td>54.000</td>\n",
       "      <td>20.500</td>\n",
       "      <td>2.5</td>\n",
       "      <td>35.0</td>\n",
       "      <td>0</td>\n",
       "      <td>1</td>\n",
       "      <td>0</td>\n",
       "      <td>0</td>\n",
       "    </tr>\n",
       "    <tr>\n",
       "      <th>13096</th>\n",
       "      <td>0</td>\n",
       "      <td>2</td>\n",
       "      <td>2</td>\n",
       "      <td>0</td>\n",
       "      <td>0.000000</td>\n",
       "      <td>59.000000</td>\n",
       "      <td>89.500</td>\n",
       "      <td>34.500</td>\n",
       "      <td>3.0</td>\n",
       "      <td>35.0</td>\n",
       "      <td>1</td>\n",
       "      <td>0</td>\n",
       "      <td>0</td>\n",
       "      <td>0</td>\n",
       "    </tr>\n",
       "    <tr>\n",
       "      <th>14261</th>\n",
       "      <td>1</td>\n",
       "      <td>8</td>\n",
       "      <td>8</td>\n",
       "      <td>8</td>\n",
       "      <td>-3.625000</td>\n",
       "      <td>75.500000</td>\n",
       "      <td>70.875</td>\n",
       "      <td>34.875</td>\n",
       "      <td>2.5</td>\n",
       "      <td>44.0</td>\n",
       "      <td>1</td>\n",
       "      <td>0</td>\n",
       "      <td>0</td>\n",
       "      <td>0</td>\n",
       "    </tr>\n",
       "  </tbody>\n",
       "</table>\n",
       "</div>"
      ],
      "text/plain": [
       "         y  weekcount  weekmax_streak  weeklatest_streak  feature_1  \\\n",
       "courier                                                               \n",
       "3767     1          4               3                  0   1.750000   \n",
       "6282     0          6               6                  6   1.333333   \n",
       "10622    1          2               2                  0  -3.500000   \n",
       "13096    0          2               2                  0   0.000000   \n",
       "14261    1          8               8                  8  -3.625000   \n",
       "\n",
       "         feature_2  feature_3  feature_11  feature_16  lifetime_feature_2  \\\n",
       "courier                                                                     \n",
       "3767     45.500000     46.000      19.000         1.5                33.0   \n",
       "6282     36.666667     48.500      13.000         1.5                35.0   \n",
       "10622    84.500000     54.000      20.500         2.5                35.0   \n",
       "13096    59.000000     89.500      34.500         3.0                35.0   \n",
       "14261    75.500000     70.875      34.875         2.5                44.0   \n",
       "\n",
       "         lifetime_feature_1_0  lifetime_feature_1_1  lifetime_feature_1_2  \\\n",
       "courier                                                                     \n",
       "3767                        0                     1                     0   \n",
       "6282                        1                     0                     0   \n",
       "10622                       0                     1                     0   \n",
       "13096                       1                     0                     0   \n",
       "14261                       1                     0                     0   \n",
       "\n",
       "         lifetime_feature_1_3  \n",
       "courier                        \n",
       "3767                        0  \n",
       "6282                        0  \n",
       "10622                       0  \n",
       "13096                       0  \n",
       "14261                       0  "
      ]
     },
     "execution_count": 38,
     "metadata": {},
     "output_type": "execute_result"
    }
   ],
   "source": [
    "gold.head()"
   ]
  },
  {
   "cell_type": "markdown",
   "metadata": {},
   "source": [
    "### Using the selected features to impute the missing values from lifetime with KNN imputation "
   ]
  },
  {
   "cell_type": "code",
   "execution_count": 39,
   "metadata": {
    "collapsed": true
   },
   "outputs": [],
   "source": [
    "#gold =  pd.DataFrame(KNN(k=2).fit_transform(gold), columns=gold.columns, index=gold.index) "
   ]
  },
  {
   "cell_type": "code",
   "execution_count": 40,
   "metadata": {},
   "outputs": [
    {
     "data": {
      "text/html": [
       "<div>\n",
       "<style>\n",
       "    .dataframe thead tr:only-child th {\n",
       "        text-align: right;\n",
       "    }\n",
       "\n",
       "    .dataframe thead th {\n",
       "        text-align: left;\n",
       "    }\n",
       "\n",
       "    .dataframe tbody tr th {\n",
       "        vertical-align: top;\n",
       "    }\n",
       "</style>\n",
       "<table border=\"1\" class=\"dataframe\">\n",
       "  <thead>\n",
       "    <tr style=\"text-align: right;\">\n",
       "      <th></th>\n",
       "      <th>y</th>\n",
       "      <th>weekcount</th>\n",
       "      <th>weekmax_streak</th>\n",
       "      <th>weeklatest_streak</th>\n",
       "      <th>feature_1</th>\n",
       "      <th>feature_2</th>\n",
       "      <th>feature_3</th>\n",
       "      <th>feature_11</th>\n",
       "      <th>feature_16</th>\n",
       "      <th>lifetime_feature_2</th>\n",
       "      <th>lifetime_feature_1_0</th>\n",
       "      <th>lifetime_feature_1_1</th>\n",
       "      <th>lifetime_feature_1_2</th>\n",
       "      <th>lifetime_feature_1_3</th>\n",
       "    </tr>\n",
       "    <tr>\n",
       "      <th>courier</th>\n",
       "      <th></th>\n",
       "      <th></th>\n",
       "      <th></th>\n",
       "      <th></th>\n",
       "      <th></th>\n",
       "      <th></th>\n",
       "      <th></th>\n",
       "      <th></th>\n",
       "      <th></th>\n",
       "      <th></th>\n",
       "      <th></th>\n",
       "      <th></th>\n",
       "      <th></th>\n",
       "      <th></th>\n",
       "    </tr>\n",
       "  </thead>\n",
       "  <tbody>\n",
       "    <tr>\n",
       "      <th>3767</th>\n",
       "      <td>1</td>\n",
       "      <td>4</td>\n",
       "      <td>3</td>\n",
       "      <td>0</td>\n",
       "      <td>1.750000</td>\n",
       "      <td>45.500000</td>\n",
       "      <td>46.000</td>\n",
       "      <td>19.000</td>\n",
       "      <td>1.5</td>\n",
       "      <td>33.0</td>\n",
       "      <td>0</td>\n",
       "      <td>1</td>\n",
       "      <td>0</td>\n",
       "      <td>0</td>\n",
       "    </tr>\n",
       "    <tr>\n",
       "      <th>6282</th>\n",
       "      <td>0</td>\n",
       "      <td>6</td>\n",
       "      <td>6</td>\n",
       "      <td>6</td>\n",
       "      <td>1.333333</td>\n",
       "      <td>36.666667</td>\n",
       "      <td>48.500</td>\n",
       "      <td>13.000</td>\n",
       "      <td>1.5</td>\n",
       "      <td>35.0</td>\n",
       "      <td>1</td>\n",
       "      <td>0</td>\n",
       "      <td>0</td>\n",
       "      <td>0</td>\n",
       "    </tr>\n",
       "    <tr>\n",
       "      <th>10622</th>\n",
       "      <td>1</td>\n",
       "      <td>2</td>\n",
       "      <td>2</td>\n",
       "      <td>0</td>\n",
       "      <td>-3.500000</td>\n",
       "      <td>84.500000</td>\n",
       "      <td>54.000</td>\n",
       "      <td>20.500</td>\n",
       "      <td>2.5</td>\n",
       "      <td>35.0</td>\n",
       "      <td>0</td>\n",
       "      <td>1</td>\n",
       "      <td>0</td>\n",
       "      <td>0</td>\n",
       "    </tr>\n",
       "    <tr>\n",
       "      <th>13096</th>\n",
       "      <td>0</td>\n",
       "      <td>2</td>\n",
       "      <td>2</td>\n",
       "      <td>0</td>\n",
       "      <td>0.000000</td>\n",
       "      <td>59.000000</td>\n",
       "      <td>89.500</td>\n",
       "      <td>34.500</td>\n",
       "      <td>3.0</td>\n",
       "      <td>35.0</td>\n",
       "      <td>1</td>\n",
       "      <td>0</td>\n",
       "      <td>0</td>\n",
       "      <td>0</td>\n",
       "    </tr>\n",
       "    <tr>\n",
       "      <th>14261</th>\n",
       "      <td>1</td>\n",
       "      <td>8</td>\n",
       "      <td>8</td>\n",
       "      <td>8</td>\n",
       "      <td>-3.625000</td>\n",
       "      <td>75.500000</td>\n",
       "      <td>70.875</td>\n",
       "      <td>34.875</td>\n",
       "      <td>2.5</td>\n",
       "      <td>44.0</td>\n",
       "      <td>1</td>\n",
       "      <td>0</td>\n",
       "      <td>0</td>\n",
       "      <td>0</td>\n",
       "    </tr>\n",
       "  </tbody>\n",
       "</table>\n",
       "</div>"
      ],
      "text/plain": [
       "         y  weekcount  weekmax_streak  weeklatest_streak  feature_1  \\\n",
       "courier                                                               \n",
       "3767     1          4               3                  0   1.750000   \n",
       "6282     0          6               6                  6   1.333333   \n",
       "10622    1          2               2                  0  -3.500000   \n",
       "13096    0          2               2                  0   0.000000   \n",
       "14261    1          8               8                  8  -3.625000   \n",
       "\n",
       "         feature_2  feature_3  feature_11  feature_16  lifetime_feature_2  \\\n",
       "courier                                                                     \n",
       "3767     45.500000     46.000      19.000         1.5                33.0   \n",
       "6282     36.666667     48.500      13.000         1.5                35.0   \n",
       "10622    84.500000     54.000      20.500         2.5                35.0   \n",
       "13096    59.000000     89.500      34.500         3.0                35.0   \n",
       "14261    75.500000     70.875      34.875         2.5                44.0   \n",
       "\n",
       "         lifetime_feature_1_0  lifetime_feature_1_1  lifetime_feature_1_2  \\\n",
       "courier                                                                     \n",
       "3767                        0                     1                     0   \n",
       "6282                        1                     0                     0   \n",
       "10622                       0                     1                     0   \n",
       "13096                       1                     0                     0   \n",
       "14261                       1                     0                     0   \n",
       "\n",
       "         lifetime_feature_1_3  \n",
       "courier                        \n",
       "3767                        0  \n",
       "6282                        0  \n",
       "10622                       0  \n",
       "13096                       0  \n",
       "14261                       0  "
      ]
     },
     "execution_count": 40,
     "metadata": {},
     "output_type": "execute_result"
    }
   ],
   "source": [
    "gold.head()"
   ]
  },
  {
   "cell_type": "code",
   "execution_count": 41,
   "metadata": {},
   "outputs": [
    {
     "data": {
      "text/html": [
       "<div>\n",
       "<style>\n",
       "    .dataframe thead tr:only-child th {\n",
       "        text-align: right;\n",
       "    }\n",
       "\n",
       "    .dataframe thead th {\n",
       "        text-align: left;\n",
       "    }\n",
       "\n",
       "    .dataframe tbody tr th {\n",
       "        vertical-align: top;\n",
       "    }\n",
       "</style>\n",
       "<table border=\"1\" class=\"dataframe\">\n",
       "  <thead>\n",
       "    <tr style=\"text-align: right;\">\n",
       "      <th></th>\n",
       "      <th>y</th>\n",
       "      <th>weekcount</th>\n",
       "      <th>weekmax_streak</th>\n",
       "      <th>weeklatest_streak</th>\n",
       "      <th>feature_1</th>\n",
       "      <th>feature_2</th>\n",
       "      <th>feature_3</th>\n",
       "      <th>feature_11</th>\n",
       "      <th>feature_16</th>\n",
       "      <th>lifetime_feature_2</th>\n",
       "      <th>lifetime_feature_1_0</th>\n",
       "      <th>lifetime_feature_1_1</th>\n",
       "      <th>lifetime_feature_1_2</th>\n",
       "      <th>lifetime_feature_1_3</th>\n",
       "    </tr>\n",
       "  </thead>\n",
       "  <tbody>\n",
       "    <tr>\n",
       "      <th>y</th>\n",
       "      <td>1.000000</td>\n",
       "      <td>-0.534864</td>\n",
       "      <td>-0.442932</td>\n",
       "      <td>-0.415129</td>\n",
       "      <td>-0.287069</td>\n",
       "      <td>-0.420368</td>\n",
       "      <td>-0.502446</td>\n",
       "      <td>-0.464239</td>\n",
       "      <td>-0.346133</td>\n",
       "      <td>-0.200355</td>\n",
       "      <td>-0.153103</td>\n",
       "      <td>0.175943</td>\n",
       "      <td>0.052522</td>\n",
       "      <td>-0.053252</td>\n",
       "    </tr>\n",
       "    <tr>\n",
       "      <th>weekcount</th>\n",
       "      <td>-0.534864</td>\n",
       "      <td>1.000000</td>\n",
       "      <td>0.912668</td>\n",
       "      <td>0.706565</td>\n",
       "      <td>0.308786</td>\n",
       "      <td>0.590266</td>\n",
       "      <td>0.707429</td>\n",
       "      <td>0.660209</td>\n",
       "      <td>0.504314</td>\n",
       "      <td>0.242526</td>\n",
       "      <td>0.206490</td>\n",
       "      <td>-0.252722</td>\n",
       "      <td>-0.025867</td>\n",
       "      <td>0.094180</td>\n",
       "    </tr>\n",
       "    <tr>\n",
       "      <th>weekmax_streak</th>\n",
       "      <td>-0.442932</td>\n",
       "      <td>0.912668</td>\n",
       "      <td>1.000000</td>\n",
       "      <td>0.758359</td>\n",
       "      <td>0.291029</td>\n",
       "      <td>0.570816</td>\n",
       "      <td>0.686554</td>\n",
       "      <td>0.640439</td>\n",
       "      <td>0.514343</td>\n",
       "      <td>0.227177</td>\n",
       "      <td>0.191525</td>\n",
       "      <td>-0.228066</td>\n",
       "      <td>-0.041832</td>\n",
       "      <td>0.078020</td>\n",
       "    </tr>\n",
       "    <tr>\n",
       "      <th>weeklatest_streak</th>\n",
       "      <td>-0.415129</td>\n",
       "      <td>0.706565</td>\n",
       "      <td>0.758359</td>\n",
       "      <td>1.000000</td>\n",
       "      <td>0.267561</td>\n",
       "      <td>0.440527</td>\n",
       "      <td>0.582624</td>\n",
       "      <td>0.539818</td>\n",
       "      <td>0.462136</td>\n",
       "      <td>0.188627</td>\n",
       "      <td>0.195845</td>\n",
       "      <td>-0.215066</td>\n",
       "      <td>-0.032577</td>\n",
       "      <td>0.039158</td>\n",
       "    </tr>\n",
       "    <tr>\n",
       "      <th>feature_1</th>\n",
       "      <td>-0.287069</td>\n",
       "      <td>0.308786</td>\n",
       "      <td>0.291029</td>\n",
       "      <td>0.267561</td>\n",
       "      <td>1.000000</td>\n",
       "      <td>0.042441</td>\n",
       "      <td>0.121433</td>\n",
       "      <td>0.136845</td>\n",
       "      <td>0.015898</td>\n",
       "      <td>0.150614</td>\n",
       "      <td>0.082449</td>\n",
       "      <td>-0.124961</td>\n",
       "      <td>-0.018950</td>\n",
       "      <td>0.090340</td>\n",
       "    </tr>\n",
       "    <tr>\n",
       "      <th>feature_2</th>\n",
       "      <td>-0.420368</td>\n",
       "      <td>0.590266</td>\n",
       "      <td>0.570816</td>\n",
       "      <td>0.440527</td>\n",
       "      <td>0.042441</td>\n",
       "      <td>1.000000</td>\n",
       "      <td>0.809809</td>\n",
       "      <td>0.779639</td>\n",
       "      <td>0.580537</td>\n",
       "      <td>0.180502</td>\n",
       "      <td>0.216367</td>\n",
       "      <td>-0.236613</td>\n",
       "      <td>-0.012582</td>\n",
       "      <td>0.035859</td>\n",
       "    </tr>\n",
       "    <tr>\n",
       "      <th>feature_3</th>\n",
       "      <td>-0.502446</td>\n",
       "      <td>0.707429</td>\n",
       "      <td>0.686554</td>\n",
       "      <td>0.582624</td>\n",
       "      <td>0.121433</td>\n",
       "      <td>0.809809</td>\n",
       "      <td>1.000000</td>\n",
       "      <td>0.920134</td>\n",
       "      <td>0.666711</td>\n",
       "      <td>0.241822</td>\n",
       "      <td>0.261974</td>\n",
       "      <td>-0.267140</td>\n",
       "      <td>-0.023151</td>\n",
       "      <td>0.004369</td>\n",
       "    </tr>\n",
       "    <tr>\n",
       "      <th>feature_11</th>\n",
       "      <td>-0.464239</td>\n",
       "      <td>0.660209</td>\n",
       "      <td>0.640439</td>\n",
       "      <td>0.539818</td>\n",
       "      <td>0.136845</td>\n",
       "      <td>0.779639</td>\n",
       "      <td>0.920134</td>\n",
       "      <td>1.000000</td>\n",
       "      <td>0.625702</td>\n",
       "      <td>0.257226</td>\n",
       "      <td>0.216313</td>\n",
       "      <td>-0.234803</td>\n",
       "      <td>-0.026124</td>\n",
       "      <td>0.035228</td>\n",
       "    </tr>\n",
       "    <tr>\n",
       "      <th>feature_16</th>\n",
       "      <td>-0.346133</td>\n",
       "      <td>0.504314</td>\n",
       "      <td>0.514343</td>\n",
       "      <td>0.462136</td>\n",
       "      <td>0.015898</td>\n",
       "      <td>0.580537</td>\n",
       "      <td>0.666711</td>\n",
       "      <td>0.625702</td>\n",
       "      <td>1.000000</td>\n",
       "      <td>0.135372</td>\n",
       "      <td>0.174378</td>\n",
       "      <td>-0.194260</td>\n",
       "      <td>-0.046458</td>\n",
       "      <td>0.044673</td>\n",
       "    </tr>\n",
       "    <tr>\n",
       "      <th>lifetime_feature_2</th>\n",
       "      <td>-0.200355</td>\n",
       "      <td>0.242526</td>\n",
       "      <td>0.227177</td>\n",
       "      <td>0.188627</td>\n",
       "      <td>0.150614</td>\n",
       "      <td>0.180502</td>\n",
       "      <td>0.241822</td>\n",
       "      <td>0.257226</td>\n",
       "      <td>0.135372</td>\n",
       "      <td>1.000000</td>\n",
       "      <td>0.172418</td>\n",
       "      <td>-0.234322</td>\n",
       "      <td>-0.013384</td>\n",
       "      <td>0.134673</td>\n",
       "    </tr>\n",
       "    <tr>\n",
       "      <th>lifetime_feature_1_0</th>\n",
       "      <td>-0.153103</td>\n",
       "      <td>0.206490</td>\n",
       "      <td>0.191525</td>\n",
       "      <td>0.195845</td>\n",
       "      <td>0.082449</td>\n",
       "      <td>0.216367</td>\n",
       "      <td>0.261974</td>\n",
       "      <td>0.216313</td>\n",
       "      <td>0.174378</td>\n",
       "      <td>0.172418</td>\n",
       "      <td>1.000000</td>\n",
       "      <td>-0.885355</td>\n",
       "      <td>-0.058804</td>\n",
       "      <td>-0.273690</td>\n",
       "    </tr>\n",
       "    <tr>\n",
       "      <th>lifetime_feature_1_1</th>\n",
       "      <td>0.175943</td>\n",
       "      <td>-0.252722</td>\n",
       "      <td>-0.228066</td>\n",
       "      <td>-0.215066</td>\n",
       "      <td>-0.124961</td>\n",
       "      <td>-0.236613</td>\n",
       "      <td>-0.267140</td>\n",
       "      <td>-0.234803</td>\n",
       "      <td>-0.194260</td>\n",
       "      <td>-0.234322</td>\n",
       "      <td>-0.885355</td>\n",
       "      <td>1.000000</td>\n",
       "      <td>-0.041419</td>\n",
       "      <td>-0.192776</td>\n",
       "    </tr>\n",
       "    <tr>\n",
       "      <th>lifetime_feature_1_2</th>\n",
       "      <td>0.052522</td>\n",
       "      <td>-0.025867</td>\n",
       "      <td>-0.041832</td>\n",
       "      <td>-0.032577</td>\n",
       "      <td>-0.018950</td>\n",
       "      <td>-0.012582</td>\n",
       "      <td>-0.023151</td>\n",
       "      <td>-0.026124</td>\n",
       "      <td>-0.046458</td>\n",
       "      <td>-0.013384</td>\n",
       "      <td>-0.058804</td>\n",
       "      <td>-0.041419</td>\n",
       "      <td>1.000000</td>\n",
       "      <td>-0.012804</td>\n",
       "    </tr>\n",
       "    <tr>\n",
       "      <th>lifetime_feature_1_3</th>\n",
       "      <td>-0.053252</td>\n",
       "      <td>0.094180</td>\n",
       "      <td>0.078020</td>\n",
       "      <td>0.039158</td>\n",
       "      <td>0.090340</td>\n",
       "      <td>0.035859</td>\n",
       "      <td>0.004369</td>\n",
       "      <td>0.035228</td>\n",
       "      <td>0.044673</td>\n",
       "      <td>0.134673</td>\n",
       "      <td>-0.273690</td>\n",
       "      <td>-0.192776</td>\n",
       "      <td>-0.012804</td>\n",
       "      <td>1.000000</td>\n",
       "    </tr>\n",
       "  </tbody>\n",
       "</table>\n",
       "</div>"
      ],
      "text/plain": [
       "                             y  weekcount  weekmax_streak  weeklatest_streak  \\\n",
       "y                     1.000000  -0.534864       -0.442932          -0.415129   \n",
       "weekcount            -0.534864   1.000000        0.912668           0.706565   \n",
       "weekmax_streak       -0.442932   0.912668        1.000000           0.758359   \n",
       "weeklatest_streak    -0.415129   0.706565        0.758359           1.000000   \n",
       "feature_1            -0.287069   0.308786        0.291029           0.267561   \n",
       "feature_2            -0.420368   0.590266        0.570816           0.440527   \n",
       "feature_3            -0.502446   0.707429        0.686554           0.582624   \n",
       "feature_11           -0.464239   0.660209        0.640439           0.539818   \n",
       "feature_16           -0.346133   0.504314        0.514343           0.462136   \n",
       "lifetime_feature_2   -0.200355   0.242526        0.227177           0.188627   \n",
       "lifetime_feature_1_0 -0.153103   0.206490        0.191525           0.195845   \n",
       "lifetime_feature_1_1  0.175943  -0.252722       -0.228066          -0.215066   \n",
       "lifetime_feature_1_2  0.052522  -0.025867       -0.041832          -0.032577   \n",
       "lifetime_feature_1_3 -0.053252   0.094180        0.078020           0.039158   \n",
       "\n",
       "                      feature_1  feature_2  feature_3  feature_11  feature_16  \\\n",
       "y                     -0.287069  -0.420368  -0.502446   -0.464239   -0.346133   \n",
       "weekcount              0.308786   0.590266   0.707429    0.660209    0.504314   \n",
       "weekmax_streak         0.291029   0.570816   0.686554    0.640439    0.514343   \n",
       "weeklatest_streak      0.267561   0.440527   0.582624    0.539818    0.462136   \n",
       "feature_1              1.000000   0.042441   0.121433    0.136845    0.015898   \n",
       "feature_2              0.042441   1.000000   0.809809    0.779639    0.580537   \n",
       "feature_3              0.121433   0.809809   1.000000    0.920134    0.666711   \n",
       "feature_11             0.136845   0.779639   0.920134    1.000000    0.625702   \n",
       "feature_16             0.015898   0.580537   0.666711    0.625702    1.000000   \n",
       "lifetime_feature_2     0.150614   0.180502   0.241822    0.257226    0.135372   \n",
       "lifetime_feature_1_0   0.082449   0.216367   0.261974    0.216313    0.174378   \n",
       "lifetime_feature_1_1  -0.124961  -0.236613  -0.267140   -0.234803   -0.194260   \n",
       "lifetime_feature_1_2  -0.018950  -0.012582  -0.023151   -0.026124   -0.046458   \n",
       "lifetime_feature_1_3   0.090340   0.035859   0.004369    0.035228    0.044673   \n",
       "\n",
       "                      lifetime_feature_2  lifetime_feature_1_0  \\\n",
       "y                              -0.200355             -0.153103   \n",
       "weekcount                       0.242526              0.206490   \n",
       "weekmax_streak                  0.227177              0.191525   \n",
       "weeklatest_streak               0.188627              0.195845   \n",
       "feature_1                       0.150614              0.082449   \n",
       "feature_2                       0.180502              0.216367   \n",
       "feature_3                       0.241822              0.261974   \n",
       "feature_11                      0.257226              0.216313   \n",
       "feature_16                      0.135372              0.174378   \n",
       "lifetime_feature_2              1.000000              0.172418   \n",
       "lifetime_feature_1_0            0.172418              1.000000   \n",
       "lifetime_feature_1_1           -0.234322             -0.885355   \n",
       "lifetime_feature_1_2           -0.013384             -0.058804   \n",
       "lifetime_feature_1_3            0.134673             -0.273690   \n",
       "\n",
       "                      lifetime_feature_1_1  lifetime_feature_1_2  \\\n",
       "y                                 0.175943              0.052522   \n",
       "weekcount                        -0.252722             -0.025867   \n",
       "weekmax_streak                   -0.228066             -0.041832   \n",
       "weeklatest_streak                -0.215066             -0.032577   \n",
       "feature_1                        -0.124961             -0.018950   \n",
       "feature_2                        -0.236613             -0.012582   \n",
       "feature_3                        -0.267140             -0.023151   \n",
       "feature_11                       -0.234803             -0.026124   \n",
       "feature_16                       -0.194260             -0.046458   \n",
       "lifetime_feature_2               -0.234322             -0.013384   \n",
       "lifetime_feature_1_0             -0.885355             -0.058804   \n",
       "lifetime_feature_1_1              1.000000             -0.041419   \n",
       "lifetime_feature_1_2             -0.041419              1.000000   \n",
       "lifetime_feature_1_3             -0.192776             -0.012804   \n",
       "\n",
       "                      lifetime_feature_1_3  \n",
       "y                                -0.053252  \n",
       "weekcount                         0.094180  \n",
       "weekmax_streak                    0.078020  \n",
       "weeklatest_streak                 0.039158  \n",
       "feature_1                         0.090340  \n",
       "feature_2                         0.035859  \n",
       "feature_3                         0.004369  \n",
       "feature_11                        0.035228  \n",
       "feature_16                        0.044673  \n",
       "lifetime_feature_2                0.134673  \n",
       "lifetime_feature_1_0             -0.273690  \n",
       "lifetime_feature_1_1             -0.192776  \n",
       "lifetime_feature_1_2             -0.012804  \n",
       "lifetime_feature_1_3              1.000000  "
      ]
     },
     "execution_count": 41,
     "metadata": {},
     "output_type": "execute_result"
    }
   ],
   "source": [
    "gold_mt=gold.corr()\n",
    "gold_mt"
   ]
  },
  {
   "cell_type": "code",
   "execution_count": 42,
   "metadata": {},
   "outputs": [
    {
     "data": {
      "text/plain": [
       "<matplotlib.axes._subplots.AxesSubplot at 0x1997321dd30>"
      ]
     },
     "execution_count": 42,
     "metadata": {},
     "output_type": "execute_result"
    },
    {
     "data": {
      "image/png": "[encoded data removed]",
      "text/plain": [
       "<matplotlib.figure.Figure at 0x19974277470>"
      ]
     },
     "metadata": {},
     "output_type": "display_data"
    }
   ],
   "source": [
    "sns.heatmap(gold_mt, vmax=1., square=False,cmap=\"RdYlBu\")"
   ]
  },
  {
   "cell_type": "code",
   "execution_count": 43,
   "metadata": {
    "collapsed": true
   },
   "outputs": [],
   "source": [
    "#gold=gold.drop('feature_1',axis=1)"
   ]
  },
  {
   "cell_type": "markdown",
   "metadata": {},
   "source": [
    "# We prepare the golden set"
   ]
  },
  {
   "cell_type": "code",
   "execution_count": 44,
   "metadata": {
    "collapsed": true
   },
   "outputs": [],
   "source": [
    "golden_x= gold.drop(['y'], axis=1)\n",
    "golden_y= gold['y']"
   ]
  },
  {
   "cell_type": "code",
   "execution_count": 45,
   "metadata": {
    "collapsed": true
   },
   "outputs": [],
   "source": [
    "#golden_x =  pd.DataFrame(KNN(k=2).fit_transform(golden_x), columns=golden_x.columns, index=golden_x.index) "
   ]
  },
  {
   "cell_type": "code",
   "execution_count": 46,
   "metadata": {},
   "outputs": [
    {
     "data": {
      "text/html": [
       "<div>\n",
       "<style>\n",
       "    .dataframe thead tr:only-child th {\n",
       "        text-align: right;\n",
       "    }\n",
       "\n",
       "    .dataframe thead th {\n",
       "        text-align: left;\n",
       "    }\n",
       "\n",
       "    .dataframe tbody tr th {\n",
       "        vertical-align: top;\n",
       "    }\n",
       "</style>\n",
       "<table border=\"1\" class=\"dataframe\">\n",
       "  <thead>\n",
       "    <tr style=\"text-align: right;\">\n",
       "      <th></th>\n",
       "      <th>weekcount</th>\n",
       "      <th>weekmax_streak</th>\n",
       "      <th>weeklatest_streak</th>\n",
       "      <th>feature_1</th>\n",
       "      <th>feature_2</th>\n",
       "      <th>feature_3</th>\n",
       "      <th>feature_11</th>\n",
       "      <th>feature_16</th>\n",
       "      <th>lifetime_feature_2</th>\n",
       "      <th>lifetime_feature_1_0</th>\n",
       "      <th>lifetime_feature_1_1</th>\n",
       "      <th>lifetime_feature_1_2</th>\n",
       "      <th>lifetime_feature_1_3</th>\n",
       "    </tr>\n",
       "  </thead>\n",
       "  <tbody>\n",
       "    <tr>\n",
       "      <th>weekcount</th>\n",
       "      <td>1.000000</td>\n",
       "      <td>0.912668</td>\n",
       "      <td>0.706565</td>\n",
       "      <td>0.308786</td>\n",
       "      <td>0.590266</td>\n",
       "      <td>0.707429</td>\n",
       "      <td>0.660209</td>\n",
       "      <td>0.504314</td>\n",
       "      <td>0.242526</td>\n",
       "      <td>0.206490</td>\n",
       "      <td>-0.252722</td>\n",
       "      <td>-0.025867</td>\n",
       "      <td>0.094180</td>\n",
       "    </tr>\n",
       "    <tr>\n",
       "      <th>weekmax_streak</th>\n",
       "      <td>0.912668</td>\n",
       "      <td>1.000000</td>\n",
       "      <td>0.758359</td>\n",
       "      <td>0.291029</td>\n",
       "      <td>0.570816</td>\n",
       "      <td>0.686554</td>\n",
       "      <td>0.640439</td>\n",
       "      <td>0.514343</td>\n",
       "      <td>0.227177</td>\n",
       "      <td>0.191525</td>\n",
       "      <td>-0.228066</td>\n",
       "      <td>-0.041832</td>\n",
       "      <td>0.078020</td>\n",
       "    </tr>\n",
       "    <tr>\n",
       "      <th>weeklatest_streak</th>\n",
       "      <td>0.706565</td>\n",
       "      <td>0.758359</td>\n",
       "      <td>1.000000</td>\n",
       "      <td>0.267561</td>\n",
       "      <td>0.440527</td>\n",
       "      <td>0.582624</td>\n",
       "      <td>0.539818</td>\n",
       "      <td>0.462136</td>\n",
       "      <td>0.188627</td>\n",
       "      <td>0.195845</td>\n",
       "      <td>-0.215066</td>\n",
       "      <td>-0.032577</td>\n",
       "      <td>0.039158</td>\n",
       "    </tr>\n",
       "    <tr>\n",
       "      <th>feature_1</th>\n",
       "      <td>0.308786</td>\n",
       "      <td>0.291029</td>\n",
       "      <td>0.267561</td>\n",
       "      <td>1.000000</td>\n",
       "      <td>0.042441</td>\n",
       "      <td>0.121433</td>\n",
       "      <td>0.136845</td>\n",
       "      <td>0.015898</td>\n",
       "      <td>0.150614</td>\n",
       "      <td>0.082449</td>\n",
       "      <td>-0.124961</td>\n",
       "      <td>-0.018950</td>\n",
       "      <td>0.090340</td>\n",
       "    </tr>\n",
       "    <tr>\n",
       "      <th>feature_2</th>\n",
       "      <td>0.590266</td>\n",
       "      <td>0.570816</td>\n",
       "      <td>0.440527</td>\n",
       "      <td>0.042441</td>\n",
       "      <td>1.000000</td>\n",
       "      <td>0.809809</td>\n",
       "      <td>0.779639</td>\n",
       "      <td>0.580537</td>\n",
       "      <td>0.180502</td>\n",
       "      <td>0.216367</td>\n",
       "      <td>-0.236613</td>\n",
       "      <td>-0.012582</td>\n",
       "      <td>0.035859</td>\n",
       "    </tr>\n",
       "    <tr>\n",
       "      <th>feature_3</th>\n",
       "      <td>0.707429</td>\n",
       "      <td>0.686554</td>\n",
       "      <td>0.582624</td>\n",
       "      <td>0.121433</td>\n",
       "      <td>0.809809</td>\n",
       "      <td>1.000000</td>\n",
       "      <td>0.920134</td>\n",
       "      <td>0.666711</td>\n",
       "      <td>0.241822</td>\n",
       "      <td>0.261974</td>\n",
       "      <td>-0.267140</td>\n",
       "      <td>-0.023151</td>\n",
       "      <td>0.004369</td>\n",
       "    </tr>\n",
       "    <tr>\n",
       "      <th>feature_11</th>\n",
       "      <td>0.660209</td>\n",
       "      <td>0.640439</td>\n",
       "      <td>0.539818</td>\n",
       "      <td>0.136845</td>\n",
       "      <td>0.779639</td>\n",
       "      <td>0.920134</td>\n",
       "      <td>1.000000</td>\n",
       "      <td>0.625702</td>\n",
       "      <td>0.257226</td>\n",
       "      <td>0.216313</td>\n",
       "      <td>-0.234803</td>\n",
       "      <td>-0.026124</td>\n",
       "      <td>0.035228</td>\n",
       "    </tr>\n",
       "    <tr>\n",
       "      <th>feature_16</th>\n",
       "      <td>0.504314</td>\n",
       "      <td>0.514343</td>\n",
       "      <td>0.462136</td>\n",
       "      <td>0.015898</td>\n",
       "      <td>0.580537</td>\n",
       "      <td>0.666711</td>\n",
       "      <td>0.625702</td>\n",
       "      <td>1.000000</td>\n",
       "      <td>0.135372</td>\n",
       "      <td>0.174378</td>\n",
       "      <td>-0.194260</td>\n",
       "      <td>-0.046458</td>\n",
       "      <td>0.044673</td>\n",
       "    </tr>\n",
       "    <tr>\n",
       "      <th>lifetime_feature_2</th>\n",
       "      <td>0.242526</td>\n",
       "      <td>0.227177</td>\n",
       "      <td>0.188627</td>\n",
       "      <td>0.150614</td>\n",
       "      <td>0.180502</td>\n",
       "      <td>0.241822</td>\n",
       "      <td>0.257226</td>\n",
       "      <td>0.135372</td>\n",
       "      <td>1.000000</td>\n",
       "      <td>0.172418</td>\n",
       "      <td>-0.234322</td>\n",
       "      <td>-0.013384</td>\n",
       "      <td>0.134673</td>\n",
       "    </tr>\n",
       "    <tr>\n",
       "      <th>lifetime_feature_1_0</th>\n",
       "      <td>0.206490</td>\n",
       "      <td>0.191525</td>\n",
       "      <td>0.195845</td>\n",
       "      <td>0.082449</td>\n",
       "      <td>0.216367</td>\n",
       "      <td>0.261974</td>\n",
       "      <td>0.216313</td>\n",
       "      <td>0.174378</td>\n",
       "      <td>0.172418</td>\n",
       "      <td>1.000000</td>\n",
       "      <td>-0.885355</td>\n",
       "      <td>-0.058804</td>\n",
       "      <td>-0.273690</td>\n",
       "    </tr>\n",
       "    <tr>\n",
       "      <th>lifetime_feature_1_1</th>\n",
       "      <td>-0.252722</td>\n",
       "      <td>-0.228066</td>\n",
       "      <td>-0.215066</td>\n",
       "      <td>-0.124961</td>\n",
       "      <td>-0.236613</td>\n",
       "      <td>-0.267140</td>\n",
       "      <td>-0.234803</td>\n",
       "      <td>-0.194260</td>\n",
       "      <td>-0.234322</td>\n",
       "      <td>-0.885355</td>\n",
       "      <td>1.000000</td>\n",
       "      <td>-0.041419</td>\n",
       "      <td>-0.192776</td>\n",
       "    </tr>\n",
       "    <tr>\n",
       "      <th>lifetime_feature_1_2</th>\n",
       "      <td>-0.025867</td>\n",
       "      <td>-0.041832</td>\n",
       "      <td>-0.032577</td>\n",
       "      <td>-0.018950</td>\n",
       "      <td>-0.012582</td>\n",
       "      <td>-0.023151</td>\n",
       "      <td>-0.026124</td>\n",
       "      <td>-0.046458</td>\n",
       "      <td>-0.013384</td>\n",
       "      <td>-0.058804</td>\n",
       "      <td>-0.041419</td>\n",
       "      <td>1.000000</td>\n",
       "      <td>-0.012804</td>\n",
       "    </tr>\n",
       "    <tr>\n",
       "      <th>lifetime_feature_1_3</th>\n",
       "      <td>0.094180</td>\n",
       "      <td>0.078020</td>\n",
       "      <td>0.039158</td>\n",
       "      <td>0.090340</td>\n",
       "      <td>0.035859</td>\n",
       "      <td>0.004369</td>\n",
       "      <td>0.035228</td>\n",
       "      <td>0.044673</td>\n",
       "      <td>0.134673</td>\n",
       "      <td>-0.273690</td>\n",
       "      <td>-0.192776</td>\n",
       "      <td>-0.012804</td>\n",
       "      <td>1.000000</td>\n",
       "    </tr>\n",
       "  </tbody>\n",
       "</table>\n",
       "</div>"
      ],
      "text/plain": [
       "                      weekcount  weekmax_streak  weeklatest_streak  feature_1  \\\n",
       "weekcount              1.000000        0.912668           0.706565   0.308786   \n",
       "weekmax_streak         0.912668        1.000000           0.758359   0.291029   \n",
       "weeklatest_streak      0.706565        0.758359           1.000000   0.267561   \n",
       "feature_1              0.308786        0.291029           0.267561   1.000000   \n",
       "feature_2              0.590266        0.570816           0.440527   0.042441   \n",
       "feature_3              0.707429        0.686554           0.582624   0.121433   \n",
       "feature_11             0.660209        0.640439           0.539818   0.136845   \n",
       "feature_16             0.504314        0.514343           0.462136   0.015898   \n",
       "lifetime_feature_2     0.242526        0.227177           0.188627   0.150614   \n",
       "lifetime_feature_1_0   0.206490        0.191525           0.195845   0.082449   \n",
       "lifetime_feature_1_1  -0.252722       -0.228066          -0.215066  -0.124961   \n",
       "lifetime_feature_1_2  -0.025867       -0.041832          -0.032577  -0.018950   \n",
       "lifetime_feature_1_3   0.094180        0.078020           0.039158   0.090340   \n",
       "\n",
       "                      feature_2  feature_3  feature_11  feature_16  \\\n",
       "weekcount              0.590266   0.707429    0.660209    0.504314   \n",
       "weekmax_streak         0.570816   0.686554    0.640439    0.514343   \n",
       "weeklatest_streak      0.440527   0.582624    0.539818    0.462136   \n",
       "feature_1              0.042441   0.121433    0.136845    0.015898   \n",
       "feature_2              1.000000   0.809809    0.779639    0.580537   \n",
       "feature_3              0.809809   1.000000    0.920134    0.666711   \n",
       "feature_11             0.779639   0.920134    1.000000    0.625702   \n",
       "feature_16             0.580537   0.666711    0.625702    1.000000   \n",
       "lifetime_feature_2     0.180502   0.241822    0.257226    0.135372   \n",
       "lifetime_feature_1_0   0.216367   0.261974    0.216313    0.174378   \n",
       "lifetime_feature_1_1  -0.236613  -0.267140   -0.234803   -0.194260   \n",
       "lifetime_feature_1_2  -0.012582  -0.023151   -0.026124   -0.046458   \n",
       "lifetime_feature_1_3   0.035859   0.004369    0.035228    0.044673   \n",
       "\n",
       "                      lifetime_feature_2  lifetime_feature_1_0  \\\n",
       "weekcount                       0.242526              0.206490   \n",
       "weekmax_streak                  0.227177              0.191525   \n",
       "weeklatest_streak               0.188627              0.195845   \n",
       "feature_1                       0.150614              0.082449   \n",
       "feature_2                       0.180502              0.216367   \n",
       "feature_3                       0.241822              0.261974   \n",
       "feature_11                      0.257226              0.216313   \n",
       "feature_16                      0.135372              0.174378   \n",
       "lifetime_feature_2              1.000000              0.172418   \n",
       "lifetime_feature_1_0            0.172418              1.000000   \n",
       "lifetime_feature_1_1           -0.234322             -0.885355   \n",
       "lifetime_feature_1_2           -0.013384             -0.058804   \n",
       "lifetime_feature_1_3            0.134673             -0.273690   \n",
       "\n",
       "                      lifetime_feature_1_1  lifetime_feature_1_2  \\\n",
       "weekcount                        -0.252722             -0.025867   \n",
       "weekmax_streak                   -0.228066             -0.041832   \n",
       "weeklatest_streak                -0.215066             -0.032577   \n",
       "feature_1                        -0.124961             -0.018950   \n",
       "feature_2                        -0.236613             -0.012582   \n",
       "feature_3                        -0.267140             -0.023151   \n",
       "feature_11                       -0.234803             -0.026124   \n",
       "feature_16                       -0.194260             -0.046458   \n",
       "lifetime_feature_2               -0.234322             -0.013384   \n",
       "lifetime_feature_1_0             -0.885355             -0.058804   \n",
       "lifetime_feature_1_1              1.000000             -0.041419   \n",
       "lifetime_feature_1_2             -0.041419              1.000000   \n",
       "lifetime_feature_1_3             -0.192776             -0.012804   \n",
       "\n",
       "                      lifetime_feature_1_3  \n",
       "weekcount                         0.094180  \n",
       "weekmax_streak                    0.078020  \n",
       "weeklatest_streak                 0.039158  \n",
       "feature_1                         0.090340  \n",
       "feature_2                         0.035859  \n",
       "feature_3                         0.004369  \n",
       "feature_11                        0.035228  \n",
       "feature_16                        0.044673  \n",
       "lifetime_feature_2                0.134673  \n",
       "lifetime_feature_1_0             -0.273690  \n",
       "lifetime_feature_1_1             -0.192776  \n",
       "lifetime_feature_1_2             -0.012804  \n",
       "lifetime_feature_1_3              1.000000  "
      ]
     },
     "execution_count": 46,
     "metadata": {},
     "output_type": "execute_result"
    }
   ],
   "source": [
    "golden_x_mt=golden_x.corr()\n",
    "golden_x_mt"
   ]
  },
  {
   "cell_type": "code",
   "execution_count": 213,
   "metadata": {},
   "outputs": [
    {
     "data": {
      "text/plain": [
       "<matplotlib.axes._subplots.AxesSubplot at 0x19977260dd8>"
      ]
     },
     "execution_count": 213,
     "metadata": {},
     "output_type": "execute_result"
    },
    {
     "data": {
      "image/png": "[encoded data removed]",
      "text/plain": [
       "<matplotlib.figure.Figure at 0x19978dd4dd8>"
      ]
     },
     "metadata": {},
     "output_type": "display_data"
    }
   ],
   "source": [
    "sns.heatmap(golden_x_mt, vmax=1., square=False,cmap=\"RdYlBu\")"
   ]
  },
  {
   "cell_type": "code",
   "execution_count": 214,
   "metadata": {},
   "outputs": [],
   "source": [
    "x_train, x_test, y_train, y_test = train_test_split(golden_x,golden_y , test_size=0.25,stratify=golden_y)\n",
    "#stratified train test split to have balanced classes in training and testing sets"
   ]
  },
  {
   "cell_type": "markdown",
   "metadata": {},
   "source": [
    "# About imputing missing values\n",
    "### I use KNN to impute missing values for lifetime dataset feature_2, I do it separately in the testing and training set, I do so to prevent data leakage altough may come with a cost on the accuracy of the imputation "
   ]
  },
  {
   "cell_type": "code",
   "execution_count": 215,
   "metadata": {},
   "outputs": [
    {
     "name": "stdout",
     "output_type": "stream",
     "text": [
      "Imputing row 1/546 with 0 missing, elapsed time: 0.141\n",
      "Imputing row 101/546 with 0 missing, elapsed time: 0.142\n",
      "Imputing row 201/546 with 0 missing, elapsed time: 0.143\n",
      "Imputing row 301/546 with 0 missing, elapsed time: 0.144\n",
      "Imputing row 401/546 with 0 missing, elapsed time: 0.145\n",
      "Imputing row 501/546 with 0 missing, elapsed time: 0.146\n",
      "Imputing row 1/183 with 0 missing, elapsed time: 0.009\n",
      "Imputing row 101/183 with 0 missing, elapsed time: 0.009\n"
     ]
    }
   ],
   "source": [
    "x_train =  pd.DataFrame(KNN(k=2).fit_transform(x_train), columns=x_train.columns, index=x_train.index) \n",
    "x_test =  pd.DataFrame(KNN(k=2).fit_transform(x_test), columns=x_test.columns, index=x_test.index) "
   ]
  },
  {
   "cell_type": "code",
   "execution_count": 216,
   "metadata": {
    "collapsed": true
   },
   "outputs": [],
   "source": [
    "scaler=StandardScaler()\n",
    "scaler.fit(x_train)\n",
    "x_train = scaler.transform(x_train)\n",
    "x_test = scaler.transform(x_test)"
   ]
  },
  {
   "cell_type": "code",
   "execution_count": null,
   "metadata": {
    "collapsed": true
   },
   "outputs": [],
   "source": []
  },
  {
   "cell_type": "markdown",
   "metadata": {},
   "source": [
    "# Building model for prediction"
   ]
  },
  {
   "cell_type": "code",
   "execution_count": 217,
   "metadata": {},
   "outputs": [
    {
     "data": {
      "text/plain": [
       "1    273\n",
       "0    273\n",
       "Name: y, dtype: int64"
      ]
     },
     "execution_count": 217,
     "metadata": {},
     "output_type": "execute_result"
    }
   ],
   "source": [
    "y_train.value_counts()"
   ]
  },
  {
   "cell_type": "code",
   "execution_count": 218,
   "metadata": {},
   "outputs": [
    {
     "data": {
      "text/plain": [
       "0    92\n",
       "1    91\n",
       "Name: y, dtype: int64"
      ]
     },
     "execution_count": 218,
     "metadata": {},
     "output_type": "execute_result"
    }
   ],
   "source": [
    "y_test.value_counts()"
   ]
  },
  {
   "cell_type": "markdown",
   "metadata": {},
   "source": [
    "### Although the classes are balanced, still the amount of data is small we'll use Logistic regression and random forest to try to compensate for the size of the sample set"
   ]
  },
  {
   "cell_type": "markdown",
   "metadata": {},
   "source": [
    "### I display metrics like ROC and PR Curve but we will try to optimize accuracy since we have balanced classes"
   ]
  },
  {
   "cell_type": "markdown",
   "metadata": {
    "collapsed": true
   },
   "source": [
    "## LogisticRegression"
   ]
  },
  {
   "cell_type": "code",
   "execution_count": 276,
   "metadata": {},
   "outputs": [
    {
     "name": "stdout",
     "output_type": "stream",
     "text": [
      "Accuracy of logistic regression classifier on test set: 0.78\n",
      "             precision    recall  f1-score   support\n",
      "\n",
      "          0       0.78      0.78      0.78        92\n",
      "          1       0.78      0.78      0.78        91\n",
      "\n",
      "avg / total       0.78      0.78      0.78       183\n",
      "\n"
     ]
    },
    {
     "data": {
      "text/plain": [
       "Text(0.5,15,'Predicted label')"
      ]
     },
     "execution_count": 276,
     "metadata": {},
     "output_type": "execute_result"
    },
    {
     "data": {
      "image/png": "[encoded data removed]",
      "text/plain": [
       "<matplotlib.figure.Figure at 0x1997c15d828>"
      ]
     },
     "metadata": {},
     "output_type": "display_data"
    }
   ],
   "source": [
    "clf = LogisticRegression(C=10, penalty='l1', class_weight='balanced')\n",
    "clf.fit(x_train, y_train)\n",
    "test_y_pred = clf.predict(x_test)\n",
    "cf_mt = confusion_matrix(y_test, test_y_pred)\n",
    "print('Accuracy of logistic regression classifier on test set: {:.2f}'.format(clf.score(x_test, y_test)))\n",
    "print(classification_report(y_test, test_y_pred))\n",
    "confusion_matrix_df = pd.DataFrame(cf_mt, ('False', 'True'), ('False', 'True'))\n",
    "heatmap = sns.heatmap(confusion_matrix_df, annot=True, annot_kws={\"size\": 20}, fmt=\"d\")\n",
    "heatmap.yaxis.set_ticklabels(heatmap.yaxis.get_ticklabels(), rotation=0, ha='right', fontsize = 14)\n",
    "heatmap.xaxis.set_ticklabels(heatmap.xaxis.get_ticklabels(), rotation=45, ha='right', fontsize = 14)\n",
    "plt.ylabel('True label', fontsize = 14)\n",
    "plt.xlabel('Predicted label', fontsize = 14)"
   ]
  },
  {
   "cell_type": "code",
   "execution_count": 220,
   "metadata": {},
   "outputs": [
    {
     "data": {
      "image/png": "[encoded data removed]",
      "text/plain": [
       "<matplotlib.figure.Figure at 0x199794d54a8>"
      ]
     },
     "metadata": {},
     "output_type": "display_data"
    }
   ],
   "source": [
    "probs = clf.predict_proba(x_test)\n",
    "preds = probs[:,1]\n",
    "fpr, tpr, threshold = roc_curve(y_test, preds)\n",
    "roc_auc = auc(fpr, tpr)\n",
    "plt.title('Receiver Operating Characteristic')\n",
    "plt.plot(fpr, tpr, 'b', label = 'AUC = %0.2f' % roc_auc)\n",
    "plt.legend(loc = 'lower right')\n",
    "plt.plot([0, 1], [0, 1],'r--')\n",
    "plt.xlim([0, 1])\n",
    "plt.ylim([0, 1])\n",
    "plt.ylabel('True Positive Rate')\n",
    "plt.xlabel('False Positive Rate')\n",
    "plt.show()"
   ]
  },
  {
   "cell_type": "code",
   "execution_count": 221,
   "metadata": {},
   "outputs": [
    {
     "data": {
      "text/plain": [
       "Text(0.5,1,'2-class Precision-Recall curve: AP=0.78')"
      ]
     },
     "execution_count": 221,
     "metadata": {},
     "output_type": "execute_result"
    },
    {
     "data": {
      "image/png": "[encoded data removed]",
      "text/plain": [
       "<matplotlib.figure.Figure at 0x1997a593f28>"
      ]
     },
     "metadata": {},
     "output_type": "display_data"
    }
   ],
   "source": [
    "average_precision = average_precision_score(y_test, preds)\n",
    "precision, recall, _ = precision_recall_curve(y_test, preds)\n",
    "plt.step(recall, precision, color='b', alpha=0.2, where='post')\n",
    "plt.fill_between(recall, precision, step='post', alpha=0.2,  color='b')\n",
    "plt.xlabel('Recall')\n",
    "plt.ylabel('Precision')\n",
    "plt.ylim([0.0, 1.05])\n",
    "plt.xlim([0.0, 1.0])\n",
    "plt.title('2-class Precision-Recall curve: AP={0:0.2f}'.format( average_precision))"
   ]
  },
  {
   "cell_type": "markdown",
   "metadata": {},
   "source": [
    "# Logistic regression grid search"
   ]
  },
  {
   "cell_type": "code",
   "execution_count": 277,
   "metadata": {},
   "outputs": [
    {
     "name": "stdout",
     "output_type": "stream",
     "text": [
      "tuned hpyerparameters :(best parameters)  {'C': 10, 'penalty': 'l1'}\n",
      "accuracy : 0.7710622710622711\n"
     ]
    }
   ],
   "source": [
    "grid={\"C\":[0.001, 0.01, 0.1, 1, 10, 100, 1000] , \"penalty\":[\"l1\",\"l2\"]}# l1 lasso l2 ridge\n",
    "logreg=LogisticRegression(class_weight='balanced')\n",
    "logreg_cv=GridSearchCV(logreg,grid,cv=2)\n",
    "logreg_cv.fit(x_train,y_train)\n",
    "print(\"tuned hpyerparameters :(best parameters) \",logreg_cv.best_params_)\n",
    "print(\"accuracy :\",logreg_cv.best_score_)"
   ]
  },
  {
   "cell_type": "code",
   "execution_count": 278,
   "metadata": {},
   "outputs": [
    {
     "name": "stdout",
     "output_type": "stream",
     "text": [
      "Accuracy of logistic regression classifier on test set: 0.78\n",
      "             precision    recall  f1-score   support\n",
      "\n",
      "          0       0.78      0.78      0.78        92\n",
      "          1       0.78      0.78      0.78        91\n",
      "\n",
      "avg / total       0.78      0.78      0.78       183\n",
      "\n"
     ]
    },
    {
     "data": {
      "text/plain": [
       "Text(0.5,15,'Predicted label')"
      ]
     },
     "execution_count": 278,
     "metadata": {},
     "output_type": "execute_result"
    },
    {
     "data": {
      "image/png": "[encoded data removed]",
      "text/plain": [
       "<matplotlib.figure.Figure at 0x1997c2c6080>"
      ]
     },
     "metadata": {},
     "output_type": "display_data"
    }
   ],
   "source": [
    "test_y_pred = logreg_cv.predict(x_test)\n",
    "cf_mt = confusion_matrix(y_test, test_y_pred)\n",
    "print('Accuracy of logistic regression classifier on test set: {:.2f}'.format(logreg_cv.score(x_test, y_test)))\n",
    "print(classification_report(y_test, test_y_pred))\n",
    "confusion_matrix_df = pd.DataFrame(cf_mt, ('False', 'True'), ('False', 'True'))\n",
    "heatmap = sns.heatmap(confusion_matrix_df, annot=True, annot_kws={\"size\": 20}, fmt=\"d\")\n",
    "heatmap.yaxis.set_ticklabels(heatmap.yaxis.get_ticklabels(), rotation=0, ha='right', fontsize = 14)\n",
    "heatmap.xaxis.set_ticklabels(heatmap.xaxis.get_ticklabels(), rotation=45, ha='right', fontsize = 14)\n",
    "plt.ylabel('True label', fontsize = 14)\n",
    "plt.xlabel('Predicted label', fontsize = 14)"
   ]
  },
  {
   "cell_type": "code",
   "execution_count": 279,
   "metadata": {},
   "outputs": [
    {
     "data": {
      "image/png": "[encoded data removed]",
      "text/plain": [
       "<matplotlib.figure.Figure at 0x1997c42c048>"
      ]
     },
     "metadata": {},
     "output_type": "display_data"
    }
   ],
   "source": [
    "probs = logreg_cv.predict_proba(x_test)\n",
    "preds = probs[:,1]\n",
    "fpr, tpr, threshold = roc_curve(y_test, preds)\n",
    "roc_auc = auc(fpr, tpr)\n",
    "plt.title('Receiver Operating Characteristic')\n",
    "plt.plot(fpr, tpr, 'b', label = 'AUC = %0.2f' % roc_auc)\n",
    "plt.legend(loc = 'lower right')\n",
    "plt.plot([0, 1], [0, 1],'r--')\n",
    "plt.xlim([0, 1])\n",
    "plt.ylim([0, 1])\n",
    "plt.ylabel('True Positive Rate')\n",
    "plt.xlabel('False Positive Rate')\n",
    "plt.show()"
   ]
  },
  {
   "cell_type": "code",
   "execution_count": 280,
   "metadata": {},
   "outputs": [
    {
     "data": {
      "text/plain": [
       "Text(0.5,1,'2-class Precision-Recall curve: AP=0.78')"
      ]
     },
     "execution_count": 280,
     "metadata": {},
     "output_type": "execute_result"
    },
    {
     "data": {
      "image/png": "[encoded data removed]",
      "text/plain": [
       "<matplotlib.figure.Figure at 0x1997c42c978>"
      ]
     },
     "metadata": {},
     "output_type": "display_data"
    }
   ],
   "source": [
    "average_precision = average_precision_score(y_test, preds)\n",
    "precision, recall, _ = precision_recall_curve(y_test, preds)\n",
    "plt.step(recall, precision, color='b', alpha=0.2, where='post')\n",
    "plt.fill_between(recall, precision, step='post', alpha=0.2, color='b')\n",
    "plt.xlabel('Recall')\n",
    "plt.ylabel('Precision')\n",
    "plt.ylim([0.0, 1.05])\n",
    "plt.xlim([0.0, 1.0])\n",
    "plt.title('2-class Precision-Recall curve: AP={0:0.2f}'.format(average_precision))"
   ]
  },
  {
   "cell_type": "code",
   "execution_count": null,
   "metadata": {
    "collapsed": true
   },
   "outputs": [],
   "source": []
  },
  {
   "cell_type": "markdown",
   "metadata": {
    "collapsed": true
   },
   "source": [
    "# Logistic cross validation score"
   ]
  },
  {
   "cell_type": "code",
   "execution_count": 284,
   "metadata": {},
   "outputs": [
    {
     "name": "stdout",
     "output_type": "stream",
     "text": [
      "Accuracy: 0.765 (0.051)\n"
     ]
    },
    {
     "data": {
      "text/plain": [
       "Text(0.5,15,'Predicted label')"
      ]
     },
     "execution_count": 284,
     "metadata": {},
     "output_type": "execute_result"
    },
    {
     "data": {
      "image/png": "[encoded data removed]",
      "text/plain": [
       "<matplotlib.figure.Figure at 0x1997c1dcd68>"
      ]
     },
     "metadata": {},
     "output_type": "display_data"
    }
   ],
   "source": [
    "logreg_cv.fit(x_train,y_train)\n",
    "seed = 7\n",
    "k_fold = KFold(n_splits=5, random_state=seed)\n",
    "scoring = 'accuracy'\n",
    "results=cross_val_score(logreg_cv, x_test, y_test, cv=k_fold, n_jobs=1, scoring=scoring)\n",
    "print(\"Accuracy: %.3f (%.3f)\" % (results.mean(), results.std()))\n",
    "predicted=logreg_cv.predict(x_test)\n",
    "matrix = confusion_matrix(y_test, predicted)\n",
    "confusion_matrix_df = pd.DataFrame(matrix, ('False', 'True'), ('False', 'True'))\n",
    "heatmap = sns.heatmap(confusion_matrix_df, annot=True, annot_kws={\"size\": 20}, fmt=\"d\")\n",
    "heatmap.yaxis.set_ticklabels(heatmap.yaxis.get_ticklabels(), rotation=0, ha='right', fontsize = 14)\n",
    "heatmap.xaxis.set_ticklabels(heatmap.xaxis.get_ticklabels(), rotation=45, ha='right', fontsize = 14)\n",
    "plt.ylabel('True label', fontsize = 14)\n",
    "plt.xlabel('Predicted label', fontsize = 14)"
   ]
  },
  {
   "cell_type": "code",
   "execution_count": null,
   "metadata": {
    "collapsed": true
   },
   "outputs": [],
   "source": []
  },
  {
   "cell_type": "markdown",
   "metadata": {},
   "source": [
    "# Adaboost"
   ]
  },
  {
   "cell_type": "code",
   "execution_count": 348,
   "metadata": {},
   "outputs": [
    {
     "name": "stdout",
     "output_type": "stream",
     "text": [
      "Accuracy: 0.732 (0.037)\n",
      "0.7595628415300546\n"
     ]
    },
    {
     "data": {
      "text/plain": [
       "Text(0.5,15,'Predicted label')"
      ]
     },
     "execution_count": 348,
     "metadata": {},
     "output_type": "execute_result"
    },
    {
     "data": {
      "image/png": "[encoded data removed]",
      "text/plain": [
       "<matplotlib.figure.Figure at 0x1997e3386d8>"
      ]
     },
     "metadata": {},
     "output_type": "display_data"
    }
   ],
   "source": [
    "clf = AdaBoostClassifier(n_estimators=100,learning_rate=0.05,algorithm='SAMME')\n",
    "clf.fit(x_train,y_train)\n",
    "\n",
    "seed = 7\n",
    "k_fold = KFold(n_splits=2)\n",
    "scoring = 'accuracy'\n",
    "results=cross_val_score(clf, x_test, y_test, cv=k_fold, n_jobs=1, scoring=scoring)\n",
    "print(\"Accuracy: %.3f (%.3f)\" % (results.mean(), results.std()))\n",
    "print(clf.score(x_test, y_test))\n",
    "clf.fit(x_train,y_train)\n",
    "predicted=clf.predict(x_test)\n",
    "matrix = confusion_matrix(y_test, predicted)\n",
    "confusion_matrix_df = pd.DataFrame(matrix, ('False', 'True'), ('False', 'True'))\n",
    "heatmap = sns.heatmap(confusion_matrix_df, annot=True, annot_kws={\"size\": 20}, fmt=\"d\")\n",
    "heatmap.yaxis.set_ticklabels(heatmap.yaxis.get_ticklabels(), rotation=0, ha='right', fontsize = 14)\n",
    "heatmap.xaxis.set_ticklabels(heatmap.xaxis.get_ticklabels(), rotation=45, ha='right', fontsize = 14)\n",
    "plt.ylabel('True label', fontsize = 14)\n",
    "plt.xlabel('Predicted label', fontsize = 14)"
   ]
  },
  {
   "cell_type": "code",
   "execution_count": 347,
   "metadata": {},
   "outputs": [
    {
     "name": "stdout",
     "output_type": "stream",
     "text": [
      "tuned hpyerparameters :(best parameters)  {'algorithm': 'SAMME', 'learning_rate': 0.05, 'n_estimators': 100}\n",
      "accuracy : 0.7838827838827839\n"
     ]
    }
   ],
   "source": [
    "param_dist = {\n",
    " 'n_estimators': [50, 100],\n",
    " 'learning_rate' : [0.01,0.05,0.1,0.3,1,10],\n",
    " 'algorithm' : ['SAMME', 'SAMME.R']\n",
    " }\n",
    "ada_tuned = GridSearchCV(AdaBoostClassifier(),\n",
    "param_dist,\n",
    " cv=2,\n",
    " \n",
    " n_jobs=-1)\n",
    "\n",
    "ada_tuned.fit(x_train, y_train)\n",
    "print(\"tuned hpyerparameters :(best parameters) \",ada_tuned.best_params_)\n",
    "print(\"accuracy :\",ada_tuned.best_score_)"
   ]
  },
  {
   "cell_type": "code",
   "execution_count": 335,
   "metadata": {},
   "outputs": [
    {
     "name": "stdout",
     "output_type": "stream",
     "text": [
      "Accuracy of logistic regression classifier on test set: 0.78\n",
      "             precision    recall  f1-score   support\n",
      "\n",
      "          0       0.79      0.77      0.78        92\n",
      "          1       0.77      0.79      0.78        91\n",
      "\n",
      "avg / total       0.78      0.78      0.78       183\n",
      "\n"
     ]
    },
    {
     "data": {
      "text/plain": [
       "Text(0.5,15,'Predicted label')"
      ]
     },
     "execution_count": 335,
     "metadata": {},
     "output_type": "execute_result"
    },
    {
     "data": {
      "image/png": "[encoded data removed]",
      "text/plain": [
       "<matplotlib.figure.Figure at 0x1997dd99a20>"
      ]
     },
     "metadata": {},
     "output_type": "display_data"
    }
   ],
   "source": [
    "test_y_pred = ada_tuned.predict(x_test)\n",
    "cf_mt = confusion_matrix(y_test, test_y_pred)\n",
    "print('Accuracy of logistic regression classifier on test set: {:.2f}'.format(ada_tuned.score(x_test, y_test)))\n",
    "print(classification_report(y_test, test_y_pred))\n",
    "confusion_matrix_df = pd.DataFrame(cf_mt, ('False', 'True'), ('False', 'True'))\n",
    "heatmap = sns.heatmap(confusion_matrix_df, annot=True, annot_kws={\"size\": 20}, fmt=\"d\")\n",
    "heatmap.yaxis.set_ticklabels(heatmap.yaxis.get_ticklabels(), rotation=0, ha='right', fontsize = 14)\n",
    "heatmap.xaxis.set_ticklabels(heatmap.xaxis.get_ticklabels(), rotation=45, ha='right', fontsize = 14)\n",
    "plt.ylabel('True label', fontsize = 14)\n",
    "plt.xlabel('Predicted label', fontsize = 14)"
   ]
  },
  {
   "cell_type": "code",
   "execution_count": 297,
   "metadata": {},
   "outputs": [
    {
     "data": {
      "image/png": "[encoded data removed]",
      "text/plain": [
       "<matplotlib.figure.Figure at 0x1997abdaf28>"
      ]
     },
     "metadata": {},
     "output_type": "display_data"
    }
   ],
   "source": [
    "probs = pre_gs_inst.predict_proba(x_test)\n",
    "preds = probs[:,1]\n",
    "fpr, tpr, threshold = roc_curve(y_test, preds)\n",
    "roc_auc = auc(fpr, tpr)\n",
    "plt.title('Receiver Operating Characteristic')\n",
    "plt.plot(fpr, tpr, 'b', label = 'AUC = %0.2f' % roc_auc)\n",
    "plt.legend(loc = 'lower right')\n",
    "plt.plot([0, 1], [0, 1],'r--')\n",
    "plt.xlim([0, 1])\n",
    "plt.ylim([0, 1])\n",
    "plt.ylabel('True Positive Rate')\n",
    "plt.xlabel('False Positive Rate')\n",
    "plt.show()"
   ]
  },
  {
   "cell_type": "code",
   "execution_count": null,
   "metadata": {
    "collapsed": true
   },
   "outputs": [],
   "source": []
  },
  {
   "cell_type": "code",
   "execution_count": null,
   "metadata": {
    "collapsed": true
   },
   "outputs": [],
   "source": []
  },
  {
   "cell_type": "code",
   "execution_count": null,
   "metadata": {
    "collapsed": true
   },
   "outputs": [],
   "source": []
  },
  {
   "cell_type": "code",
   "execution_count": null,
   "metadata": {
    "collapsed": true
   },
   "outputs": [],
   "source": []
  },
  {
   "cell_type": "markdown",
   "metadata": {
    "collapsed": true
   },
   "source": [
    "# SVC"
   ]
  },
  {
   "cell_type": "code",
   "execution_count": 331,
   "metadata": {},
   "outputs": [
    {
     "name": "stdout",
     "output_type": "stream",
     "text": [
      "tuned hpyerparameters :(best parameters)  {'C': 100, 'gamma': 0.001, 'kernel': 'rbf'}\n",
      "accuracy : 0.7637362637362637\n"
     ]
    }
   ],
   "source": [
    "param_dist =  [{'kernel': ['rbf'], 'gamma': [1e-3, 1e-4],\n",
    "                     'C': [1, 10, 100, 1000]},\n",
    "                    {'kernel': ['linear'], 'C': [1, 10, 100, 1000]}]\n",
    "svc_grid = GridSearchCV(svm.SVC(),  param_dist,cv=2)\n",
    "svc_grid.fit(x_train, y_train)\n",
    "print(\"tuned hpyerparameters :(best parameters) \",svc_grid.best_params_)\n",
    "print(\"accuracy :\",svc_grid.best_score_)"
   ]
  },
  {
   "cell_type": "code",
   "execution_count": null,
   "metadata": {
    "collapsed": true
   },
   "outputs": [],
   "source": []
  },
  {
   "cell_type": "code",
   "execution_count": 327,
   "metadata": {},
   "outputs": [
    {
     "name": "stdout",
     "output_type": "stream",
     "text": [
      "Accuracy of logistic regression classifier on test set: 0.75\n",
      "             precision    recall  f1-score   support\n",
      "\n",
      "          0       0.75      0.77      0.76        92\n",
      "          1       0.76      0.74      0.75        91\n",
      "\n",
      "avg / total       0.75      0.75      0.75       183\n",
      "\n",
      "Accuracy: 0.743 (0.004)\n",
      "[[70 22]\n",
      " [24 67]]\n"
     ]
    },
    {
     "data": {
      "text/plain": [
       "Text(0.5,15,'Predicted label')"
      ]
     },
     "execution_count": 327,
     "metadata": {},
     "output_type": "execute_result"
    },
    {
     "data": {
      "image/png": "[encoded data removed]",
      "text/plain": [
       "<matplotlib.figure.Figure at 0x1997db6c0f0>"
      ]
     },
     "metadata": {},
     "output_type": "display_data"
    }
   ],
   "source": [
    "clf = svm.SVC(C=100,kernel='rbf',probability=True,gamma=0.001)\n",
    "clf.fit(x_train,y_train)\n",
    "print('Accuracy of logistic regression classifier on test set: {:.2f}'.format(clf.score(x_test, y_test)))\n",
    "print(classification_report(y_test, test_y_pred))\n",
    "seed = 7\n",
    "k_fold = KFold(n_splits=2, random_state=seed)\n",
    "scoring = 'accuracy'\n",
    "results=cross_val_score(clf, x_test, y_test, cv=k_fold, scoring=scoring)\n",
    "print(\"Accuracy: %.3f (%.3f)\" % (results.mean(), results.std()))\n",
    "clf.fit(x_train,y_train)\n",
    "predicted=clf.predict(x_test)\n",
    "matrix = confusion_matrix(y_test, predicted)\n",
    "print(matrix)\n",
    "confusion_matrix_df = pd.DataFrame(matrix, ('False', 'True'), ('False', 'True'))\n",
    "heatmap = sns.heatmap(confusion_matrix_df, annot=True, annot_kws={\"size\": 20}, fmt=\"d\")\n",
    "heatmap.yaxis.set_ticklabels(heatmap.yaxis.get_ticklabels(), rotation=0, ha='right', fontsize = 14)\n",
    "heatmap.xaxis.set_ticklabels(heatmap.xaxis.get_ticklabels(), rotation=45, ha='right', fontsize = 14)\n",
    "plt.ylabel('True label', fontsize = 14)\n",
    "plt.xlabel('Predicted label', fontsize = 14)"
   ]
  },
  {
   "cell_type": "code",
   "execution_count": 328,
   "metadata": {},
   "outputs": [
    {
     "name": "stdout",
     "output_type": "stream",
     "text": [
      "             precision    recall  f1-score   support\n",
      "\n",
      "          0       0.75      0.77      0.76        92\n",
      "          1       0.76      0.74      0.75        91\n",
      "\n",
      "avg / total       0.75      0.75      0.75       183\n",
      "\n"
     ]
    },
    {
     "data": {
      "image/png": "[encoded data removed]",
      "text/plain": [
       "<matplotlib.figure.Figure at 0x1997c991f98>"
      ]
     },
     "metadata": {},
     "output_type": "display_data"
    }
   ],
   "source": [
    "probs = clf.predict_proba(x_test)\n",
    "preds = probs[:,1]\n",
    "fpr, tpr, threshold = roc_curve(y_test, preds)\n",
    "roc_auc = auc(fpr, tpr)\n",
    "plt.title('Receiver Operating Characteristic')\n",
    "plt.plot(fpr, tpr, 'b', label = 'AUC = %0.2f' % roc_auc)\n",
    "plt.legend(loc = 'lower right')\n",
    "plt.plot([0, 1], [0, 1],'r--')\n",
    "plt.xlim([0, 1])\n",
    "plt.ylim([0, 1])\n",
    "plt.ylabel('True Positive Rate')\n",
    "plt.xlabel('False Positive Rate')\n",
    "print(classification_report(y_test, test_y_pred))\n",
    "plt.show()"
   ]
  },
  {
   "cell_type": "code",
   "execution_count": 329,
   "metadata": {},
   "outputs": [
    {
     "data": {
      "text/plain": [
       "Text(0.5,1,'2-class Precision-Recall curve: AP=0.78')"
      ]
     },
     "execution_count": 329,
     "metadata": {},
     "output_type": "execute_result"
    },
    {
     "data": {
      "image/png": "[encoded data removed]",
      "text/plain": [
       "<matplotlib.figure.Figure at 0x1997dadbb70>"
      ]
     },
     "metadata": {},
     "output_type": "display_data"
    }
   ],
   "source": [
    "average_precision = average_precision_score(y_test, preds)\n",
    "precision, recall, _ = precision_recall_curve(y_test, preds)\n",
    "\n",
    "plt.step(recall, precision, color='b', alpha=0.2,\n",
    "         where='post')\n",
    "plt.fill_between(recall, precision, step='post', alpha=0.2,\n",
    "                 color='b')\n",
    "\n",
    "plt.xlabel('Recall')\n",
    "plt.ylabel('Precision')\n",
    "plt.ylim([0.0, 1.05])\n",
    "plt.xlim([0.0, 1.0])\n",
    "plt.title('2-class Precision-Recall curve: AP={0:0.2f}'.format(\n",
    "          average_precision))"
   ]
  },
  {
   "cell_type": "code",
   "execution_count": null,
   "metadata": {
    "collapsed": true
   },
   "outputs": [],
   "source": []
  },
  {
   "cell_type": "code",
   "execution_count": null,
   "metadata": {
    "collapsed": true
   },
   "outputs": [],
   "source": []
  },
  {
   "cell_type": "markdown",
   "metadata": {},
   "source": [
    "# Random Forest"
   ]
  },
  {
   "cell_type": "code",
   "execution_count": 355,
   "metadata": {},
   "outputs": [
    {
     "name": "stdout",
     "output_type": "stream",
     "text": [
      "Accuracy of random forest classifier on test set: 0.74\n"
     ]
    }
   ],
   "source": [
    "randomForest = RandomForestClassifier( max_depth=25, max_features=5, min_samples_split=5, n_estimators=100)\n",
    "randomForest.fit(x_train, y_train)\n",
    "print('Accuracy of random forest classifier on test set: {:.2f}'.format(randomForest.score(x_test, y_test)))"
   ]
  },
  {
   "cell_type": "code",
   "execution_count": 356,
   "metadata": {},
   "outputs": [
    {
     "name": "stdout",
     "output_type": "stream",
     "text": [
      "Accuracy: 0.770 (0.079)\n",
      "Logloss: -0.694 (0.600)\n",
      "AUC: 0.839 (0.077)\n",
      "[[72 20]\n",
      " [24 67]]\n"
     ]
    },
    {
     "data": {
      "text/plain": [
       "Text(0.5,15,'Predicted label')"
      ]
     },
     "execution_count": 356,
     "metadata": {},
     "output_type": "execute_result"
    },
    {
     "data": {
      "image/png": "[encoded data removed]",
      "text/plain": [
       "<matplotlib.figure.Figure at 0x1997e46ada0>"
      ]
     },
     "metadata": {},
     "output_type": "display_data"
    }
   ],
   "source": [
    "seed = 7\n",
    "k_fold = KFold(n_splits=10, random_state=seed)\n",
    "scoring = 'accuracy'\n",
    "results = results=cross_val_score(randomForest, x_test, y_test, cv=k_fold, n_jobs=1, scoring=scoring)\n",
    "print(\"Accuracy: %.3f (%.3f)\" % (results.mean(), results.std()))\n",
    "scoring = 'neg_log_loss'\n",
    "results = results=cross_val_score(randomForest, x_test, y_test, cv=k_fold, n_jobs=1, scoring=scoring)\n",
    "print(\"Logloss: %.3f (%.3f)\" % (results.mean(), results.std()))\n",
    "scoring = 'roc_auc'\n",
    "results = results=cross_val_score(randomForest, x_test, y_test, cv=k_fold, n_jobs=1, scoring=scoring)\n",
    "print(\"AUC: %.3f (%.3f)\" % (results.mean(), results.std()))\n",
    "\n",
    "randomForest.fit(x_train,y_train)\n",
    "predicted=randomForest.predict(x_test)\n",
    "matrix = confusion_matrix(y_test, predicted)\n",
    "print(matrix)\n",
    "\n",
    "\n",
    "confusion_matrix_df = pd.DataFrame(matrix, ('False', 'True'), ('False', 'True'))\n",
    "heatmap = sns.heatmap(confusion_matrix_df, annot=True, annot_kws={\"size\": 20}, fmt=\"d\")\n",
    "heatmap.yaxis.set_ticklabels(heatmap.yaxis.get_ticklabels(), rotation=0, ha='right', fontsize = 14)\n",
    "heatmap.xaxis.set_ticklabels(heatmap.xaxis.get_ticklabels(), rotation=45, ha='right', fontsize = 14)\n",
    "plt.ylabel('True label', fontsize = 14)\n",
    "plt.xlabel('Predicted label', fontsize = 14)"
   ]
  },
  {
   "cell_type": "code",
   "execution_count": 357,
   "metadata": {},
   "outputs": [
    {
     "data": {
      "image/png": "[encoded data removed]",
      "text/plain": [
       "<matplotlib.figure.Figure at 0x1997e37d2b0>"
      ]
     },
     "metadata": {},
     "output_type": "display_data"
    }
   ],
   "source": [
    "probs = randomForest.predict_proba(x_test)\n",
    "preds = probs[:,1]\n",
    "fpr, tpr, threshold = roc_curve(y_test, preds)\n",
    "roc_auc = auc(fpr, tpr)\n",
    "\n",
    "\n",
    "plt.title('Receiver Operating Characteristic')\n",
    "plt.plot(fpr, tpr, 'b', label = 'AUC = %0.2f' % roc_auc)\n",
    "plt.legend(loc = 'lower right')\n",
    "plt.plot([0, 1], [0, 1],'r--')\n",
    "plt.xlim([0, 1])\n",
    "plt.ylim([0, 1])\n",
    "plt.ylabel('True Positive Rate')\n",
    "plt.xlabel('False Positive Rate')\n",
    "plt.show()"
   ]
  },
  {
   "cell_type": "code",
   "execution_count": 358,
   "metadata": {},
   "outputs": [
    {
     "data": {
      "text/plain": [
       "Text(0.5,1,'2-class Precision-Recall curve: AP=0.76')"
      ]
     },
     "execution_count": 358,
     "metadata": {},
     "output_type": "execute_result"
    },
    {
     "data": {
      "image/png": "[encoded data removed]",
      "text/plain": [
       "<matplotlib.figure.Figure at 0x1997e3292b0>"
      ]
     },
     "metadata": {},
     "output_type": "display_data"
    }
   ],
   "source": [
    "average_precision = average_precision_score(y_test, preds)\n",
    "precision, recall, _ = precision_recall_curve(y_test, preds)\n",
    "plt.step(recall, precision, color='b', alpha=0.2, where='post')\n",
    "plt.fill_between(recall, precision, step='post', alpha=0.2, color='b')\n",
    "plt.xlabel('Recall')\n",
    "plt.ylabel('Precision')\n",
    "plt.ylim([0.0, 1.05])\n",
    "plt.xlim([0.0, 1.0])\n",
    "plt.title('2-class Precision-Recall curve: AP={0:0.2f}'.format(average_precision))"
   ]
  },
  {
   "cell_type": "code",
   "execution_count": 239,
   "metadata": {},
   "outputs": [
    {
     "name": "stdout",
     "output_type": "stream",
     "text": [
      "Feature ranking:\n",
      "1. feature 0 (0.311737)\n",
      "2. feature 2 (0.168411)\n",
      "3. feature 5 (0.125043)\n",
      "4. feature 3 (0.099548)\n",
      "5. feature 1 (0.088222)\n",
      "6. feature 4 (0.077083)\n",
      "7. feature 6 (0.053967)\n",
      "8. feature 7 (0.053676)\n",
      "9. feature 8 (0.019200)\n",
      "10. feature 9 (0.002225)\n",
      "11. feature 10 (0.000889)\n",
      "12. feature 12 (0.000000)\n",
      "13. feature 11 (0.000000)\n"
     ]
    },
    {
     "data": {
      "image/png": "[encoded data removed]",
      "text/plain": [
       "<matplotlib.figure.Figure at 0x19979423f28>"
      ]
     },
     "metadata": {},
     "output_type": "display_data"
    }
   ],
   "source": [
    "importances = randomForest.feature_importances_\n",
    "std = np.std([tree.feature_importances_ for tree in randomForest.estimators_],\n",
    "             axis=0)\n",
    "indices = np.argsort(importances)[::-1]\n",
    "\n",
    "# Print the feature ranking\n",
    "print(\"Feature ranking:\")\n",
    "\n",
    "for f in range(golden_x.shape[1]):\n",
    "    print(\"%d. feature %d (%f)\" % (f + 1, indices[f], importances[indices[f]]))\n",
    "\n",
    "# Plot the feature importances of the forest\n",
    "plt.figure()\n",
    "plt.title(\"Feature importances\")\n",
    "plt.bar(range(golden_x.shape[1]), importances[indices],\n",
    "       color=\"r\", yerr=std[indices], align=\"center\")\n",
    "plt.xticks(range(golden_x.shape[1]), indices)\n",
    "plt.xlim([-1, golden_x.shape[1]])\n",
    "plt.show()"
   ]
  },
  {
   "cell_type": "code",
   "execution_count": 352,
   "metadata": {
    "collapsed": true
   },
   "outputs": [],
   "source": [
    "clf = RandomForestClassifier(n_jobs=-1)\n",
    "\n",
    "param_grid = {\n",
    "    'min_samples_split': [3, 5, 10], \n",
    "    'n_estimators' : [100, 300],\n",
    "    'max_depth': [3, 5, 15, 25],\n",
    "    'max_features': [3, 5,8]\n",
    "}\n",
    "\n",
    "scorers = {\n",
    "    'precision_score': make_scorer(precision_score),\n",
    "    'recall_score': make_scorer(recall_score),\n",
    "    'accuracy_score': make_scorer(accuracy_score)\n",
    "}"
   ]
  },
  {
   "cell_type": "code",
   "execution_count": 353,
   "metadata": {
    "collapsed": true
   },
   "outputs": [],
   "source": [
    "def grid_search_wrapper(refit_score='precision_score'):\n",
    "    \"\"\"\n",
    "    fits a GridSearchCV classifier using refit_score for optimization\n",
    "    prints classifier performance metrics\n",
    "    \"\"\"\n",
    "    skf = StratifiedKFold(n_splits=5)\n",
    "    grid_search = GridSearchCV(clf, param_grid, scoring=scorers, refit=refit_score,\n",
    "                           cv=skf, return_train_score=True, n_jobs=-1)\n",
    "    grid_search.fit(x_train, y_train)\n",
    "\n",
    "    \n",
    "    y_pred = grid_search.predict(x_test)\n",
    "\n",
    "    print('Best params for {}'.format(refit_score))\n",
    "    print(grid_search.best_params_)\n",
    "\n",
    "    # confusion matrix on the test data.\n",
    "    print('\\nConfusion matrix of Random Forest optimized for {} on the test data:'.format(refit_score))\n",
    "    print(pd.DataFrame(confusion_matrix(y_test, y_pred),\n",
    "                 columns=['pred_neg', 'pred_pos'], index=['neg', 'pos']))\n",
    "    return grid_search"
   ]
  },
  {
   "cell_type": "code",
   "execution_count": 354,
   "metadata": {},
   "outputs": [
    {
     "name": "stdout",
     "output_type": "stream",
     "text": [
      "Best params for accuracy_score\n",
      "{'max_depth': 25, 'max_features': 5, 'min_samples_split': 5, 'n_estimators': 100}\n",
      "\n",
      "Confusion matrix of Random Forest optimized for accuracy_score on the test data:\n",
      "     pred_neg  pred_pos\n",
      "neg        71        21\n",
      "pos        26        65\n"
     ]
    }
   ],
   "source": [
    "grid_search_clf = grid_search_wrapper(refit_score='accuracy_score')"
   ]
  },
  {
   "cell_type": "code",
   "execution_count": 243,
   "metadata": {
    "collapsed": true
   },
   "outputs": [],
   "source": [
    "# test"
   ]
  },
  {
   "cell_type": "code",
   "execution_count": 359,
   "metadata": {},
   "outputs": [],
   "source": [
    "models = [{    'label': 'Logistic Regression',\n",
    "    'model': LogisticRegression(C=10, penalty='l1', class_weight='balanced'),\n",
    "},\n",
    "{    'label': 'RandomForest',\n",
    "    'model': RandomForestClassifier( max_depth=25, max_features=5, min_samples_split=5, n_estimators=100),\n",
    "},\n",
    "{    'label': 'SVC',\n",
    "    'model': svm.SVC(C=100,kernel='rbf',probability=True,gamma=0.001),\n",
    "},\n",
    "{    'label': 'Adaboost',\n",
    "    'model': AdaBoostClassifier(n_estimators=100,learning_rate=0.05,algorithm='SAMME'),\n",
    "} ]"
   ]
  },
  {
   "cell_type": "code",
   "execution_count": 360,
   "metadata": {},
   "outputs": [
    {
     "name": "stdout",
     "output_type": "stream",
     "text": [
      "Accuracy of Logistic Regression: 0.743 (0.030)\n",
      "Accuracy of RandomForest: 0.765 (0.020)\n",
      "Accuracy of SVC: 0.748 (0.038)\n",
      "Accuracy of Adaboost: 0.716 (0.025)\n"
     ]
    }
   ],
   "source": [
    "for m in models:\n",
    "    model = m['model'] # select the model\n",
    "    model.fit(x_train, y_train) # train the model\n",
    "    seed = 7\n",
    "    k_fold = KFold(n_splits=5, random_state=seed)\n",
    "    scoring = 'accuracy'\n",
    "    results=cross_val_score(model, x_test, y_test, cv=k_fold, n_jobs=1, scoring=scoring)\n",
    "    print(\"Accuracy of %s: %.3f (%.3f)\" % (m['label'],results.mean(), results.std()))"
   ]
  },
  {
   "cell_type": "code",
   "execution_count": 361,
   "metadata": {},
   "outputs": [
    {
     "data": {
      "image/png": "[encoded data removed]",
      "text/plain": [
       "<matplotlib.figure.Figure at 0x1997e5d5eb8>"
      ]
     },
     "metadata": {},
     "output_type": "display_data"
    }
   ],
   "source": [
    "plt.figure()\n",
    "\n",
    "# Below for loop iterates through your models list\n",
    "for m in models:\n",
    "    model = m['model'] # select the model\n",
    "    model.fit(x_train, y_train) # train the model\n",
    "    y_pred=model.predict(x_test) # predict the test data\n",
    "    probs = model.predict_proba(x_test)\n",
    "    preds = probs[:,1]\n",
    "    average_precision = average_precision_score(y_test, preds)\n",
    "    precision, recall, _ = precision_recall_curve(y_test, preds)\n",
    "    plt.step(recall, precision,  alpha=0.8, where='post',label='%s AP=%0.2f' % (m['label'], average_precision))\n",
    "    #plt.fill_between(recall, precision, step='post', alpha=0.2)\n",
    "\n",
    "# Custom settings for the plot \n",
    "plt.plot([0, 1], [0, 1],'r--')\n",
    "plt.xlim([0.0, 1.0])\n",
    "plt.ylim([0.0, 1.05])\n",
    "plt.xlabel('Recall')\n",
    "plt.ylabel('Precision')\n",
    "plt.title('Receiver Operating Characteristic')\n",
    "plt.legend(loc=\"lower right\")\n",
    "plt.show()   # Display"
   ]
  },
  {
   "cell_type": "code",
   "execution_count": 362,
   "metadata": {},
   "outputs": [
    {
     "data": {
      "image/png": "[encoded data removed]",
      "text/plain": [
       "<matplotlib.figure.Figure at 0x1997e57f2e8>"
      ]
     },
     "metadata": {},
     "output_type": "display_data"
    }
   ],
   "source": [
    "plt.figure()\n",
    "\n",
    "# Below for loop iterates through your models list\n",
    "for m in models:\n",
    "    model = m['model'] # select the model\n",
    "    model.fit(x_train, y_train) # train the model\n",
    "    y_pred=model.predict(x_test) # predict the test data\n",
    "# Compute False postive rate, and True positive rate\n",
    "    fpr, tpr, thresholds = roc_curve(y_test, model.predict_proba(x_test)[:,1])\n",
    "# Calculate Area under the curve to display on the plot\n",
    "    auc_ = roc_auc_score(y_test,model.predict(x_test))\n",
    "# Now, plot the computed values\n",
    "    plt.plot(fpr, tpr, label='%s ROC (area = %0.2f)' % (m['label'], auc_))\n",
    "# Custom settings for the plot \n",
    "plt.plot([0, 1], [0, 1],'r--')\n",
    "plt.xlim([0.0, 1.0])\n",
    "plt.ylim([0.0, 1.05])\n",
    "plt.xlabel('1-Specificity(False Positive Rate)')\n",
    "plt.ylabel('Sensitivity(True Positive Rate)')\n",
    "plt.title('Receiver Operating Characteristic')\n",
    "plt.legend(loc=\"lower right\")\n",
    "plt.show()   # Display"
   ]
  },
  {
   "cell_type": "code",
   "execution_count": null,
   "metadata": {
    "collapsed": true
   },
   "outputs": [],
   "source": []
  },
  {
   "cell_type": "code",
   "execution_count": null,
   "metadata": {
    "collapsed": true
   },
   "outputs": [],
   "source": []
  },
  {
   "cell_type": "code",
   "execution_count": null,
   "metadata": {
    "collapsed": true
   },
   "outputs": [],
   "source": []
  },
  {
   "cell_type": "code",
   "execution_count": null,
   "metadata": {
    "collapsed": true
   },
   "outputs": [],
   "source": []
  },
  {
   "cell_type": "markdown",
   "metadata": {},
   "source": [
    "\n",
    "seed = 7\n",
    "np.random.seed(seed)\n",
    "def create_baseline():\n",
    "    # create model\n",
    "    model=Sequential()\n",
    "    model.add(Dense(30, input_dim=10, kernel_initializer='normal', activation='relu'))\n",
    "    model.add(Dense(1, kernel_initializer='normal', activation='sigmoid'))\n",
    "    # Compile model\n",
    "    model.compile(loss='binary_crossentropy', optimizer='adam', metrics=['accuracy'])\n",
    "    return model"
   ]
  },
  {
   "cell_type": "markdown",
   "metadata": {},
   "source": [
    "estimator = KerasClassifier(build_fn=create_baseline, epochs=100, batch_size=5, verbose=0)\n",
    "kfold = StratifiedKFold(n_splits=10, shuffle=True, random_state=seed)\n",
    "results = cross_val_score(estimator, x_train, y_train, cv=kfold)\n",
    "print(\"Results: %.2f%% (%.2f%%)\" % (results.mean()*100, results.std()*100))"
   ]
  },
  {
   "cell_type": "markdown",
   "metadata": {},
   "source": [
    "np.random.seed(seed)\n",
    "estimators = []\n",
    "estimators.append(('mlp', KerasClassifier(build_fn=create_baseline, epochs=100, batch_size=5, verbose=0)))\n",
    "pipeline = Pipeline(estimators)\n",
    "kfold = StratifiedKFold(n_splits=10, shuffle=True, random_state=seed)\n",
    "results = cross_val_score(pipeline, x_train, y_train, cv=kfold)\n",
    "print(\"Standardized: %.2f%% (%.2f%%)\" % (results.mean()*100, results.std()*100))"
   ]
  },
  {
   "cell_type": "code",
   "execution_count": null,
   "metadata": {
    "collapsed": true
   },
   "outputs": [],
   "source": []
  }
 ],
 "metadata": {
  "kernelspec": {
   "display_name": "Python 3",
   "language": "python",
   "name": "python3"
  },
  "language_info": {
   "codemirror_mode": {
    "name": "ipython",
    "version": 3
   },
   "file_extension": ".py",
   "mimetype": "text/x-python",
   "name": "python",
   "nbconvert_exporter": "python",
   "pygments_lexer": "ipython3",
   "version": "3.6.3"
  }
 },
 "nbformat": 4,
 "nbformat_minor": 2
}
