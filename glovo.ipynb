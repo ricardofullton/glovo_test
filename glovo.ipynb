{
 "cells": [
  {
   "cell_type": "markdown",
   "metadata": {},
   "source": [
    "# Glovo Interview Ricardo Huarte"
   ]
  },
  {
   "cell_type": "code",
   "execution_count": 5528,
   "metadata": {},
   "outputs": [],
   "source": [
    "import pandas as pd\n",
    "import numpy as np\n",
    "import matplotlib.pyplot as plt\n",
    "import seaborn as sns\n",
    "import missingno as msno\n",
    "from fancyimpute import KNN    \n",
    "from sklearn.model_selection import train_test_split,cross_val_score, KFold, StratifiedKFold ,GridSearchCV, RandomizedSearchCV\n",
    "from sklearn.ensemble import RandomForestClassifier\n",
    "from scipy.stats import uniform\n",
    "from sklearn.preprocessing import StandardScaler,OneHotEncoder, LabelEncoder, Imputer\n",
    "from sklearn.linear_model import LogisticRegression\n",
    "from sklearn.metrics import confusion_matrix, classification_report, auc, roc_curve, precision_recall_curve, \\\n",
    "average_precision_score,make_scorer,recall_score, accuracy_score, precision_score\n",
    "from sklearn import svm\n",
    "from xgboost.sklearn import XGBClassifier  \n",
    "from xgboost.sklearn import XGBRegressor\n",
    "import warnings; warnings.simplefilter('ignore')\n",
    "from keras.models import Sequential\n",
    "from keras.layers import Dense\n",
    "from keras.wrappers.scikit_learn import KerasClassifier\n",
    "from sklearn.pipeline import Pipeline"
   ]
  },
  {
   "cell_type": "markdown",
   "metadata": {},
   "source": [
    "## About Data Set:\n",
    "You will find 2 .csv files attached to this task. 1 of the files consist of courier’s lifetime dependent features and other consist courier’s weekly variant features. Features are renamed for confidentiality purposes and data dictionary will NOT be provided. However, in 2 different .csv files, same courier ID represents same courier."
   ]
  },
  {
   "cell_type": "markdown",
   "metadata": {},
   "source": [
    "## Task 1: Exploratory Analysis and Data Munging"
   ]
  },
  {
   "cell_type": "markdown",
   "metadata": {},
   "source": [
    "In this task, you are being expected to clean data, treat missing values, find out related features and finally label the data.\n",
    "Every courier did not work every week. Thus, some of courier-week combinations’ data are not provided. First, come up with a way to treat these missing values. Removing missing values are not suggested since provided data set is small and it will affect your predictive model’s evaluation metric.\n",
    "Create a report / dashboard and correlation matrix, in addition to results of your univariate and bivariate analysis and explain your findings.\n",
    "Finally, label your data. If a specific courier’s week 9, 10 and 11 data is not provided, we label this courier as “1” otherwise “0”. After labeling, remove week 8(Yes including 8!), 9, 10 and 11 data to avoid bias in your next task. In addition, distribution of feature_3 is a hint how the data is generated."
   ]
  },
  {
   "cell_type": "code",
   "execution_count": 3542,
   "metadata": {},
   "outputs": [],
   "source": [
    "%matplotlib inline"
   ]
  },
  {
   "cell_type": "code",
   "execution_count": 3543,
   "metadata": {},
   "outputs": [],
   "source": [
    "weekly = pd.read_csv(filepath_or_buffer='Courier_weekly_data.csv')"
   ]
  },
  {
   "cell_type": "markdown",
   "metadata": {},
   "source": [
    "### Checking how many couriers worked on the given weeks"
   ]
  },
  {
   "cell_type": "code",
   "execution_count": 3545,
   "metadata": {},
   "outputs": [
    {
     "data": {
      "text/plain": [
       "387"
      ]
     },
     "execution_count": 3545,
     "metadata": {},
     "output_type": "execute_result"
    }
   ],
   "source": [
    "weekly[(weekly.week==11) | (weekly.week==10) | (weekly.week==9)]['courier'].drop_duplicates().count()"
   ]
  },
  {
   "cell_type": "code",
   "execution_count": 3546,
   "metadata": {},
   "outputs": [],
   "source": [
    "weeks=weekly.copy()"
   ]
  },
  {
   "cell_type": "code",
   "execution_count": 3547,
   "metadata": {},
   "outputs": [],
   "source": [
    "# function to create the label for the pertinent weeks\n",
    "def week_label(row):\n",
    "    courier_set=weekly[(weekly.courier==row['courier']) & ((weekly.week==9) | (weekly.week==10) |(weekly.week==11))]\n",
    "    if courier_set['courier'].count() == 0:\n",
    "        label=1\n",
    "    else: \n",
    "        label=0\n",
    "    return label"
   ]
  },
  {
   "cell_type": "code",
   "execution_count": 3548,
   "metadata": {},
   "outputs": [],
   "source": [
    "weeks['label']=weeks.apply(week_label, axis=1)\n",
    "# keeping only given weeks for prediction\n",
    "weeks=weeks[(weeks.week<8)]\n",
    "weeks.head(5)"
   ]
  },
  {
   "cell_type": "code",
   "execution_count": 3551,
   "metadata": {},
   "outputs": [
    {
     "data": {
      "text/html": [
       "<div>\n",
       "<style scoped>\n",
       "    .dataframe tbody tr th:only-of-type {\n",
       "        vertical-align: middle;\n",
       "    }\n",
       "\n",
       "    .dataframe tbody tr th {\n",
       "        vertical-align: top;\n",
       "    }\n",
       "\n",
       "    .dataframe thead th {\n",
       "        text-align: right;\n",
       "    }\n",
       "</style>\n",
       "<table border=\"1\" class=\"dataframe\">\n",
       "  <thead>\n",
       "    <tr style=\"text-align: right;\">\n",
       "      <th></th>\n",
       "      <th>courier</th>\n",
       "      <th>week</th>\n",
       "      <th>feature_1</th>\n",
       "      <th>feature_2</th>\n",
       "      <th>feature_3</th>\n",
       "      <th>feature_4</th>\n",
       "      <th>feature_5</th>\n",
       "      <th>feature_6</th>\n",
       "      <th>feature_7</th>\n",
       "      <th>feature_8</th>\n",
       "      <th>feature_9</th>\n",
       "      <th>feature_10</th>\n",
       "      <th>feature_11</th>\n",
       "      <th>feature_12</th>\n",
       "      <th>feature_13</th>\n",
       "      <th>feature_14</th>\n",
       "      <th>feature_15</th>\n",
       "      <th>feature_16</th>\n",
       "      <th>feature_17</th>\n",
       "      <th>label</th>\n",
       "    </tr>\n",
       "  </thead>\n",
       "  <tbody>\n",
       "    <tr>\n",
       "      <th>courier</th>\n",
       "      <td>1.000000</td>\n",
       "      <td>-0.015157</td>\n",
       "      <td>-0.014839</td>\n",
       "      <td>-0.295018</td>\n",
       "      <td>-0.122965</td>\n",
       "      <td>-0.136194</td>\n",
       "      <td>0.136195</td>\n",
       "      <td>-0.078332</td>\n",
       "      <td>-0.015384</td>\n",
       "      <td>-0.128688</td>\n",
       "      <td>0.036512</td>\n",
       "      <td>0.103324</td>\n",
       "      <td>-0.122534</td>\n",
       "      <td>0.058832</td>\n",
       "      <td>-0.049446</td>\n",
       "      <td>-0.032731</td>\n",
       "      <td>0.159460</td>\n",
       "      <td>0.010606</td>\n",
       "      <td>-0.003218</td>\n",
       "      <td>0.059304</td>\n",
       "    </tr>\n",
       "    <tr>\n",
       "      <th>week</th>\n",
       "      <td>-0.015157</td>\n",
       "      <td>1.000000</td>\n",
       "      <td>-0.039383</td>\n",
       "      <td>0.107051</td>\n",
       "      <td>0.099521</td>\n",
       "      <td>-0.041087</td>\n",
       "      <td>0.041089</td>\n",
       "      <td>-0.001975</td>\n",
       "      <td>-0.241091</td>\n",
       "      <td>-0.182970</td>\n",
       "      <td>0.189028</td>\n",
       "      <td>-0.059178</td>\n",
       "      <td>0.096278</td>\n",
       "      <td>-0.036670</td>\n",
       "      <td>-0.143469</td>\n",
       "      <td>0.128672</td>\n",
       "      <td>-0.166104</td>\n",
       "      <td>0.016260</td>\n",
       "      <td>-0.046736</td>\n",
       "      <td>-0.121221</td>\n",
       "    </tr>\n",
       "    <tr>\n",
       "      <th>feature_1</th>\n",
       "      <td>-0.014839</td>\n",
       "      <td>-0.039383</td>\n",
       "      <td>1.000000</td>\n",
       "      <td>-0.184446</td>\n",
       "      <td>-0.107637</td>\n",
       "      <td>-0.031917</td>\n",
       "      <td>0.031922</td>\n",
       "      <td>0.070689</td>\n",
       "      <td>0.064166</td>\n",
       "      <td>0.002230</td>\n",
       "      <td>0.074508</td>\n",
       "      <td>0.039383</td>\n",
       "      <td>-0.076708</td>\n",
       "      <td>-0.011538</td>\n",
       "      <td>-0.014918</td>\n",
       "      <td>0.075377</td>\n",
       "      <td>0.118299</td>\n",
       "      <td>-0.080792</td>\n",
       "      <td>-0.146044</td>\n",
       "      <td>-0.141484</td>\n",
       "    </tr>\n",
       "    <tr>\n",
       "      <th>feature_2</th>\n",
       "      <td>-0.295018</td>\n",
       "      <td>0.107051</td>\n",
       "      <td>-0.184446</td>\n",
       "      <td>1.000000</td>\n",
       "      <td>0.789734</td>\n",
       "      <td>0.204216</td>\n",
       "      <td>-0.204217</td>\n",
       "      <td>0.024098</td>\n",
       "      <td>-0.007325</td>\n",
       "      <td>0.148288</td>\n",
       "      <td>-0.151889</td>\n",
       "      <td>-0.147253</td>\n",
       "      <td>0.728876</td>\n",
       "      <td>-0.190415</td>\n",
       "      <td>0.027817</td>\n",
       "      <td>0.001587</td>\n",
       "      <td>-0.177244</td>\n",
       "      <td>0.431344</td>\n",
       "      <td>0.389612</td>\n",
       "      <td>-0.321570</td>\n",
       "    </tr>\n",
       "    <tr>\n",
       "      <th>feature_3</th>\n",
       "      <td>-0.122965</td>\n",
       "      <td>0.099521</td>\n",
       "      <td>-0.107637</td>\n",
       "      <td>0.789734</td>\n",
       "      <td>1.000000</td>\n",
       "      <td>0.172822</td>\n",
       "      <td>-0.172824</td>\n",
       "      <td>0.076154</td>\n",
       "      <td>0.022822</td>\n",
       "      <td>0.076955</td>\n",
       "      <td>-0.083210</td>\n",
       "      <td>-0.159738</td>\n",
       "      <td>0.877003</td>\n",
       "      <td>-0.184805</td>\n",
       "      <td>-0.037864</td>\n",
       "      <td>0.061767</td>\n",
       "      <td>0.301041</td>\n",
       "      <td>0.490255</td>\n",
       "      <td>0.411608</td>\n",
       "      <td>-0.395466</td>\n",
       "    </tr>\n",
       "    <tr>\n",
       "      <th>feature_4</th>\n",
       "      <td>-0.136194</td>\n",
       "      <td>-0.041087</td>\n",
       "      <td>-0.031917</td>\n",
       "      <td>0.204216</td>\n",
       "      <td>0.172822</td>\n",
       "      <td>1.000000</td>\n",
       "      <td>-1.000000</td>\n",
       "      <td>-0.121234</td>\n",
       "      <td>0.003779</td>\n",
       "      <td>0.217479</td>\n",
       "      <td>-0.630019</td>\n",
       "      <td>-0.234667</td>\n",
       "      <td>0.062843</td>\n",
       "      <td>-0.305215</td>\n",
       "      <td>0.066944</td>\n",
       "      <td>-0.434895</td>\n",
       "      <td>0.002686</td>\n",
       "      <td>0.047584</td>\n",
       "      <td>0.144664</td>\n",
       "      <td>-0.036159</td>\n",
       "    </tr>\n",
       "    <tr>\n",
       "      <th>feature_5</th>\n",
       "      <td>0.136195</td>\n",
       "      <td>0.041089</td>\n",
       "      <td>0.031922</td>\n",
       "      <td>-0.204217</td>\n",
       "      <td>-0.172824</td>\n",
       "      <td>-1.000000</td>\n",
       "      <td>1.000000</td>\n",
       "      <td>0.121234</td>\n",
       "      <td>-0.003778</td>\n",
       "      <td>-0.217481</td>\n",
       "      <td>0.630022</td>\n",
       "      <td>0.234670</td>\n",
       "      <td>-0.062844</td>\n",
       "      <td>0.305213</td>\n",
       "      <td>-0.066947</td>\n",
       "      <td>0.434899</td>\n",
       "      <td>-0.002686</td>\n",
       "      <td>-0.047586</td>\n",
       "      <td>-0.144666</td>\n",
       "      <td>0.036156</td>\n",
       "    </tr>\n",
       "    <tr>\n",
       "      <th>feature_6</th>\n",
       "      <td>-0.078332</td>\n",
       "      <td>-0.001975</td>\n",
       "      <td>0.070689</td>\n",
       "      <td>0.024098</td>\n",
       "      <td>0.076154</td>\n",
       "      <td>-0.121234</td>\n",
       "      <td>0.121234</td>\n",
       "      <td>1.000000</td>\n",
       "      <td>0.163850</td>\n",
       "      <td>-0.156730</td>\n",
       "      <td>0.188016</td>\n",
       "      <td>-0.038979</td>\n",
       "      <td>0.061189</td>\n",
       "      <td>0.019752</td>\n",
       "      <td>0.233384</td>\n",
       "      <td>0.158231</td>\n",
       "      <td>0.038158</td>\n",
       "      <td>0.022463</td>\n",
       "      <td>0.006640</td>\n",
       "      <td>-0.051626</td>\n",
       "    </tr>\n",
       "    <tr>\n",
       "      <th>feature_7</th>\n",
       "      <td>-0.015384</td>\n",
       "      <td>-0.241091</td>\n",
       "      <td>0.064166</td>\n",
       "      <td>-0.007325</td>\n",
       "      <td>0.022822</td>\n",
       "      <td>0.003779</td>\n",
       "      <td>-0.003778</td>\n",
       "      <td>0.163850</td>\n",
       "      <td>1.000000</td>\n",
       "      <td>0.113607</td>\n",
       "      <td>0.072526</td>\n",
       "      <td>-0.027542</td>\n",
       "      <td>0.004092</td>\n",
       "      <td>-0.014958</td>\n",
       "      <td>-0.032110</td>\n",
       "      <td>0.153089</td>\n",
       "      <td>0.179909</td>\n",
       "      <td>0.070922</td>\n",
       "      <td>-0.005763</td>\n",
       "      <td>-0.067344</td>\n",
       "    </tr>\n",
       "    <tr>\n",
       "      <th>feature_8</th>\n",
       "      <td>-0.128688</td>\n",
       "      <td>-0.182970</td>\n",
       "      <td>0.002230</td>\n",
       "      <td>0.148288</td>\n",
       "      <td>0.076955</td>\n",
       "      <td>0.217479</td>\n",
       "      <td>-0.217481</td>\n",
       "      <td>-0.156730</td>\n",
       "      <td>0.113607</td>\n",
       "      <td>1.000000</td>\n",
       "      <td>-0.162868</td>\n",
       "      <td>-0.105808</td>\n",
       "      <td>0.052372</td>\n",
       "      <td>0.007692</td>\n",
       "      <td>0.648861</td>\n",
       "      <td>-0.106252</td>\n",
       "      <td>0.140880</td>\n",
       "      <td>0.102029</td>\n",
       "      <td>0.064077</td>\n",
       "      <td>-0.002860</td>\n",
       "    </tr>\n",
       "    <tr>\n",
       "      <th>feature_9</th>\n",
       "      <td>0.036512</td>\n",
       "      <td>0.189028</td>\n",
       "      <td>0.074508</td>\n",
       "      <td>-0.151889</td>\n",
       "      <td>-0.083210</td>\n",
       "      <td>-0.630019</td>\n",
       "      <td>0.630022</td>\n",
       "      <td>0.188016</td>\n",
       "      <td>0.072526</td>\n",
       "      <td>-0.162868</td>\n",
       "      <td>1.000000</td>\n",
       "      <td>0.153079</td>\n",
       "      <td>-0.010982</td>\n",
       "      <td>0.120541</td>\n",
       "      <td>-0.284753</td>\n",
       "      <td>0.765442</td>\n",
       "      <td>0.067482</td>\n",
       "      <td>-0.046384</td>\n",
       "      <td>-0.288127</td>\n",
       "      <td>-0.049541</td>\n",
       "    </tr>\n",
       "    <tr>\n",
       "      <th>feature_10</th>\n",
       "      <td>0.103324</td>\n",
       "      <td>-0.059178</td>\n",
       "      <td>0.039383</td>\n",
       "      <td>-0.147253</td>\n",
       "      <td>-0.159738</td>\n",
       "      <td>-0.234667</td>\n",
       "      <td>0.234670</td>\n",
       "      <td>-0.038979</td>\n",
       "      <td>-0.027542</td>\n",
       "      <td>-0.105808</td>\n",
       "      <td>0.153079</td>\n",
       "      <td>1.000000</td>\n",
       "      <td>0.170322</td>\n",
       "      <td>0.212005</td>\n",
       "      <td>-0.016074</td>\n",
       "      <td>0.073766</td>\n",
       "      <td>0.110454</td>\n",
       "      <td>-0.063476</td>\n",
       "      <td>-0.114797</td>\n",
       "      <td>0.057385</td>\n",
       "    </tr>\n",
       "    <tr>\n",
       "      <th>feature_11</th>\n",
       "      <td>-0.122534</td>\n",
       "      <td>0.096278</td>\n",
       "      <td>-0.076708</td>\n",
       "      <td>0.728876</td>\n",
       "      <td>0.877003</td>\n",
       "      <td>0.062843</td>\n",
       "      <td>-0.062844</td>\n",
       "      <td>0.061189</td>\n",
       "      <td>0.004092</td>\n",
       "      <td>0.052372</td>\n",
       "      <td>-0.010982</td>\n",
       "      <td>0.170322</td>\n",
       "      <td>1.000000</td>\n",
       "      <td>-0.113767</td>\n",
       "      <td>-0.027213</td>\n",
       "      <td>0.093100</td>\n",
       "      <td>0.281379</td>\n",
       "      <td>0.440463</td>\n",
       "      <td>0.344470</td>\n",
       "      <td>-0.348101</td>\n",
       "    </tr>\n",
       "    <tr>\n",
       "      <th>feature_12</th>\n",
       "      <td>0.058832</td>\n",
       "      <td>-0.036670</td>\n",
       "      <td>-0.011538</td>\n",
       "      <td>-0.190415</td>\n",
       "      <td>-0.184805</td>\n",
       "      <td>-0.305215</td>\n",
       "      <td>0.305213</td>\n",
       "      <td>0.019752</td>\n",
       "      <td>-0.014958</td>\n",
       "      <td>0.007692</td>\n",
       "      <td>0.120541</td>\n",
       "      <td>0.212005</td>\n",
       "      <td>-0.113767</td>\n",
       "      <td>1.000000</td>\n",
       "      <td>0.179706</td>\n",
       "      <td>-0.059158</td>\n",
       "      <td>0.046343</td>\n",
       "      <td>-0.100909</td>\n",
       "      <td>-0.020130</td>\n",
       "      <td>0.090165</td>\n",
       "    </tr>\n",
       "    <tr>\n",
       "      <th>feature_13</th>\n",
       "      <td>-0.049446</td>\n",
       "      <td>-0.143469</td>\n",
       "      <td>-0.014918</td>\n",
       "      <td>0.027817</td>\n",
       "      <td>-0.037864</td>\n",
       "      <td>0.066944</td>\n",
       "      <td>-0.066947</td>\n",
       "      <td>0.233384</td>\n",
       "      <td>-0.032110</td>\n",
       "      <td>0.648861</td>\n",
       "      <td>-0.284753</td>\n",
       "      <td>-0.016074</td>\n",
       "      <td>-0.027213</td>\n",
       "      <td>0.179706</td>\n",
       "      <td>1.000000</td>\n",
       "      <td>-0.501420</td>\n",
       "      <td>0.049948</td>\n",
       "      <td>0.015759</td>\n",
       "      <td>0.214566</td>\n",
       "      <td>0.106744</td>\n",
       "    </tr>\n",
       "    <tr>\n",
       "      <th>feature_14</th>\n",
       "      <td>-0.032731</td>\n",
       "      <td>0.128672</td>\n",
       "      <td>0.075377</td>\n",
       "      <td>0.001587</td>\n",
       "      <td>0.061767</td>\n",
       "      <td>-0.434895</td>\n",
       "      <td>0.434899</td>\n",
       "      <td>0.158231</td>\n",
       "      <td>0.153089</td>\n",
       "      <td>-0.106252</td>\n",
       "      <td>0.765442</td>\n",
       "      <td>0.073766</td>\n",
       "      <td>0.093100</td>\n",
       "      <td>-0.059158</td>\n",
       "      <td>-0.501420</td>\n",
       "      <td>1.000000</td>\n",
       "      <td>0.085163</td>\n",
       "      <td>0.028801</td>\n",
       "      <td>-0.308108</td>\n",
       "      <td>-0.135798</td>\n",
       "    </tr>\n",
       "    <tr>\n",
       "      <th>feature_15</th>\n",
       "      <td>0.159460</td>\n",
       "      <td>-0.166104</td>\n",
       "      <td>0.118299</td>\n",
       "      <td>-0.177244</td>\n",
       "      <td>0.301041</td>\n",
       "      <td>0.002686</td>\n",
       "      <td>-0.002686</td>\n",
       "      <td>0.038158</td>\n",
       "      <td>0.179909</td>\n",
       "      <td>0.140880</td>\n",
       "      <td>0.067482</td>\n",
       "      <td>0.110454</td>\n",
       "      <td>0.281379</td>\n",
       "      <td>0.046343</td>\n",
       "      <td>0.049948</td>\n",
       "      <td>0.085163</td>\n",
       "      <td>1.000000</td>\n",
       "      <td>0.138127</td>\n",
       "      <td>0.033222</td>\n",
       "      <td>-0.121478</td>\n",
       "    </tr>\n",
       "    <tr>\n",
       "      <th>feature_16</th>\n",
       "      <td>0.010606</td>\n",
       "      <td>0.016260</td>\n",
       "      <td>-0.080792</td>\n",
       "      <td>0.431344</td>\n",
       "      <td>0.490255</td>\n",
       "      <td>0.047584</td>\n",
       "      <td>-0.047586</td>\n",
       "      <td>0.022463</td>\n",
       "      <td>0.070922</td>\n",
       "      <td>0.102029</td>\n",
       "      <td>-0.046384</td>\n",
       "      <td>-0.063476</td>\n",
       "      <td>0.440463</td>\n",
       "      <td>-0.100909</td>\n",
       "      <td>0.015759</td>\n",
       "      <td>0.028801</td>\n",
       "      <td>0.138127</td>\n",
       "      <td>1.000000</td>\n",
       "      <td>0.270584</td>\n",
       "      <td>-0.217639</td>\n",
       "    </tr>\n",
       "    <tr>\n",
       "      <th>feature_17</th>\n",
       "      <td>-0.003218</td>\n",
       "      <td>-0.046736</td>\n",
       "      <td>-0.146044</td>\n",
       "      <td>0.389612</td>\n",
       "      <td>0.411608</td>\n",
       "      <td>0.144664</td>\n",
       "      <td>-0.144666</td>\n",
       "      <td>0.006640</td>\n",
       "      <td>-0.005763</td>\n",
       "      <td>0.064077</td>\n",
       "      <td>-0.288127</td>\n",
       "      <td>-0.114797</td>\n",
       "      <td>0.344470</td>\n",
       "      <td>-0.020130</td>\n",
       "      <td>0.214566</td>\n",
       "      <td>-0.308108</td>\n",
       "      <td>0.033222</td>\n",
       "      <td>0.270584</td>\n",
       "      <td>1.000000</td>\n",
       "      <td>-0.122274</td>\n",
       "    </tr>\n",
       "    <tr>\n",
       "      <th>label</th>\n",
       "      <td>0.059304</td>\n",
       "      <td>-0.121221</td>\n",
       "      <td>-0.141484</td>\n",
       "      <td>-0.321570</td>\n",
       "      <td>-0.395466</td>\n",
       "      <td>-0.036159</td>\n",
       "      <td>0.036156</td>\n",
       "      <td>-0.051626</td>\n",
       "      <td>-0.067344</td>\n",
       "      <td>-0.002860</td>\n",
       "      <td>-0.049541</td>\n",
       "      <td>0.057385</td>\n",
       "      <td>-0.348101</td>\n",
       "      <td>0.090165</td>\n",
       "      <td>0.106744</td>\n",
       "      <td>-0.135798</td>\n",
       "      <td>-0.121478</td>\n",
       "      <td>-0.217639</td>\n",
       "      <td>-0.122274</td>\n",
       "      <td>1.000000</td>\n",
       "    </tr>\n",
       "  </tbody>\n",
       "</table>\n",
       "</div>"
      ],
      "text/plain": [
       "             courier      week  feature_1  feature_2  feature_3  feature_4  \\\n",
       "courier     1.000000 -0.015157  -0.014839  -0.295018  -0.122965  -0.136194   \n",
       "week       -0.015157  1.000000  -0.039383   0.107051   0.099521  -0.041087   \n",
       "feature_1  -0.014839 -0.039383   1.000000  -0.184446  -0.107637  -0.031917   \n",
       "feature_2  -0.295018  0.107051  -0.184446   1.000000   0.789734   0.204216   \n",
       "feature_3  -0.122965  0.099521  -0.107637   0.789734   1.000000   0.172822   \n",
       "feature_4  -0.136194 -0.041087  -0.031917   0.204216   0.172822   1.000000   \n",
       "feature_5   0.136195  0.041089   0.031922  -0.204217  -0.172824  -1.000000   \n",
       "feature_6  -0.078332 -0.001975   0.070689   0.024098   0.076154  -0.121234   \n",
       "feature_7  -0.015384 -0.241091   0.064166  -0.007325   0.022822   0.003779   \n",
       "feature_8  -0.128688 -0.182970   0.002230   0.148288   0.076955   0.217479   \n",
       "feature_9   0.036512  0.189028   0.074508  -0.151889  -0.083210  -0.630019   \n",
       "feature_10  0.103324 -0.059178   0.039383  -0.147253  -0.159738  -0.234667   \n",
       "feature_11 -0.122534  0.096278  -0.076708   0.728876   0.877003   0.062843   \n",
       "feature_12  0.058832 -0.036670  -0.011538  -0.190415  -0.184805  -0.305215   \n",
       "feature_13 -0.049446 -0.143469  -0.014918   0.027817  -0.037864   0.066944   \n",
       "feature_14 -0.032731  0.128672   0.075377   0.001587   0.061767  -0.434895   \n",
       "feature_15  0.159460 -0.166104   0.118299  -0.177244   0.301041   0.002686   \n",
       "feature_16  0.010606  0.016260  -0.080792   0.431344   0.490255   0.047584   \n",
       "feature_17 -0.003218 -0.046736  -0.146044   0.389612   0.411608   0.144664   \n",
       "label       0.059304 -0.121221  -0.141484  -0.321570  -0.395466  -0.036159   \n",
       "\n",
       "            feature_5  feature_6  feature_7  feature_8  feature_9  feature_10  \\\n",
       "courier      0.136195  -0.078332  -0.015384  -0.128688   0.036512    0.103324   \n",
       "week         0.041089  -0.001975  -0.241091  -0.182970   0.189028   -0.059178   \n",
       "feature_1    0.031922   0.070689   0.064166   0.002230   0.074508    0.039383   \n",
       "feature_2   -0.204217   0.024098  -0.007325   0.148288  -0.151889   -0.147253   \n",
       "feature_3   -0.172824   0.076154   0.022822   0.076955  -0.083210   -0.159738   \n",
       "feature_4   -1.000000  -0.121234   0.003779   0.217479  -0.630019   -0.234667   \n",
       "feature_5    1.000000   0.121234  -0.003778  -0.217481   0.630022    0.234670   \n",
       "feature_6    0.121234   1.000000   0.163850  -0.156730   0.188016   -0.038979   \n",
       "feature_7   -0.003778   0.163850   1.000000   0.113607   0.072526   -0.027542   \n",
       "feature_8   -0.217481  -0.156730   0.113607   1.000000  -0.162868   -0.105808   \n",
       "feature_9    0.630022   0.188016   0.072526  -0.162868   1.000000    0.153079   \n",
       "feature_10   0.234670  -0.038979  -0.027542  -0.105808   0.153079    1.000000   \n",
       "feature_11  -0.062844   0.061189   0.004092   0.052372  -0.010982    0.170322   \n",
       "feature_12   0.305213   0.019752  -0.014958   0.007692   0.120541    0.212005   \n",
       "feature_13  -0.066947   0.233384  -0.032110   0.648861  -0.284753   -0.016074   \n",
       "feature_14   0.434899   0.158231   0.153089  -0.106252   0.765442    0.073766   \n",
       "feature_15  -0.002686   0.038158   0.179909   0.140880   0.067482    0.110454   \n",
       "feature_16  -0.047586   0.022463   0.070922   0.102029  -0.046384   -0.063476   \n",
       "feature_17  -0.144666   0.006640  -0.005763   0.064077  -0.288127   -0.114797   \n",
       "label        0.036156  -0.051626  -0.067344  -0.002860  -0.049541    0.057385   \n",
       "\n",
       "            feature_11  feature_12  feature_13  feature_14  feature_15  \\\n",
       "courier      -0.122534    0.058832   -0.049446   -0.032731    0.159460   \n",
       "week          0.096278   -0.036670   -0.143469    0.128672   -0.166104   \n",
       "feature_1    -0.076708   -0.011538   -0.014918    0.075377    0.118299   \n",
       "feature_2     0.728876   -0.190415    0.027817    0.001587   -0.177244   \n",
       "feature_3     0.877003   -0.184805   -0.037864    0.061767    0.301041   \n",
       "feature_4     0.062843   -0.305215    0.066944   -0.434895    0.002686   \n",
       "feature_5    -0.062844    0.305213   -0.066947    0.434899   -0.002686   \n",
       "feature_6     0.061189    0.019752    0.233384    0.158231    0.038158   \n",
       "feature_7     0.004092   -0.014958   -0.032110    0.153089    0.179909   \n",
       "feature_8     0.052372    0.007692    0.648861   -0.106252    0.140880   \n",
       "feature_9    -0.010982    0.120541   -0.284753    0.765442    0.067482   \n",
       "feature_10    0.170322    0.212005   -0.016074    0.073766    0.110454   \n",
       "feature_11    1.000000   -0.113767   -0.027213    0.093100    0.281379   \n",
       "feature_12   -0.113767    1.000000    0.179706   -0.059158    0.046343   \n",
       "feature_13   -0.027213    0.179706    1.000000   -0.501420    0.049948   \n",
       "feature_14    0.093100   -0.059158   -0.501420    1.000000    0.085163   \n",
       "feature_15    0.281379    0.046343    0.049948    0.085163    1.000000   \n",
       "feature_16    0.440463   -0.100909    0.015759    0.028801    0.138127   \n",
       "feature_17    0.344470   -0.020130    0.214566   -0.308108    0.033222   \n",
       "label        -0.348101    0.090165    0.106744   -0.135798   -0.121478   \n",
       "\n",
       "            feature_16  feature_17     label  \n",
       "courier       0.010606   -0.003218  0.059304  \n",
       "week          0.016260   -0.046736 -0.121221  \n",
       "feature_1    -0.080792   -0.146044 -0.141484  \n",
       "feature_2     0.431344    0.389612 -0.321570  \n",
       "feature_3     0.490255    0.411608 -0.395466  \n",
       "feature_4     0.047584    0.144664 -0.036159  \n",
       "feature_5    -0.047586   -0.144666  0.036156  \n",
       "feature_6     0.022463    0.006640 -0.051626  \n",
       "feature_7     0.070922   -0.005763 -0.067344  \n",
       "feature_8     0.102029    0.064077 -0.002860  \n",
       "feature_9    -0.046384   -0.288127 -0.049541  \n",
       "feature_10   -0.063476   -0.114797  0.057385  \n",
       "feature_11    0.440463    0.344470 -0.348101  \n",
       "feature_12   -0.100909   -0.020130  0.090165  \n",
       "feature_13    0.015759    0.214566  0.106744  \n",
       "feature_14    0.028801   -0.308108 -0.135798  \n",
       "feature_15    0.138127    0.033222 -0.121478  \n",
       "feature_16    1.000000    0.270584 -0.217639  \n",
       "feature_17    0.270584    1.000000 -0.122274  \n",
       "label        -0.217639   -0.122274  1.000000  "
      ]
     },
     "execution_count": 3551,
     "metadata": {},
     "output_type": "execute_result"
    }
   ],
   "source": [
    "week_corr=weeks.corr()\n",
    "sns.heatmap(week_corr, vmax=1., square=False,cmap=\"RdYlBu\")"
   ]
  },
  {
   "cell_type": "code",
   "execution_count": 3553,
   "metadata": {},
   "outputs": [
    {
     "data": {
      "text/plain": [
       "(array([398., 596., 676., 608., 383., 226.,  89.,  34.,   9.,   6.]),\n",
       " array([  1. ,  19.3,  37.6,  55.9,  74.2,  92.5, 110.8, 129.1, 147.4,\n",
       "        165.7, 184. ]),\n",
       " <a list of 10 Patch objects>)"
      ]
     },
     "execution_count": 3553,
     "metadata": {},
     "output_type": "execute_result"
    },
    {
     "data": {
      "image/png": "[encoded data removed]",
      "text/plain": [
       "<Figure size 432x288 with 1 Axes>"
      ]
     },
     "metadata": {},
     "output_type": "display_data"
    }
   ],
   "source": [
    "plt.hist(weeks.feature_3,alpha=0.5,color='red')"
   ]
  },
  {
   "cell_type": "code",
   "execution_count": 3554,
   "metadata": {},
   "outputs": [
    {
     "data": {
      "text/plain": [
       "Text(0.5,1,'churned')"
      ]
     },
     "execution_count": 3554,
     "metadata": {},
     "output_type": "execute_result"
    },
    {
     "data": {
      "image/png": "[encoded data removed]",
      "text/plain": [
       "<Figure size 432x288 with 1 Axes>"
      ]
     },
     "metadata": {},
     "output_type": "display_data"
    }
   ],
   "source": [
    "#normalize histogram\n",
    "plt.hist(weeks[(weeks.label==1)].feature_3,alpha=0.5,color='red',density=1)\n",
    "plt.hist(weeks[(weeks.label==0)].feature_3,alpha=0.5,color='green',density=1)\n",
    "plt.title('churned')"
   ]
  },
  {
   "cell_type": "code",
   "execution_count": 3555,
   "metadata": {},
   "outputs": [],
   "source": [
    "# creating some functions for new features\n",
    "def max_consecutive(vector):\n",
    "    longest = 0\n",
    "    current = 0\n",
    "    for num in vector:\n",
    "        if num == 1:\n",
    "            current += 1\n",
    "        else:\n",
    "            longest = max(longest, current)\n",
    "            current = 0\n",
    "\n",
    "    return max(longest, current)\n",
    "def latest_streak(series):\n",
    "    week_vector=[0,0,0,0,0,0,0,0]\n",
    "    count=0\n",
    "    \n",
    "    for i in series:\n",
    "        week_vector[i]=1\n",
    "    reversed_week=list(reversed(week_vector))\n",
    "    for i in reversed_week:\n",
    "        if i==1:\n",
    "            count+=1\n",
    "        else: \n",
    "            break\n",
    "    return count\n",
    "def max_streak(series):\n",
    "    week_vector=[0,0,0,0,0,0,0,0]\n",
    "    \n",
    "    for i in series:\n",
    "        week_vector[i]=1\n",
    "    streak=max_consecutive(week_vector)\n",
    "    return streak\n",
    "def get_range(series):\n",
    "    return max(series)-min(series)\n",
    "def lifetime_mean(series):\n",
    "    return np.sum(series)/8\n"
   ]
  },
  {
   "cell_type": "code",
   "execution_count": 3557,
   "metadata": {},
   "outputs": [
    {
     "data": {
      "text/plain": [
       "6"
      ]
     },
     "execution_count": 3557,
     "metadata": {},
     "output_type": "execute_result"
    }
   ],
   "source": [
    "max_consecutive([0,1,1,1,0,0,1,0,1,1,1,1,1,1,0])"
   ]
  },
  {
   "cell_type": "markdown",
   "metadata": {},
   "source": [
    "# About dealing with the sparse week information\n",
    "### In order to have a dataset in the form of a vector per courier, I try with different aggregation methods along with defined new features that will give us information about the time sparsity\n",
    "### Week Count is just the amount of weeks that the courier worked\n",
    "### Week Max Streak is the number of maximum weeks in a row a courier worked\n",
    "### Week latest streak is the maximum number of weeks worked towards the end of the period, meaning from the 7th week backwards\n",
    "\n",
    "### Although for some features we apparently have integers instead of doubles, we will take the mean or the lifetime average (in this one we take the sum and divide by all 8 weeks), if data dictionary was provided then would be easier to choose how to deal with such features, otherwise, we will treat them the same"
   ]
  },
  {
   "cell_type": "markdown",
   "metadata": {},
   "source": [
    "## trying different aggregation methods on the data"
   ]
  },
  {
   "cell_type": "code",
   "execution_count": 5449,
   "metadata": {},
   "outputs": [],
   "source": [
    "aggreg=get_range\n",
    "aggreg='mean'\n",
    "#aggreg=lifetime_mean\n",
    "aggregname='mean'"
   ]
  },
  {
   "cell_type": "code",
   "execution_count": 5450,
   "metadata": {},
   "outputs": [],
   "source": [
    "gold=weeks.groupby(['courier','label'], as_index=False )\\\n",
    ".agg({'week':['count',  max_streak,latest_streak],\\\n",
    "              'feature_1':aggreg,\\\n",
    "               'feature_2':aggreg,'feature_3':aggreg\\\n",
    "      ,'feature_4':aggreg,'feature_5':aggreg\\\n",
    "      ,'feature_6':aggreg,'feature_7':aggreg\\\n",
    "      ,'feature_8':aggreg,'feature_9':aggreg\\\n",
    "      ,'feature_10':aggreg,'feature_11':aggreg\\\n",
    "     ,'feature_12':aggreg,'feature_13':aggreg\\\n",
    "     ,'feature_14':aggreg,'feature_15':aggreg\\\n",
    "     ,'feature_16':aggreg,'feature_17':aggreg})"
   ]
  },
  {
   "cell_type": "code",
   "execution_count": 5451,
   "metadata": {},
   "outputs": [
    {
     "data": {
      "text/html": [
       "<div>\n",
       "<style scoped>\n",
       "    .dataframe tbody tr th:only-of-type {\n",
       "        vertical-align: middle;\n",
       "    }\n",
       "\n",
       "    .dataframe tbody tr th {\n",
       "        vertical-align: top;\n",
       "    }\n",
       "\n",
       "    .dataframe thead tr th {\n",
       "        text-align: left;\n",
       "    }\n",
       "</style>\n",
       "<table border=\"1\" class=\"dataframe\">\n",
       "  <thead>\n",
       "    <tr>\n",
       "      <th></th>\n",
       "      <th>courier</th>\n",
       "      <th>label</th>\n",
       "      <th colspan=\"3\" halign=\"left\">week</th>\n",
       "      <th>feature_1</th>\n",
       "      <th>feature_2</th>\n",
       "      <th>feature_3</th>\n",
       "      <th>feature_4</th>\n",
       "      <th>feature_5</th>\n",
       "      <th>...</th>\n",
       "      <th>feature_8</th>\n",
       "      <th>feature_9</th>\n",
       "      <th>feature_10</th>\n",
       "      <th>feature_11</th>\n",
       "      <th>feature_12</th>\n",
       "      <th>feature_13</th>\n",
       "      <th>feature_14</th>\n",
       "      <th>feature_15</th>\n",
       "      <th>feature_16</th>\n",
       "      <th>feature_17</th>\n",
       "    </tr>\n",
       "    <tr>\n",
       "      <th></th>\n",
       "      <th></th>\n",
       "      <th></th>\n",
       "      <th>count</th>\n",
       "      <th>max_streak</th>\n",
       "      <th>latest_streak</th>\n",
       "      <th>mean</th>\n",
       "      <th>mean</th>\n",
       "      <th>mean</th>\n",
       "      <th>mean</th>\n",
       "      <th>mean</th>\n",
       "      <th>...</th>\n",
       "      <th>mean</th>\n",
       "      <th>mean</th>\n",
       "      <th>mean</th>\n",
       "      <th>mean</th>\n",
       "      <th>mean</th>\n",
       "      <th>mean</th>\n",
       "      <th>mean</th>\n",
       "      <th>mean</th>\n",
       "      <th>mean</th>\n",
       "      <th>mean</th>\n",
       "    </tr>\n",
       "  </thead>\n",
       "  <tbody>\n",
       "    <tr>\n",
       "      <th>1</th>\n",
       "      <td>6282</td>\n",
       "      <td>0</td>\n",
       "      <td>6</td>\n",
       "      <td>6</td>\n",
       "      <td>6</td>\n",
       "      <td>1.333333</td>\n",
       "      <td>36.666667</td>\n",
       "      <td>48.5</td>\n",
       "      <td>0.075517</td>\n",
       "      <td>0.924483</td>\n",
       "      <td>...</td>\n",
       "      <td>4300.18395</td>\n",
       "      <td>0.881117</td>\n",
       "      <td>8.317717</td>\n",
       "      <td>13.0</td>\n",
       "      <td>21.595879</td>\n",
       "      <td>5.379692</td>\n",
       "      <td>0.88055</td>\n",
       "      <td>72.957087</td>\n",
       "      <td>1.5</td>\n",
       "      <td>6.166667</td>\n",
       "    </tr>\n",
       "  </tbody>\n",
       "</table>\n",
       "<p>1 rows × 22 columns</p>\n",
       "</div>"
      ],
      "text/plain": [
       "  courier label  week                          feature_1  feature_2 feature_3  \\\n",
       "                count max_streak latest_streak      mean       mean      mean   \n",
       "1    6282     0     6          6             6  1.333333  36.666667      48.5   \n",
       "\n",
       "  feature_4 feature_5    ...       feature_8 feature_9 feature_10 feature_11  \\\n",
       "       mean      mean    ...            mean      mean       mean       mean   \n",
       "1  0.075517  0.924483    ...      4300.18395  0.881117   8.317717       13.0   \n",
       "\n",
       "  feature_12 feature_13 feature_14 feature_15 feature_16 feature_17  \n",
       "        mean       mean       mean       mean       mean       mean  \n",
       "1  21.595879   5.379692    0.88055  72.957087        1.5   6.166667  \n",
       "\n",
       "[1 rows x 22 columns]"
      ]
     },
     "execution_count": 5451,
     "metadata": {},
     "output_type": "execute_result"
    }
   ],
   "source": [
    "gold[(gold.courier==6282)]"
   ]
  },
  {
   "cell_type": "code",
   "execution_count": 5452,
   "metadata": {},
   "outputs": [],
   "source": [
    "gold.columns = [gold + i for gold, i in zip(gold.columns.get_level_values(0), gold.columns.get_level_values(1).astype(str))]\n",
    "golden_names=[w.replace(aggregname,'') for w in gold.columns.get_level_values(0)]\n",
    "gold.columns = golden_names\n",
    "gold=gold.rename(columns={'label':'y'})\n",
    "gold.set_index('courier', inplace=True)"
   ]
  },
  {
   "cell_type": "code",
   "execution_count": 5453,
   "metadata": {},
   "outputs": [],
   "source": [
    "#gold.columns = [gold  for gold in gold.columns.get_level_values(0)]"
   ]
  },
  {
   "cell_type": "code",
   "execution_count": 5454,
   "metadata": {
    "scrolled": false
   },
   "outputs": [
    {
     "data": {
      "text/plain": [
       "<matplotlib.axes._subplots.AxesSubplot at 0x1468626d2b0>"
      ]
     },
     "execution_count": 5454,
     "metadata": {},
     "output_type": "execute_result"
    },
    {
     "data": {
      "image/png": "[encoded data removed]",
      "text/plain": [
       "<Figure size 432x288 with 2 Axes>"
      ]
     },
     "metadata": {},
     "output_type": "display_data"
    }
   ],
   "source": [
    "gold_corr=gold.corr()\n",
    "sns.heatmap(gold_corr, vmax=1., square=False,cmap=\"RdYlBu\")"
   ]
  },
  {
   "cell_type": "code",
   "execution_count": 5455,
   "metadata": {},
   "outputs": [
    {
     "data": {
      "text/html": [
       "<div>\n",
       "<style scoped>\n",
       "    .dataframe tbody tr th:only-of-type {\n",
       "        vertical-align: middle;\n",
       "    }\n",
       "\n",
       "    .dataframe tbody tr th {\n",
       "        vertical-align: top;\n",
       "    }\n",
       "\n",
       "    .dataframe thead th {\n",
       "        text-align: right;\n",
       "    }\n",
       "</style>\n",
       "<table border=\"1\" class=\"dataframe\">\n",
       "  <thead>\n",
       "    <tr style=\"text-align: right;\">\n",
       "      <th></th>\n",
       "      <th>y</th>\n",
       "      <th>weekcount</th>\n",
       "      <th>weekmax_streak</th>\n",
       "      <th>weeklatest_streak</th>\n",
       "      <th>feature_1</th>\n",
       "      <th>feature_2</th>\n",
       "      <th>feature_3</th>\n",
       "      <th>feature_4</th>\n",
       "      <th>feature_5</th>\n",
       "      <th>feature_6</th>\n",
       "      <th>...</th>\n",
       "      <th>feature_8</th>\n",
       "      <th>feature_9</th>\n",
       "      <th>feature_10</th>\n",
       "      <th>feature_11</th>\n",
       "      <th>feature_12</th>\n",
       "      <th>feature_13</th>\n",
       "      <th>feature_14</th>\n",
       "      <th>feature_15</th>\n",
       "      <th>feature_16</th>\n",
       "      <th>feature_17</th>\n",
       "    </tr>\n",
       "    <tr>\n",
       "      <th>courier</th>\n",
       "      <th></th>\n",
       "      <th></th>\n",
       "      <th></th>\n",
       "      <th></th>\n",
       "      <th></th>\n",
       "      <th></th>\n",
       "      <th></th>\n",
       "      <th></th>\n",
       "      <th></th>\n",
       "      <th></th>\n",
       "      <th></th>\n",
       "      <th></th>\n",
       "      <th></th>\n",
       "      <th></th>\n",
       "      <th></th>\n",
       "      <th></th>\n",
       "      <th></th>\n",
       "      <th></th>\n",
       "      <th></th>\n",
       "      <th></th>\n",
       "      <th></th>\n",
       "    </tr>\n",
       "  </thead>\n",
       "  <tbody>\n",
       "    <tr>\n",
       "      <th>3767</th>\n",
       "      <td>1</td>\n",
       "      <td>4</td>\n",
       "      <td>3</td>\n",
       "      <td>0</td>\n",
       "      <td>1.750000</td>\n",
       "      <td>45.500000</td>\n",
       "      <td>46.0</td>\n",
       "      <td>0.040700</td>\n",
       "      <td>0.959300</td>\n",
       "      <td>131.82820</td>\n",
       "      <td>...</td>\n",
       "      <td>2107.008875</td>\n",
       "      <td>0.853000</td>\n",
       "      <td>8.413307</td>\n",
       "      <td>19.0</td>\n",
       "      <td>19.062094</td>\n",
       "      <td>5.192193</td>\n",
       "      <td>0.85645</td>\n",
       "      <td>36.042781</td>\n",
       "      <td>1.5</td>\n",
       "      <td>17.500000</td>\n",
       "    </tr>\n",
       "    <tr>\n",
       "      <th>6282</th>\n",
       "      <td>0</td>\n",
       "      <td>6</td>\n",
       "      <td>6</td>\n",
       "      <td>6</td>\n",
       "      <td>1.333333</td>\n",
       "      <td>36.666667</td>\n",
       "      <td>48.5</td>\n",
       "      <td>0.075517</td>\n",
       "      <td>0.924483</td>\n",
       "      <td>111.29100</td>\n",
       "      <td>...</td>\n",
       "      <td>4300.183950</td>\n",
       "      <td>0.881117</td>\n",
       "      <td>8.317717</td>\n",
       "      <td>13.0</td>\n",
       "      <td>21.595879</td>\n",
       "      <td>5.379692</td>\n",
       "      <td>0.88055</td>\n",
       "      <td>72.957087</td>\n",
       "      <td>1.5</td>\n",
       "      <td>6.166667</td>\n",
       "    </tr>\n",
       "    <tr>\n",
       "      <th>10622</th>\n",
       "      <td>1</td>\n",
       "      <td>2</td>\n",
       "      <td>2</td>\n",
       "      <td>0</td>\n",
       "      <td>-3.500000</td>\n",
       "      <td>84.500000</td>\n",
       "      <td>54.0</td>\n",
       "      <td>0.119050</td>\n",
       "      <td>0.880950</td>\n",
       "      <td>100.15875</td>\n",
       "      <td>...</td>\n",
       "      <td>2576.890500</td>\n",
       "      <td>0.623800</td>\n",
       "      <td>10.199895</td>\n",
       "      <td>20.5</td>\n",
       "      <td>21.568016</td>\n",
       "      <td>4.179873</td>\n",
       "      <td>0.66030</td>\n",
       "      <td>35.646190</td>\n",
       "      <td>2.5</td>\n",
       "      <td>15.500000</td>\n",
       "    </tr>\n",
       "  </tbody>\n",
       "</table>\n",
       "<p>3 rows × 21 columns</p>\n",
       "</div>"
      ],
      "text/plain": [
       "         y  weekcount  weekmax_streak  weeklatest_streak  feature_1  \\\n",
       "courier                                                               \n",
       "3767     1          4               3                  0   1.750000   \n",
       "6282     0          6               6                  6   1.333333   \n",
       "10622    1          2               2                  0  -3.500000   \n",
       "\n",
       "         feature_2  feature_3  feature_4  feature_5  feature_6     ...      \\\n",
       "courier                                                            ...       \n",
       "3767     45.500000       46.0   0.040700   0.959300  131.82820     ...       \n",
       "6282     36.666667       48.5   0.075517   0.924483  111.29100     ...       \n",
       "10622    84.500000       54.0   0.119050   0.880950  100.15875     ...       \n",
       "\n",
       "           feature_8  feature_9  feature_10  feature_11  feature_12  \\\n",
       "courier                                                               \n",
       "3767     2107.008875   0.853000    8.413307        19.0   19.062094   \n",
       "6282     4300.183950   0.881117    8.317717        13.0   21.595879   \n",
       "10622    2576.890500   0.623800   10.199895        20.5   21.568016   \n",
       "\n",
       "         feature_13  feature_14  feature_15  feature_16  feature_17  \n",
       "courier                                                              \n",
       "3767       5.192193     0.85645   36.042781         1.5   17.500000  \n",
       "6282       5.379692     0.88055   72.957087         1.5    6.166667  \n",
       "10622      4.179873     0.66030   35.646190         2.5   15.500000  \n",
       "\n",
       "[3 rows x 21 columns]"
      ]
     },
     "execution_count": 5455,
     "metadata": {},
     "output_type": "execute_result"
    }
   ],
   "source": [
    "gold.head(3)"
   ]
  },
  {
   "cell_type": "code",
   "execution_count": 5456,
   "metadata": {},
   "outputs": [
    {
     "data": {
      "text/plain": [
       "Text(0.5,1,'churned')"
      ]
     },
     "execution_count": 5456,
     "metadata": {},
     "output_type": "execute_result"
    },
    {
     "data": {
      "image/png": "[encoded data removed]",
      "text/plain": [
       "<Figure size 432x288 with 1 Axes>"
      ]
     },
     "metadata": {},
     "output_type": "display_data"
    }
   ],
   "source": [
    "plt.hist(gold[(gold.y==1)].feature_11,alpha=0.5,color='red',density=1)\n",
    "plt.hist(gold[(gold.y==0)].feature_11,alpha=0.5,color='yellow',density=1)\n",
    "plt.title('churned')"
   ]
  },
  {
   "cell_type": "markdown",
   "metadata": {},
   "source": [
    "plt.hist(gold[(gold.y==1)].weekmax_streak,alpha=0.5,color='red',density=1)\n",
    "plt.hist(gold[(gold.y==0)].weekmax_streak,alpha=0.5,color='yellow',density=1)\n",
    "plt.title('churned')"
   ]
  },
  {
   "cell_type": "markdown",
   "metadata": {},
   "source": [
    "#### There seems to be a difference between the distribution  of feature 2. 3. and 11 per class"
   ]
  },
  {
   "cell_type": "code",
   "execution_count": 5457,
   "metadata": {},
   "outputs": [
    {
     "data": {
      "text/html": [
       "<div>\n",
       "<style scoped>\n",
       "    .dataframe tbody tr th:only-of-type {\n",
       "        vertical-align: middle;\n",
       "    }\n",
       "\n",
       "    .dataframe tbody tr th {\n",
       "        vertical-align: top;\n",
       "    }\n",
       "\n",
       "    .dataframe thead th {\n",
       "        text-align: right;\n",
       "    }\n",
       "</style>\n",
       "<table border=\"1\" class=\"dataframe\">\n",
       "  <thead>\n",
       "    <tr style=\"text-align: right;\">\n",
       "      <th></th>\n",
       "      <th>y</th>\n",
       "      <th>weekcount</th>\n",
       "      <th>weekmax_streak</th>\n",
       "      <th>weeklatest_streak</th>\n",
       "      <th>feature_1</th>\n",
       "      <th>feature_2</th>\n",
       "      <th>feature_3</th>\n",
       "      <th>feature_4</th>\n",
       "      <th>feature_5</th>\n",
       "      <th>feature_6</th>\n",
       "      <th>...</th>\n",
       "      <th>feature_8</th>\n",
       "      <th>feature_9</th>\n",
       "      <th>feature_10</th>\n",
       "      <th>feature_11</th>\n",
       "      <th>feature_12</th>\n",
       "      <th>feature_13</th>\n",
       "      <th>feature_14</th>\n",
       "      <th>feature_15</th>\n",
       "      <th>feature_16</th>\n",
       "      <th>feature_17</th>\n",
       "    </tr>\n",
       "    <tr>\n",
       "      <th>courier</th>\n",
       "      <th></th>\n",
       "      <th></th>\n",
       "      <th></th>\n",
       "      <th></th>\n",
       "      <th></th>\n",
       "      <th></th>\n",
       "      <th></th>\n",
       "      <th></th>\n",
       "      <th></th>\n",
       "      <th></th>\n",
       "      <th></th>\n",
       "      <th></th>\n",
       "      <th></th>\n",
       "      <th></th>\n",
       "      <th></th>\n",
       "      <th></th>\n",
       "      <th></th>\n",
       "      <th></th>\n",
       "      <th></th>\n",
       "      <th></th>\n",
       "      <th></th>\n",
       "    </tr>\n",
       "  </thead>\n",
       "  <tbody>\n",
       "    <tr>\n",
       "      <th>3767</th>\n",
       "      <td>1</td>\n",
       "      <td>4</td>\n",
       "      <td>3</td>\n",
       "      <td>0</td>\n",
       "      <td>1.750000</td>\n",
       "      <td>45.500000</td>\n",
       "      <td>46.000</td>\n",
       "      <td>0.040700</td>\n",
       "      <td>0.959300</td>\n",
       "      <td>131.82820</td>\n",
       "      <td>...</td>\n",
       "      <td>2107.008875</td>\n",
       "      <td>0.853000</td>\n",
       "      <td>8.413307</td>\n",
       "      <td>19.000</td>\n",
       "      <td>19.062094</td>\n",
       "      <td>5.192193</td>\n",
       "      <td>0.856450</td>\n",
       "      <td>36.042781</td>\n",
       "      <td>1.5</td>\n",
       "      <td>17.500000</td>\n",
       "    </tr>\n",
       "    <tr>\n",
       "      <th>6282</th>\n",
       "      <td>0</td>\n",
       "      <td>6</td>\n",
       "      <td>6</td>\n",
       "      <td>6</td>\n",
       "      <td>1.333333</td>\n",
       "      <td>36.666667</td>\n",
       "      <td>48.500</td>\n",
       "      <td>0.075517</td>\n",
       "      <td>0.924483</td>\n",
       "      <td>111.29100</td>\n",
       "      <td>...</td>\n",
       "      <td>4300.183950</td>\n",
       "      <td>0.881117</td>\n",
       "      <td>8.317717</td>\n",
       "      <td>13.000</td>\n",
       "      <td>21.595879</td>\n",
       "      <td>5.379692</td>\n",
       "      <td>0.880550</td>\n",
       "      <td>72.957087</td>\n",
       "      <td>1.5</td>\n",
       "      <td>6.166667</td>\n",
       "    </tr>\n",
       "    <tr>\n",
       "      <th>10622</th>\n",
       "      <td>1</td>\n",
       "      <td>2</td>\n",
       "      <td>2</td>\n",
       "      <td>0</td>\n",
       "      <td>-3.500000</td>\n",
       "      <td>84.500000</td>\n",
       "      <td>54.000</td>\n",
       "      <td>0.119050</td>\n",
       "      <td>0.880950</td>\n",
       "      <td>100.15875</td>\n",
       "      <td>...</td>\n",
       "      <td>2576.890500</td>\n",
       "      <td>0.623800</td>\n",
       "      <td>10.199895</td>\n",
       "      <td>20.500</td>\n",
       "      <td>21.568016</td>\n",
       "      <td>4.179873</td>\n",
       "      <td>0.660300</td>\n",
       "      <td>35.646190</td>\n",
       "      <td>2.5</td>\n",
       "      <td>15.500000</td>\n",
       "    </tr>\n",
       "    <tr>\n",
       "      <th>13096</th>\n",
       "      <td>0</td>\n",
       "      <td>2</td>\n",
       "      <td>2</td>\n",
       "      <td>0</td>\n",
       "      <td>0.000000</td>\n",
       "      <td>59.000000</td>\n",
       "      <td>89.500</td>\n",
       "      <td>0.161600</td>\n",
       "      <td>0.838400</td>\n",
       "      <td>104.29600</td>\n",
       "      <td>...</td>\n",
       "      <td>4590.275250</td>\n",
       "      <td>0.686000</td>\n",
       "      <td>9.630672</td>\n",
       "      <td>34.500</td>\n",
       "      <td>17.902412</td>\n",
       "      <td>5.166684</td>\n",
       "      <td>0.720300</td>\n",
       "      <td>84.347978</td>\n",
       "      <td>3.0</td>\n",
       "      <td>19.000000</td>\n",
       "    </tr>\n",
       "    <tr>\n",
       "      <th>14261</th>\n",
       "      <td>1</td>\n",
       "      <td>8</td>\n",
       "      <td>8</td>\n",
       "      <td>8</td>\n",
       "      <td>-3.625000</td>\n",
       "      <td>75.500000</td>\n",
       "      <td>70.875</td>\n",
       "      <td>0.018425</td>\n",
       "      <td>0.981575</td>\n",
       "      <td>115.62990</td>\n",
       "      <td>...</td>\n",
       "      <td>3870.750225</td>\n",
       "      <td>0.892537</td>\n",
       "      <td>10.001638</td>\n",
       "      <td>34.875</td>\n",
       "      <td>21.166889</td>\n",
       "      <td>5.433909</td>\n",
       "      <td>0.900662</td>\n",
       "      <td>49.311612</td>\n",
       "      <td>2.5</td>\n",
       "      <td>6.750000</td>\n",
       "    </tr>\n",
       "  </tbody>\n",
       "</table>\n",
       "<p>5 rows × 21 columns</p>\n",
       "</div>"
      ],
      "text/plain": [
       "         y  weekcount  weekmax_streak  weeklatest_streak  feature_1  \\\n",
       "courier                                                               \n",
       "3767     1          4               3                  0   1.750000   \n",
       "6282     0          6               6                  6   1.333333   \n",
       "10622    1          2               2                  0  -3.500000   \n",
       "13096    0          2               2                  0   0.000000   \n",
       "14261    1          8               8                  8  -3.625000   \n",
       "\n",
       "         feature_2  feature_3  feature_4  feature_5  feature_6     ...      \\\n",
       "courier                                                            ...       \n",
       "3767     45.500000     46.000   0.040700   0.959300  131.82820     ...       \n",
       "6282     36.666667     48.500   0.075517   0.924483  111.29100     ...       \n",
       "10622    84.500000     54.000   0.119050   0.880950  100.15875     ...       \n",
       "13096    59.000000     89.500   0.161600   0.838400  104.29600     ...       \n",
       "14261    75.500000     70.875   0.018425   0.981575  115.62990     ...       \n",
       "\n",
       "           feature_8  feature_9  feature_10  feature_11  feature_12  \\\n",
       "courier                                                               \n",
       "3767     2107.008875   0.853000    8.413307      19.000   19.062094   \n",
       "6282     4300.183950   0.881117    8.317717      13.000   21.595879   \n",
       "10622    2576.890500   0.623800   10.199895      20.500   21.568016   \n",
       "13096    4590.275250   0.686000    9.630672      34.500   17.902412   \n",
       "14261    3870.750225   0.892537   10.001638      34.875   21.166889   \n",
       "\n",
       "         feature_13  feature_14  feature_15  feature_16  feature_17  \n",
       "courier                                                              \n",
       "3767       5.192193    0.856450   36.042781         1.5   17.500000  \n",
       "6282       5.379692    0.880550   72.957087         1.5    6.166667  \n",
       "10622      4.179873    0.660300   35.646190         2.5   15.500000  \n",
       "13096      5.166684    0.720300   84.347978         3.0   19.000000  \n",
       "14261      5.433909    0.900662   49.311612         2.5    6.750000  \n",
       "\n",
       "[5 rows x 21 columns]"
      ]
     },
     "execution_count": 5457,
     "metadata": {},
     "output_type": "execute_result"
    }
   ],
   "source": [
    "gold.head()"
   ]
  },
  {
   "cell_type": "code",
   "execution_count": 5458,
   "metadata": {},
   "outputs": [
    {
     "data": {
      "text/plain": [
       "<matplotlib.axes._subplots.AxesSubplot at 0x146863d0fd0>"
      ]
     },
     "execution_count": 5458,
     "metadata": {},
     "output_type": "execute_result"
    },
    {
     "data": {
      "image/png": "[encoded data removed]",
      "text/plain": [
       "<Figure size 432x288 with 2 Axes>"
      ]
     },
     "metadata": {},
     "output_type": "display_data"
    }
   ],
   "source": [
    "sns.heatmap(gold_corr, vmax=1., square=False,cmap=\"RdYlBu\")"
   ]
  },
  {
   "cell_type": "code",
   "execution_count": 5459,
   "metadata": {
    "scrolled": false
   },
   "outputs": [],
   "source": [
    "#sns.pairplot(gold, hue='y')"
   ]
  },
  {
   "cell_type": "code",
   "execution_count": 5460,
   "metadata": {},
   "outputs": [],
   "source": [
    "#gold=gold[['y','weekcount','weekmax_streak','weeklatest_streak','feature_5','feature_6','feature_9','feature_10','feature_12','feature_13','feature_14','feature_15']]"
   ]
  },
  {
   "cell_type": "code",
   "execution_count": 5461,
   "metadata": {},
   "outputs": [],
   "source": [
    "gold=gold[['y','weekcount','weekmax_streak','weeklatest_streak','feature_1','feature_2','feature_3','feature_11','feature_16']]"
   ]
  },
  {
   "cell_type": "code",
   "execution_count": 5462,
   "metadata": {},
   "outputs": [],
   "source": [
    "# After running several test with multiple features and after having almost the same accuracy and after looking at the distribution of the features per class and looking at the feature correlation I chose to go with feature 2 and 3 "
   ]
  },
  {
   "cell_type": "code",
   "execution_count": 5463,
   "metadata": {},
   "outputs": [],
   "source": [
    "#gold=gold[['y','weekcount','weekmax_streak','weeklatest_streak','feature_3','feature_2']]"
   ]
  },
  {
   "cell_type": "markdown",
   "metadata": {
    "collapsed": true
   },
   "source": [
    "## Bringing lifetime info into the mix"
   ]
  },
  {
   "cell_type": "code",
   "execution_count": 5464,
   "metadata": {},
   "outputs": [],
   "source": [
    "#adding lifetime info\n",
    "lifetime = pd.read_csv(filepath_or_buffer='Courier_lifetime_data.csv')\n"
   ]
  },
  {
   "cell_type": "code",
   "execution_count": 5465,
   "metadata": {},
   "outputs": [
    {
     "data": {
      "text/html": [
       "<div>\n",
       "<style scoped>\n",
       "    .dataframe tbody tr th:only-of-type {\n",
       "        vertical-align: middle;\n",
       "    }\n",
       "\n",
       "    .dataframe tbody tr th {\n",
       "        vertical-align: top;\n",
       "    }\n",
       "\n",
       "    .dataframe thead th {\n",
       "        text-align: right;\n",
       "    }\n",
       "</style>\n",
       "<table border=\"1\" class=\"dataframe\">\n",
       "  <thead>\n",
       "    <tr style=\"text-align: right;\">\n",
       "      <th></th>\n",
       "      <th>courier</th>\n",
       "      <th>feature_1</th>\n",
       "      <th>feature_2</th>\n",
       "    </tr>\n",
       "  </thead>\n",
       "  <tbody>\n",
       "    <tr>\n",
       "      <th>0</th>\n",
       "      <td>208</td>\n",
       "      <td>a</td>\n",
       "      <td>25.0</td>\n",
       "    </tr>\n",
       "    <tr>\n",
       "      <th>1</th>\n",
       "      <td>218</td>\n",
       "      <td>c</td>\n",
       "      <td>0.0</td>\n",
       "    </tr>\n",
       "    <tr>\n",
       "      <th>2</th>\n",
       "      <td>225</td>\n",
       "      <td>c</td>\n",
       "      <td>NaN</td>\n",
       "    </tr>\n",
       "    <tr>\n",
       "      <th>3</th>\n",
       "      <td>231</td>\n",
       "      <td>c</td>\n",
       "      <td>0.0</td>\n",
       "    </tr>\n",
       "    <tr>\n",
       "      <th>4</th>\n",
       "      <td>242</td>\n",
       "      <td>c</td>\n",
       "      <td>NaN</td>\n",
       "    </tr>\n",
       "  </tbody>\n",
       "</table>\n",
       "</div>"
      ],
      "text/plain": [
       "   courier feature_1  feature_2\n",
       "0      208         a       25.0\n",
       "1      218         c        0.0\n",
       "2      225         c        NaN\n",
       "3      231         c        0.0\n",
       "4      242         c        NaN"
      ]
     },
     "execution_count": 5465,
     "metadata": {},
     "output_type": "execute_result"
    }
   ],
   "source": [
    "lifetime.head()"
   ]
  },
  {
   "cell_type": "code",
   "execution_count": 5466,
   "metadata": {},
   "outputs": [],
   "source": [
    "lifetime.rename(columns={'feature_1':'lifetime_feature_1','feature_2':'lifetime_feature_2'}, inplace=True)"
   ]
  },
  {
   "cell_type": "code",
   "execution_count": 5467,
   "metadata": {},
   "outputs": [],
   "source": [
    "gen_le = LabelEncoder()\n",
    "gen_labels = gen_le.fit_transform(lifetime['lifetime_feature_1'])\n",
    "lifetime['lifetime_feature_1'] = gen_labels"
   ]
  },
  {
   "cell_type": "code",
   "execution_count": 5468,
   "metadata": {},
   "outputs": [],
   "source": [
    "lifetime_encoded= pd.get_dummies(lifetime, columns=['lifetime_feature_1'])"
   ]
  },
  {
   "cell_type": "code",
   "execution_count": 5469,
   "metadata": {},
   "outputs": [],
   "source": [
    "lifetime_encoded=lifetime.copy()"
   ]
  },
  {
   "cell_type": "code",
   "execution_count": 5470,
   "metadata": {},
   "outputs": [],
   "source": [
    "lifetime_encoded.set_index('courier', inplace=True)"
   ]
  },
  {
   "cell_type": "code",
   "execution_count": 5471,
   "metadata": {},
   "outputs": [
    {
     "data": {
      "text/html": [
       "<div>\n",
       "<style scoped>\n",
       "    .dataframe tbody tr th:only-of-type {\n",
       "        vertical-align: middle;\n",
       "    }\n",
       "\n",
       "    .dataframe tbody tr th {\n",
       "        vertical-align: top;\n",
       "    }\n",
       "\n",
       "    .dataframe thead th {\n",
       "        text-align: right;\n",
       "    }\n",
       "</style>\n",
       "<table border=\"1\" class=\"dataframe\">\n",
       "  <thead>\n",
       "    <tr style=\"text-align: right;\">\n",
       "      <th></th>\n",
       "      <th>lifetime_feature_1</th>\n",
       "      <th>lifetime_feature_2</th>\n",
       "    </tr>\n",
       "    <tr>\n",
       "      <th>courier</th>\n",
       "      <th></th>\n",
       "      <th></th>\n",
       "    </tr>\n",
       "  </thead>\n",
       "  <tbody>\n",
       "    <tr>\n",
       "      <th>208</th>\n",
       "      <td>0</td>\n",
       "      <td>25.0</td>\n",
       "    </tr>\n",
       "    <tr>\n",
       "      <th>218</th>\n",
       "      <td>2</td>\n",
       "      <td>0.0</td>\n",
       "    </tr>\n",
       "    <tr>\n",
       "      <th>225</th>\n",
       "      <td>2</td>\n",
       "      <td>NaN</td>\n",
       "    </tr>\n",
       "    <tr>\n",
       "      <th>231</th>\n",
       "      <td>2</td>\n",
       "      <td>0.0</td>\n",
       "    </tr>\n",
       "    <tr>\n",
       "      <th>242</th>\n",
       "      <td>2</td>\n",
       "      <td>NaN</td>\n",
       "    </tr>\n",
       "  </tbody>\n",
       "</table>\n",
       "</div>"
      ],
      "text/plain": [
       "         lifetime_feature_1  lifetime_feature_2\n",
       "courier                                        \n",
       "208                       0                25.0\n",
       "218                       2                 0.0\n",
       "225                       2                 NaN\n",
       "231                       2                 0.0\n",
       "242                       2                 NaN"
      ]
     },
     "execution_count": 5471,
     "metadata": {},
     "output_type": "execute_result"
    }
   ],
   "source": [
    "lifetime_encoded.head()"
   ]
  },
  {
   "cell_type": "code",
   "execution_count": 5472,
   "metadata": {},
   "outputs": [],
   "source": [
    "#lifetime_encoded=lifetime_encoded.drop('feature_2', axis=1)"
   ]
  },
  {
   "cell_type": "code",
   "execution_count": 5473,
   "metadata": {},
   "outputs": [],
   "source": [
    "gold=gold.merge(lifetime_encoded, how='left', left_index=True, right_index=True)\n"
   ]
  },
  {
   "cell_type": "code",
   "execution_count": 5474,
   "metadata": {},
   "outputs": [
    {
     "data": {
      "text/html": [
       "<div>\n",
       "<style scoped>\n",
       "    .dataframe tbody tr th:only-of-type {\n",
       "        vertical-align: middle;\n",
       "    }\n",
       "\n",
       "    .dataframe tbody tr th {\n",
       "        vertical-align: top;\n",
       "    }\n",
       "\n",
       "    .dataframe thead th {\n",
       "        text-align: right;\n",
       "    }\n",
       "</style>\n",
       "<table border=\"1\" class=\"dataframe\">\n",
       "  <thead>\n",
       "    <tr style=\"text-align: right;\">\n",
       "      <th></th>\n",
       "      <th>y</th>\n",
       "      <th>weekcount</th>\n",
       "      <th>weekmax_streak</th>\n",
       "      <th>weeklatest_streak</th>\n",
       "      <th>feature_1</th>\n",
       "      <th>feature_2</th>\n",
       "      <th>feature_3</th>\n",
       "      <th>feature_11</th>\n",
       "      <th>feature_16</th>\n",
       "      <th>lifetime_feature_1</th>\n",
       "      <th>lifetime_feature_2</th>\n",
       "    </tr>\n",
       "    <tr>\n",
       "      <th>courier</th>\n",
       "      <th></th>\n",
       "      <th></th>\n",
       "      <th></th>\n",
       "      <th></th>\n",
       "      <th></th>\n",
       "      <th></th>\n",
       "      <th></th>\n",
       "      <th></th>\n",
       "      <th></th>\n",
       "      <th></th>\n",
       "      <th></th>\n",
       "    </tr>\n",
       "  </thead>\n",
       "  <tbody>\n",
       "    <tr>\n",
       "      <th>3767</th>\n",
       "      <td>1</td>\n",
       "      <td>4</td>\n",
       "      <td>3</td>\n",
       "      <td>0</td>\n",
       "      <td>1.750000</td>\n",
       "      <td>45.500000</td>\n",
       "      <td>46.000</td>\n",
       "      <td>19.000</td>\n",
       "      <td>1.5</td>\n",
       "      <td>1</td>\n",
       "      <td>33.0</td>\n",
       "    </tr>\n",
       "    <tr>\n",
       "      <th>6282</th>\n",
       "      <td>0</td>\n",
       "      <td>6</td>\n",
       "      <td>6</td>\n",
       "      <td>6</td>\n",
       "      <td>1.333333</td>\n",
       "      <td>36.666667</td>\n",
       "      <td>48.500</td>\n",
       "      <td>13.000</td>\n",
       "      <td>1.5</td>\n",
       "      <td>0</td>\n",
       "      <td>35.0</td>\n",
       "    </tr>\n",
       "    <tr>\n",
       "      <th>10622</th>\n",
       "      <td>1</td>\n",
       "      <td>2</td>\n",
       "      <td>2</td>\n",
       "      <td>0</td>\n",
       "      <td>-3.500000</td>\n",
       "      <td>84.500000</td>\n",
       "      <td>54.000</td>\n",
       "      <td>20.500</td>\n",
       "      <td>2.5</td>\n",
       "      <td>1</td>\n",
       "      <td>35.0</td>\n",
       "    </tr>\n",
       "    <tr>\n",
       "      <th>13096</th>\n",
       "      <td>0</td>\n",
       "      <td>2</td>\n",
       "      <td>2</td>\n",
       "      <td>0</td>\n",
       "      <td>0.000000</td>\n",
       "      <td>59.000000</td>\n",
       "      <td>89.500</td>\n",
       "      <td>34.500</td>\n",
       "      <td>3.0</td>\n",
       "      <td>0</td>\n",
       "      <td>35.0</td>\n",
       "    </tr>\n",
       "    <tr>\n",
       "      <th>14261</th>\n",
       "      <td>1</td>\n",
       "      <td>8</td>\n",
       "      <td>8</td>\n",
       "      <td>8</td>\n",
       "      <td>-3.625000</td>\n",
       "      <td>75.500000</td>\n",
       "      <td>70.875</td>\n",
       "      <td>34.875</td>\n",
       "      <td>2.5</td>\n",
       "      <td>0</td>\n",
       "      <td>44.0</td>\n",
       "    </tr>\n",
       "  </tbody>\n",
       "</table>\n",
       "</div>"
      ],
      "text/plain": [
       "         y  weekcount  weekmax_streak  weeklatest_streak  feature_1  \\\n",
       "courier                                                               \n",
       "3767     1          4               3                  0   1.750000   \n",
       "6282     0          6               6                  6   1.333333   \n",
       "10622    1          2               2                  0  -3.500000   \n",
       "13096    0          2               2                  0   0.000000   \n",
       "14261    1          8               8                  8  -3.625000   \n",
       "\n",
       "         feature_2  feature_3  feature_11  feature_16  lifetime_feature_1  \\\n",
       "courier                                                                     \n",
       "3767     45.500000     46.000      19.000         1.5                   1   \n",
       "6282     36.666667     48.500      13.000         1.5                   0   \n",
       "10622    84.500000     54.000      20.500         2.5                   1   \n",
       "13096    59.000000     89.500      34.500         3.0                   0   \n",
       "14261    75.500000     70.875      34.875         2.5                   0   \n",
       "\n",
       "         lifetime_feature_2  \n",
       "courier                      \n",
       "3767                   33.0  \n",
       "6282                   35.0  \n",
       "10622                  35.0  \n",
       "13096                  35.0  \n",
       "14261                  44.0  "
      ]
     },
     "execution_count": 5474,
     "metadata": {},
     "output_type": "execute_result"
    }
   ],
   "source": [
    "gold.head()"
   ]
  },
  {
   "cell_type": "markdown",
   "metadata": {},
   "source": [
    "### Using the selected features to impute the missing values from lifetime with KNN imputation "
   ]
  },
  {
   "cell_type": "code",
   "execution_count": 5475,
   "metadata": {},
   "outputs": [],
   "source": [
    "#gold =  pd.DataFrame(KNN(k=2).fit_transform(gold), columns=gold.columns, index=gold.index) "
   ]
  },
  {
   "cell_type": "code",
   "execution_count": 5476,
   "metadata": {},
   "outputs": [
    {
     "data": {
      "text/html": [
       "<div>\n",
       "<style scoped>\n",
       "    .dataframe tbody tr th:only-of-type {\n",
       "        vertical-align: middle;\n",
       "    }\n",
       "\n",
       "    .dataframe tbody tr th {\n",
       "        vertical-align: top;\n",
       "    }\n",
       "\n",
       "    .dataframe thead th {\n",
       "        text-align: right;\n",
       "    }\n",
       "</style>\n",
       "<table border=\"1\" class=\"dataframe\">\n",
       "  <thead>\n",
       "    <tr style=\"text-align: right;\">\n",
       "      <th></th>\n",
       "      <th>y</th>\n",
       "      <th>weekcount</th>\n",
       "      <th>weekmax_streak</th>\n",
       "      <th>weeklatest_streak</th>\n",
       "      <th>feature_1</th>\n",
       "      <th>feature_2</th>\n",
       "      <th>feature_3</th>\n",
       "      <th>feature_11</th>\n",
       "      <th>feature_16</th>\n",
       "      <th>lifetime_feature_1</th>\n",
       "      <th>lifetime_feature_2</th>\n",
       "    </tr>\n",
       "    <tr>\n",
       "      <th>courier</th>\n",
       "      <th></th>\n",
       "      <th></th>\n",
       "      <th></th>\n",
       "      <th></th>\n",
       "      <th></th>\n",
       "      <th></th>\n",
       "      <th></th>\n",
       "      <th></th>\n",
       "      <th></th>\n",
       "      <th></th>\n",
       "      <th></th>\n",
       "    </tr>\n",
       "  </thead>\n",
       "  <tbody>\n",
       "    <tr>\n",
       "      <th>3767</th>\n",
       "      <td>1</td>\n",
       "      <td>4</td>\n",
       "      <td>3</td>\n",
       "      <td>0</td>\n",
       "      <td>1.750000</td>\n",
       "      <td>45.500000</td>\n",
       "      <td>46.000</td>\n",
       "      <td>19.000</td>\n",
       "      <td>1.5</td>\n",
       "      <td>1</td>\n",
       "      <td>33.0</td>\n",
       "    </tr>\n",
       "    <tr>\n",
       "      <th>6282</th>\n",
       "      <td>0</td>\n",
       "      <td>6</td>\n",
       "      <td>6</td>\n",
       "      <td>6</td>\n",
       "      <td>1.333333</td>\n",
       "      <td>36.666667</td>\n",
       "      <td>48.500</td>\n",
       "      <td>13.000</td>\n",
       "      <td>1.5</td>\n",
       "      <td>0</td>\n",
       "      <td>35.0</td>\n",
       "    </tr>\n",
       "    <tr>\n",
       "      <th>10622</th>\n",
       "      <td>1</td>\n",
       "      <td>2</td>\n",
       "      <td>2</td>\n",
       "      <td>0</td>\n",
       "      <td>-3.500000</td>\n",
       "      <td>84.500000</td>\n",
       "      <td>54.000</td>\n",
       "      <td>20.500</td>\n",
       "      <td>2.5</td>\n",
       "      <td>1</td>\n",
       "      <td>35.0</td>\n",
       "    </tr>\n",
       "    <tr>\n",
       "      <th>13096</th>\n",
       "      <td>0</td>\n",
       "      <td>2</td>\n",
       "      <td>2</td>\n",
       "      <td>0</td>\n",
       "      <td>0.000000</td>\n",
       "      <td>59.000000</td>\n",
       "      <td>89.500</td>\n",
       "      <td>34.500</td>\n",
       "      <td>3.0</td>\n",
       "      <td>0</td>\n",
       "      <td>35.0</td>\n",
       "    </tr>\n",
       "    <tr>\n",
       "      <th>14261</th>\n",
       "      <td>1</td>\n",
       "      <td>8</td>\n",
       "      <td>8</td>\n",
       "      <td>8</td>\n",
       "      <td>-3.625000</td>\n",
       "      <td>75.500000</td>\n",
       "      <td>70.875</td>\n",
       "      <td>34.875</td>\n",
       "      <td>2.5</td>\n",
       "      <td>0</td>\n",
       "      <td>44.0</td>\n",
       "    </tr>\n",
       "  </tbody>\n",
       "</table>\n",
       "</div>"
      ],
      "text/plain": [
       "         y  weekcount  weekmax_streak  weeklatest_streak  feature_1  \\\n",
       "courier                                                               \n",
       "3767     1          4               3                  0   1.750000   \n",
       "6282     0          6               6                  6   1.333333   \n",
       "10622    1          2               2                  0  -3.500000   \n",
       "13096    0          2               2                  0   0.000000   \n",
       "14261    1          8               8                  8  -3.625000   \n",
       "\n",
       "         feature_2  feature_3  feature_11  feature_16  lifetime_feature_1  \\\n",
       "courier                                                                     \n",
       "3767     45.500000     46.000      19.000         1.5                   1   \n",
       "6282     36.666667     48.500      13.000         1.5                   0   \n",
       "10622    84.500000     54.000      20.500         2.5                   1   \n",
       "13096    59.000000     89.500      34.500         3.0                   0   \n",
       "14261    75.500000     70.875      34.875         2.5                   0   \n",
       "\n",
       "         lifetime_feature_2  \n",
       "courier                      \n",
       "3767                   33.0  \n",
       "6282                   35.0  \n",
       "10622                  35.0  \n",
       "13096                  35.0  \n",
       "14261                  44.0  "
      ]
     },
     "execution_count": 5476,
     "metadata": {},
     "output_type": "execute_result"
    }
   ],
   "source": [
    "gold.head()"
   ]
  },
  {
   "cell_type": "code",
   "execution_count": 5477,
   "metadata": {},
   "outputs": [
    {
     "data": {
      "text/html": [
       "<div>\n",
       "<style scoped>\n",
       "    .dataframe tbody tr th:only-of-type {\n",
       "        vertical-align: middle;\n",
       "    }\n",
       "\n",
       "    .dataframe tbody tr th {\n",
       "        vertical-align: top;\n",
       "    }\n",
       "\n",
       "    .dataframe thead th {\n",
       "        text-align: right;\n",
       "    }\n",
       "</style>\n",
       "<table border=\"1\" class=\"dataframe\">\n",
       "  <thead>\n",
       "    <tr style=\"text-align: right;\">\n",
       "      <th></th>\n",
       "      <th>y</th>\n",
       "      <th>weekcount</th>\n",
       "      <th>weekmax_streak</th>\n",
       "      <th>weeklatest_streak</th>\n",
       "      <th>feature_1</th>\n",
       "      <th>feature_2</th>\n",
       "      <th>feature_3</th>\n",
       "      <th>feature_11</th>\n",
       "      <th>feature_16</th>\n",
       "      <th>lifetime_feature_1</th>\n",
       "      <th>lifetime_feature_2</th>\n",
       "    </tr>\n",
       "  </thead>\n",
       "  <tbody>\n",
       "    <tr>\n",
       "      <th>y</th>\n",
       "      <td>1.000000</td>\n",
       "      <td>-0.534864</td>\n",
       "      <td>-0.442932</td>\n",
       "      <td>-0.415129</td>\n",
       "      <td>-0.287069</td>\n",
       "      <td>-0.420368</td>\n",
       "      <td>-0.502446</td>\n",
       "      <td>-0.464239</td>\n",
       "      <td>-0.346133</td>\n",
       "      <td>0.070673</td>\n",
       "      <td>-0.200355</td>\n",
       "    </tr>\n",
       "    <tr>\n",
       "      <th>weekcount</th>\n",
       "      <td>-0.534864</td>\n",
       "      <td>1.000000</td>\n",
       "      <td>0.912668</td>\n",
       "      <td>0.706565</td>\n",
       "      <td>0.308786</td>\n",
       "      <td>0.590266</td>\n",
       "      <td>0.707429</td>\n",
       "      <td>0.660209</td>\n",
       "      <td>0.504314</td>\n",
       "      <td>-0.078835</td>\n",
       "      <td>0.242526</td>\n",
       "    </tr>\n",
       "    <tr>\n",
       "      <th>weekmax_streak</th>\n",
       "      <td>-0.442932</td>\n",
       "      <td>0.912668</td>\n",
       "      <td>1.000000</td>\n",
       "      <td>0.758359</td>\n",
       "      <td>0.291029</td>\n",
       "      <td>0.570816</td>\n",
       "      <td>0.686554</td>\n",
       "      <td>0.640439</td>\n",
       "      <td>0.514343</td>\n",
       "      <td>-0.079939</td>\n",
       "      <td>0.227177</td>\n",
       "    </tr>\n",
       "    <tr>\n",
       "      <th>weeklatest_streak</th>\n",
       "      <td>-0.415129</td>\n",
       "      <td>0.706565</td>\n",
       "      <td>0.758359</td>\n",
       "      <td>1.000000</td>\n",
       "      <td>0.267561</td>\n",
       "      <td>0.440527</td>\n",
       "      <td>0.582624</td>\n",
       "      <td>0.539818</td>\n",
       "      <td>0.462136</td>\n",
       "      <td>-0.105425</td>\n",
       "      <td>0.188627</td>\n",
       "    </tr>\n",
       "    <tr>\n",
       "      <th>feature_1</th>\n",
       "      <td>-0.287069</td>\n",
       "      <td>0.308786</td>\n",
       "      <td>0.291029</td>\n",
       "      <td>0.267561</td>\n",
       "      <td>1.000000</td>\n",
       "      <td>0.042441</td>\n",
       "      <td>0.121433</td>\n",
       "      <td>0.136845</td>\n",
       "      <td>0.015898</td>\n",
       "      <td>-0.000419</td>\n",
       "      <td>0.150614</td>\n",
       "    </tr>\n",
       "    <tr>\n",
       "      <th>feature_2</th>\n",
       "      <td>-0.420368</td>\n",
       "      <td>0.590266</td>\n",
       "      <td>0.570816</td>\n",
       "      <td>0.440527</td>\n",
       "      <td>0.042441</td>\n",
       "      <td>1.000000</td>\n",
       "      <td>0.809809</td>\n",
       "      <td>0.779639</td>\n",
       "      <td>0.580537</td>\n",
       "      <td>-0.119320</td>\n",
       "      <td>0.180502</td>\n",
       "    </tr>\n",
       "    <tr>\n",
       "      <th>feature_3</th>\n",
       "      <td>-0.502446</td>\n",
       "      <td>0.707429</td>\n",
       "      <td>0.686554</td>\n",
       "      <td>0.582624</td>\n",
       "      <td>0.121433</td>\n",
       "      <td>0.809809</td>\n",
       "      <td>1.000000</td>\n",
       "      <td>0.920134</td>\n",
       "      <td>0.666711</td>\n",
       "      <td>-0.168444</td>\n",
       "      <td>0.241822</td>\n",
       "    </tr>\n",
       "    <tr>\n",
       "      <th>feature_11</th>\n",
       "      <td>-0.464239</td>\n",
       "      <td>0.660209</td>\n",
       "      <td>0.640439</td>\n",
       "      <td>0.539818</td>\n",
       "      <td>0.136845</td>\n",
       "      <td>0.779639</td>\n",
       "      <td>0.920134</td>\n",
       "      <td>1.000000</td>\n",
       "      <td>0.625702</td>\n",
       "      <td>-0.120586</td>\n",
       "      <td>0.257226</td>\n",
       "    </tr>\n",
       "    <tr>\n",
       "      <th>feature_16</th>\n",
       "      <td>-0.346133</td>\n",
       "      <td>0.504314</td>\n",
       "      <td>0.514343</td>\n",
       "      <td>0.462136</td>\n",
       "      <td>0.015898</td>\n",
       "      <td>0.580537</td>\n",
       "      <td>0.666711</td>\n",
       "      <td>0.625702</td>\n",
       "      <td>1.000000</td>\n",
       "      <td>-0.089173</td>\n",
       "      <td>0.135372</td>\n",
       "    </tr>\n",
       "    <tr>\n",
       "      <th>lifetime_feature_1</th>\n",
       "      <td>0.070673</td>\n",
       "      <td>-0.078835</td>\n",
       "      <td>-0.079939</td>\n",
       "      <td>-0.105425</td>\n",
       "      <td>-0.000419</td>\n",
       "      <td>-0.119320</td>\n",
       "      <td>-0.168444</td>\n",
       "      <td>-0.120586</td>\n",
       "      <td>-0.089173</td>\n",
       "      <td>1.000000</td>\n",
       "      <td>-0.037577</td>\n",
       "    </tr>\n",
       "    <tr>\n",
       "      <th>lifetime_feature_2</th>\n",
       "      <td>-0.200355</td>\n",
       "      <td>0.242526</td>\n",
       "      <td>0.227177</td>\n",
       "      <td>0.188627</td>\n",
       "      <td>0.150614</td>\n",
       "      <td>0.180502</td>\n",
       "      <td>0.241822</td>\n",
       "      <td>0.257226</td>\n",
       "      <td>0.135372</td>\n",
       "      <td>-0.037577</td>\n",
       "      <td>1.000000</td>\n",
       "    </tr>\n",
       "  </tbody>\n",
       "</table>\n",
       "</div>"
      ],
      "text/plain": [
       "                           y  weekcount  weekmax_streak  weeklatest_streak  \\\n",
       "y                   1.000000  -0.534864       -0.442932          -0.415129   \n",
       "weekcount          -0.534864   1.000000        0.912668           0.706565   \n",
       "weekmax_streak     -0.442932   0.912668        1.000000           0.758359   \n",
       "weeklatest_streak  -0.415129   0.706565        0.758359           1.000000   \n",
       "feature_1          -0.287069   0.308786        0.291029           0.267561   \n",
       "feature_2          -0.420368   0.590266        0.570816           0.440527   \n",
       "feature_3          -0.502446   0.707429        0.686554           0.582624   \n",
       "feature_11         -0.464239   0.660209        0.640439           0.539818   \n",
       "feature_16         -0.346133   0.504314        0.514343           0.462136   \n",
       "lifetime_feature_1  0.070673  -0.078835       -0.079939          -0.105425   \n",
       "lifetime_feature_2 -0.200355   0.242526        0.227177           0.188627   \n",
       "\n",
       "                    feature_1  feature_2  feature_3  feature_11  feature_16  \\\n",
       "y                   -0.287069  -0.420368  -0.502446   -0.464239   -0.346133   \n",
       "weekcount            0.308786   0.590266   0.707429    0.660209    0.504314   \n",
       "weekmax_streak       0.291029   0.570816   0.686554    0.640439    0.514343   \n",
       "weeklatest_streak    0.267561   0.440527   0.582624    0.539818    0.462136   \n",
       "feature_1            1.000000   0.042441   0.121433    0.136845    0.015898   \n",
       "feature_2            0.042441   1.000000   0.809809    0.779639    0.580537   \n",
       "feature_3            0.121433   0.809809   1.000000    0.920134    0.666711   \n",
       "feature_11           0.136845   0.779639   0.920134    1.000000    0.625702   \n",
       "feature_16           0.015898   0.580537   0.666711    0.625702    1.000000   \n",
       "lifetime_feature_1  -0.000419  -0.119320  -0.168444   -0.120586   -0.089173   \n",
       "lifetime_feature_2   0.150614   0.180502   0.241822    0.257226    0.135372   \n",
       "\n",
       "                    lifetime_feature_1  lifetime_feature_2  \n",
       "y                             0.070673           -0.200355  \n",
       "weekcount                    -0.078835            0.242526  \n",
       "weekmax_streak               -0.079939            0.227177  \n",
       "weeklatest_streak            -0.105425            0.188627  \n",
       "feature_1                    -0.000419            0.150614  \n",
       "feature_2                    -0.119320            0.180502  \n",
       "feature_3                    -0.168444            0.241822  \n",
       "feature_11                   -0.120586            0.257226  \n",
       "feature_16                   -0.089173            0.135372  \n",
       "lifetime_feature_1            1.000000           -0.037577  \n",
       "lifetime_feature_2           -0.037577            1.000000  "
      ]
     },
     "execution_count": 5477,
     "metadata": {},
     "output_type": "execute_result"
    }
   ],
   "source": [
    "gold_mt=gold.corr()\n",
    "gold_mt"
   ]
  },
  {
   "cell_type": "code",
   "execution_count": 5478,
   "metadata": {},
   "outputs": [
    {
     "data": {
      "text/plain": [
       "<matplotlib.axes._subplots.AxesSubplot at 0x1468634c0f0>"
      ]
     },
     "execution_count": 5478,
     "metadata": {},
     "output_type": "execute_result"
    },
    {
     "data": {
      "image/png": "[encoded data removed]",
      "text/plain": [
       "<Figure size 432x288 with 2 Axes>"
      ]
     },
     "metadata": {},
     "output_type": "display_data"
    }
   ],
   "source": [
    "sns.heatmap(gold_mt, vmax=1., square=False,cmap=\"RdYlBu\")"
   ]
  },
  {
   "cell_type": "code",
   "execution_count": 5479,
   "metadata": {},
   "outputs": [],
   "source": [
    "#gold=gold.drop('feature_1',axis=1)"
   ]
  },
  {
   "cell_type": "markdown",
   "metadata": {},
   "source": [
    "# We prepare the golden set"
   ]
  },
  {
   "cell_type": "code",
   "execution_count": 5480,
   "metadata": {},
   "outputs": [],
   "source": [
    "golden_x= gold.drop(['y'], axis=1)\n",
    "golden_y= gold['y']"
   ]
  },
  {
   "cell_type": "code",
   "execution_count": 5481,
   "metadata": {},
   "outputs": [],
   "source": [
    "#golden_x =  pd.DataFrame(KNN(k=2).fit_transform(golden_x), columns=golden_x.columns, index=golden_x.index) "
   ]
  },
  {
   "cell_type": "code",
   "execution_count": 5482,
   "metadata": {},
   "outputs": [
    {
     "data": {
      "text/html": [
       "<div>\n",
       "<style scoped>\n",
       "    .dataframe tbody tr th:only-of-type {\n",
       "        vertical-align: middle;\n",
       "    }\n",
       "\n",
       "    .dataframe tbody tr th {\n",
       "        vertical-align: top;\n",
       "    }\n",
       "\n",
       "    .dataframe thead th {\n",
       "        text-align: right;\n",
       "    }\n",
       "</style>\n",
       "<table border=\"1\" class=\"dataframe\">\n",
       "  <thead>\n",
       "    <tr style=\"text-align: right;\">\n",
       "      <th></th>\n",
       "      <th>weekcount</th>\n",
       "      <th>weekmax_streak</th>\n",
       "      <th>weeklatest_streak</th>\n",
       "      <th>feature_1</th>\n",
       "      <th>feature_2</th>\n",
       "      <th>feature_3</th>\n",
       "      <th>feature_11</th>\n",
       "      <th>feature_16</th>\n",
       "      <th>lifetime_feature_1</th>\n",
       "      <th>lifetime_feature_2</th>\n",
       "    </tr>\n",
       "  </thead>\n",
       "  <tbody>\n",
       "    <tr>\n",
       "      <th>weekcount</th>\n",
       "      <td>1.000000</td>\n",
       "      <td>0.912668</td>\n",
       "      <td>0.706565</td>\n",
       "      <td>0.308786</td>\n",
       "      <td>0.590266</td>\n",
       "      <td>0.707429</td>\n",
       "      <td>0.660209</td>\n",
       "      <td>0.504314</td>\n",
       "      <td>-0.078835</td>\n",
       "      <td>0.242526</td>\n",
       "    </tr>\n",
       "    <tr>\n",
       "      <th>weekmax_streak</th>\n",
       "      <td>0.912668</td>\n",
       "      <td>1.000000</td>\n",
       "      <td>0.758359</td>\n",
       "      <td>0.291029</td>\n",
       "      <td>0.570816</td>\n",
       "      <td>0.686554</td>\n",
       "      <td>0.640439</td>\n",
       "      <td>0.514343</td>\n",
       "      <td>-0.079939</td>\n",
       "      <td>0.227177</td>\n",
       "    </tr>\n",
       "    <tr>\n",
       "      <th>weeklatest_streak</th>\n",
       "      <td>0.706565</td>\n",
       "      <td>0.758359</td>\n",
       "      <td>1.000000</td>\n",
       "      <td>0.267561</td>\n",
       "      <td>0.440527</td>\n",
       "      <td>0.582624</td>\n",
       "      <td>0.539818</td>\n",
       "      <td>0.462136</td>\n",
       "      <td>-0.105425</td>\n",
       "      <td>0.188627</td>\n",
       "    </tr>\n",
       "    <tr>\n",
       "      <th>feature_1</th>\n",
       "      <td>0.308786</td>\n",
       "      <td>0.291029</td>\n",
       "      <td>0.267561</td>\n",
       "      <td>1.000000</td>\n",
       "      <td>0.042441</td>\n",
       "      <td>0.121433</td>\n",
       "      <td>0.136845</td>\n",
       "      <td>0.015898</td>\n",
       "      <td>-0.000419</td>\n",
       "      <td>0.150614</td>\n",
       "    </tr>\n",
       "    <tr>\n",
       "      <th>feature_2</th>\n",
       "      <td>0.590266</td>\n",
       "      <td>0.570816</td>\n",
       "      <td>0.440527</td>\n",
       "      <td>0.042441</td>\n",
       "      <td>1.000000</td>\n",
       "      <td>0.809809</td>\n",
       "      <td>0.779639</td>\n",
       "      <td>0.580537</td>\n",
       "      <td>-0.119320</td>\n",
       "      <td>0.180502</td>\n",
       "    </tr>\n",
       "    <tr>\n",
       "      <th>feature_3</th>\n",
       "      <td>0.707429</td>\n",
       "      <td>0.686554</td>\n",
       "      <td>0.582624</td>\n",
       "      <td>0.121433</td>\n",
       "      <td>0.809809</td>\n",
       "      <td>1.000000</td>\n",
       "      <td>0.920134</td>\n",
       "      <td>0.666711</td>\n",
       "      <td>-0.168444</td>\n",
       "      <td>0.241822</td>\n",
       "    </tr>\n",
       "    <tr>\n",
       "      <th>feature_11</th>\n",
       "      <td>0.660209</td>\n",
       "      <td>0.640439</td>\n",
       "      <td>0.539818</td>\n",
       "      <td>0.136845</td>\n",
       "      <td>0.779639</td>\n",
       "      <td>0.920134</td>\n",
       "      <td>1.000000</td>\n",
       "      <td>0.625702</td>\n",
       "      <td>-0.120586</td>\n",
       "      <td>0.257226</td>\n",
       "    </tr>\n",
       "    <tr>\n",
       "      <th>feature_16</th>\n",
       "      <td>0.504314</td>\n",
       "      <td>0.514343</td>\n",
       "      <td>0.462136</td>\n",
       "      <td>0.015898</td>\n",
       "      <td>0.580537</td>\n",
       "      <td>0.666711</td>\n",
       "      <td>0.625702</td>\n",
       "      <td>1.000000</td>\n",
       "      <td>-0.089173</td>\n",
       "      <td>0.135372</td>\n",
       "    </tr>\n",
       "    <tr>\n",
       "      <th>lifetime_feature_1</th>\n",
       "      <td>-0.078835</td>\n",
       "      <td>-0.079939</td>\n",
       "      <td>-0.105425</td>\n",
       "      <td>-0.000419</td>\n",
       "      <td>-0.119320</td>\n",
       "      <td>-0.168444</td>\n",
       "      <td>-0.120586</td>\n",
       "      <td>-0.089173</td>\n",
       "      <td>1.000000</td>\n",
       "      <td>-0.037577</td>\n",
       "    </tr>\n",
       "    <tr>\n",
       "      <th>lifetime_feature_2</th>\n",
       "      <td>0.242526</td>\n",
       "      <td>0.227177</td>\n",
       "      <td>0.188627</td>\n",
       "      <td>0.150614</td>\n",
       "      <td>0.180502</td>\n",
       "      <td>0.241822</td>\n",
       "      <td>0.257226</td>\n",
       "      <td>0.135372</td>\n",
       "      <td>-0.037577</td>\n",
       "      <td>1.000000</td>\n",
       "    </tr>\n",
       "  </tbody>\n",
       "</table>\n",
       "</div>"
      ],
      "text/plain": [
       "                    weekcount  weekmax_streak  weeklatest_streak  feature_1  \\\n",
       "weekcount            1.000000        0.912668           0.706565   0.308786   \n",
       "weekmax_streak       0.912668        1.000000           0.758359   0.291029   \n",
       "weeklatest_streak    0.706565        0.758359           1.000000   0.267561   \n",
       "feature_1            0.308786        0.291029           0.267561   1.000000   \n",
       "feature_2            0.590266        0.570816           0.440527   0.042441   \n",
       "feature_3            0.707429        0.686554           0.582624   0.121433   \n",
       "feature_11           0.660209        0.640439           0.539818   0.136845   \n",
       "feature_16           0.504314        0.514343           0.462136   0.015898   \n",
       "lifetime_feature_1  -0.078835       -0.079939          -0.105425  -0.000419   \n",
       "lifetime_feature_2   0.242526        0.227177           0.188627   0.150614   \n",
       "\n",
       "                    feature_2  feature_3  feature_11  feature_16  \\\n",
       "weekcount            0.590266   0.707429    0.660209    0.504314   \n",
       "weekmax_streak       0.570816   0.686554    0.640439    0.514343   \n",
       "weeklatest_streak    0.440527   0.582624    0.539818    0.462136   \n",
       "feature_1            0.042441   0.121433    0.136845    0.015898   \n",
       "feature_2            1.000000   0.809809    0.779639    0.580537   \n",
       "feature_3            0.809809   1.000000    0.920134    0.666711   \n",
       "feature_11           0.779639   0.920134    1.000000    0.625702   \n",
       "feature_16           0.580537   0.666711    0.625702    1.000000   \n",
       "lifetime_feature_1  -0.119320  -0.168444   -0.120586   -0.089173   \n",
       "lifetime_feature_2   0.180502   0.241822    0.257226    0.135372   \n",
       "\n",
       "                    lifetime_feature_1  lifetime_feature_2  \n",
       "weekcount                    -0.078835            0.242526  \n",
       "weekmax_streak               -0.079939            0.227177  \n",
       "weeklatest_streak            -0.105425            0.188627  \n",
       "feature_1                    -0.000419            0.150614  \n",
       "feature_2                    -0.119320            0.180502  \n",
       "feature_3                    -0.168444            0.241822  \n",
       "feature_11                   -0.120586            0.257226  \n",
       "feature_16                   -0.089173            0.135372  \n",
       "lifetime_feature_1            1.000000           -0.037577  \n",
       "lifetime_feature_2           -0.037577            1.000000  "
      ]
     },
     "execution_count": 5482,
     "metadata": {},
     "output_type": "execute_result"
    }
   ],
   "source": [
    "golden_x_mt=golden_x.corr()\n",
    "golden_x_mt"
   ]
  },
  {
   "cell_type": "code",
   "execution_count": 5483,
   "metadata": {},
   "outputs": [
    {
     "data": {
      "text/plain": [
       "<matplotlib.axes._subplots.AxesSubplot at 0x1468750f748>"
      ]
     },
     "execution_count": 5483,
     "metadata": {},
     "output_type": "execute_result"
    },
    {
     "data": {
      "image/png": "[encoded data removed]",
      "text/plain": [
       "<Figure size 432x288 with 2 Axes>"
      ]
     },
     "metadata": {},
     "output_type": "display_data"
    }
   ],
   "source": [
    "sns.heatmap(golden_x_mt, vmax=1., square=False,cmap=\"RdYlBu\")"
   ]
  },
  {
   "cell_type": "code",
   "execution_count": 5484,
   "metadata": {},
   "outputs": [],
   "source": [
    "x_train, x_test, y_train, y_test = train_test_split(golden_x,golden_y , test_size=0.25)"
   ]
  },
  {
   "cell_type": "markdown",
   "metadata": {},
   "source": [
    "# About imputing missing values\n",
    "### I use KNN to impute missing values for lifetime dataset feature_2, I do it separately in the testing and training set, I do so to prevent data leakage altough may come with a cost on the accuracy of the imputation "
   ]
  },
  {
   "cell_type": "code",
   "execution_count": 5485,
   "metadata": {},
   "outputs": [
    {
     "name": "stdout",
     "output_type": "stream",
     "text": [
      "Imputing row 1/546 with 0 missing, elapsed time: 0.056\n",
      "Imputing row 101/546 with 0 missing, elapsed time: 0.057\n",
      "Imputing row 201/546 with 0 missing, elapsed time: 0.058\n",
      "Imputing row 301/546 with 0 missing, elapsed time: 0.058\n",
      "Imputing row 401/546 with 0 missing, elapsed time: 0.059\n",
      "Imputing row 501/546 with 0 missing, elapsed time: 0.060\n",
      "Imputing row 1/183 with 0 missing, elapsed time: 0.007\n",
      "Imputing row 101/183 with 0 missing, elapsed time: 0.008\n"
     ]
    }
   ],
   "source": [
    "x_train =  pd.DataFrame(KNN(k=2).fit_transform(x_train), columns=x_train.columns, index=x_train.index) \n",
    "x_test =  pd.DataFrame(KNN(k=2).fit_transform(x_test), columns=x_test.columns, index=x_test.index) "
   ]
  },
  {
   "cell_type": "code",
   "execution_count": 5486,
   "metadata": {},
   "outputs": [],
   "source": [
    "scaler=StandardScaler()\n",
    "scaler.fit(x_train)\n",
    "x_train = scaler.transform(x_train)\n",
    "x_test = scaler.transform(x_test)"
   ]
  },
  {
   "cell_type": "markdown",
   "metadata": {
    "collapsed": true
   },
   "source": [
    "# LogisticRegression"
   ]
  },
  {
   "cell_type": "code",
   "execution_count": 5487,
   "metadata": {},
   "outputs": [
    {
     "name": "stdout",
     "output_type": "stream",
     "text": [
      "Accuracy of logistic regression classifier on test set: 0.78\n",
      "             precision    recall  f1-score   support\n",
      "\n",
      "          0       0.81      0.73      0.77        93\n",
      "          1       0.75      0.82      0.78        90\n",
      "\n",
      "avg / total       0.78      0.78      0.78       183\n",
      "\n"
     ]
    },
    {
     "data": {
      "text/plain": [
       "Text(0.5,15,'Predicted label')"
      ]
     },
     "execution_count": 5487,
     "metadata": {},
     "output_type": "execute_result"
    },
    {
     "data": {
      "image/png": "[encoded data removed]",
      "text/plain": [
       "<Figure size 432x288 with 2 Axes>"
      ]
     },
     "metadata": {},
     "output_type": "display_data"
    }
   ],
   "source": [
    "clf = LogisticRegression(C=1)\n",
    "clf.fit(x_train, y_train)\n",
    "test_y_pred = clf.predict(x_test)\n",
    "cf_mt = confusion_matrix(y_test, test_y_pred)\n",
    "print('Accuracy of logistic regression classifier on test set: {:.2f}'.format(clf.score(x_test, y_test)))\n",
    "print(classification_report(y_test, test_y_pred))\n",
    "confusion_matrix_df = pd.DataFrame(cf_mt, ('False', 'True'), ('False', 'True'))\n",
    "heatmap = sns.heatmap(confusion_matrix_df, annot=True, annot_kws={\"size\": 20}, fmt=\"d\")\n",
    "heatmap.yaxis.set_ticklabels(heatmap.yaxis.get_ticklabels(), rotation=0, ha='right', fontsize = 14)\n",
    "heatmap.xaxis.set_ticklabels(heatmap.xaxis.get_ticklabels(), rotation=45, ha='right', fontsize = 14)\n",
    "plt.ylabel('True label', fontsize = 14)\n",
    "plt.xlabel('Predicted label', fontsize = 14)\n"
   ]
  },
  {
   "cell_type": "code",
   "execution_count": 5488,
   "metadata": {},
   "outputs": [
    {
     "data": {
      "image/png": "[encoded data removed]",
      "text/plain": [
       "<Figure size 432x288 with 1 Axes>"
      ]
     },
     "metadata": {},
     "output_type": "display_data"
    }
   ],
   "source": [
    "probs = clf.predict_proba(x_test)\n",
    "preds = probs[:,1]\n",
    "fpr, tpr, threshold = roc_curve(y_test, preds)\n",
    "roc_auc = auc(fpr, tpr)\n",
    "\n",
    "plt.title('Receiver Operating Characteristic')\n",
    "plt.plot(fpr, tpr, 'b', label = 'AUC = %0.2f' % roc_auc)\n",
    "plt.legend(loc = 'lower right')\n",
    "plt.plot([0, 1], [0, 1],'r--')\n",
    "plt.xlim([0, 1])\n",
    "plt.ylim([0, 1])\n",
    "plt.ylabel('True Positive Rate')\n",
    "plt.xlabel('False Positive Rate')\n",
    "plt.show()"
   ]
  },
  {
   "cell_type": "code",
   "execution_count": 5489,
   "metadata": {},
   "outputs": [
    {
     "data": {
      "text/plain": [
       "Text(0.5,1,'2-class Precision-Recall curve: AP=0.85')"
      ]
     },
     "execution_count": 5489,
     "metadata": {},
     "output_type": "execute_result"
    },
    {
     "data": {
      "image/png": "[encoded data removed]",
      "text/plain": [
       "<Figure size 432x288 with 1 Axes>"
      ]
     },
     "metadata": {},
     "output_type": "display_data"
    }
   ],
   "source": [
    "average_precision = average_precision_score(y_test, preds)\n",
    "precision, recall, _ = precision_recall_curve(y_test, preds)\n",
    "plt.step(recall, precision, color='b', alpha=0.2,\n",
    "         where='post')\n",
    "plt.fill_between(recall, precision, step='post', alpha=0.2,\n",
    "                 color='b')\n",
    "plt.xlabel('Recall')\n",
    "plt.ylabel('Precision')\n",
    "plt.ylim([0.0, 1.05])\n",
    "plt.xlim([0.0, 1.0])\n",
    "plt.title('2-class Precision-Recall curve: AP={0:0.2f}'.format(\n",
    "          average_precision))"
   ]
  },
  {
   "cell_type": "markdown",
   "metadata": {},
   "source": [
    "# Logistic regression grid search"
   ]
  },
  {
   "cell_type": "code",
   "execution_count": 5490,
   "metadata": {},
   "outputs": [
    {
     "name": "stdout",
     "output_type": "stream",
     "text": [
      "tuned hpyerparameters :(best parameters)  {'C': 1.0, 'penalty': 'l1'}\n",
      "accuracy : 0.7582417582417582\n"
     ]
    }
   ],
   "source": [
    "\n",
    "grid={\"C\":np.logspace(-3,3,7), \"penalty\":[\"l1\",\"l2\"]}# l1 lasso l2 ridge\n",
    "logreg=LogisticRegression()\n",
    "logreg_cv=GridSearchCV(logreg,grid,cv=10)\n",
    "logreg_cv.fit(x_train,y_train)\n",
    "\n",
    "print(\"tuned hpyerparameters :(best parameters) \",logreg_cv.best_params_)\n",
    "print(\"accuracy :\",logreg_cv.best_score_)"
   ]
  },
  {
   "cell_type": "code",
   "execution_count": 5491,
   "metadata": {},
   "outputs": [
    {
     "name": "stdout",
     "output_type": "stream",
     "text": [
      "Accuracy of logistic regression classifier on test set: 0.78\n",
      "             precision    recall  f1-score   support\n",
      "\n",
      "          0       0.81      0.73      0.77        93\n",
      "          1       0.75      0.82      0.78        90\n",
      "\n",
      "avg / total       0.78      0.78      0.78       183\n",
      "\n"
     ]
    },
    {
     "data": {
      "text/plain": [
       "Text(0.5,15,'Predicted label')"
      ]
     },
     "execution_count": 5491,
     "metadata": {},
     "output_type": "execute_result"
    },
    {
     "data": {
      "image/png": "[encoded data removed]",
      "text/plain": [
       "<Figure size 432x288 with 2 Axes>"
      ]
     },
     "metadata": {},
     "output_type": "display_data"
    }
   ],
   "source": [
    "test_y_pred = logreg_cv.predict(x_test)\n",
    "cf_mt = confusion_matrix(y_test, test_y_pred)\n",
    "print('Accuracy of logistic regression classifier on test set: {:.2f}'.format(logreg_cv.score(x_test, y_test)))\n",
    "print(classification_report(y_test, test_y_pred))\n",
    "confusion_matrix_df = pd.DataFrame(cf_mt, ('False', 'True'), ('False', 'True'))\n",
    "heatmap = sns.heatmap(confusion_matrix_df, annot=True, annot_kws={\"size\": 20}, fmt=\"d\")\n",
    "heatmap.yaxis.set_ticklabels(heatmap.yaxis.get_ticklabels(), rotation=0, ha='right', fontsize = 14)\n",
    "heatmap.xaxis.set_ticklabels(heatmap.xaxis.get_ticklabels(), rotation=45, ha='right', fontsize = 14)\n",
    "plt.ylabel('True label', fontsize = 14)\n",
    "plt.xlabel('Predicted label', fontsize = 14)"
   ]
  },
  {
   "cell_type": "code",
   "execution_count": 5492,
   "metadata": {},
   "outputs": [
    {
     "data": {
      "image/png": "[encoded data removed]",
      "text/plain": [
       "<Figure size 432x288 with 1 Axes>"
      ]
     },
     "metadata": {},
     "output_type": "display_data"
    }
   ],
   "source": [
    "probs = logreg_cv.predict_proba(x_test)\n",
    "preds = probs[:,1]\n",
    "fpr, tpr, threshold = roc_curve(y_test, preds)\n",
    "roc_auc = auc(fpr, tpr)\n",
    "\n",
    "plt.title('Receiver Operating Characteristic')\n",
    "plt.plot(fpr, tpr, 'b', label = 'AUC = %0.2f' % roc_auc)\n",
    "plt.legend(loc = 'lower right')\n",
    "plt.plot([0, 1], [0, 1],'r--')\n",
    "plt.xlim([0, 1])\n",
    "plt.ylim([0, 1])\n",
    "plt.ylabel('True Positive Rate')\n",
    "plt.xlabel('False Positive Rate')\n",
    "plt.show()"
   ]
  },
  {
   "cell_type": "code",
   "execution_count": 5493,
   "metadata": {},
   "outputs": [
    {
     "data": {
      "text/plain": [
       "Text(0.5,1,'2-class Precision-Recall curve: AP=0.86')"
      ]
     },
     "execution_count": 5493,
     "metadata": {},
     "output_type": "execute_result"
    },
    {
     "data": {
      "image/png": "[encoded data removed]",
      "text/plain": [
       "<Figure size 432x288 with 1 Axes>"
      ]
     },
     "metadata": {},
     "output_type": "display_data"
    }
   ],
   "source": [
    "average_precision = average_precision_score(y_test, preds)\n",
    "precision, recall, _ = precision_recall_curve(y_test, preds)\n",
    "plt.step(recall, precision, color='b', alpha=0.2,\n",
    "         where='post')\n",
    "plt.fill_between(recall, precision, step='post', alpha=0.2,\n",
    "                 color='b')\n",
    "plt.xlabel('Recall')\n",
    "plt.ylabel('Precision')\n",
    "plt.ylim([0.0, 1.05])\n",
    "plt.xlim([0.0, 1.0])\n",
    "plt.title('2-class Precision-Recall curve: AP={0:0.2f}'.format(\n",
    "          average_precision))"
   ]
  },
  {
   "cell_type": "code",
   "execution_count": null,
   "metadata": {},
   "outputs": [],
   "source": []
  },
  {
   "cell_type": "code",
   "execution_count": null,
   "metadata": {},
   "outputs": [],
   "source": []
  },
  {
   "cell_type": "markdown",
   "metadata": {
    "collapsed": true
   },
   "source": [
    "# Logistic cross validation score"
   ]
  },
  {
   "cell_type": "code",
   "execution_count": 5494,
   "metadata": {},
   "outputs": [
    {
     "name": "stdout",
     "output_type": "stream",
     "text": [
      "0.7759562841530054\n",
      "Accuracy: 0.787 (0.020)\n",
      "Logloss: -0.541 (0.068)\n",
      "AUC: 0.851 (0.035)\n"
     ]
    },
    {
     "data": {
      "text/plain": [
       "Text(0.5,15,'Predicted label')"
      ]
     },
     "execution_count": 5494,
     "metadata": {},
     "output_type": "execute_result"
    },
    {
     "data": {
      "image/png": "[encoded data removed]",
      "text/plain": [
       "<Figure size 432x288 with 2 Axes>"
      ]
     },
     "metadata": {},
     "output_type": "display_data"
    }
   ],
   "source": [
    "logreg_cv.fit(x_train,y_train)\n",
    "print(logreg_cv.score(x_test, y_test))\n",
    "seed = 7\n",
    "k_fold = KFold(n_splits=4, random_state=seed)\n",
    "scoring = 'accuracy'\n",
    "results=cross_val_score(logreg_cv, x_test, y_test, cv=k_fold, n_jobs=1, scoring=scoring)\n",
    "print(\"Accuracy: %.3f (%.3f)\" % (results.mean(), results.std()))\n",
    "scoring = 'neg_log_loss'\n",
    "results=cross_val_score(logreg_cv, x_test, y_test, cv=k_fold, n_jobs=1, scoring=scoring)\n",
    "print(\"Logloss: %.3f (%.3f)\" % (results.mean(), results.std()))\n",
    "scoring = 'roc_auc'\n",
    "results=cross_val_score(logreg_cv, x_test, y_test, cv=k_fold, n_jobs=1, scoring=scoring)\n",
    "print(\"AUC: %.3f (%.3f)\" % (results.mean(), results.std()))\n",
    "\n",
    "predicted=logreg_cv.predict(x_test)\n",
    "matrix = confusion_matrix(y_test, predicted)\n",
    "\n",
    "\n",
    "\n",
    "confusion_matrix_df = pd.DataFrame(matrix, ('False', 'True'), ('False', 'True'))\n",
    "heatmap = sns.heatmap(confusion_matrix_df, annot=True, annot_kws={\"size\": 20}, fmt=\"d\")\n",
    "heatmap.yaxis.set_ticklabels(heatmap.yaxis.get_ticklabels(), rotation=0, ha='right', fontsize = 14)\n",
    "heatmap.xaxis.set_ticklabels(heatmap.xaxis.get_ticklabels(), rotation=45, ha='right', fontsize = 14)\n",
    "plt.ylabel('True label', fontsize = 14)\n",
    "plt.xlabel('Predicted label', fontsize = 14)"
   ]
  },
  {
   "cell_type": "code",
   "execution_count": null,
   "metadata": {},
   "outputs": [],
   "source": []
  },
  {
   "cell_type": "code",
   "execution_count": null,
   "metadata": {},
   "outputs": [],
   "source": []
  },
  {
   "cell_type": "markdown",
   "metadata": {},
   "source": [
    "# XGBOOST Classifier"
   ]
  },
  {
   "cell_type": "code",
   "execution_count": 5495,
   "metadata": {},
   "outputs": [
    {
     "data": {
      "text/plain": [
       "XGBClassifier(base_score=0.5, booster='gbtree', colsample_bylevel=1,\n",
       "       colsample_bytree=1, gamma=0, learning_rate=0.1, max_delta_step=0,\n",
       "       max_depth=3, min_child_weight=1, missing=None, n_estimators=100,\n",
       "       n_jobs=1, nthread=None, objective='binary:logistic', random_state=0,\n",
       "       reg_alpha=0, reg_lambda=1, scale_pos_weight=1, seed=None,\n",
       "       silent=True, subsample=1)"
      ]
     },
     "execution_count": 5495,
     "metadata": {},
     "output_type": "execute_result"
    }
   ],
   "source": [
    "xclas = XGBClassifier()  # and for classifier  \n",
    "xclas.fit(x_train, y_train)  "
   ]
  },
  {
   "cell_type": "code",
   "execution_count": 5496,
   "metadata": {},
   "outputs": [
    {
     "name": "stdout",
     "output_type": "stream",
     "text": [
      "             precision    recall  f1-score   support\n",
      "\n",
      "          0       0.81      0.73      0.77        93\n",
      "          1       0.75      0.82      0.78        90\n",
      "\n",
      "avg / total       0.78      0.78      0.78       183\n",
      "\n"
     ]
    },
    {
     "data": {
      "image/png": "[encoded data removed]",
      "text/plain": [
       "<Figure size 432x288 with 1 Axes>"
      ]
     },
     "metadata": {},
     "output_type": "display_data"
    }
   ],
   "source": [
    "probs = xclas.predict_proba(x_test)\n",
    "preds = probs[:,1]\n",
    "fpr, tpr, threshold = roc_curve(y_test, preds)\n",
    "roc_auc = auc(fpr, tpr)\n",
    "\n",
    "plt.title('Receiver Operating Characteristic')\n",
    "plt.plot(fpr, tpr, 'b', label = 'AUC = %0.2f' % roc_auc)\n",
    "plt.legend(loc = 'lower right')\n",
    "plt.plot([0, 1], [0, 1],'r--')\n",
    "plt.xlim([0, 1])\n",
    "plt.ylim([0, 1])\n",
    "plt.ylabel('True Positive Rate')\n",
    "plt.xlabel('False Positive Rate')\n",
    "print(classification_report(y_test, test_y_pred))\n",
    "plt.show()"
   ]
  },
  {
   "cell_type": "code",
   "execution_count": null,
   "metadata": {},
   "outputs": [],
   "source": []
  },
  {
   "cell_type": "code",
   "execution_count": null,
   "metadata": {},
   "outputs": [],
   "source": []
  },
  {
   "cell_type": "code",
   "execution_count": 5497,
   "metadata": {},
   "outputs": [],
   "source": [
    "from xgboost.sklearn import XGBRegressor  \n",
    "import scipy.stats as st\n",
    "\n",
    "one_to_left = st.beta(10, 1)  \n",
    "from_zero_positive = st.expon(0, 50)\n",
    "\n",
    "params = {  \n",
    "    \"n_estimators\": st.randint(3, 40),\n",
    "    \"max_depth\": st.randint(3, 40),\n",
    "    \"learning_rate\": st.uniform(0.05, 0.4),\n",
    "    \"colsample_bytree\": one_to_left,\n",
    "    \"subsample\": one_to_left,\n",
    "    \"gamma\": st.uniform(0, 10),\n",
    "    'reg_alpha': from_zero_positive,\n",
    "    \"min_child_weight\": from_zero_positive,\n",
    "}\n",
    "\n",
    "xgbreg = XGBRegressor(nthreads=-1)  "
   ]
  },
  {
   "cell_type": "code",
   "execution_count": 5498,
   "metadata": {},
   "outputs": [
    {
     "data": {
      "text/plain": [
       "RandomizedSearchCV(cv=None, error_score='raise',\n",
       "          estimator=XGBRegressor(base_score=0.5, booster='gbtree', colsample_bylevel=1,\n",
       "       colsample_bytree=1, gamma=0, learning_rate=0.1, max_delta_step=0,\n",
       "       max_depth=3, min_child_weight=1, missing=None, n_estimators=100,\n",
       "       n_jobs=1, nthread=None, nthreads=-1, objective='reg:linear',\n",
       "       random_state=0, reg_alpha=0, reg_lambda=1, scale_pos_weight=1,\n",
       "       seed=None, silent=True, subsample=1),\n",
       "          fit_params=None, iid=True, n_iter=10, n_jobs=1,\n",
       "          param_distributions={'n_estimators': <scipy.stats._distn_infrastructure.rv_frozen object at 0x0000014687841BA8>, 'max_depth': <scipy.stats._distn_infrastructure.rv_frozen object at 0x0000014687841390>, 'learning_rate': <scipy.stats._distn_infrastructure.rv_frozen object at 0x0000014687841A58>, 'cols...C8>, 'min_child_weight': <scipy.stats._distn_infrastructure.rv_frozen object at 0x00000146879093C8>},\n",
       "          pre_dispatch='2*n_jobs', random_state=None, refit=True,\n",
       "          return_train_score='warn', scoring=None, verbose=0)"
      ]
     },
     "execution_count": 5498,
     "metadata": {},
     "output_type": "execute_result"
    }
   ],
   "source": [
    "from sklearn.model_selection import RandomizedSearchCV\n",
    "\n",
    "gs = RandomizedSearchCV(xgbreg, params, n_jobs=1)  \n",
    "gs.fit(x_train, y_train)  \n"
   ]
  },
  {
   "cell_type": "code",
   "execution_count": 5499,
   "metadata": {},
   "outputs": [],
   "source": [
    "y_pred=gs.predict(x_test)  \n",
    "predictions = [round(value) for value in y_pred]"
   ]
  },
  {
   "cell_type": "code",
   "execution_count": 5500,
   "metadata": {},
   "outputs": [
    {
     "name": "stdout",
     "output_type": "stream",
     "text": [
      "Accuracy: 78.14%\n"
     ]
    }
   ],
   "source": [
    "accuracy = accuracy_score(y_test, predictions)\n",
    "print(\"Accuracy: %.2f%%\" % (accuracy * 100.0))"
   ]
  },
  {
   "cell_type": "code",
   "execution_count": 5501,
   "metadata": {},
   "outputs": [
    {
     "name": "stdout",
     "output_type": "stream",
     "text": [
      "             precision    recall  f1-score   support\n",
      "\n",
      "          0       0.81      0.73      0.77        93\n",
      "          1       0.75      0.82      0.78        90\n",
      "\n",
      "avg / total       0.78      0.78      0.78       183\n",
      "\n"
     ]
    },
    {
     "data": {
      "image/png": "[encoded data removed]",
      "text/plain": [
       "<Figure size 432x288 with 1 Axes>"
      ]
     },
     "metadata": {},
     "output_type": "display_data"
    }
   ],
   "source": [
    "preds = y_pred\n",
    "fpr, tpr, threshold = roc_curve(y_test, preds)\n",
    "roc_auc = auc(fpr, tpr)\n",
    "\n",
    "plt.title('Receiver Operating Characteristic')\n",
    "plt.plot(fpr, tpr, 'b', label = 'AUC = %0.2f' % roc_auc)\n",
    "plt.legend(loc = 'lower right')\n",
    "plt.plot([0, 1], [0, 1],'r--')\n",
    "plt.xlim([0, 1])\n",
    "plt.ylim([0, 1])\n",
    "plt.ylabel('True Positive Rate')\n",
    "plt.xlabel('False Positive Rate')\n",
    "print(classification_report(y_test, test_y_pred))\n",
    "plt.show()"
   ]
  },
  {
   "cell_type": "code",
   "execution_count": 5502,
   "metadata": {},
   "outputs": [
    {
     "data": {
      "text/plain": [
       "Text(0.5,1,'2-class Precision-Recall curve: AP=0.83')"
      ]
     },
     "execution_count": 5502,
     "metadata": {},
     "output_type": "execute_result"
    },
    {
     "data": {
      "image/png": "[encoded data removed]",
      "text/plain": [
       "<Figure size 432x288 with 1 Axes>"
      ]
     },
     "metadata": {},
     "output_type": "display_data"
    }
   ],
   "source": [
    "average_precision = average_precision_score(y_test, preds)\n",
    "precision, recall, _ = precision_recall_curve(y_test, preds)\n",
    "\n",
    "plt.step(recall, precision, color='b', alpha=0.2,\n",
    "         where='post')\n",
    "plt.fill_between(recall, precision, step='post', alpha=0.2,\n",
    "                 color='b')\n",
    "\n",
    "plt.xlabel('Recall')\n",
    "plt.ylabel('Precision')\n",
    "plt.ylim([0.0, 1.05])\n",
    "plt.xlim([0.0, 1.0])\n",
    "plt.title('2-class Precision-Recall curve: AP={0:0.2f}'.format(\n",
    "          average_precision))"
   ]
  },
  {
   "cell_type": "code",
   "execution_count": null,
   "metadata": {},
   "outputs": [],
   "source": []
  },
  {
   "cell_type": "code",
   "execution_count": null,
   "metadata": {},
   "outputs": [],
   "source": []
  },
  {
   "cell_type": "code",
   "execution_count": null,
   "metadata": {},
   "outputs": [],
   "source": []
  },
  {
   "cell_type": "code",
   "execution_count": null,
   "metadata": {},
   "outputs": [],
   "source": []
  },
  {
   "cell_type": "markdown",
   "metadata": {
    "collapsed": true
   },
   "source": [
    "# SVM"
   ]
  },
  {
   "cell_type": "code",
   "execution_count": 5503,
   "metadata": {},
   "outputs": [
    {
     "name": "stdout",
     "output_type": "stream",
     "text": [
      "0.7650273224043715\n",
      "Accuracy: 0.771 (0.086)\n",
      "[[66 27]\n",
      " [16 74]]\n"
     ]
    },
    {
     "data": {
      "text/plain": [
       "Text(0.5,15,'Predicted label')"
      ]
     },
     "execution_count": 5503,
     "metadata": {},
     "output_type": "execute_result"
    },
    {
     "data": {
      "image/png": "[encoded data removed]",
      "text/plain": [
       "<Figure size 432x288 with 2 Axes>"
      ]
     },
     "metadata": {},
     "output_type": "display_data"
    }
   ],
   "source": [
    "clf = svm.SVC(C=1,kernel='rbf',probability=True,gamma='auto')\n",
    "clf.fit(x_train,y_train)\n",
    "print(clf.score(x_test, y_test))\n",
    "seed = 7\n",
    "k_fold = KFold(n_splits=10, random_state=seed)\n",
    "scoring = 'accuracy'\n",
    "results = results=cross_val_score(clf, x_test, y_test, cv=k_fold, n_jobs=1, scoring=scoring)\n",
    "print(\"Accuracy: %.3f (%.3f)\" % (results.mean(), results.std()))\n",
    "\n",
    "\n",
    "clf.fit(x_train,y_train)\n",
    "predicted=clf.predict(x_test)\n",
    "matrix = confusion_matrix(y_test, predicted)\n",
    "print(matrix)\n",
    "\n",
    "\n",
    "confusion_matrix_df = pd.DataFrame(matrix, ('False', 'True'), ('False', 'True'))\n",
    "heatmap = sns.heatmap(confusion_matrix_df, annot=True, annot_kws={\"size\": 20}, fmt=\"d\")\n",
    "heatmap.yaxis.set_ticklabels(heatmap.yaxis.get_ticklabels(), rotation=0, ha='right', fontsize = 14)\n",
    "heatmap.xaxis.set_ticklabels(heatmap.xaxis.get_ticklabels(), rotation=45, ha='right', fontsize = 14)\n",
    "plt.ylabel('True label', fontsize = 14)\n",
    "plt.xlabel('Predicted label', fontsize = 14)"
   ]
  },
  {
   "cell_type": "code",
   "execution_count": 5504,
   "metadata": {},
   "outputs": [
    {
     "name": "stdout",
     "output_type": "stream",
     "text": [
      "             precision    recall  f1-score   support\n",
      "\n",
      "          0       0.81      0.73      0.77        93\n",
      "          1       0.75      0.82      0.78        90\n",
      "\n",
      "avg / total       0.78      0.78      0.78       183\n",
      "\n"
     ]
    },
    {
     "data": {
      "image/png": "[encoded data removed]",
      "text/plain": [
       "<Figure size 432x288 with 1 Axes>"
      ]
     },
     "metadata": {},
     "output_type": "display_data"
    }
   ],
   "source": [
    "probs = clf.predict_proba(x_test)\n",
    "preds = probs[:,1]\n",
    "fpr, tpr, threshold = roc_curve(y_test, preds)\n",
    "roc_auc = auc(fpr, tpr)\n",
    "\n",
    "plt.title('Receiver Operating Characteristic')\n",
    "plt.plot(fpr, tpr, 'b', label = 'AUC = %0.2f' % roc_auc)\n",
    "plt.legend(loc = 'lower right')\n",
    "plt.plot([0, 1], [0, 1],'r--')\n",
    "plt.xlim([0, 1])\n",
    "plt.ylim([0, 1])\n",
    "plt.ylabel('True Positive Rate')\n",
    "plt.xlabel('False Positive Rate')\n",
    "print(classification_report(y_test, test_y_pred))\n",
    "plt.show()"
   ]
  },
  {
   "cell_type": "code",
   "execution_count": 5505,
   "metadata": {},
   "outputs": [
    {
     "data": {
      "text/plain": [
       "Text(0.5,1,'2-class Precision-Recall curve: AP=0.79')"
      ]
     },
     "execution_count": 5505,
     "metadata": {},
     "output_type": "execute_result"
    },
    {
     "data": {
      "image/png": "[encoded data removed]",
      "text/plain": [
       "<Figure size 432x288 with 1 Axes>"
      ]
     },
     "metadata": {},
     "output_type": "display_data"
    }
   ],
   "source": [
    "average_precision = average_precision_score(y_test, preds)\n",
    "precision, recall, _ = precision_recall_curve(y_test, preds)\n",
    "\n",
    "plt.step(recall, precision, color='b', alpha=0.2,\n",
    "         where='post')\n",
    "plt.fill_between(recall, precision, step='post', alpha=0.2,\n",
    "                 color='b')\n",
    "\n",
    "plt.xlabel('Recall')\n",
    "plt.ylabel('Precision')\n",
    "plt.ylim([0.0, 1.05])\n",
    "plt.xlim([0.0, 1.0])\n",
    "plt.title('2-class Precision-Recall curve: AP={0:0.2f}'.format(\n",
    "          average_precision))"
   ]
  },
  {
   "cell_type": "code",
   "execution_count": null,
   "metadata": {},
   "outputs": [],
   "source": []
  },
  {
   "cell_type": "code",
   "execution_count": null,
   "metadata": {},
   "outputs": [],
   "source": []
  },
  {
   "cell_type": "code",
   "execution_count": null,
   "metadata": {},
   "outputs": [],
   "source": []
  },
  {
   "cell_type": "markdown",
   "metadata": {},
   "source": [
    "# Random Forest"
   ]
  },
  {
   "cell_type": "code",
   "execution_count": 5506,
   "metadata": {},
   "outputs": [
    {
     "name": "stdout",
     "output_type": "stream",
     "text": [
      "Accuracy of random forest classifier on test set: 0.78\n"
     ]
    }
   ],
   "source": [
    "randomForest = RandomForestClassifier( max_depth=3, max_features=5, min_samples_split=3, n_estimators=100)\n",
    "randomForest.fit(x_train, y_train)\n",
    "print('Accuracy of random forest classifier on test set: {:.2f}'.format(randomForest.score(x_test, y_test)))"
   ]
  },
  {
   "cell_type": "code",
   "execution_count": 5507,
   "metadata": {},
   "outputs": [
    {
     "data": {
      "text/plain": [
       "array([[71, 22],\n",
       "       [19, 71]], dtype=int64)"
      ]
     },
     "execution_count": 5507,
     "metadata": {},
     "output_type": "execute_result"
    }
   ],
   "source": [
    "test_y_pred = randomForest.predict(x_test)\n",
    "cf_mt = confusion_matrix(y_test, test_y_pred)\n",
    "cf_mt"
   ]
  },
  {
   "cell_type": "code",
   "execution_count": 5508,
   "metadata": {},
   "outputs": [
    {
     "name": "stdout",
     "output_type": "stream",
     "text": [
      "0.7759562841530054\n",
      "Accuracy: 0.777 (0.068)\n",
      "Logloss: -0.487 (0.091)\n",
      "AUC: 0.861 (0.074)\n",
      "[[73 20]\n",
      " [18 72]]\n"
     ]
    },
    {
     "data": {
      "text/plain": [
       "Text(0.5,15,'Predicted label')"
      ]
     },
     "execution_count": 5508,
     "metadata": {},
     "output_type": "execute_result"
    },
    {
     "data": {
      "image/png": "[encoded data removed]",
      "text/plain": [
       "<Figure size 432x288 with 2 Axes>"
      ]
     },
     "metadata": {},
     "output_type": "display_data"
    }
   ],
   "source": [
    "print(randomForest.score(x_test, y_test))\n",
    "seed = 7\n",
    "k_fold = KFold(n_splits=10, random_state=seed)\n",
    "scoring = 'accuracy'\n",
    "results = results=cross_val_score(randomForest, x_test, y_test, cv=k_fold, n_jobs=1, scoring=scoring)\n",
    "print(\"Accuracy: %.3f (%.3f)\" % (results.mean(), results.std()))\n",
    "scoring = 'neg_log_loss'\n",
    "results = results=cross_val_score(randomForest, x_test, y_test, cv=k_fold, n_jobs=1, scoring=scoring)\n",
    "print(\"Logloss: %.3f (%.3f)\" % (results.mean(), results.std()))\n",
    "scoring = 'roc_auc'\n",
    "results = results=cross_val_score(randomForest, x_test, y_test, cv=k_fold, n_jobs=1, scoring=scoring)\n",
    "print(\"AUC: %.3f (%.3f)\" % (results.mean(), results.std()))\n",
    "\n",
    "randomForest.fit(x_train,y_train)\n",
    "predicted=randomForest.predict(x_test)\n",
    "matrix = confusion_matrix(y_test, predicted)\n",
    "print(matrix)\n",
    "\n",
    "\n",
    "confusion_matrix_df = pd.DataFrame(matrix, ('False', 'True'), ('False', 'True'))\n",
    "heatmap = sns.heatmap(confusion_matrix_df, annot=True, annot_kws={\"size\": 20}, fmt=\"d\")\n",
    "heatmap.yaxis.set_ticklabels(heatmap.yaxis.get_ticklabels(), rotation=0, ha='right', fontsize = 14)\n",
    "heatmap.xaxis.set_ticklabels(heatmap.xaxis.get_ticklabels(), rotation=45, ha='right', fontsize = 14)\n",
    "plt.ylabel('True label', fontsize = 14)\n",
    "plt.xlabel('Predicted label', fontsize = 14)"
   ]
  },
  {
   "cell_type": "code",
   "execution_count": 5509,
   "metadata": {},
   "outputs": [
    {
     "data": {
      "image/png": "[encoded data removed]",
      "text/plain": [
       "<Figure size 432x288 with 1 Axes>"
      ]
     },
     "metadata": {},
     "output_type": "display_data"
    }
   ],
   "source": [
    "probs = randomForest.predict_proba(x_test)\n",
    "preds = probs[:,1]\n",
    "fpr, tpr, threshold = roc_curve(y_test, preds)\n",
    "roc_auc = auc(fpr, tpr)\n",
    "\n",
    "\n",
    "plt.title('Receiver Operating Characteristic')\n",
    "plt.plot(fpr, tpr, 'b', label = 'AUC = %0.2f' % roc_auc)\n",
    "plt.legend(loc = 'lower right')\n",
    "plt.plot([0, 1], [0, 1],'r--')\n",
    "plt.xlim([0, 1])\n",
    "plt.ylim([0, 1])\n",
    "plt.ylabel('True Positive Rate')\n",
    "plt.xlabel('False Positive Rate')\n",
    "plt.show()"
   ]
  },
  {
   "cell_type": "code",
   "execution_count": 5510,
   "metadata": {},
   "outputs": [
    {
     "name": "stdout",
     "output_type": "stream",
     "text": [
      "Feature ranking:\n",
      "1. feature 0 (0.386982)\n",
      "2. feature 4 (0.131818)\n",
      "3. feature 3 (0.105512)\n",
      "4. feature 5 (0.104567)\n",
      "5. feature 2 (0.088813)\n",
      "6. feature 6 (0.075339)\n",
      "7. feature 1 (0.061002)\n",
      "8. feature 9 (0.028837)\n",
      "9. feature 7 (0.014937)\n",
      "10. feature 8 (0.002193)\n"
     ]
    },
    {
     "data": {
      "image/png": "[encoded data removed]",
      "text/plain": [
       "<Figure size 432x288 with 1 Axes>"
      ]
     },
     "metadata": {},
     "output_type": "display_data"
    }
   ],
   "source": [
    "importances = randomForest.feature_importances_\n",
    "std = np.std([tree.feature_importances_ for tree in randomForest.estimators_],\n",
    "             axis=0)\n",
    "indices = np.argsort(importances)[::-1]\n",
    "\n",
    "# Print the feature ranking\n",
    "print(\"Feature ranking:\")\n",
    "\n",
    "for f in range(golden_x.shape[1]):\n",
    "    print(\"%d. feature %d (%f)\" % (f + 1, indices[f], importances[indices[f]]))\n",
    "\n",
    "# Plot the feature importances of the forest\n",
    "plt.figure()\n",
    "plt.title(\"Feature importances\")\n",
    "plt.bar(range(golden_x.shape[1]), importances[indices],\n",
    "       color=\"r\", yerr=std[indices], align=\"center\")\n",
    "plt.xticks(range(golden_x.shape[1]), indices)\n",
    "plt.xlim([-1, golden_x.shape[1]])\n",
    "plt.show()"
   ]
  },
  {
   "cell_type": "code",
   "execution_count": 5511,
   "metadata": {},
   "outputs": [],
   "source": [
    "clf = RandomForestClassifier(n_jobs=-1)\n",
    "\n",
    "param_grid = {\n",
    "    'min_samples_split': [3, 5, 10], \n",
    "    'n_estimators' : [100, 300],\n",
    "    'max_depth': [3, 5, 15, 25],\n",
    "    'max_features': [3, 5,8]\n",
    "}\n",
    "\n",
    "scorers = {\n",
    "    'precision_score': make_scorer(precision_score),\n",
    "    'recall_score': make_scorer(recall_score),\n",
    "    'accuracy_score': make_scorer(accuracy_score)\n",
    "}"
   ]
  },
  {
   "cell_type": "code",
   "execution_count": 5512,
   "metadata": {},
   "outputs": [],
   "source": [
    "def grid_search_wrapper(refit_score='precision_score'):\n",
    "    \"\"\"\n",
    "    fits a GridSearchCV classifier using refit_score for optimization\n",
    "    prints classifier performance metrics\n",
    "    \"\"\"\n",
    "    skf = StratifiedKFold(n_splits=5)\n",
    "    grid_search = GridSearchCV(clf, param_grid, scoring=scorers, refit=refit_score,\n",
    "                           cv=skf, return_train_score=True, n_jobs=-1)\n",
    "    grid_search.fit(x_train, y_train)\n",
    "\n",
    "    \n",
    "    y_pred = grid_search.predict(x_test)\n",
    "\n",
    "    print('Best params for {}'.format(refit_score))\n",
    "    print(grid_search.best_params_)\n",
    "\n",
    "    # confusion matrix on the test data.\n",
    "    print('\\nConfusion matrix of Random Forest optimized for {} on the test data:'.format(refit_score))\n",
    "    print(pd.DataFrame(confusion_matrix(y_test, y_pred),\n",
    "                 columns=['pred_neg', 'pred_pos'], index=['neg', 'pos']))\n",
    "    return grid_search"
   ]
  },
  {
   "cell_type": "code",
   "execution_count": 5513,
   "metadata": {},
   "outputs": [],
   "source": [
    "#grid_search_clf = grid_search_wrapper(refit_score='precision_score')"
   ]
  },
  {
   "cell_type": "code",
   "execution_count": 5514,
   "metadata": {},
   "outputs": [],
   "source": [
    "# test"
   ]
  },
  {
   "cell_type": "code",
   "execution_count": null,
   "metadata": {},
   "outputs": [],
   "source": []
  },
  {
   "cell_type": "code",
   "execution_count": 5524,
   "metadata": {},
   "outputs": [],
   "source": [
    "# fix random seed for reproducibility\n",
    "seed = 7\n",
    "np.random.seed(seed)\n",
    "def create_baseline():\n",
    "    # create model\n",
    "    model=Sequential()\n",
    "    model.add(Dense(30, input_dim=10, kernel_initializer='normal', activation='relu'))\n",
    "    model.add(Dense(1, kernel_initializer='normal', activation='sigmoid'))\n",
    "    # Compile model\n",
    "    model.compile(loss='binary_crossentropy', optimizer='adam', metrics=['accuracy'])\n",
    "    return model"
   ]
  },
  {
   "cell_type": "code",
   "execution_count": 5525,
   "metadata": {},
   "outputs": [
    {
     "name": "stdout",
     "output_type": "stream",
     "text": [
      "Results: 75.78% (7.13%)\n"
     ]
    }
   ],
   "source": [
    "estimator = KerasClassifier(build_fn=create_baseline, epochs=100, batch_size=5, verbose=0)\n",
    "kfold = StratifiedKFold(n_splits=10, shuffle=True, random_state=seed)\n",
    "results = cross_val_score(estimator, x_train, y_train, cv=kfold)\n",
    "print(\"Results: %.2f%% (%.2f%%)\" % (results.mean()*100, results.std()*100))"
   ]
  },
  {
   "cell_type": "code",
   "execution_count": 5530,
   "metadata": {},
   "outputs": [
    {
     "name": "stdout",
     "output_type": "stream",
     "text": [
      "Standardized: 75.59% (7.35%)\n"
     ]
    }
   ],
   "source": [
    "np.random.seed(seed)\n",
    "estimators = []\n",
    "estimators.append(('mlp', KerasClassifier(build_fn=create_baseline, epochs=100, batch_size=5, verbose=0)))\n",
    "pipeline = Pipeline(estimators)\n",
    "kfold = StratifiedKFold(n_splits=10, shuffle=True, random_state=seed)\n",
    "results = cross_val_score(pipeline, x_train, y_train, cv=kfold)\n",
    "print(\"Standardized: %.2f%% (%.2f%%)\" % (results.mean()*100, results.std()*100))"
   ]
  },
  {
   "cell_type": "code",
   "execution_count": 5531,
   "metadata": {},
   "outputs": [
    {
     "name": "stdout",
     "output_type": "stream",
     "text": [
      "Smaller: 74.67% (6.76%)\n"
     ]
    }
   ],
   "source": [
    "# smaller model\n",
    "def create_smaller():\n",
    "    # create model\n",
    "    model = Sequential()\n",
    "    model.add(Dense(30, input_dim=10, kernel_initializer='normal', activation='relu'))\n",
    "    model.add(Dense(1, kernel_initializer='normal', activation='sigmoid'))\n",
    "    # Compile model\n",
    "    model.compile(loss='binary_crossentropy', optimizer='adam', metrics=['accuracy'])\n",
    "    return model\n",
    "estimators = []\n",
    "estimators.append(('standardize', StandardScaler()))\n",
    "estimators.append(('mlp', KerasClassifier(build_fn=create_smaller, epochs=100, batch_size=5, verbose=0)))\n",
    "pipeline = Pipeline(estimators)\n",
    "kfold = StratifiedKFold(n_splits=10, shuffle=True, random_state=seed)\n",
    "results = cross_val_score(pipeline, x_train, y_train, cv=kfold)\n",
    "print(\"Smaller: %.2f%% (%.2f%%)\" % (results.mean()*100, results.std()*100))"
   ]
  },
  {
   "cell_type": "code",
   "execution_count": null,
   "metadata": {},
   "outputs": [],
   "source": [
    "# larger model\n",
    "def create_larger():\n",
    "    # create model\n",
    "    model = Sequential()\n",
    "    model.add(Dense(60, input_dim=10, kernel_initializer='normal', activation='relu'))\n",
    "    model.add(Dense(30, kernel_initializer='normal', activation='relu'))\n",
    "    model.add(Dense(1, kernel_initializer='normal', activation='sigmoid'))\n",
    "    # Compile model\n",
    "    model.compile(loss='binary_crossentropy', optimizer='adam', metrics=['accuracy'])\n",
    "    return model\n",
    "estimators = []\n",
    "estimators.append(('standardize', StandardScaler()))\n",
    "estimators.append(('mlp', KerasClassifier(build_fn=create_larger, epochs=100, batch_size=5, verbose=0)))\n",
    "pipeline = Pipeline(estimators)\n",
    "kfold = StratifiedKFold(n_splits=10, shuffle=True, random_state=seed)\n",
    "results = cross_val_score(pipeline, x_train, y_train, cv=kfold)\n",
    "print(\"Larger: %.2f%% (%.2f%%)\" % (results.mean()*100, results.std()*100))"
   ]
  },
  {
   "cell_type": "code",
   "execution_count": null,
   "metadata": {},
   "outputs": [],
   "source": []
  }
 ],
 "metadata": {
  "kernelspec": {
   "display_name": "Python 3",
   "language": "python",
   "name": "python3"
  },
  "language_info": {
   "codemirror_mode": {
    "name": "ipython",
    "version": 3
   },
   "file_extension": ".py",
   "mimetype": "text/x-python",
   "name": "python",
   "nbconvert_exporter": "python",
   "pygments_lexer": "ipython3",
   "version": "3.6.4"
  }
 },
 "nbformat": 4,
 "nbformat_minor": 2
}
