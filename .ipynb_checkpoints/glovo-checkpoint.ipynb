{
 "cells": [
  {
   "cell_type": "code",
   "execution_count": 1409,
   "metadata": {},
   "outputs": [],
   "source": [
    "import pandas as pd\n",
    "import numpy as np\n",
    "import matplotlib.pyplot as plt\n",
    "import seaborn as sns\n",
    "import missingno as msno\n",
    "from fancyimpute import KNN    \n",
    "from sklearn.model_selection import train_test_split\n",
    "from sklearn.ensemble import RandomForestClassifier\n",
    "from scipy.stats import uniform\n",
    "from sklearn.preprocessing import StandardScaler,OneHotEncoder, LabelEncoder\n",
    "from sklearn.linear_model import LogisticRegression\n",
    "from sklearn.metrics import confusion_matrix, classification_report\n",
    "from sklearn.model_selection import cross_val_score, KFold, StratifiedKFold\n",
    "from sklearn.metrics import confusion_matrix, classification_report, auc, roc_curve, precision_recall_curve, average_precision_score\n",
    "from sklearn.model_selection import GridSearchCV, RandomizedSearchCV\n",
    "from sklearn.metrics import roc_curve, precision_recall_curve, auc, make_scorer, recall_score, accuracy_score, precision_score, confusion_matrix\n",
    "from sklearn import svm\n",
    "\n",
    "from xgboost.sklearn import XGBClassifier  \n",
    "from xgboost.sklearn import XGBRegressor"
   ]
  },
  {
   "cell_type": "code",
   "execution_count": 4,
   "metadata": {},
   "outputs": [],
   "source": [
    "%matplotlib inline"
   ]
  },
  {
   "cell_type": "code",
   "execution_count": 5,
   "metadata": {},
   "outputs": [],
   "source": [
    "weekly = pd.read_csv(filepath_or_buffer='Courier_weekly_data.csv')"
   ]
  },
  {
   "cell_type": "code",
   "execution_count": 6,
   "metadata": {},
   "outputs": [
    {
     "data": {
      "text/html": [
       "<div>\n",
       "<style scoped>\n",
       "    .dataframe tbody tr th:only-of-type {\n",
       "        vertical-align: middle;\n",
       "    }\n",
       "\n",
       "    .dataframe tbody tr th {\n",
       "        vertical-align: top;\n",
       "    }\n",
       "\n",
       "    .dataframe thead th {\n",
       "        text-align: right;\n",
       "    }\n",
       "</style>\n",
       "<table border=\"1\" class=\"dataframe\">\n",
       "  <thead>\n",
       "    <tr style=\"text-align: right;\">\n",
       "      <th></th>\n",
       "      <th>courier</th>\n",
       "      <th>week</th>\n",
       "      <th>feature_1</th>\n",
       "      <th>feature_2</th>\n",
       "      <th>feature_3</th>\n",
       "      <th>feature_4</th>\n",
       "      <th>feature_5</th>\n",
       "      <th>feature_6</th>\n",
       "      <th>feature_7</th>\n",
       "      <th>feature_8</th>\n",
       "      <th>feature_9</th>\n",
       "      <th>feature_10</th>\n",
       "      <th>feature_11</th>\n",
       "      <th>feature_12</th>\n",
       "      <th>feature_13</th>\n",
       "      <th>feature_14</th>\n",
       "      <th>feature_15</th>\n",
       "      <th>feature_16</th>\n",
       "      <th>feature_17</th>\n",
       "    </tr>\n",
       "  </thead>\n",
       "  <tbody>\n",
       "    <tr>\n",
       "      <th>0</th>\n",
       "      <td>3767</td>\n",
       "      <td>2</td>\n",
       "      <td>6</td>\n",
       "      <td>34</td>\n",
       "      <td>38</td>\n",
       "      <td>0.0789</td>\n",
       "      <td>0.9211</td>\n",
       "      <td>140.4737</td>\n",
       "      <td>0.1316</td>\n",
       "      <td>2162.4737</td>\n",
       "      <td>0.7632</td>\n",
       "      <td>7.340776</td>\n",
       "      <td>8</td>\n",
       "      <td>20.208158</td>\n",
       "      <td>5.236316</td>\n",
       "      <td>0.8158</td>\n",
       "      <td>43.384804</td>\n",
       "      <td>1</td>\n",
       "      <td>19</td>\n",
       "    </tr>\n",
       "    <tr>\n",
       "      <th>1</th>\n",
       "      <td>3767</td>\n",
       "      <td>4</td>\n",
       "      <td>-1</td>\n",
       "      <td>42</td>\n",
       "      <td>37</td>\n",
       "      <td>0.0000</td>\n",
       "      <td>1.0000</td>\n",
       "      <td>135.5946</td>\n",
       "      <td>0.0811</td>\n",
       "      <td>2097.4054</td>\n",
       "      <td>0.9459</td>\n",
       "      <td>11.883784</td>\n",
       "      <td>19</td>\n",
       "      <td>18.855405</td>\n",
       "      <td>5.689459</td>\n",
       "      <td>0.8919</td>\n",
       "      <td>35.078042</td>\n",
       "      <td>3</td>\n",
       "      <td>11</td>\n",
       "    </tr>\n",
       "    <tr>\n",
       "      <th>2</th>\n",
       "      <td>3767</td>\n",
       "      <td>5</td>\n",
       "      <td>24</td>\n",
       "      <td>41</td>\n",
       "      <td>43</td>\n",
       "      <td>0.0233</td>\n",
       "      <td>0.9767</td>\n",
       "      <td>131.0930</td>\n",
       "      <td>0.0233</td>\n",
       "      <td>2043.8837</td>\n",
       "      <td>0.9302</td>\n",
       "      <td>7.072100</td>\n",
       "      <td>16</td>\n",
       "      <td>18.925116</td>\n",
       "      <td>5.138605</td>\n",
       "      <td>0.9302</td>\n",
       "      <td>31.455285</td>\n",
       "      <td>1</td>\n",
       "      <td>10</td>\n",
       "    </tr>\n",
       "    <tr>\n",
       "      <th>3</th>\n",
       "      <td>3767</td>\n",
       "      <td>6</td>\n",
       "      <td>-22</td>\n",
       "      <td>65</td>\n",
       "      <td>66</td>\n",
       "      <td>0.0606</td>\n",
       "      <td>0.9394</td>\n",
       "      <td>120.1515</td>\n",
       "      <td>0.0000</td>\n",
       "      <td>2124.2727</td>\n",
       "      <td>0.7727</td>\n",
       "      <td>7.356567</td>\n",
       "      <td>33</td>\n",
       "      <td>18.259697</td>\n",
       "      <td>4.704394</td>\n",
       "      <td>0.7879</td>\n",
       "      <td>34.252991</td>\n",
       "      <td>1</td>\n",
       "      <td>30</td>\n",
       "    </tr>\n",
       "    <tr>\n",
       "      <th>4</th>\n",
       "      <td>6282</td>\n",
       "      <td>2</td>\n",
       "      <td>9</td>\n",
       "      <td>33</td>\n",
       "      <td>27</td>\n",
       "      <td>0.0741</td>\n",
       "      <td>0.9259</td>\n",
       "      <td>100.0000</td>\n",
       "      <td>0.0370</td>\n",
       "      <td>4075.7407</td>\n",
       "      <td>0.8889</td>\n",
       "      <td>8.501233</td>\n",
       "      <td>5</td>\n",
       "      <td>26.863704</td>\n",
       "      <td>4.828519</td>\n",
       "      <td>0.8889</td>\n",
       "      <td>46.478114</td>\n",
       "      <td>1</td>\n",
       "      <td>4</td>\n",
       "    </tr>\n",
       "    <tr>\n",
       "      <th>5</th>\n",
       "      <td>6282</td>\n",
       "      <td>3</td>\n",
       "      <td>-20</td>\n",
       "      <td>42</td>\n",
       "      <td>56</td>\n",
       "      <td>0.0536</td>\n",
       "      <td>0.9464</td>\n",
       "      <td>113.4821</td>\n",
       "      <td>0.0357</td>\n",
       "      <td>4777.0714</td>\n",
       "      <td>0.9107</td>\n",
       "      <td>8.210125</td>\n",
       "      <td>16</td>\n",
       "      <td>23.651786</td>\n",
       "      <td>5.553571</td>\n",
       "      <td>0.9107</td>\n",
       "      <td>79.407407</td>\n",
       "      <td>2</td>\n",
       "      <td>5</td>\n",
       "    </tr>\n",
       "    <tr>\n",
       "      <th>6</th>\n",
       "      <td>6282</td>\n",
       "      <td>4</td>\n",
       "      <td>9</td>\n",
       "      <td>22</td>\n",
       "      <td>32</td>\n",
       "      <td>0.1250</td>\n",
       "      <td>0.8750</td>\n",
       "      <td>105.0000</td>\n",
       "      <td>0.0938</td>\n",
       "      <td>5744.1875</td>\n",
       "      <td>0.8125</td>\n",
       "      <td>8.285422</td>\n",
       "      <td>12</td>\n",
       "      <td>18.180937</td>\n",
       "      <td>5.834375</td>\n",
       "      <td>0.7813</td>\n",
       "      <td>87.250000</td>\n",
       "      <td>1</td>\n",
       "      <td>2</td>\n",
       "    </tr>\n",
       "    <tr>\n",
       "      <th>7</th>\n",
       "      <td>6282</td>\n",
       "      <td>5</td>\n",
       "      <td>21</td>\n",
       "      <td>31</td>\n",
       "      <td>48</td>\n",
       "      <td>0.0417</td>\n",
       "      <td>0.9583</td>\n",
       "      <td>117.2500</td>\n",
       "      <td>0.0833</td>\n",
       "      <td>4011.7708</td>\n",
       "      <td>0.9167</td>\n",
       "      <td>9.768052</td>\n",
       "      <td>17</td>\n",
       "      <td>20.346667</td>\n",
       "      <td>5.615417</td>\n",
       "      <td>0.9167</td>\n",
       "      <td>85.083333</td>\n",
       "      <td>2</td>\n",
       "      <td>9</td>\n",
       "    </tr>\n",
       "    <tr>\n",
       "      <th>8</th>\n",
       "      <td>6282</td>\n",
       "      <td>6</td>\n",
       "      <td>-12</td>\n",
       "      <td>52</td>\n",
       "      <td>72</td>\n",
       "      <td>0.0694</td>\n",
       "      <td>0.9306</td>\n",
       "      <td>107.6389</td>\n",
       "      <td>0.0417</td>\n",
       "      <td>4000.3333</td>\n",
       "      <td>0.8472</td>\n",
       "      <td>7.736114</td>\n",
       "      <td>17</td>\n",
       "      <td>21.941111</td>\n",
       "      <td>5.093056</td>\n",
       "      <td>0.8750</td>\n",
       "      <td>73.904915</td>\n",
       "      <td>1</td>\n",
       "      <td>13</td>\n",
       "    </tr>\n",
       "    <tr>\n",
       "      <th>9</th>\n",
       "      <td>6282</td>\n",
       "      <td>7</td>\n",
       "      <td>1</td>\n",
       "      <td>40</td>\n",
       "      <td>56</td>\n",
       "      <td>0.0893</td>\n",
       "      <td>0.9107</td>\n",
       "      <td>124.3750</td>\n",
       "      <td>0.0893</td>\n",
       "      <td>3192.0000</td>\n",
       "      <td>0.9107</td>\n",
       "      <td>7.405355</td>\n",
       "      <td>11</td>\n",
       "      <td>18.591071</td>\n",
       "      <td>5.353214</td>\n",
       "      <td>0.9107</td>\n",
       "      <td>65.618750</td>\n",
       "      <td>2</td>\n",
       "      <td>4</td>\n",
       "    </tr>\n",
       "    <tr>\n",
       "      <th>10</th>\n",
       "      <td>6282</td>\n",
       "      <td>9</td>\n",
       "      <td>5</td>\n",
       "      <td>34</td>\n",
       "      <td>40</td>\n",
       "      <td>0.0250</td>\n",
       "      <td>0.9750</td>\n",
       "      <td>100.0000</td>\n",
       "      <td>0.0000</td>\n",
       "      <td>4124.5250</td>\n",
       "      <td>0.9250</td>\n",
       "      <td>7.535005</td>\n",
       "      <td>10</td>\n",
       "      <td>21.523250</td>\n",
       "      <td>4.685000</td>\n",
       "      <td>0.9250</td>\n",
       "      <td>67.201797</td>\n",
       "      <td>2</td>\n",
       "      <td>3</td>\n",
       "    </tr>\n",
       "    <tr>\n",
       "      <th>11</th>\n",
       "      <td>6282</td>\n",
       "      <td>10</td>\n",
       "      <td>1</td>\n",
       "      <td>39</td>\n",
       "      <td>47</td>\n",
       "      <td>0.0638</td>\n",
       "      <td>0.9362</td>\n",
       "      <td>103.8298</td>\n",
       "      <td>0.0638</td>\n",
       "      <td>4378.7021</td>\n",
       "      <td>0.9149</td>\n",
       "      <td>6.772336</td>\n",
       "      <td>10</td>\n",
       "      <td>19.023404</td>\n",
       "      <td>5.033191</td>\n",
       "      <td>0.8936</td>\n",
       "      <td>61.633191</td>\n",
       "      <td>1</td>\n",
       "      <td>6</td>\n",
       "    </tr>\n",
       "    <tr>\n",
       "      <th>12</th>\n",
       "      <td>6282</td>\n",
       "      <td>11</td>\n",
       "      <td>10</td>\n",
       "      <td>40</td>\n",
       "      <td>41</td>\n",
       "      <td>0.0000</td>\n",
       "      <td>1.0000</td>\n",
       "      <td>100.0000</td>\n",
       "      <td>0.0488</td>\n",
       "      <td>4432.4146</td>\n",
       "      <td>0.9756</td>\n",
       "      <td>8.825612</td>\n",
       "      <td>12</td>\n",
       "      <td>18.789024</td>\n",
       "      <td>4.694878</td>\n",
       "      <td>0.9512</td>\n",
       "      <td>60.953472</td>\n",
       "      <td>3</td>\n",
       "      <td>9</td>\n",
       "    </tr>\n",
       "    <tr>\n",
       "      <th>13</th>\n",
       "      <td>10622</td>\n",
       "      <td>0</td>\n",
       "      <td>5</td>\n",
       "      <td>82</td>\n",
       "      <td>45</td>\n",
       "      <td>0.1111</td>\n",
       "      <td>0.8889</td>\n",
       "      <td>100.0000</td>\n",
       "      <td>0.0889</td>\n",
       "      <td>2476.2889</td>\n",
       "      <td>0.5333</td>\n",
       "      <td>10.693702</td>\n",
       "      <td>19</td>\n",
       "      <td>24.368889</td>\n",
       "      <td>4.148000</td>\n",
       "      <td>0.6222</td>\n",
       "      <td>29.115176</td>\n",
       "      <td>3</td>\n",
       "      <td>18</td>\n",
       "    </tr>\n",
       "    <tr>\n",
       "      <th>14</th>\n",
       "      <td>10622</td>\n",
       "      <td>1</td>\n",
       "      <td>-12</td>\n",
       "      <td>87</td>\n",
       "      <td>63</td>\n",
       "      <td>0.1270</td>\n",
       "      <td>0.8730</td>\n",
       "      <td>100.3175</td>\n",
       "      <td>0.0635</td>\n",
       "      <td>2677.4921</td>\n",
       "      <td>0.7143</td>\n",
       "      <td>9.706087</td>\n",
       "      <td>22</td>\n",
       "      <td>18.767143</td>\n",
       "      <td>4.211746</td>\n",
       "      <td>0.6984</td>\n",
       "      <td>42.177203</td>\n",
       "      <td>2</td>\n",
       "      <td>13</td>\n",
       "    </tr>\n",
       "    <tr>\n",
       "      <th>15</th>\n",
       "      <td>13096</td>\n",
       "      <td>5</td>\n",
       "      <td>-10</td>\n",
       "      <td>64</td>\n",
       "      <td>95</td>\n",
       "      <td>0.1684</td>\n",
       "      <td>0.8316</td>\n",
       "      <td>108.1158</td>\n",
       "      <td>0.0737</td>\n",
       "      <td>4656.7053</td>\n",
       "      <td>0.7053</td>\n",
       "      <td>10.152813</td>\n",
       "      <td>40</td>\n",
       "      <td>17.065895</td>\n",
       "      <td>5.373368</td>\n",
       "      <td>0.7263</td>\n",
       "      <td>83.052951</td>\n",
       "      <td>2</td>\n",
       "      <td>25</td>\n",
       "    </tr>\n",
       "    <tr>\n",
       "      <th>16</th>\n",
       "      <td>13096</td>\n",
       "      <td>6</td>\n",
       "      <td>10</td>\n",
       "      <td>54</td>\n",
       "      <td>84</td>\n",
       "      <td>0.1548</td>\n",
       "      <td>0.8452</td>\n",
       "      <td>100.4762</td>\n",
       "      <td>0.0119</td>\n",
       "      <td>4523.8452</td>\n",
       "      <td>0.6667</td>\n",
       "      <td>9.108531</td>\n",
       "      <td>29</td>\n",
       "      <td>18.738929</td>\n",
       "      <td>4.960000</td>\n",
       "      <td>0.7143</td>\n",
       "      <td>85.643004</td>\n",
       "      <td>4</td>\n",
       "      <td>13</td>\n",
       "    </tr>\n",
       "    <tr>\n",
       "      <th>17</th>\n",
       "      <td>13096</td>\n",
       "      <td>8</td>\n",
       "      <td>1</td>\n",
       "      <td>53</td>\n",
       "      <td>74</td>\n",
       "      <td>0.0541</td>\n",
       "      <td>0.9459</td>\n",
       "      <td>106.3108</td>\n",
       "      <td>0.0270</td>\n",
       "      <td>3612.4730</td>\n",
       "      <td>0.8784</td>\n",
       "      <td>9.488968</td>\n",
       "      <td>23</td>\n",
       "      <td>22.553108</td>\n",
       "      <td>4.997838</td>\n",
       "      <td>0.8514</td>\n",
       "      <td>73.030398</td>\n",
       "      <td>5</td>\n",
       "      <td>12</td>\n",
       "    </tr>\n",
       "    <tr>\n",
       "      <th>18</th>\n",
       "      <td>13096</td>\n",
       "      <td>9</td>\n",
       "      <td>26</td>\n",
       "      <td>54</td>\n",
       "      <td>80</td>\n",
       "      <td>0.0750</td>\n",
       "      <td>0.9250</td>\n",
       "      <td>105.2250</td>\n",
       "      <td>0.0250</td>\n",
       "      <td>3866.3375</td>\n",
       "      <td>0.8750</td>\n",
       "      <td>9.412291</td>\n",
       "      <td>24</td>\n",
       "      <td>20.007375</td>\n",
       "      <td>5.083250</td>\n",
       "      <td>0.8625</td>\n",
       "      <td>76.819444</td>\n",
       "      <td>2</td>\n",
       "      <td>12</td>\n",
       "    </tr>\n",
       "    <tr>\n",
       "      <th>19</th>\n",
       "      <td>13096</td>\n",
       "      <td>10</td>\n",
       "      <td>21</td>\n",
       "      <td>80</td>\n",
       "      <td>71</td>\n",
       "      <td>0.0282</td>\n",
       "      <td>0.9718</td>\n",
       "      <td>111.4930</td>\n",
       "      <td>0.0704</td>\n",
       "      <td>4339.7887</td>\n",
       "      <td>0.8873</td>\n",
       "      <td>9.108214</td>\n",
       "      <td>40</td>\n",
       "      <td>20.889014</td>\n",
       "      <td>5.196901</td>\n",
       "      <td>0.8732</td>\n",
       "      <td>47.096181</td>\n",
       "      <td>1</td>\n",
       "      <td>9</td>\n",
       "    </tr>\n",
       "  </tbody>\n",
       "</table>\n",
       "</div>"
      ],
      "text/plain": [
       "    courier  week  feature_1  feature_2  feature_3  feature_4  feature_5  \\\n",
       "0      3767     2          6         34         38     0.0789     0.9211   \n",
       "1      3767     4         -1         42         37     0.0000     1.0000   \n",
       "2      3767     5         24         41         43     0.0233     0.9767   \n",
       "3      3767     6        -22         65         66     0.0606     0.9394   \n",
       "4      6282     2          9         33         27     0.0741     0.9259   \n",
       "5      6282     3        -20         42         56     0.0536     0.9464   \n",
       "6      6282     4          9         22         32     0.1250     0.8750   \n",
       "7      6282     5         21         31         48     0.0417     0.9583   \n",
       "8      6282     6        -12         52         72     0.0694     0.9306   \n",
       "9      6282     7          1         40         56     0.0893     0.9107   \n",
       "10     6282     9          5         34         40     0.0250     0.9750   \n",
       "11     6282    10          1         39         47     0.0638     0.9362   \n",
       "12     6282    11         10         40         41     0.0000     1.0000   \n",
       "13    10622     0          5         82         45     0.1111     0.8889   \n",
       "14    10622     1        -12         87         63     0.1270     0.8730   \n",
       "15    13096     5        -10         64         95     0.1684     0.8316   \n",
       "16    13096     6         10         54         84     0.1548     0.8452   \n",
       "17    13096     8          1         53         74     0.0541     0.9459   \n",
       "18    13096     9         26         54         80     0.0750     0.9250   \n",
       "19    13096    10         21         80         71     0.0282     0.9718   \n",
       "\n",
       "    feature_6  feature_7  feature_8  feature_9  feature_10  feature_11  \\\n",
       "0    140.4737     0.1316  2162.4737     0.7632    7.340776           8   \n",
       "1    135.5946     0.0811  2097.4054     0.9459   11.883784          19   \n",
       "2    131.0930     0.0233  2043.8837     0.9302    7.072100          16   \n",
       "3    120.1515     0.0000  2124.2727     0.7727    7.356567          33   \n",
       "4    100.0000     0.0370  4075.7407     0.8889    8.501233           5   \n",
       "5    113.4821     0.0357  4777.0714     0.9107    8.210125          16   \n",
       "6    105.0000     0.0938  5744.1875     0.8125    8.285422          12   \n",
       "7    117.2500     0.0833  4011.7708     0.9167    9.768052          17   \n",
       "8    107.6389     0.0417  4000.3333     0.8472    7.736114          17   \n",
       "9    124.3750     0.0893  3192.0000     0.9107    7.405355          11   \n",
       "10   100.0000     0.0000  4124.5250     0.9250    7.535005          10   \n",
       "11   103.8298     0.0638  4378.7021     0.9149    6.772336          10   \n",
       "12   100.0000     0.0488  4432.4146     0.9756    8.825612          12   \n",
       "13   100.0000     0.0889  2476.2889     0.5333   10.693702          19   \n",
       "14   100.3175     0.0635  2677.4921     0.7143    9.706087          22   \n",
       "15   108.1158     0.0737  4656.7053     0.7053   10.152813          40   \n",
       "16   100.4762     0.0119  4523.8452     0.6667    9.108531          29   \n",
       "17   106.3108     0.0270  3612.4730     0.8784    9.488968          23   \n",
       "18   105.2250     0.0250  3866.3375     0.8750    9.412291          24   \n",
       "19   111.4930     0.0704  4339.7887     0.8873    9.108214          40   \n",
       "\n",
       "    feature_12  feature_13  feature_14  feature_15  feature_16  feature_17  \n",
       "0    20.208158    5.236316      0.8158   43.384804           1          19  \n",
       "1    18.855405    5.689459      0.8919   35.078042           3          11  \n",
       "2    18.925116    5.138605      0.9302   31.455285           1          10  \n",
       "3    18.259697    4.704394      0.7879   34.252991           1          30  \n",
       "4    26.863704    4.828519      0.8889   46.478114           1           4  \n",
       "5    23.651786    5.553571      0.9107   79.407407           2           5  \n",
       "6    18.180937    5.834375      0.7813   87.250000           1           2  \n",
       "7    20.346667    5.615417      0.9167   85.083333           2           9  \n",
       "8    21.941111    5.093056      0.8750   73.904915           1          13  \n",
       "9    18.591071    5.353214      0.9107   65.618750           2           4  \n",
       "10   21.523250    4.685000      0.9250   67.201797           2           3  \n",
       "11   19.023404    5.033191      0.8936   61.633191           1           6  \n",
       "12   18.789024    4.694878      0.9512   60.953472           3           9  \n",
       "13   24.368889    4.148000      0.6222   29.115176           3          18  \n",
       "14   18.767143    4.211746      0.6984   42.177203           2          13  \n",
       "15   17.065895    5.373368      0.7263   83.052951           2          25  \n",
       "16   18.738929    4.960000      0.7143   85.643004           4          13  \n",
       "17   22.553108    4.997838      0.8514   73.030398           5          12  \n",
       "18   20.007375    5.083250      0.8625   76.819444           2          12  \n",
       "19   20.889014    5.196901      0.8732   47.096181           1           9  "
      ]
     },
     "execution_count": 6,
     "metadata": {},
     "output_type": "execute_result"
    }
   ],
   "source": [
    "weekly.head(20)"
   ]
  },
  {
   "cell_type": "code",
   "execution_count": null,
   "metadata": {},
   "outputs": [],
   "source": []
  },
  {
   "cell_type": "code",
   "execution_count": 7,
   "metadata": {},
   "outputs": [
    {
     "data": {
      "text/plain": [
       "387"
      ]
     },
     "execution_count": 7,
     "metadata": {},
     "output_type": "execute_result"
    }
   ],
   "source": [
    "weekly[(weekly.week==11) | (weekly.week==10) | (weekly.week==9)]['courier'].drop_duplicates().count()\n"
   ]
  },
  {
   "cell_type": "code",
   "execution_count": 8,
   "metadata": {},
   "outputs": [],
   "source": [
    "weeks=weekly.copy()"
   ]
  },
  {
   "cell_type": "code",
   "execution_count": 9,
   "metadata": {},
   "outputs": [],
   "source": [
    "def week_label(row):\n",
    "    courier_set=weekly[(weekly.courier==row['courier']) & ((weekly.week==9) | (weekly.week==10) |(weekly.week==11))]\n",
    "    if courier_set['courier'].count() == 0:\n",
    "        label=1\n",
    "    else: \n",
    "        label=0\n",
    "    return label"
   ]
  },
  {
   "cell_type": "code",
   "execution_count": 10,
   "metadata": {},
   "outputs": [],
   "source": [
    "weeks['label']=weeks.apply(week_label, axis=1)\n"
   ]
  },
  {
   "cell_type": "code",
   "execution_count": 11,
   "metadata": {},
   "outputs": [],
   "source": [
    "weeks=weeks[(weeks.week<8)]"
   ]
  },
  {
   "cell_type": "code",
   "execution_count": 12,
   "metadata": {},
   "outputs": [
    {
     "data": {
      "text/html": [
       "<div>\n",
       "<style scoped>\n",
       "    .dataframe tbody tr th:only-of-type {\n",
       "        vertical-align: middle;\n",
       "    }\n",
       "\n",
       "    .dataframe tbody tr th {\n",
       "        vertical-align: top;\n",
       "    }\n",
       "\n",
       "    .dataframe thead th {\n",
       "        text-align: right;\n",
       "    }\n",
       "</style>\n",
       "<table border=\"1\" class=\"dataframe\">\n",
       "  <thead>\n",
       "    <tr style=\"text-align: right;\">\n",
       "      <th></th>\n",
       "      <th>courier</th>\n",
       "      <th>week</th>\n",
       "      <th>feature_1</th>\n",
       "      <th>feature_2</th>\n",
       "      <th>feature_3</th>\n",
       "      <th>feature_4</th>\n",
       "      <th>feature_5</th>\n",
       "      <th>feature_6</th>\n",
       "      <th>feature_7</th>\n",
       "      <th>feature_8</th>\n",
       "      <th>feature_9</th>\n",
       "      <th>feature_10</th>\n",
       "      <th>feature_11</th>\n",
       "      <th>feature_12</th>\n",
       "      <th>feature_13</th>\n",
       "      <th>feature_14</th>\n",
       "      <th>feature_15</th>\n",
       "      <th>feature_16</th>\n",
       "      <th>feature_17</th>\n",
       "      <th>label</th>\n",
       "    </tr>\n",
       "  </thead>\n",
       "  <tbody>\n",
       "    <tr>\n",
       "      <th>0</th>\n",
       "      <td>3767</td>\n",
       "      <td>2</td>\n",
       "      <td>6</td>\n",
       "      <td>34</td>\n",
       "      <td>38</td>\n",
       "      <td>0.0789</td>\n",
       "      <td>0.9211</td>\n",
       "      <td>140.4737</td>\n",
       "      <td>0.1316</td>\n",
       "      <td>2162.4737</td>\n",
       "      <td>0.7632</td>\n",
       "      <td>7.340776</td>\n",
       "      <td>8</td>\n",
       "      <td>20.208158</td>\n",
       "      <td>5.236316</td>\n",
       "      <td>0.8158</td>\n",
       "      <td>43.384804</td>\n",
       "      <td>1</td>\n",
       "      <td>19</td>\n",
       "      <td>1</td>\n",
       "    </tr>\n",
       "    <tr>\n",
       "      <th>1</th>\n",
       "      <td>3767</td>\n",
       "      <td>4</td>\n",
       "      <td>-1</td>\n",
       "      <td>42</td>\n",
       "      <td>37</td>\n",
       "      <td>0.0000</td>\n",
       "      <td>1.0000</td>\n",
       "      <td>135.5946</td>\n",
       "      <td>0.0811</td>\n",
       "      <td>2097.4054</td>\n",
       "      <td>0.9459</td>\n",
       "      <td>11.883784</td>\n",
       "      <td>19</td>\n",
       "      <td>18.855405</td>\n",
       "      <td>5.689459</td>\n",
       "      <td>0.8919</td>\n",
       "      <td>35.078042</td>\n",
       "      <td>3</td>\n",
       "      <td>11</td>\n",
       "      <td>1</td>\n",
       "    </tr>\n",
       "    <tr>\n",
       "      <th>2</th>\n",
       "      <td>3767</td>\n",
       "      <td>5</td>\n",
       "      <td>24</td>\n",
       "      <td>41</td>\n",
       "      <td>43</td>\n",
       "      <td>0.0233</td>\n",
       "      <td>0.9767</td>\n",
       "      <td>131.0930</td>\n",
       "      <td>0.0233</td>\n",
       "      <td>2043.8837</td>\n",
       "      <td>0.9302</td>\n",
       "      <td>7.072100</td>\n",
       "      <td>16</td>\n",
       "      <td>18.925116</td>\n",
       "      <td>5.138605</td>\n",
       "      <td>0.9302</td>\n",
       "      <td>31.455285</td>\n",
       "      <td>1</td>\n",
       "      <td>10</td>\n",
       "      <td>1</td>\n",
       "    </tr>\n",
       "    <tr>\n",
       "      <th>3</th>\n",
       "      <td>3767</td>\n",
       "      <td>6</td>\n",
       "      <td>-22</td>\n",
       "      <td>65</td>\n",
       "      <td>66</td>\n",
       "      <td>0.0606</td>\n",
       "      <td>0.9394</td>\n",
       "      <td>120.1515</td>\n",
       "      <td>0.0000</td>\n",
       "      <td>2124.2727</td>\n",
       "      <td>0.7727</td>\n",
       "      <td>7.356567</td>\n",
       "      <td>33</td>\n",
       "      <td>18.259697</td>\n",
       "      <td>4.704394</td>\n",
       "      <td>0.7879</td>\n",
       "      <td>34.252991</td>\n",
       "      <td>1</td>\n",
       "      <td>30</td>\n",
       "      <td>1</td>\n",
       "    </tr>\n",
       "    <tr>\n",
       "      <th>4</th>\n",
       "      <td>6282</td>\n",
       "      <td>2</td>\n",
       "      <td>9</td>\n",
       "      <td>33</td>\n",
       "      <td>27</td>\n",
       "      <td>0.0741</td>\n",
       "      <td>0.9259</td>\n",
       "      <td>100.0000</td>\n",
       "      <td>0.0370</td>\n",
       "      <td>4075.7407</td>\n",
       "      <td>0.8889</td>\n",
       "      <td>8.501233</td>\n",
       "      <td>5</td>\n",
       "      <td>26.863704</td>\n",
       "      <td>4.828519</td>\n",
       "      <td>0.8889</td>\n",
       "      <td>46.478114</td>\n",
       "      <td>1</td>\n",
       "      <td>4</td>\n",
       "      <td>0</td>\n",
       "    </tr>\n",
       "    <tr>\n",
       "      <th>5</th>\n",
       "      <td>6282</td>\n",
       "      <td>3</td>\n",
       "      <td>-20</td>\n",
       "      <td>42</td>\n",
       "      <td>56</td>\n",
       "      <td>0.0536</td>\n",
       "      <td>0.9464</td>\n",
       "      <td>113.4821</td>\n",
       "      <td>0.0357</td>\n",
       "      <td>4777.0714</td>\n",
       "      <td>0.9107</td>\n",
       "      <td>8.210125</td>\n",
       "      <td>16</td>\n",
       "      <td>23.651786</td>\n",
       "      <td>5.553571</td>\n",
       "      <td>0.9107</td>\n",
       "      <td>79.407407</td>\n",
       "      <td>2</td>\n",
       "      <td>5</td>\n",
       "      <td>0</td>\n",
       "    </tr>\n",
       "    <tr>\n",
       "      <th>6</th>\n",
       "      <td>6282</td>\n",
       "      <td>4</td>\n",
       "      <td>9</td>\n",
       "      <td>22</td>\n",
       "      <td>32</td>\n",
       "      <td>0.1250</td>\n",
       "      <td>0.8750</td>\n",
       "      <td>105.0000</td>\n",
       "      <td>0.0938</td>\n",
       "      <td>5744.1875</td>\n",
       "      <td>0.8125</td>\n",
       "      <td>8.285422</td>\n",
       "      <td>12</td>\n",
       "      <td>18.180937</td>\n",
       "      <td>5.834375</td>\n",
       "      <td>0.7813</td>\n",
       "      <td>87.250000</td>\n",
       "      <td>1</td>\n",
       "      <td>2</td>\n",
       "      <td>0</td>\n",
       "    </tr>\n",
       "    <tr>\n",
       "      <th>7</th>\n",
       "      <td>6282</td>\n",
       "      <td>5</td>\n",
       "      <td>21</td>\n",
       "      <td>31</td>\n",
       "      <td>48</td>\n",
       "      <td>0.0417</td>\n",
       "      <td>0.9583</td>\n",
       "      <td>117.2500</td>\n",
       "      <td>0.0833</td>\n",
       "      <td>4011.7708</td>\n",
       "      <td>0.9167</td>\n",
       "      <td>9.768052</td>\n",
       "      <td>17</td>\n",
       "      <td>20.346667</td>\n",
       "      <td>5.615417</td>\n",
       "      <td>0.9167</td>\n",
       "      <td>85.083333</td>\n",
       "      <td>2</td>\n",
       "      <td>9</td>\n",
       "      <td>0</td>\n",
       "    </tr>\n",
       "    <tr>\n",
       "      <th>8</th>\n",
       "      <td>6282</td>\n",
       "      <td>6</td>\n",
       "      <td>-12</td>\n",
       "      <td>52</td>\n",
       "      <td>72</td>\n",
       "      <td>0.0694</td>\n",
       "      <td>0.9306</td>\n",
       "      <td>107.6389</td>\n",
       "      <td>0.0417</td>\n",
       "      <td>4000.3333</td>\n",
       "      <td>0.8472</td>\n",
       "      <td>7.736114</td>\n",
       "      <td>17</td>\n",
       "      <td>21.941111</td>\n",
       "      <td>5.093056</td>\n",
       "      <td>0.8750</td>\n",
       "      <td>73.904915</td>\n",
       "      <td>1</td>\n",
       "      <td>13</td>\n",
       "      <td>0</td>\n",
       "    </tr>\n",
       "    <tr>\n",
       "      <th>9</th>\n",
       "      <td>6282</td>\n",
       "      <td>7</td>\n",
       "      <td>1</td>\n",
       "      <td>40</td>\n",
       "      <td>56</td>\n",
       "      <td>0.0893</td>\n",
       "      <td>0.9107</td>\n",
       "      <td>124.3750</td>\n",
       "      <td>0.0893</td>\n",
       "      <td>3192.0000</td>\n",
       "      <td>0.9107</td>\n",
       "      <td>7.405355</td>\n",
       "      <td>11</td>\n",
       "      <td>18.591071</td>\n",
       "      <td>5.353214</td>\n",
       "      <td>0.9107</td>\n",
       "      <td>65.618750</td>\n",
       "      <td>2</td>\n",
       "      <td>4</td>\n",
       "      <td>0</td>\n",
       "    </tr>\n",
       "    <tr>\n",
       "      <th>13</th>\n",
       "      <td>10622</td>\n",
       "      <td>0</td>\n",
       "      <td>5</td>\n",
       "      <td>82</td>\n",
       "      <td>45</td>\n",
       "      <td>0.1111</td>\n",
       "      <td>0.8889</td>\n",
       "      <td>100.0000</td>\n",
       "      <td>0.0889</td>\n",
       "      <td>2476.2889</td>\n",
       "      <td>0.5333</td>\n",
       "      <td>10.693702</td>\n",
       "      <td>19</td>\n",
       "      <td>24.368889</td>\n",
       "      <td>4.148000</td>\n",
       "      <td>0.6222</td>\n",
       "      <td>29.115176</td>\n",
       "      <td>3</td>\n",
       "      <td>18</td>\n",
       "      <td>1</td>\n",
       "    </tr>\n",
       "    <tr>\n",
       "      <th>14</th>\n",
       "      <td>10622</td>\n",
       "      <td>1</td>\n",
       "      <td>-12</td>\n",
       "      <td>87</td>\n",
       "      <td>63</td>\n",
       "      <td>0.1270</td>\n",
       "      <td>0.8730</td>\n",
       "      <td>100.3175</td>\n",
       "      <td>0.0635</td>\n",
       "      <td>2677.4921</td>\n",
       "      <td>0.7143</td>\n",
       "      <td>9.706087</td>\n",
       "      <td>22</td>\n",
       "      <td>18.767143</td>\n",
       "      <td>4.211746</td>\n",
       "      <td>0.6984</td>\n",
       "      <td>42.177203</td>\n",
       "      <td>2</td>\n",
       "      <td>13</td>\n",
       "      <td>1</td>\n",
       "    </tr>\n",
       "    <tr>\n",
       "      <th>15</th>\n",
       "      <td>13096</td>\n",
       "      <td>5</td>\n",
       "      <td>-10</td>\n",
       "      <td>64</td>\n",
       "      <td>95</td>\n",
       "      <td>0.1684</td>\n",
       "      <td>0.8316</td>\n",
       "      <td>108.1158</td>\n",
       "      <td>0.0737</td>\n",
       "      <td>4656.7053</td>\n",
       "      <td>0.7053</td>\n",
       "      <td>10.152813</td>\n",
       "      <td>40</td>\n",
       "      <td>17.065895</td>\n",
       "      <td>5.373368</td>\n",
       "      <td>0.7263</td>\n",
       "      <td>83.052951</td>\n",
       "      <td>2</td>\n",
       "      <td>25</td>\n",
       "      <td>0</td>\n",
       "    </tr>\n",
       "    <tr>\n",
       "      <th>16</th>\n",
       "      <td>13096</td>\n",
       "      <td>6</td>\n",
       "      <td>10</td>\n",
       "      <td>54</td>\n",
       "      <td>84</td>\n",
       "      <td>0.1548</td>\n",
       "      <td>0.8452</td>\n",
       "      <td>100.4762</td>\n",
       "      <td>0.0119</td>\n",
       "      <td>4523.8452</td>\n",
       "      <td>0.6667</td>\n",
       "      <td>9.108531</td>\n",
       "      <td>29</td>\n",
       "      <td>18.738929</td>\n",
       "      <td>4.960000</td>\n",
       "      <td>0.7143</td>\n",
       "      <td>85.643004</td>\n",
       "      <td>4</td>\n",
       "      <td>13</td>\n",
       "      <td>0</td>\n",
       "    </tr>\n",
       "    <tr>\n",
       "      <th>21</th>\n",
       "      <td>14261</td>\n",
       "      <td>0</td>\n",
       "      <td>4</td>\n",
       "      <td>79</td>\n",
       "      <td>59</td>\n",
       "      <td>0.0339</td>\n",
       "      <td>0.9661</td>\n",
       "      <td>123.5763</td>\n",
       "      <td>0.1695</td>\n",
       "      <td>3788.9831</td>\n",
       "      <td>0.8136</td>\n",
       "      <td>9.361863</td>\n",
       "      <td>21</td>\n",
       "      <td>19.361525</td>\n",
       "      <td>5.578136</td>\n",
       "      <td>0.8475</td>\n",
       "      <td>41.786920</td>\n",
       "      <td>2</td>\n",
       "      <td>4</td>\n",
       "      <td>1</td>\n",
       "    </tr>\n",
       "    <tr>\n",
       "      <th>22</th>\n",
       "      <td>14261</td>\n",
       "      <td>1</td>\n",
       "      <td>-16</td>\n",
       "      <td>83</td>\n",
       "      <td>72</td>\n",
       "      <td>0.0139</td>\n",
       "      <td>0.9861</td>\n",
       "      <td>112.6528</td>\n",
       "      <td>0.1111</td>\n",
       "      <td>3706.1944</td>\n",
       "      <td>0.9167</td>\n",
       "      <td>9.353240</td>\n",
       "      <td>29</td>\n",
       "      <td>20.061528</td>\n",
       "      <td>5.398194</td>\n",
       "      <td>0.9167</td>\n",
       "      <td>44.115462</td>\n",
       "      <td>3</td>\n",
       "      <td>5</td>\n",
       "      <td>1</td>\n",
       "    </tr>\n",
       "    <tr>\n",
       "      <th>23</th>\n",
       "      <td>14261</td>\n",
       "      <td>2</td>\n",
       "      <td>2</td>\n",
       "      <td>67</td>\n",
       "      <td>53</td>\n",
       "      <td>0.0377</td>\n",
       "      <td>0.9623</td>\n",
       "      <td>100.0000</td>\n",
       "      <td>0.1509</td>\n",
       "      <td>4125.6415</td>\n",
       "      <td>0.8868</td>\n",
       "      <td>11.751260</td>\n",
       "      <td>27</td>\n",
       "      <td>20.421132</td>\n",
       "      <td>4.909245</td>\n",
       "      <td>0.9245</td>\n",
       "      <td>45.108624</td>\n",
       "      <td>3</td>\n",
       "      <td>10</td>\n",
       "      <td>1</td>\n",
       "    </tr>\n",
       "    <tr>\n",
       "      <th>24</th>\n",
       "      <td>14261</td>\n",
       "      <td>3</td>\n",
       "      <td>3</td>\n",
       "      <td>69</td>\n",
       "      <td>76</td>\n",
       "      <td>0.0132</td>\n",
       "      <td>0.9868</td>\n",
       "      <td>115.9079</td>\n",
       "      <td>0.1447</td>\n",
       "      <td>4456.1447</td>\n",
       "      <td>0.9342</td>\n",
       "      <td>10.395178</td>\n",
       "      <td>34</td>\n",
       "      <td>19.920263</td>\n",
       "      <td>5.792895</td>\n",
       "      <td>0.9605</td>\n",
       "      <td>59.387279</td>\n",
       "      <td>3</td>\n",
       "      <td>2</td>\n",
       "      <td>1</td>\n",
       "    </tr>\n",
       "    <tr>\n",
       "      <th>25</th>\n",
       "      <td>14261</td>\n",
       "      <td>4</td>\n",
       "      <td>7</td>\n",
       "      <td>72</td>\n",
       "      <td>88</td>\n",
       "      <td>0.0227</td>\n",
       "      <td>0.9773</td>\n",
       "      <td>117.3750</td>\n",
       "      <td>0.2273</td>\n",
       "      <td>3858.7955</td>\n",
       "      <td>0.9432</td>\n",
       "      <td>9.110610</td>\n",
       "      <td>32</td>\n",
       "      <td>23.058523</td>\n",
       "      <td>5.457386</td>\n",
       "      <td>0.9091</td>\n",
       "      <td>62.532793</td>\n",
       "      <td>4</td>\n",
       "      <td>6</td>\n",
       "      <td>1</td>\n",
       "    </tr>\n",
       "    <tr>\n",
       "      <th>26</th>\n",
       "      <td>14261</td>\n",
       "      <td>5</td>\n",
       "      <td>-1</td>\n",
       "      <td>79</td>\n",
       "      <td>77</td>\n",
       "      <td>0.0260</td>\n",
       "      <td>0.9740</td>\n",
       "      <td>112.4286</td>\n",
       "      <td>0.0390</td>\n",
       "      <td>3520.1299</td>\n",
       "      <td>0.8571</td>\n",
       "      <td>10.404332</td>\n",
       "      <td>39</td>\n",
       "      <td>21.721299</td>\n",
       "      <td>5.364286</td>\n",
       "      <td>0.8442</td>\n",
       "      <td>50.335795</td>\n",
       "      <td>3</td>\n",
       "      <td>13</td>\n",
       "      <td>1</td>\n",
       "    </tr>\n",
       "  </tbody>\n",
       "</table>\n",
       "</div>"
      ],
      "text/plain": [
       "    courier  week  feature_1  feature_2  feature_3  feature_4  feature_5  \\\n",
       "0      3767     2          6         34         38     0.0789     0.9211   \n",
       "1      3767     4         -1         42         37     0.0000     1.0000   \n",
       "2      3767     5         24         41         43     0.0233     0.9767   \n",
       "3      3767     6        -22         65         66     0.0606     0.9394   \n",
       "4      6282     2          9         33         27     0.0741     0.9259   \n",
       "5      6282     3        -20         42         56     0.0536     0.9464   \n",
       "6      6282     4          9         22         32     0.1250     0.8750   \n",
       "7      6282     5         21         31         48     0.0417     0.9583   \n",
       "8      6282     6        -12         52         72     0.0694     0.9306   \n",
       "9      6282     7          1         40         56     0.0893     0.9107   \n",
       "13    10622     0          5         82         45     0.1111     0.8889   \n",
       "14    10622     1        -12         87         63     0.1270     0.8730   \n",
       "15    13096     5        -10         64         95     0.1684     0.8316   \n",
       "16    13096     6         10         54         84     0.1548     0.8452   \n",
       "21    14261     0          4         79         59     0.0339     0.9661   \n",
       "22    14261     1        -16         83         72     0.0139     0.9861   \n",
       "23    14261     2          2         67         53     0.0377     0.9623   \n",
       "24    14261     3          3         69         76     0.0132     0.9868   \n",
       "25    14261     4          7         72         88     0.0227     0.9773   \n",
       "26    14261     5         -1         79         77     0.0260     0.9740   \n",
       "\n",
       "    feature_6  feature_7  feature_8  feature_9  feature_10  feature_11  \\\n",
       "0    140.4737     0.1316  2162.4737     0.7632    7.340776           8   \n",
       "1    135.5946     0.0811  2097.4054     0.9459   11.883784          19   \n",
       "2    131.0930     0.0233  2043.8837     0.9302    7.072100          16   \n",
       "3    120.1515     0.0000  2124.2727     0.7727    7.356567          33   \n",
       "4    100.0000     0.0370  4075.7407     0.8889    8.501233           5   \n",
       "5    113.4821     0.0357  4777.0714     0.9107    8.210125          16   \n",
       "6    105.0000     0.0938  5744.1875     0.8125    8.285422          12   \n",
       "7    117.2500     0.0833  4011.7708     0.9167    9.768052          17   \n",
       "8    107.6389     0.0417  4000.3333     0.8472    7.736114          17   \n",
       "9    124.3750     0.0893  3192.0000     0.9107    7.405355          11   \n",
       "13   100.0000     0.0889  2476.2889     0.5333   10.693702          19   \n",
       "14   100.3175     0.0635  2677.4921     0.7143    9.706087          22   \n",
       "15   108.1158     0.0737  4656.7053     0.7053   10.152813          40   \n",
       "16   100.4762     0.0119  4523.8452     0.6667    9.108531          29   \n",
       "21   123.5763     0.1695  3788.9831     0.8136    9.361863          21   \n",
       "22   112.6528     0.1111  3706.1944     0.9167    9.353240          29   \n",
       "23   100.0000     0.1509  4125.6415     0.8868   11.751260          27   \n",
       "24   115.9079     0.1447  4456.1447     0.9342   10.395178          34   \n",
       "25   117.3750     0.2273  3858.7955     0.9432    9.110610          32   \n",
       "26   112.4286     0.0390  3520.1299     0.8571   10.404332          39   \n",
       "\n",
       "    feature_12  feature_13  feature_14  feature_15  feature_16  feature_17  \\\n",
       "0    20.208158    5.236316      0.8158   43.384804           1          19   \n",
       "1    18.855405    5.689459      0.8919   35.078042           3          11   \n",
       "2    18.925116    5.138605      0.9302   31.455285           1          10   \n",
       "3    18.259697    4.704394      0.7879   34.252991           1          30   \n",
       "4    26.863704    4.828519      0.8889   46.478114           1           4   \n",
       "5    23.651786    5.553571      0.9107   79.407407           2           5   \n",
       "6    18.180937    5.834375      0.7813   87.250000           1           2   \n",
       "7    20.346667    5.615417      0.9167   85.083333           2           9   \n",
       "8    21.941111    5.093056      0.8750   73.904915           1          13   \n",
       "9    18.591071    5.353214      0.9107   65.618750           2           4   \n",
       "13   24.368889    4.148000      0.6222   29.115176           3          18   \n",
       "14   18.767143    4.211746      0.6984   42.177203           2          13   \n",
       "15   17.065895    5.373368      0.7263   83.052951           2          25   \n",
       "16   18.738929    4.960000      0.7143   85.643004           4          13   \n",
       "21   19.361525    5.578136      0.8475   41.786920           2           4   \n",
       "22   20.061528    5.398194      0.9167   44.115462           3           5   \n",
       "23   20.421132    4.909245      0.9245   45.108624           3          10   \n",
       "24   19.920263    5.792895      0.9605   59.387279           3           2   \n",
       "25   23.058523    5.457386      0.9091   62.532793           4           6   \n",
       "26   21.721299    5.364286      0.8442   50.335795           3          13   \n",
       "\n",
       "    label  \n",
       "0       1  \n",
       "1       1  \n",
       "2       1  \n",
       "3       1  \n",
       "4       0  \n",
       "5       0  \n",
       "6       0  \n",
       "7       0  \n",
       "8       0  \n",
       "9       0  \n",
       "13      1  \n",
       "14      1  \n",
       "15      0  \n",
       "16      0  \n",
       "21      1  \n",
       "22      1  \n",
       "23      1  \n",
       "24      1  \n",
       "25      1  \n",
       "26      1  "
      ]
     },
     "execution_count": 12,
     "metadata": {},
     "output_type": "execute_result"
    }
   ],
   "source": [
    "weeks.head(20)"
   ]
  },
  {
   "cell_type": "code",
   "execution_count": 13,
   "metadata": {},
   "outputs": [],
   "source": [
    "def max_consecutive(vector):\n",
    "    longest = 0\n",
    "    current = 0\n",
    "    for num in vector:\n",
    "        if num == 1:\n",
    "            current += 1\n",
    "        else:\n",
    "            longest = max(longest, current)\n",
    "            current = 0\n",
    "\n",
    "    return max(longest, current)\n",
    "    "
   ]
  },
  {
   "cell_type": "code",
   "execution_count": 177,
   "metadata": {},
   "outputs": [],
   "source": [
    "def latest_streak(series):\n",
    "    week_vector=[0,0,0,0,0,0,0,0]\n",
    "    count=0\n",
    "    \n",
    "    for i in series:\n",
    "        week_vector[i]=1\n",
    "    reversed_week=list(reversed(week_vector))\n",
    "    for i in reversed_week:\n",
    "        if i==1:\n",
    "            count+=1\n",
    "        else: \n",
    "            break\n",
    "    return count\n",
    "\n",
    "    "
   ]
  },
  {
   "cell_type": "code",
   "execution_count": 14,
   "metadata": {},
   "outputs": [
    {
     "data": {
      "text/plain": [
       "6"
      ]
     },
     "execution_count": 14,
     "metadata": {},
     "output_type": "execute_result"
    }
   ],
   "source": [
    "max_consecutive([0,1,1,1,0,0,1,0,1,1,1,1,1,1,0])"
   ]
  },
  {
   "cell_type": "code",
   "execution_count": 15,
   "metadata": {},
   "outputs": [],
   "source": [
    "def max_streak(series):\n",
    "    week_vector=[0,0,0,0,0,0,0,0]\n",
    "    \n",
    "    for i in series:\n",
    "        week_vector[i]=1\n",
    "    streak=max_consecutive(week_vector)\n",
    "    return streak\n",
    "    \n",
    "        \n",
    "        "
   ]
  },
  {
   "cell_type": "code",
   "execution_count": 98,
   "metadata": {},
   "outputs": [],
   "source": [
    "def get_range(series):\n",
    "    return max(series)-min(series)"
   ]
  },
  {
   "cell_type": "code",
   "execution_count": 16,
   "metadata": {},
   "outputs": [],
   "source": [
    "def lifetime_mean(series):\n",
    "    return np.sum(series)/8"
   ]
  },
  {
   "cell_type": "code",
   "execution_count": 1145,
   "metadata": {},
   "outputs": [],
   "source": [
    "aggreg=get_range\n",
    "aggreg='mean'\n",
    "#aggreg=lifetime_mean\n",
    "\n"
   ]
  },
  {
   "cell_type": "code",
   "execution_count": null,
   "metadata": {},
   "outputs": [],
   "source": []
  },
  {
   "cell_type": "code",
   "execution_count": 513,
   "metadata": {},
   "outputs": [],
   "source": [
    "# trying different aggregation methods on the data\n",
    "gold=weeks.groupby(['courier','label'], as_index=False )\\\n",
    ".agg({'week':['count', max_streak,latest_streak],\\\n",
    "              'feature_1':['mean',lifetime_mean],\\\n",
    "               'feature_2':['mean',lifetime_mean],'feature_3':['mean',lifetime_mean]\\\n",
    "      ,'feature_4':['mean',lifetime_mean],'feature_5':['mean',lifetime_mean]\\\n",
    "      ,'feature_6':['mean',lifetime_mean],'feature_7':['mean',lifetime_mean]\\\n",
    "      ,'feature_8':['mean',lifetime_mean],'feature_9':['mean',lifetime_mean]\\\n",
    "      ,'feature_10':['mean',lifetime_mean],'feature_11':['mean',lifetime_mean]\\\n",
    "     ,'feature_12':['mean',lifetime_mean],'feature_13':['mean',lifetime_mean]\\\n",
    "     ,'feature_14':['mean',lifetime_mean],'feature_15':['mean',lifetime_mean]\\\n",
    "     ,'feature_16':['mean',lifetime_mean],'feature_17':['mean',lifetime_mean]})"
   ]
  },
  {
   "cell_type": "code",
   "execution_count": 1266,
   "metadata": {},
   "outputs": [],
   "source": [
    "gold=weeks.groupby(['courier','label'], as_index=False )\\\n",
    ".agg({'week':['count', max_streak,latest_streak],\\\n",
    "              'feature_1':'mean',\\\n",
    "               'feature_2':'mean','feature_3':'mean'\\\n",
    "      ,'feature_4':'mean','feature_5':'mean'\\\n",
    "      ,'feature_6':'mean','feature_7':'mean'\\\n",
    "      ,'feature_8':'mean','feature_9':'mean'\\\n",
    "      ,'feature_10':'mean','feature_11':'mean'\\\n",
    "     ,'feature_12':'mean','feature_13':'mean'\\\n",
    "     ,'feature_14':'mean','feature_15':'mean'\\\n",
    "     ,'feature_16':'mean','feature_17':'mean'})"
   ]
  },
  {
   "cell_type": "code",
   "execution_count": 1377,
   "metadata": {},
   "outputs": [],
   "source": [
    "gold=weeks.groupby(['courier','label'], as_index=False )\\\n",
    ".agg({'week':['count', max_streak,latest_streak],\\\n",
    "              'feature_1':aggreg,\\\n",
    "               'feature_2':aggreg,'feature_3':aggreg\\\n",
    "      ,'feature_4':aggreg,'feature_5':aggreg\\\n",
    "      ,'feature_6':aggreg,'feature_7':aggreg\\\n",
    "      ,'feature_8':aggreg,'feature_9':aggreg\\\n",
    "      ,'feature_10':aggreg,'feature_11':aggreg\\\n",
    "     ,'feature_12':aggreg,'feature_13':aggreg\\\n",
    "     ,'feature_14':aggreg,'feature_15':aggreg\\\n",
    "     ,'feature_16':aggreg,'feature_17':aggreg})"
   ]
  },
  {
   "cell_type": "code",
   "execution_count": 1378,
   "metadata": {},
   "outputs": [
    {
     "data": {
      "text/html": [
       "<div>\n",
       "<style scoped>\n",
       "    .dataframe tbody tr th:only-of-type {\n",
       "        vertical-align: middle;\n",
       "    }\n",
       "\n",
       "    .dataframe tbody tr th {\n",
       "        vertical-align: top;\n",
       "    }\n",
       "\n",
       "    .dataframe thead tr th {\n",
       "        text-align: left;\n",
       "    }\n",
       "</style>\n",
       "<table border=\"1\" class=\"dataframe\">\n",
       "  <thead>\n",
       "    <tr>\n",
       "      <th></th>\n",
       "      <th>courier</th>\n",
       "      <th>label</th>\n",
       "      <th colspan=\"3\" halign=\"left\">week</th>\n",
       "      <th>feature_1</th>\n",
       "      <th>feature_2</th>\n",
       "      <th>feature_3</th>\n",
       "      <th>feature_4</th>\n",
       "      <th>feature_5</th>\n",
       "      <th>...</th>\n",
       "      <th>feature_8</th>\n",
       "      <th>feature_9</th>\n",
       "      <th>feature_10</th>\n",
       "      <th>feature_11</th>\n",
       "      <th>feature_12</th>\n",
       "      <th>feature_13</th>\n",
       "      <th>feature_14</th>\n",
       "      <th>feature_15</th>\n",
       "      <th>feature_16</th>\n",
       "      <th>feature_17</th>\n",
       "    </tr>\n",
       "    <tr>\n",
       "      <th></th>\n",
       "      <th></th>\n",
       "      <th></th>\n",
       "      <th>count</th>\n",
       "      <th>max_streak</th>\n",
       "      <th>latest_streak</th>\n",
       "      <th>mean</th>\n",
       "      <th>mean</th>\n",
       "      <th>mean</th>\n",
       "      <th>mean</th>\n",
       "      <th>mean</th>\n",
       "      <th>...</th>\n",
       "      <th>mean</th>\n",
       "      <th>mean</th>\n",
       "      <th>mean</th>\n",
       "      <th>mean</th>\n",
       "      <th>mean</th>\n",
       "      <th>mean</th>\n",
       "      <th>mean</th>\n",
       "      <th>mean</th>\n",
       "      <th>mean</th>\n",
       "      <th>mean</th>\n",
       "    </tr>\n",
       "  </thead>\n",
       "  <tbody>\n",
       "    <tr>\n",
       "      <th>1</th>\n",
       "      <td>6282</td>\n",
       "      <td>0</td>\n",
       "      <td>6</td>\n",
       "      <td>6</td>\n",
       "      <td>6</td>\n",
       "      <td>1.333333</td>\n",
       "      <td>36.666667</td>\n",
       "      <td>48.5</td>\n",
       "      <td>0.075517</td>\n",
       "      <td>0.924483</td>\n",
       "      <td>...</td>\n",
       "      <td>4300.18395</td>\n",
       "      <td>0.881117</td>\n",
       "      <td>8.317717</td>\n",
       "      <td>13.0</td>\n",
       "      <td>21.595879</td>\n",
       "      <td>5.379692</td>\n",
       "      <td>0.88055</td>\n",
       "      <td>72.957087</td>\n",
       "      <td>1.5</td>\n",
       "      <td>6.166667</td>\n",
       "    </tr>\n",
       "  </tbody>\n",
       "</table>\n",
       "<p>1 rows × 22 columns</p>\n",
       "</div>"
      ],
      "text/plain": [
       "  courier label  week                          feature_1  feature_2 feature_3  \\\n",
       "                count max_streak latest_streak      mean       mean      mean   \n",
       "1    6282     0     6          6             6  1.333333  36.666667      48.5   \n",
       "\n",
       "  feature_4 feature_5    ...       feature_8 feature_9 feature_10 feature_11  \\\n",
       "       mean      mean    ...            mean      mean       mean       mean   \n",
       "1  0.075517  0.924483    ...      4300.18395  0.881117   8.317717       13.0   \n",
       "\n",
       "  feature_12 feature_13 feature_14 feature_15 feature_16 feature_17  \n",
       "        mean       mean       mean       mean       mean       mean  \n",
       "1  21.595879   5.379692    0.88055  72.957087        1.5   6.166667  \n",
       "\n",
       "[1 rows x 22 columns]"
      ]
     },
     "execution_count": 1378,
     "metadata": {},
     "output_type": "execute_result"
    }
   ],
   "source": [
    "gold[(gold.courier==6282)]"
   ]
  },
  {
   "cell_type": "code",
   "execution_count": 1379,
   "metadata": {},
   "outputs": [
    {
     "data": {
      "text/plain": [
       "Text(0.5,1,'churned')"
      ]
     },
     "execution_count": 1379,
     "metadata": {},
     "output_type": "execute_result"
    },
    {
     "data": {
      "image/png": "[encoded data removed]",
      "text/plain": [
       "<Figure size 432x288 with 1 Axes>"
      ]
     },
     "metadata": {},
     "output_type": "display_data"
    }
   ],
   "source": [
    "#normalize histogram\n",
    "plt.hist(weeks[(weeks.label==1)].feature_3,alpha=0.5,color='red',density=1)\n",
    "plt.hist(weeks[(weeks.label==0)].feature_3,alpha=0.5,color='green',density=1)\n",
    "plt.title('churned')"
   ]
  },
  {
   "cell_type": "code",
   "execution_count": 1380,
   "metadata": {},
   "outputs": [],
   "source": [
    "gold.columns = [gold + '_' + i for gold, i in zip(gold.columns.get_level_values(0), gold.columns.get_level_values(1).astype(str))]"
   ]
  },
  {
   "cell_type": "code",
   "execution_count": 1381,
   "metadata": {},
   "outputs": [],
   "source": [
    "gold=gold.rename(columns={'courier_':'courier','label_':'y'})"
   ]
  },
  {
   "cell_type": "code",
   "execution_count": 1382,
   "metadata": {},
   "outputs": [],
   "source": [
    "gold.set_index('courier', inplace=True)"
   ]
  },
  {
   "cell_type": "code",
   "execution_count": 1383,
   "metadata": {},
   "outputs": [
    {
     "data": {
      "text/plain": [
       "Text(0.5,1,'churned')"
      ]
     },
     "execution_count": 1383,
     "metadata": {},
     "output_type": "execute_result"
    },
    {
     "data": {
      "image/png": "[encoded data removed]",
      "text/plain": [
       "<Figure size 432x288 with 1 Axes>"
      ]
     },
     "metadata": {},
     "output_type": "display_data"
    }
   ],
   "source": [
    "plt.hist(gold[(gold.y==1)].week_count,alpha=0.5,color='red',density=1)\n",
    "plt.hist(gold[(gold.y==0)].week_count,alpha=0.5,color='yellow',density=1)\n",
    "plt.title('churned')"
   ]
  },
  {
   "cell_type": "code",
   "execution_count": 1384,
   "metadata": {},
   "outputs": [
    {
     "data": {
      "text/plain": [
       "Text(0.5,1,'churned')"
      ]
     },
     "execution_count": 1384,
     "metadata": {},
     "output_type": "execute_result"
    },
    {
     "data": {
      "image/png": "[encoded data removed]",
      "text/plain": [
       "<Figure size 432x288 with 1 Axes>"
      ]
     },
     "metadata": {},
     "output_type": "display_data"
    }
   ],
   "source": [
    "plt.hist(gold[(gold.y==1)].week_latest_streak,alpha=0.5,color='red',density=1)\n",
    "plt.hist(gold[(gold.y==0)].week_latest_streak,alpha=0.5,color='yellow',density=1)\n",
    "plt.title('churned')"
   ]
  },
  {
   "cell_type": "code",
   "execution_count": 1385,
   "metadata": {},
   "outputs": [
    {
     "data": {
      "text/plain": [
       "Text(0.5,1,'churned')"
      ]
     },
     "execution_count": 1385,
     "metadata": {},
     "output_type": "execute_result"
    },
    {
     "data": {
      "image/png": "[encoded data removed]",
      "text/plain": [
       "<Figure size 432x288 with 1 Axes>"
      ]
     },
     "metadata": {},
     "output_type": "display_data"
    }
   ],
   "source": [
    "plt.hist(gold[(gold.y==1)].week_max_streak,alpha=0.5,color='red',density=1)\n",
    "plt.hist(gold[(gold.y==0)].week_max_streak,alpha=0.5,color='yellow',density=1)\n",
    "plt.title('churned')"
   ]
  },
  {
   "cell_type": "code",
   "execution_count": 1386,
   "metadata": {},
   "outputs": [
    {
     "data": {
      "text/plain": [
       "Text(0.5,1,'churned')"
      ]
     },
     "execution_count": 1386,
     "metadata": {},
     "output_type": "execute_result"
    },
    {
     "data": {
      "image/png": "[encoded data removed]",
      "text/plain": [
       "<Figure size 432x288 with 1 Axes>"
      ]
     },
     "metadata": {},
     "output_type": "display_data"
    }
   ],
   "source": [
    "plt.hist(gold[(gold.y==1)].feature_11_mean,alpha=0.5,color='red',density=1)\n",
    "plt.hist(gold[(gold.y==0)].feature_11_mean,alpha=0.5,color='yellow',density=1)\n",
    "plt.title('churned')"
   ]
  },
  {
   "cell_type": "code",
   "execution_count": 1387,
   "metadata": {},
   "outputs": [
    {
     "data": {
      "text/plain": [
       "Text(0.5,1,'churned')"
      ]
     },
     "execution_count": 1387,
     "metadata": {},
     "output_type": "execute_result"
    },
    {
     "data": {
      "image/png": "[encoded data removed]",
      "text/plain": [
       "<Figure size 432x288 with 1 Axes>"
      ]
     },
     "metadata": {},
     "output_type": "display_data"
    }
   ],
   "source": [
    "plt.hist(gold[(gold.y==1)].feature_2_mean,alpha=0.5,color='red',density=1)\n",
    "plt.hist(gold[(gold.y==0)].feature_2_mean,alpha=0.5,color='yellow',density=1)\n",
    "plt.title('churned')"
   ]
  },
  {
   "cell_type": "code",
   "execution_count": 1388,
   "metadata": {},
   "outputs": [
    {
     "data": {
      "text/plain": [
       "Text(0.5,1,'churned')"
      ]
     },
     "execution_count": 1388,
     "metadata": {},
     "output_type": "execute_result"
    },
    {
     "data": {
      "image/png": "[encoded data removed]",
      "text/plain": [
       "<Figure size 432x288 with 1 Axes>"
      ]
     },
     "metadata": {},
     "output_type": "display_data"
    }
   ],
   "source": [
    "plt.hist(gold[(gold.y==1)].feature_3_mean,alpha=0.5,color='red',density=1)\n",
    "plt.hist(gold[(gold.y==0)].feature_3_mean,alpha=0.5,color='yellow',density=1)\n",
    "plt.title('churned')"
   ]
  },
  {
   "cell_type": "code",
   "execution_count": 1389,
   "metadata": {},
   "outputs": [
    {
     "data": {
      "text/plain": [
       "Text(0.5,1,'churned')"
      ]
     },
     "execution_count": 1389,
     "metadata": {},
     "output_type": "execute_result"
    },
    {
     "data": {
      "image/png": "[encoded data removed]",
      "text/plain": [
       "<Figure size 432x288 with 1 Axes>"
      ]
     },
     "metadata": {},
     "output_type": "display_data"
    }
   ],
   "source": [
    "plt.hist(gold[(gold.y==1)].feature_4_mean,alpha=0.5,color='red',density=1)\n",
    "plt.hist(gold[(gold.y==0)].feature_4_mean,alpha=0.5,color='yellow',density=1)\n",
    "plt.title('churned')"
   ]
  },
  {
   "cell_type": "code",
   "execution_count": null,
   "metadata": {},
   "outputs": [],
   "source": [
    "plt.hist(gold[(gold.y==1)].feature_5_mean,alpha=0.5,color='red',density=1)\n",
    "plt.hist(gold[(gold.y==0)].feature_5_mean,alpha=0.5,color='yellow',density=1)\n",
    "plt.title('churned')"
   ]
  },
  {
   "cell_type": "markdown",
   "metadata": {},
   "source": [
    "# there seems to be a difference between the distrobution  of feature 2. 3. and 11 per class"
   ]
  },
  {
   "cell_type": "code",
   "execution_count": 1391,
   "metadata": {},
   "outputs": [],
   "source": [
    "golden_columns=gold.columns.tolist()"
   ]
  },
  {
   "cell_type": "code",
   "execution_count": null,
   "metadata": {},
   "outputs": [],
   "source": []
  },
  {
   "cell_type": "code",
   "execution_count": 1392,
   "metadata": {},
   "outputs": [
    {
     "data": {
      "text/html": [
       "<div>\n",
       "<style scoped>\n",
       "    .dataframe tbody tr th:only-of-type {\n",
       "        vertical-align: middle;\n",
       "    }\n",
       "\n",
       "    .dataframe tbody tr th {\n",
       "        vertical-align: top;\n",
       "    }\n",
       "\n",
       "    .dataframe thead th {\n",
       "        text-align: right;\n",
       "    }\n",
       "</style>\n",
       "<table border=\"1\" class=\"dataframe\">\n",
       "  <thead>\n",
       "    <tr style=\"text-align: right;\">\n",
       "      <th></th>\n",
       "      <th>y</th>\n",
       "      <th>week_count</th>\n",
       "      <th>week_max_streak</th>\n",
       "      <th>week_latest_streak</th>\n",
       "      <th>feature_1_mean</th>\n",
       "      <th>feature_2_mean</th>\n",
       "      <th>feature_3_mean</th>\n",
       "      <th>feature_4_mean</th>\n",
       "      <th>feature_5_mean</th>\n",
       "      <th>feature_6_mean</th>\n",
       "      <th>...</th>\n",
       "      <th>feature_8_mean</th>\n",
       "      <th>feature_9_mean</th>\n",
       "      <th>feature_10_mean</th>\n",
       "      <th>feature_11_mean</th>\n",
       "      <th>feature_12_mean</th>\n",
       "      <th>feature_13_mean</th>\n",
       "      <th>feature_14_mean</th>\n",
       "      <th>feature_15_mean</th>\n",
       "      <th>feature_16_mean</th>\n",
       "      <th>feature_17_mean</th>\n",
       "    </tr>\n",
       "    <tr>\n",
       "      <th>courier</th>\n",
       "      <th></th>\n",
       "      <th></th>\n",
       "      <th></th>\n",
       "      <th></th>\n",
       "      <th></th>\n",
       "      <th></th>\n",
       "      <th></th>\n",
       "      <th></th>\n",
       "      <th></th>\n",
       "      <th></th>\n",
       "      <th></th>\n",
       "      <th></th>\n",
       "      <th></th>\n",
       "      <th></th>\n",
       "      <th></th>\n",
       "      <th></th>\n",
       "      <th></th>\n",
       "      <th></th>\n",
       "      <th></th>\n",
       "      <th></th>\n",
       "      <th></th>\n",
       "    </tr>\n",
       "  </thead>\n",
       "  <tbody>\n",
       "    <tr>\n",
       "      <th>3767</th>\n",
       "      <td>1</td>\n",
       "      <td>4</td>\n",
       "      <td>3</td>\n",
       "      <td>0</td>\n",
       "      <td>1.750000</td>\n",
       "      <td>45.500000</td>\n",
       "      <td>46.000</td>\n",
       "      <td>0.040700</td>\n",
       "      <td>0.959300</td>\n",
       "      <td>131.82820</td>\n",
       "      <td>...</td>\n",
       "      <td>2107.008875</td>\n",
       "      <td>0.853000</td>\n",
       "      <td>8.413307</td>\n",
       "      <td>19.000</td>\n",
       "      <td>19.062094</td>\n",
       "      <td>5.192193</td>\n",
       "      <td>0.856450</td>\n",
       "      <td>36.042781</td>\n",
       "      <td>1.5</td>\n",
       "      <td>17.500000</td>\n",
       "    </tr>\n",
       "    <tr>\n",
       "      <th>6282</th>\n",
       "      <td>0</td>\n",
       "      <td>6</td>\n",
       "      <td>6</td>\n",
       "      <td>6</td>\n",
       "      <td>1.333333</td>\n",
       "      <td>36.666667</td>\n",
       "      <td>48.500</td>\n",
       "      <td>0.075517</td>\n",
       "      <td>0.924483</td>\n",
       "      <td>111.29100</td>\n",
       "      <td>...</td>\n",
       "      <td>4300.183950</td>\n",
       "      <td>0.881117</td>\n",
       "      <td>8.317717</td>\n",
       "      <td>13.000</td>\n",
       "      <td>21.595879</td>\n",
       "      <td>5.379692</td>\n",
       "      <td>0.880550</td>\n",
       "      <td>72.957087</td>\n",
       "      <td>1.5</td>\n",
       "      <td>6.166667</td>\n",
       "    </tr>\n",
       "    <tr>\n",
       "      <th>10622</th>\n",
       "      <td>1</td>\n",
       "      <td>2</td>\n",
       "      <td>2</td>\n",
       "      <td>0</td>\n",
       "      <td>-3.500000</td>\n",
       "      <td>84.500000</td>\n",
       "      <td>54.000</td>\n",
       "      <td>0.119050</td>\n",
       "      <td>0.880950</td>\n",
       "      <td>100.15875</td>\n",
       "      <td>...</td>\n",
       "      <td>2576.890500</td>\n",
       "      <td>0.623800</td>\n",
       "      <td>10.199895</td>\n",
       "      <td>20.500</td>\n",
       "      <td>21.568016</td>\n",
       "      <td>4.179873</td>\n",
       "      <td>0.660300</td>\n",
       "      <td>35.646190</td>\n",
       "      <td>2.5</td>\n",
       "      <td>15.500000</td>\n",
       "    </tr>\n",
       "    <tr>\n",
       "      <th>13096</th>\n",
       "      <td>0</td>\n",
       "      <td>2</td>\n",
       "      <td>2</td>\n",
       "      <td>0</td>\n",
       "      <td>0.000000</td>\n",
       "      <td>59.000000</td>\n",
       "      <td>89.500</td>\n",
       "      <td>0.161600</td>\n",
       "      <td>0.838400</td>\n",
       "      <td>104.29600</td>\n",
       "      <td>...</td>\n",
       "      <td>4590.275250</td>\n",
       "      <td>0.686000</td>\n",
       "      <td>9.630672</td>\n",
       "      <td>34.500</td>\n",
       "      <td>17.902412</td>\n",
       "      <td>5.166684</td>\n",
       "      <td>0.720300</td>\n",
       "      <td>84.347978</td>\n",
       "      <td>3.0</td>\n",
       "      <td>19.000000</td>\n",
       "    </tr>\n",
       "    <tr>\n",
       "      <th>14261</th>\n",
       "      <td>1</td>\n",
       "      <td>8</td>\n",
       "      <td>8</td>\n",
       "      <td>8</td>\n",
       "      <td>-3.625000</td>\n",
       "      <td>75.500000</td>\n",
       "      <td>70.875</td>\n",
       "      <td>0.018425</td>\n",
       "      <td>0.981575</td>\n",
       "      <td>115.62990</td>\n",
       "      <td>...</td>\n",
       "      <td>3870.750225</td>\n",
       "      <td>0.892537</td>\n",
       "      <td>10.001638</td>\n",
       "      <td>34.875</td>\n",
       "      <td>21.166889</td>\n",
       "      <td>5.433909</td>\n",
       "      <td>0.900662</td>\n",
       "      <td>49.311612</td>\n",
       "      <td>2.5</td>\n",
       "      <td>6.750000</td>\n",
       "    </tr>\n",
       "  </tbody>\n",
       "</table>\n",
       "<p>5 rows × 21 columns</p>\n",
       "</div>"
      ],
      "text/plain": [
       "         y  week_count  week_max_streak  week_latest_streak  feature_1_mean  \\\n",
       "courier                                                                       \n",
       "3767     1           4                3                   0        1.750000   \n",
       "6282     0           6                6                   6        1.333333   \n",
       "10622    1           2                2                   0       -3.500000   \n",
       "13096    0           2                2                   0        0.000000   \n",
       "14261    1           8                8                   8       -3.625000   \n",
       "\n",
       "         feature_2_mean  feature_3_mean  feature_4_mean  feature_5_mean  \\\n",
       "courier                                                                   \n",
       "3767          45.500000          46.000        0.040700        0.959300   \n",
       "6282          36.666667          48.500        0.075517        0.924483   \n",
       "10622         84.500000          54.000        0.119050        0.880950   \n",
       "13096         59.000000          89.500        0.161600        0.838400   \n",
       "14261         75.500000          70.875        0.018425        0.981575   \n",
       "\n",
       "         feature_6_mean       ...         feature_8_mean  feature_9_mean  \\\n",
       "courier                       ...                                          \n",
       "3767          131.82820       ...            2107.008875        0.853000   \n",
       "6282          111.29100       ...            4300.183950        0.881117   \n",
       "10622         100.15875       ...            2576.890500        0.623800   \n",
       "13096         104.29600       ...            4590.275250        0.686000   \n",
       "14261         115.62990       ...            3870.750225        0.892537   \n",
       "\n",
       "         feature_10_mean  feature_11_mean  feature_12_mean  feature_13_mean  \\\n",
       "courier                                                                       \n",
       "3767            8.413307           19.000        19.062094         5.192193   \n",
       "6282            8.317717           13.000        21.595879         5.379692   \n",
       "10622          10.199895           20.500        21.568016         4.179873   \n",
       "13096           9.630672           34.500        17.902412         5.166684   \n",
       "14261          10.001638           34.875        21.166889         5.433909   \n",
       "\n",
       "         feature_14_mean  feature_15_mean  feature_16_mean  feature_17_mean  \n",
       "courier                                                                      \n",
       "3767            0.856450        36.042781              1.5        17.500000  \n",
       "6282            0.880550        72.957087              1.5         6.166667  \n",
       "10622           0.660300        35.646190              2.5        15.500000  \n",
       "13096           0.720300        84.347978              3.0        19.000000  \n",
       "14261           0.900662        49.311612              2.5         6.750000  \n",
       "\n",
       "[5 rows x 21 columns]"
      ]
     },
     "execution_count": 1392,
     "metadata": {},
     "output_type": "execute_result"
    }
   ],
   "source": [
    "gold.head()"
   ]
  },
  {
   "cell_type": "code",
   "execution_count": 1393,
   "metadata": {},
   "outputs": [],
   "source": [
    "gold=gold[['y','week_count','week_max_streak','week_latest_streak','feature_1_mean','feature_2_mean','feature_3_mean','feature_11_mean']]"
   ]
  },
  {
   "cell_type": "code",
   "execution_count": 1394,
   "metadata": {},
   "outputs": [],
   "source": [
    "# look at the distribution per class for the features to choose the correct aggregation\n"
   ]
  },
  {
   "cell_type": "code",
   "execution_count": null,
   "metadata": {},
   "outputs": [],
   "source": []
  },
  {
   "cell_type": "markdown",
   "metadata": {
    "collapsed": true
   },
   "source": [
    "## Bringing lifetime info into the mix"
   ]
  },
  {
   "cell_type": "code",
   "execution_count": 1395,
   "metadata": {},
   "outputs": [],
   "source": [
    "#adding lifetime info\n",
    "lifetime = pd.read_csv(filepath_or_buffer='Courier_lifetime_data.csv')\n",
    "\n",
    "\n"
   ]
  },
  {
   "cell_type": "code",
   "execution_count": 1396,
   "metadata": {},
   "outputs": [
    {
     "data": {
      "text/html": [
       "<div>\n",
       "<style scoped>\n",
       "    .dataframe tbody tr th:only-of-type {\n",
       "        vertical-align: middle;\n",
       "    }\n",
       "\n",
       "    .dataframe tbody tr th {\n",
       "        vertical-align: top;\n",
       "    }\n",
       "\n",
       "    .dataframe thead th {\n",
       "        text-align: right;\n",
       "    }\n",
       "</style>\n",
       "<table border=\"1\" class=\"dataframe\">\n",
       "  <thead>\n",
       "    <tr style=\"text-align: right;\">\n",
       "      <th></th>\n",
       "      <th>courier</th>\n",
       "      <th>feature_1</th>\n",
       "      <th>feature_2</th>\n",
       "    </tr>\n",
       "  </thead>\n",
       "  <tbody>\n",
       "    <tr>\n",
       "      <th>0</th>\n",
       "      <td>208</td>\n",
       "      <td>a</td>\n",
       "      <td>25.0</td>\n",
       "    </tr>\n",
       "    <tr>\n",
       "      <th>1</th>\n",
       "      <td>218</td>\n",
       "      <td>c</td>\n",
       "      <td>0.0</td>\n",
       "    </tr>\n",
       "    <tr>\n",
       "      <th>2</th>\n",
       "      <td>225</td>\n",
       "      <td>c</td>\n",
       "      <td>NaN</td>\n",
       "    </tr>\n",
       "    <tr>\n",
       "      <th>3</th>\n",
       "      <td>231</td>\n",
       "      <td>c</td>\n",
       "      <td>0.0</td>\n",
       "    </tr>\n",
       "    <tr>\n",
       "      <th>4</th>\n",
       "      <td>242</td>\n",
       "      <td>c</td>\n",
       "      <td>NaN</td>\n",
       "    </tr>\n",
       "  </tbody>\n",
       "</table>\n",
       "</div>"
      ],
      "text/plain": [
       "   courier feature_1  feature_2\n",
       "0      208         a       25.0\n",
       "1      218         c        0.0\n",
       "2      225         c        NaN\n",
       "3      231         c        0.0\n",
       "4      242         c        NaN"
      ]
     },
     "execution_count": 1396,
     "metadata": {},
     "output_type": "execute_result"
    }
   ],
   "source": [
    "lifetime.head()"
   ]
  },
  {
   "cell_type": "code",
   "execution_count": 1397,
   "metadata": {},
   "outputs": [],
   "source": [
    "gen_le = LabelEncoder()\n",
    "gen_labels = gen_le.fit_transform(lifetime['feature_1'])\n",
    "lifetime['feature_1'] = gen_labels"
   ]
  },
  {
   "cell_type": "code",
   "execution_count": 1398,
   "metadata": {},
   "outputs": [],
   "source": [
    "lifetime_encoded= pd.get_dummies(lifetime, columns=['feature_1'])"
   ]
  },
  {
   "cell_type": "code",
   "execution_count": 1399,
   "metadata": {},
   "outputs": [],
   "source": [
    "#lifetime_encoded=lifetime.copy()"
   ]
  },
  {
   "cell_type": "code",
   "execution_count": 1400,
   "metadata": {},
   "outputs": [],
   "source": [
    "lifetime_encoded.set_index('courier', inplace=True)"
   ]
  },
  {
   "cell_type": "code",
   "execution_count": 1401,
   "metadata": {},
   "outputs": [
    {
     "data": {
      "text/html": [
       "<div>\n",
       "<style scoped>\n",
       "    .dataframe tbody tr th:only-of-type {\n",
       "        vertical-align: middle;\n",
       "    }\n",
       "\n",
       "    .dataframe tbody tr th {\n",
       "        vertical-align: top;\n",
       "    }\n",
       "\n",
       "    .dataframe thead th {\n",
       "        text-align: right;\n",
       "    }\n",
       "</style>\n",
       "<table border=\"1\" class=\"dataframe\">\n",
       "  <thead>\n",
       "    <tr style=\"text-align: right;\">\n",
       "      <th></th>\n",
       "      <th>feature_2</th>\n",
       "      <th>feature_1_0</th>\n",
       "      <th>feature_1_1</th>\n",
       "      <th>feature_1_2</th>\n",
       "      <th>feature_1_3</th>\n",
       "    </tr>\n",
       "    <tr>\n",
       "      <th>courier</th>\n",
       "      <th></th>\n",
       "      <th></th>\n",
       "      <th></th>\n",
       "      <th></th>\n",
       "      <th></th>\n",
       "    </tr>\n",
       "  </thead>\n",
       "  <tbody>\n",
       "    <tr>\n",
       "      <th>208</th>\n",
       "      <td>25.0</td>\n",
       "      <td>1</td>\n",
       "      <td>0</td>\n",
       "      <td>0</td>\n",
       "      <td>0</td>\n",
       "    </tr>\n",
       "    <tr>\n",
       "      <th>218</th>\n",
       "      <td>0.0</td>\n",
       "      <td>0</td>\n",
       "      <td>0</td>\n",
       "      <td>1</td>\n",
       "      <td>0</td>\n",
       "    </tr>\n",
       "    <tr>\n",
       "      <th>225</th>\n",
       "      <td>NaN</td>\n",
       "      <td>0</td>\n",
       "      <td>0</td>\n",
       "      <td>1</td>\n",
       "      <td>0</td>\n",
       "    </tr>\n",
       "    <tr>\n",
       "      <th>231</th>\n",
       "      <td>0.0</td>\n",
       "      <td>0</td>\n",
       "      <td>0</td>\n",
       "      <td>1</td>\n",
       "      <td>0</td>\n",
       "    </tr>\n",
       "    <tr>\n",
       "      <th>242</th>\n",
       "      <td>NaN</td>\n",
       "      <td>0</td>\n",
       "      <td>0</td>\n",
       "      <td>1</td>\n",
       "      <td>0</td>\n",
       "    </tr>\n",
       "  </tbody>\n",
       "</table>\n",
       "</div>"
      ],
      "text/plain": [
       "         feature_2  feature_1_0  feature_1_1  feature_1_2  feature_1_3\n",
       "courier                                                               \n",
       "208           25.0            1            0            0            0\n",
       "218            0.0            0            0            1            0\n",
       "225            NaN            0            0            1            0\n",
       "231            0.0            0            0            1            0\n",
       "242            NaN            0            0            1            0"
      ]
     },
     "execution_count": 1401,
     "metadata": {},
     "output_type": "execute_result"
    }
   ],
   "source": [
    "lifetime_encoded.head()"
   ]
  },
  {
   "cell_type": "code",
   "execution_count": 1402,
   "metadata": {},
   "outputs": [],
   "source": [
    "#lifetime_encoded=lifetime_encoded.drop('feature_2', axis=1)"
   ]
  },
  {
   "cell_type": "code",
   "execution_count": 1403,
   "metadata": {},
   "outputs": [],
   "source": [
    "gold=gold.merge(lifetime_encoded, how='left', left_index=True, right_index=True)\n"
   ]
  },
  {
   "cell_type": "code",
   "execution_count": 1404,
   "metadata": {},
   "outputs": [
    {
     "data": {
      "text/html": [
       "<div>\n",
       "<style scoped>\n",
       "    .dataframe tbody tr th:only-of-type {\n",
       "        vertical-align: middle;\n",
       "    }\n",
       "\n",
       "    .dataframe tbody tr th {\n",
       "        vertical-align: top;\n",
       "    }\n",
       "\n",
       "    .dataframe thead th {\n",
       "        text-align: right;\n",
       "    }\n",
       "</style>\n",
       "<table border=\"1\" class=\"dataframe\">\n",
       "  <thead>\n",
       "    <tr style=\"text-align: right;\">\n",
       "      <th></th>\n",
       "      <th>y</th>\n",
       "      <th>week_count</th>\n",
       "      <th>week_max_streak</th>\n",
       "      <th>week_latest_streak</th>\n",
       "      <th>feature_1_mean</th>\n",
       "      <th>feature_2_mean</th>\n",
       "      <th>feature_3_mean</th>\n",
       "      <th>feature_11_mean</th>\n",
       "      <th>feature_2</th>\n",
       "      <th>feature_1_0</th>\n",
       "      <th>feature_1_1</th>\n",
       "      <th>feature_1_2</th>\n",
       "      <th>feature_1_3</th>\n",
       "    </tr>\n",
       "    <tr>\n",
       "      <th>courier</th>\n",
       "      <th></th>\n",
       "      <th></th>\n",
       "      <th></th>\n",
       "      <th></th>\n",
       "      <th></th>\n",
       "      <th></th>\n",
       "      <th></th>\n",
       "      <th></th>\n",
       "      <th></th>\n",
       "      <th></th>\n",
       "      <th></th>\n",
       "      <th></th>\n",
       "      <th></th>\n",
       "    </tr>\n",
       "  </thead>\n",
       "  <tbody>\n",
       "    <tr>\n",
       "      <th>3767</th>\n",
       "      <td>1</td>\n",
       "      <td>4</td>\n",
       "      <td>3</td>\n",
       "      <td>0</td>\n",
       "      <td>1.750000</td>\n",
       "      <td>45.500000</td>\n",
       "      <td>46.000</td>\n",
       "      <td>19.000</td>\n",
       "      <td>33.0</td>\n",
       "      <td>0</td>\n",
       "      <td>1</td>\n",
       "      <td>0</td>\n",
       "      <td>0</td>\n",
       "    </tr>\n",
       "    <tr>\n",
       "      <th>6282</th>\n",
       "      <td>0</td>\n",
       "      <td>6</td>\n",
       "      <td>6</td>\n",
       "      <td>6</td>\n",
       "      <td>1.333333</td>\n",
       "      <td>36.666667</td>\n",
       "      <td>48.500</td>\n",
       "      <td>13.000</td>\n",
       "      <td>35.0</td>\n",
       "      <td>1</td>\n",
       "      <td>0</td>\n",
       "      <td>0</td>\n",
       "      <td>0</td>\n",
       "    </tr>\n",
       "    <tr>\n",
       "      <th>10622</th>\n",
       "      <td>1</td>\n",
       "      <td>2</td>\n",
       "      <td>2</td>\n",
       "      <td>0</td>\n",
       "      <td>-3.500000</td>\n",
       "      <td>84.500000</td>\n",
       "      <td>54.000</td>\n",
       "      <td>20.500</td>\n",
       "      <td>35.0</td>\n",
       "      <td>0</td>\n",
       "      <td>1</td>\n",
       "      <td>0</td>\n",
       "      <td>0</td>\n",
       "    </tr>\n",
       "    <tr>\n",
       "      <th>13096</th>\n",
       "      <td>0</td>\n",
       "      <td>2</td>\n",
       "      <td>2</td>\n",
       "      <td>0</td>\n",
       "      <td>0.000000</td>\n",
       "      <td>59.000000</td>\n",
       "      <td>89.500</td>\n",
       "      <td>34.500</td>\n",
       "      <td>35.0</td>\n",
       "      <td>1</td>\n",
       "      <td>0</td>\n",
       "      <td>0</td>\n",
       "      <td>0</td>\n",
       "    </tr>\n",
       "    <tr>\n",
       "      <th>14261</th>\n",
       "      <td>1</td>\n",
       "      <td>8</td>\n",
       "      <td>8</td>\n",
       "      <td>8</td>\n",
       "      <td>-3.625000</td>\n",
       "      <td>75.500000</td>\n",
       "      <td>70.875</td>\n",
       "      <td>34.875</td>\n",
       "      <td>44.0</td>\n",
       "      <td>1</td>\n",
       "      <td>0</td>\n",
       "      <td>0</td>\n",
       "      <td>0</td>\n",
       "    </tr>\n",
       "  </tbody>\n",
       "</table>\n",
       "</div>"
      ],
      "text/plain": [
       "         y  week_count  week_max_streak  week_latest_streak  feature_1_mean  \\\n",
       "courier                                                                       \n",
       "3767     1           4                3                   0        1.750000   \n",
       "6282     0           6                6                   6        1.333333   \n",
       "10622    1           2                2                   0       -3.500000   \n",
       "13096    0           2                2                   0        0.000000   \n",
       "14261    1           8                8                   8       -3.625000   \n",
       "\n",
       "         feature_2_mean  feature_3_mean  feature_11_mean  feature_2  \\\n",
       "courier                                                               \n",
       "3767          45.500000          46.000           19.000       33.0   \n",
       "6282          36.666667          48.500           13.000       35.0   \n",
       "10622         84.500000          54.000           20.500       35.0   \n",
       "13096         59.000000          89.500           34.500       35.0   \n",
       "14261         75.500000          70.875           34.875       44.0   \n",
       "\n",
       "         feature_1_0  feature_1_1  feature_1_2  feature_1_3  \n",
       "courier                                                      \n",
       "3767               0            1            0            0  \n",
       "6282               1            0            0            0  \n",
       "10622              0            1            0            0  \n",
       "13096              1            0            0            0  \n",
       "14261              1            0            0            0  "
      ]
     },
     "execution_count": 1404,
     "metadata": {},
     "output_type": "execute_result"
    }
   ],
   "source": [
    "gold.head()"
   ]
  },
  {
   "cell_type": "markdown",
   "metadata": {},
   "source": [
    "### Using the selected features to impute the missing values from lifetime with KNN imputation "
   ]
  },
  {
   "cell_type": "code",
   "execution_count": 1405,
   "metadata": {},
   "outputs": [
    {
     "name": "stdout",
     "output_type": "stream",
     "text": [
      "Imputing row 1/729 with 0 missing, elapsed time: 0.091\n",
      "Imputing row 101/729 with 0 missing, elapsed time: 0.092\n",
      "Imputing row 201/729 with 0 missing, elapsed time: 0.093\n",
      "Imputing row 301/729 with 0 missing, elapsed time: 0.093\n",
      "Imputing row 401/729 with 0 missing, elapsed time: 0.094\n",
      "Imputing row 501/729 with 0 missing, elapsed time: 0.094\n",
      "Imputing row 601/729 with 0 missing, elapsed time: 0.094\n",
      "Imputing row 701/729 with 0 missing, elapsed time: 0.094\n"
     ]
    }
   ],
   "source": [
    "gold =  pd.DataFrame(KNN(k=2).fit_transform(gold), columns=gold.columns, index=gold.index) "
   ]
  },
  {
   "cell_type": "code",
   "execution_count": 1406,
   "metadata": {},
   "outputs": [
    {
     "data": {
      "text/plain": [
       "Text(0.5,1,'churned')"
      ]
     },
     "execution_count": 1406,
     "metadata": {},
     "output_type": "execute_result"
    },
    {
     "data": {
      "image/png": "[encoded data removed]",
      "text/plain": [
       "<Figure size 432x288 with 1 Axes>"
      ]
     },
     "metadata": {},
     "output_type": "display_data"
    }
   ],
   "source": [
    "plt.hist(gold[(gold.y==1)].feature_2,alpha=0.5,color='red',density=1)\n",
    "plt.hist(gold[(gold.y==0)].feature_2,alpha=0.5,color='yellow',density=1)\n",
    "plt.title('churned')"
   ]
  },
  {
   "cell_type": "markdown",
   "metadata": {},
   "source": [
    "# We prepare the golden set"
   ]
  },
  {
   "cell_type": "code",
   "execution_count": 1290,
   "metadata": {},
   "outputs": [],
   "source": [
    "golden_x= gold.drop(['y'], axis=1)\n",
    "golden_y= gold['y']"
   ]
  },
  {
   "cell_type": "code",
   "execution_count": 1329,
   "metadata": {},
   "outputs": [],
   "source": [
    "x_train, x_test, y_train, y_test = train_test_split(golden_x,golden_y , test_size=0.25)"
   ]
  },
  {
   "cell_type": "code",
   "execution_count": 1330,
   "metadata": {},
   "outputs": [],
   "source": [
    "scaler=StandardScaler()\n",
    "scaler.fit(x_train)\n",
    "x_train = scaler.transform(x_train)\n",
    "x_test = scaler.transform(x_test)"
   ]
  },
  {
   "cell_type": "code",
   "execution_count": null,
   "metadata": {},
   "outputs": [],
   "source": []
  },
  {
   "cell_type": "markdown",
   "metadata": {
    "collapsed": true
   },
   "source": [
    "# LogisticRegression"
   ]
  },
  {
   "cell_type": "code",
   "execution_count": 1439,
   "metadata": {},
   "outputs": [
    {
     "name": "stdout",
     "output_type": "stream",
     "text": [
      "Accuracy of logistic regression classifier on test set: 0.74\n",
      "             precision    recall  f1-score   support\n",
      "\n",
      "        0.0       0.77      0.73      0.75        96\n",
      "        1.0       0.72      0.76      0.74        87\n",
      "\n",
      "avg / total       0.74      0.74      0.74       183\n",
      "\n"
     ]
    },
    {
     "data": {
      "text/plain": [
       "Text(0.5,15,'Predicted label')"
      ]
     },
     "execution_count": 1439,
     "metadata": {},
     "output_type": "execute_result"
    },
    {
     "data": {
      "image/png": "[encoded data removed]",
      "text/plain": [
       "<Figure size 432x288 with 2 Axes>"
      ]
     },
     "metadata": {},
     "output_type": "display_data"
    }
   ],
   "source": [
    "clf = LogisticRegression()\n",
    "clf.fit(x_train, y_train)\n",
    "test_y_pred = logisticRegr.predict(x_test)\n",
    "cf_mt = confusion_matrix(y_test, test_y_pred)\n",
    "print('Accuracy of logistic regression classifier on test set: {:.2f}'.format(logisticRegr.score(x_test, y_test)))\n",
    "print(classification_report(y_test, test_y_pred))\n",
    "confusion_matrix_df = pd.DataFrame(cf_mt, ('False', 'True'), ('False', 'True'))\n",
    "heatmap = sns.heatmap(confusion_matrix_df, annot=True, annot_kws={\"size\": 20}, fmt=\"d\")\n",
    "heatmap.yaxis.set_ticklabels(heatmap.yaxis.get_ticklabels(), rotation=0, ha='right', fontsize = 14)\n",
    "heatmap.xaxis.set_ticklabels(heatmap.xaxis.get_ticklabels(), rotation=45, ha='right', fontsize = 14)\n",
    "plt.ylabel('True label', fontsize = 14)\n",
    "plt.xlabel('Predicted label', fontsize = 14)\n"
   ]
  },
  {
   "cell_type": "code",
   "execution_count": 1441,
   "metadata": {},
   "outputs": [
    {
     "data": {
      "image/png": "[encoded data removed]",
      "text/plain": [
       "<Figure size 432x288 with 1 Axes>"
      ]
     },
     "metadata": {},
     "output_type": "display_data"
    }
   ],
   "source": [
    "probs = clf.predict_proba(x_test)\n",
    "preds = probs[:,1]\n",
    "fpr, tpr, threshold = roc_curve(y_test, preds)\n",
    "roc_auc = auc(fpr, tpr)\n",
    "\n",
    "plt.title('Receiver Operating Characteristic')\n",
    "plt.plot(fpr, tpr, 'b', label = 'AUC = %0.2f' % roc_auc)\n",
    "plt.legend(loc = 'lower right')\n",
    "plt.plot([0, 1], [0, 1],'r--')\n",
    "plt.xlim([0, 1])\n",
    "plt.ylim([0, 1])\n",
    "plt.ylabel('True Positive Rate')\n",
    "plt.xlabel('False Positive Rate')\n",
    "plt.show()"
   ]
  },
  {
   "cell_type": "code",
   "execution_count": 1442,
   "metadata": {},
   "outputs": [
    {
     "data": {
      "text/plain": [
       "Text(0.5,1,'2-class Precision-Recall curve: AP=0.83')"
      ]
     },
     "execution_count": 1442,
     "metadata": {},
     "output_type": "execute_result"
    },
    {
     "data": {
      "image/png": "[encoded data removed]",
      "text/plain": [
       "<Figure size 432x288 with 1 Axes>"
      ]
     },
     "metadata": {},
     "output_type": "display_data"
    }
   ],
   "source": [
    "average_precision = average_precision_score(y_test, preds)\n",
    "precision, recall, _ = precision_recall_curve(y_test, preds)\n",
    "plt.step(recall, precision, color='b', alpha=0.2,\n",
    "         where='post')\n",
    "plt.fill_between(recall, precision, step='post', alpha=0.2,\n",
    "                 color='b')\n",
    "plt.xlabel('Recall')\n",
    "plt.ylabel('Precision')\n",
    "plt.ylim([0.0, 1.05])\n",
    "plt.xlim([0.0, 1.0])\n",
    "plt.title('2-class Precision-Recall curve: AP={0:0.2f}'.format(\n",
    "          average_precision))"
   ]
  },
  {
   "cell_type": "code",
   "execution_count": null,
   "metadata": {},
   "outputs": [],
   "source": []
  },
  {
   "cell_type": "code",
   "execution_count": null,
   "metadata": {},
   "outputs": [],
   "source": [
    "# Logistic regression randomize search"
   ]
  },
  {
   "cell_type": "code",
   "execution_count": 1335,
   "metadata": {},
   "outputs": [
    {
     "name": "stdout",
     "output_type": "stream",
     "text": [
      "0.7431693989071039\n",
      "Accuracy: 0.727 (0.070)\n",
      "Logloss: -0.512 (0.123)\n",
      "AUC: 0.855 (0.071)\n",
      "[[70 26]\n",
      " [21 66]]\n"
     ]
    },
    {
     "data": {
      "text/plain": [
       "Text(0.5,15,'Predicted label')"
      ]
     },
     "execution_count": 1335,
     "metadata": {},
     "output_type": "execute_result"
    },
    {
     "data": {
      "image/png": "[encoded data removed]",
      "text/plain": [
       "<Figure size 432x288 with 2 Axes>"
      ]
     },
     "metadata": {},
     "output_type": "display_data"
    }
   ],
   "source": [
    "clf.fit(x_train,y_train)\n",
    "print(clf.score(x_test, y_test))\n",
    "seed = 7\n",
    "k_fold = KFold(n_splits=10, random_state=seed)\n",
    "scoring = 'accuracy'\n",
    "results = results=cross_val_score(clf, x_test, y_test, cv=k_fold, n_jobs=1, scoring=scoring)\n",
    "print(\"Accuracy: %.3f (%.3f)\" % (results.mean(), results.std()))\n",
    "scoring = 'neg_log_loss'\n",
    "results = results=cross_val_score(clf, x_test, y_test, cv=k_fold, n_jobs=1, scoring=scoring)\n",
    "print(\"Logloss: %.3f (%.3f)\" % (results.mean(), results.std()))\n",
    "scoring = 'roc_auc'\n",
    "results = results=cross_val_score(clf, x_test, y_test, cv=k_fold, n_jobs=1, scoring=scoring)\n",
    "print(\"AUC: %.3f (%.3f)\" % (results.mean(), results.std()))\n",
    "\n",
    "clf.fit(x_train,y_train)\n",
    "predicted=clf.predict(x_test)\n",
    "matrix = confusion_matrix(y_test, predicted)\n",
    "print(matrix)\n",
    "\n",
    "\n",
    "confusion_matrix_df = pd.DataFrame(matrix, ('False', 'True'), ('False', 'True'))\n",
    "heatmap = sns.heatmap(confusion_matrix_df, annot=True, annot_kws={\"size\": 20}, fmt=\"d\")\n",
    "heatmap.yaxis.set_ticklabels(heatmap.yaxis.get_ticklabels(), rotation=0, ha='right', fontsize = 14)\n",
    "heatmap.xaxis.set_ticklabels(heatmap.xaxis.get_ticklabels(), rotation=45, ha='right', fontsize = 14)\n",
    "plt.ylabel('True label', fontsize = 14)\n",
    "plt.xlabel('Predicted label', fontsize = 14)"
   ]
  },
  {
   "cell_type": "code",
   "execution_count": 1336,
   "metadata": {},
   "outputs": [
    {
     "name": "stdout",
     "output_type": "stream",
     "text": [
      "             precision    recall  f1-score   support\n",
      "\n",
      "        0.0       0.77      0.73      0.75        96\n",
      "        1.0       0.72      0.76      0.74        87\n",
      "\n",
      "avg / total       0.74      0.74      0.74       183\n",
      "\n"
     ]
    },
    {
     "data": {
      "image/png": "[encoded data removed]",
      "text/plain": [
       "<Figure size 432x288 with 1 Axes>"
      ]
     },
     "metadata": {},
     "output_type": "display_data"
    }
   ],
   "source": [
    "probs = clf.predict_proba(x_test)\n",
    "preds = probs[:,1]\n",
    "fpr, tpr, threshold = roc_curve(y_test, preds)\n",
    "roc_auc = auc(fpr, tpr)\n",
    "\n",
    "plt.title('Receiver Operating Characteristic')\n",
    "plt.plot(fpr, tpr, 'b', label = 'AUC = %0.2f' % roc_auc)\n",
    "plt.legend(loc = 'lower right')\n",
    "plt.plot([0, 1], [0, 1],'r--')\n",
    "plt.xlim([0, 1])\n",
    "plt.ylim([0, 1])\n",
    "plt.ylabel('True Positive Rate')\n",
    "plt.xlabel('False Positive Rate')\n",
    "print(classification_report(y_test, test_y_pred))\n",
    "plt.show()"
   ]
  },
  {
   "cell_type": "code",
   "execution_count": 1337,
   "metadata": {},
   "outputs": [
    {
     "data": {
      "text/plain": [
       "Text(0.5,1,'2-class Precision-Recall curve: AP=0.83')"
      ]
     },
     "execution_count": 1337,
     "metadata": {},
     "output_type": "execute_result"
    },
    {
     "data": {
      "image/png": "[encoded data removed]",
      "text/plain": [
       "<Figure size 432x288 with 1 Axes>"
      ]
     },
     "metadata": {},
     "output_type": "display_data"
    }
   ],
   "source": [
    "average_precision = average_precision_score(y_test, preds)\n",
    "precision, recall, _ = precision_recall_curve(y_test, preds)\n",
    "\n",
    "plt.step(recall, precision, color='b', alpha=0.2,\n",
    "         where='post')\n",
    "plt.fill_between(recall, precision, step='post', alpha=0.2,\n",
    "                 color='b')\n",
    "\n",
    "plt.xlabel('Recall')\n",
    "plt.ylabel('Precision')\n",
    "plt.ylim([0.0, 1.05])\n",
    "plt.xlim([0.0, 1.0])\n",
    "plt.title('2-class Precision-Recall curve: AP={0:0.2f}'.format(\n",
    "          average_precision))"
   ]
  },
  {
   "cell_type": "code",
   "execution_count": null,
   "metadata": {},
   "outputs": [],
   "source": []
  },
  {
   "cell_type": "code",
   "execution_count": null,
   "metadata": {},
   "outputs": [],
   "source": []
  },
  {
   "cell_type": "markdown",
   "metadata": {},
   "source": [
    "# XGBOOST Classifier"
   ]
  },
  {
   "cell_type": "code",
   "execution_count": 1445,
   "metadata": {},
   "outputs": [
    {
     "data": {
      "text/plain": [
       "XGBClassifier(base_score=0.5, booster='gbtree', colsample_bylevel=1,\n",
       "       colsample_bytree=1, gamma=0, learning_rate=0.1, max_delta_step=0,\n",
       "       max_depth=3, min_child_weight=1, missing=None, n_estimators=100,\n",
       "       n_jobs=1, nthread=None, objective='binary:logistic', random_state=0,\n",
       "       reg_alpha=0, reg_lambda=1, scale_pos_weight=1, seed=None,\n",
       "       silent=True, subsample=1)"
      ]
     },
     "execution_count": 1445,
     "metadata": {},
     "output_type": "execute_result"
    }
   ],
   "source": [
    "xclas = XGBClassifier()  # and for classifier  \n",
    "xclas.fit(x_train, y_train)  \n"
   ]
  },
  {
   "cell_type": "code",
   "execution_count": 1446,
   "metadata": {},
   "outputs": [
    {
     "name": "stdout",
     "output_type": "stream",
     "text": [
      "             precision    recall  f1-score   support\n",
      "\n",
      "        0.0       0.77      0.73      0.75        96\n",
      "        1.0       0.72      0.76      0.74        87\n",
      "\n",
      "avg / total       0.74      0.74      0.74       183\n",
      "\n"
     ]
    },
    {
     "data": {
      "image/png": "[encoded data removed]",
      "text/plain": [
       "<Figure size 432x288 with 1 Axes>"
      ]
     },
     "metadata": {},
     "output_type": "display_data"
    }
   ],
   "source": [
    "probs = xclas.predict_proba(x_test)\n",
    "preds = probs[:,1]\n",
    "fpr, tpr, threshold = roc_curve(y_test, preds)\n",
    "roc_auc = auc(fpr, tpr)\n",
    "\n",
    "plt.title('Receiver Operating Characteristic')\n",
    "plt.plot(fpr, tpr, 'b', label = 'AUC = %0.2f' % roc_auc)\n",
    "plt.legend(loc = 'lower right')\n",
    "plt.plot([0, 1], [0, 1],'r--')\n",
    "plt.xlim([0, 1])\n",
    "plt.ylim([0, 1])\n",
    "plt.ylabel('True Positive Rate')\n",
    "plt.xlabel('False Positive Rate')\n",
    "print(classification_report(y_test, test_y_pred))\n",
    "plt.show()"
   ]
  },
  {
   "cell_type": "code",
   "execution_count": null,
   "metadata": {},
   "outputs": [],
   "source": []
  },
  {
   "cell_type": "code",
   "execution_count": null,
   "metadata": {},
   "outputs": [],
   "source": []
  },
  {
   "cell_type": "code",
   "execution_count": 1414,
   "metadata": {},
   "outputs": [],
   "source": [
    "from xgboost.sklearn import XGBRegressor  \n",
    "import scipy.stats as st\n",
    "\n",
    "one_to_left = st.beta(10, 1)  \n",
    "from_zero_positive = st.expon(0, 50)\n",
    "\n",
    "params = {  \n",
    "    \"n_estimators\": st.randint(3, 40),\n",
    "    \"max_depth\": st.randint(3, 40),\n",
    "    \"learning_rate\": st.uniform(0.05, 0.4),\n",
    "    \"colsample_bytree\": one_to_left,\n",
    "    \"subsample\": one_to_left,\n",
    "    \"gamma\": st.uniform(0, 10),\n",
    "    'reg_alpha': from_zero_positive,\n",
    "    \"min_child_weight\": from_zero_positive,\n",
    "}\n",
    "\n",
    "xgbreg = XGBRegressor(nthreads=-1)  "
   ]
  },
  {
   "cell_type": "code",
   "execution_count": 1420,
   "metadata": {},
   "outputs": [
    {
     "data": {
      "text/plain": [
       "RandomizedSearchCV(cv=None, error_score='raise',\n",
       "          estimator=XGBRegressor(base_score=0.5, booster='gbtree', colsample_bylevel=1,\n",
       "       colsample_bytree=1, gamma=0, learning_rate=0.1, max_delta_step=0,\n",
       "       max_depth=3, min_child_weight=1, missing=None, n_estimators=100,\n",
       "       n_jobs=1, nthread=None, nthreads=-1, objective='reg:linear',\n",
       "       random_state=0, reg_alpha=0, reg_lambda=1, scale_pos_weight=1,\n",
       "       seed=None, silent=True, subsample=1),\n",
       "          fit_params=None, iid=True, n_iter=10, n_jobs=1,\n",
       "          param_distributions={'n_estimators': <scipy.stats._distn_infrastructure.rv_frozen object at 0x0000014521271358>, 'max_depth': <scipy.stats._distn_infrastructure.rv_frozen object at 0x0000014521271828>, 'learning_rate': <scipy.stats._distn_infrastructure.rv_frozen object at 0x0000014521271BA8>, 'cols...98>, 'min_child_weight': <scipy.stats._distn_infrastructure.rv_frozen object at 0x0000014521843198>},\n",
       "          pre_dispatch='2*n_jobs', random_state=None, refit=True,\n",
       "          return_train_score='warn', scoring=None, verbose=0)"
      ]
     },
     "execution_count": 1420,
     "metadata": {},
     "output_type": "execute_result"
    }
   ],
   "source": [
    "from sklearn.model_selection import RandomizedSearchCV\n",
    "\n",
    "gs = RandomizedSearchCV(xgbreg, params, n_jobs=1)  \n",
    "gs.fit(x_train, y_train)  \n"
   ]
  },
  {
   "cell_type": "code",
   "execution_count": 1430,
   "metadata": {},
   "outputs": [],
   "source": [
    "y_pred=gs.predict(x_test)  \n",
    "predictions = [round(value) for value in y_pred]"
   ]
  },
  {
   "cell_type": "code",
   "execution_count": 1431,
   "metadata": {},
   "outputs": [
    {
     "name": "stdout",
     "output_type": "stream",
     "text": [
      "Accuracy: 74.32%\n"
     ]
    }
   ],
   "source": [
    "accuracy = accuracy_score(y_test, predictions)\n",
    "print(\"Accuracy: %.2f%%\" % (accuracy * 100.0))"
   ]
  },
  {
   "cell_type": "code",
   "execution_count": 1432,
   "metadata": {},
   "outputs": [
    {
     "name": "stdout",
     "output_type": "stream",
     "text": [
      "             precision    recall  f1-score   support\n",
      "\n",
      "        0.0       0.76      0.74      0.75        96\n",
      "        1.0       0.72      0.75      0.73        87\n",
      "\n",
      "avg / total       0.74      0.74      0.74       183\n",
      "\n"
     ]
    },
    {
     "data": {
      "image/png": "[encoded data removed]",
      "text/plain": [
       "<Figure size 432x288 with 1 Axes>"
      ]
     },
     "metadata": {},
     "output_type": "display_data"
    }
   ],
   "source": [
    "preds = y_pred\n",
    "fpr, tpr, threshold = roc_curve(y_test, preds)\n",
    "roc_auc = auc(fpr, tpr)\n",
    "\n",
    "plt.title('Receiver Operating Characteristic')\n",
    "plt.plot(fpr, tpr, 'b', label = 'AUC = %0.2f' % roc_auc)\n",
    "plt.legend(loc = 'lower right')\n",
    "plt.plot([0, 1], [0, 1],'r--')\n",
    "plt.xlim([0, 1])\n",
    "plt.ylim([0, 1])\n",
    "plt.ylabel('True Positive Rate')\n",
    "plt.xlabel('False Positive Rate')\n",
    "print(classification_report(y_test, test_y_pred))\n",
    "plt.show()"
   ]
  },
  {
   "cell_type": "code",
   "execution_count": 1433,
   "metadata": {},
   "outputs": [
    {
     "data": {
      "text/plain": [
       "Text(0.5,1,'2-class Precision-Recall curve: AP=0.81')"
      ]
     },
     "execution_count": 1433,
     "metadata": {},
     "output_type": "execute_result"
    },
    {
     "data": {
      "image/png": "[encoded data removed]",
      "text/plain": [
       "<Figure size 432x288 with 1 Axes>"
      ]
     },
     "metadata": {},
     "output_type": "display_data"
    }
   ],
   "source": [
    "average_precision = average_precision_score(y_test, preds)\n",
    "precision, recall, _ = precision_recall_curve(y_test, preds)\n",
    "\n",
    "plt.step(recall, precision, color='b', alpha=0.2,\n",
    "         where='post')\n",
    "plt.fill_between(recall, precision, step='post', alpha=0.2,\n",
    "                 color='b')\n",
    "\n",
    "plt.xlabel('Recall')\n",
    "plt.ylabel('Precision')\n",
    "plt.ylim([0.0, 1.05])\n",
    "plt.xlim([0.0, 1.0])\n",
    "plt.title('2-class Precision-Recall curve: AP={0:0.2f}'.format(\n",
    "          average_precision))"
   ]
  },
  {
   "cell_type": "code",
   "execution_count": null,
   "metadata": {},
   "outputs": [],
   "source": []
  },
  {
   "cell_type": "code",
   "execution_count": null,
   "metadata": {},
   "outputs": [],
   "source": []
  },
  {
   "cell_type": "code",
   "execution_count": null,
   "metadata": {},
   "outputs": [],
   "source": []
  },
  {
   "cell_type": "code",
   "execution_count": null,
   "metadata": {},
   "outputs": [],
   "source": []
  },
  {
   "cell_type": "markdown",
   "metadata": {
    "collapsed": true
   },
   "source": [
    "# SVM"
   ]
  },
  {
   "cell_type": "code",
   "execution_count": 1343,
   "metadata": {},
   "outputs": [
    {
     "name": "stdout",
     "output_type": "stream",
     "text": [
      "0.7431693989071039\n",
      "Accuracy: 0.689 (0.065)\n",
      "[[69 27]\n",
      " [20 67]]\n"
     ]
    },
    {
     "data": {
      "text/plain": [
       "Text(0.5,15,'Predicted label')"
      ]
     },
     "execution_count": 1343,
     "metadata": {},
     "output_type": "execute_result"
    },
    {
     "data": {
      "image/png": "[encoded data removed]",
      "text/plain": [
       "<Figure size 432x288 with 2 Axes>"
      ]
     },
     "metadata": {},
     "output_type": "display_data"
    }
   ],
   "source": [
    "clf = svm.SVC(probability=True)\n",
    "clf.fit(x_train,y_train)\n",
    "print(clf.score(x_test, y_test))\n",
    "seed = 7\n",
    "k_fold = KFold(n_splits=10, random_state=seed)\n",
    "scoring = 'accuracy'\n",
    "results = results=cross_val_score(clf, x_test, y_test, cv=k_fold, n_jobs=1, scoring=scoring)\n",
    "print(\"Accuracy: %.3f (%.3f)\" % (results.mean(), results.std()))\n",
    "\n",
    "\n",
    "clf.fit(x_train,y_train)\n",
    "predicted=clf.predict(x_test)\n",
    "matrix = confusion_matrix(y_test, predicted)\n",
    "print(matrix)\n",
    "\n",
    "\n",
    "confusion_matrix_df = pd.DataFrame(matrix, ('False', 'True'), ('False', 'True'))\n",
    "heatmap = sns.heatmap(confusion_matrix_df, annot=True, annot_kws={\"size\": 20}, fmt=\"d\")\n",
    "heatmap.yaxis.set_ticklabels(heatmap.yaxis.get_ticklabels(), rotation=0, ha='right', fontsize = 14)\n",
    "heatmap.xaxis.set_ticklabels(heatmap.xaxis.get_ticklabels(), rotation=45, ha='right', fontsize = 14)\n",
    "plt.ylabel('True label', fontsize = 14)\n",
    "plt.xlabel('Predicted label', fontsize = 14)"
   ]
  },
  {
   "cell_type": "code",
   "execution_count": 1344,
   "metadata": {},
   "outputs": [
    {
     "name": "stdout",
     "output_type": "stream",
     "text": [
      "             precision    recall  f1-score   support\n",
      "\n",
      "        0.0       0.77      0.73      0.75        96\n",
      "        1.0       0.72      0.76      0.74        87\n",
      "\n",
      "avg / total       0.74      0.74      0.74       183\n",
      "\n"
     ]
    },
    {
     "data": {
      "image/png": "[encoded data removed]",
      "text/plain": [
       "<Figure size 432x288 with 1 Axes>"
      ]
     },
     "metadata": {},
     "output_type": "display_data"
    }
   ],
   "source": [
    "probs = clf.predict_proba(x_test)\n",
    "preds = probs[:,1]\n",
    "fpr, tpr, threshold = roc_curve(y_test, preds)\n",
    "roc_auc = auc(fpr, tpr)\n",
    "\n",
    "plt.title('Receiver Operating Characteristic')\n",
    "plt.plot(fpr, tpr, 'b', label = 'AUC = %0.2f' % roc_auc)\n",
    "plt.legend(loc = 'lower right')\n",
    "plt.plot([0, 1], [0, 1],'r--')\n",
    "plt.xlim([0, 1])\n",
    "plt.ylim([0, 1])\n",
    "plt.ylabel('True Positive Rate')\n",
    "plt.xlabel('False Positive Rate')\n",
    "print(classification_report(y_test, test_y_pred))\n",
    "plt.show()"
   ]
  },
  {
   "cell_type": "code",
   "execution_count": 1345,
   "metadata": {},
   "outputs": [
    {
     "data": {
      "text/plain": [
       "Text(0.5,1,'2-class Precision-Recall curve: AP=0.78')"
      ]
     },
     "execution_count": 1345,
     "metadata": {},
     "output_type": "execute_result"
    },
    {
     "data": {
      "image/png": "[encoded data removed]",
      "text/plain": [
       "<Figure size 432x288 with 1 Axes>"
      ]
     },
     "metadata": {},
     "output_type": "display_data"
    }
   ],
   "source": [
    "average_precision = average_precision_score(y_test, preds)\n",
    "precision, recall, _ = precision_recall_curve(y_test, preds)\n",
    "\n",
    "plt.step(recall, precision, color='b', alpha=0.2,\n",
    "         where='post')\n",
    "plt.fill_between(recall, precision, step='post', alpha=0.2,\n",
    "                 color='b')\n",
    "\n",
    "plt.xlabel('Recall')\n",
    "plt.ylabel('Precision')\n",
    "plt.ylim([0.0, 1.05])\n",
    "plt.xlim([0.0, 1.0])\n",
    "plt.title('2-class Precision-Recall curve: AP={0:0.2f}'.format(\n",
    "          average_precision))"
   ]
  },
  {
   "cell_type": "code",
   "execution_count": null,
   "metadata": {},
   "outputs": [],
   "source": []
  },
  {
   "cell_type": "code",
   "execution_count": null,
   "metadata": {},
   "outputs": [],
   "source": []
  },
  {
   "cell_type": "code",
   "execution_count": null,
   "metadata": {},
   "outputs": [],
   "source": []
  },
  {
   "cell_type": "markdown",
   "metadata": {},
   "source": [
    "# Random Forest"
   ]
  },
  {
   "cell_type": "code",
   "execution_count": 1346,
   "metadata": {},
   "outputs": [],
   "source": [
    "clf = RandomForestClassifier(n_jobs=-1)\n",
    "\n",
    "param_grid = {\n",
    "    'min_samples_split': [3, 5, 10], \n",
    "    'n_estimators' : [100, 300],\n",
    "    'max_depth': [3, 5, 15, 25],\n",
    "    'max_features': [3, 5, 10, 20]\n",
    "}\n",
    "\n",
    "scorers = {\n",
    "    'precision_score': make_scorer(precision_score),\n",
    "    'recall_score': make_scorer(recall_score),\n",
    "    'accuracy_score': make_scorer(accuracy_score)\n",
    "}"
   ]
  },
  {
   "cell_type": "code",
   "execution_count": 1347,
   "metadata": {},
   "outputs": [],
   "source": [
    "def grid_search_wrapper(refit_score='precision_score'):\n",
    "    \"\"\"\n",
    "    fits a GridSearchCV classifier using refit_score for optimization\n",
    "    prints classifier performance metrics\n",
    "    \"\"\"\n",
    "    skf = StratifiedKFold(n_splits=10)\n",
    "    grid_search = GridSearchCV(clf, param_grid, scoring=scorers, refit=refit_score,\n",
    "                           cv=skf, return_train_score=True, n_jobs=-1)\n",
    "    grid_search.fit(x_train.values, y_train.values)\n",
    "\n",
    "    \n",
    "    y_pred = grid_search.predict(x_test.values)\n",
    "\n",
    "    print('Best params for {}'.format(refit_score))\n",
    "    print(grid_search.best_params_)\n",
    "\n",
    "    # confusion matrix on the test data.\n",
    "    print('\\nConfusion matrix of Random Forest optimized for {} on the test data:'.format(refit_score))\n",
    "    print(pd.DataFrame(confusion_matrix(y_test, y_pred),\n",
    "                 columns=['pred_neg', 'pred_pos'], index=['neg', 'pos']))\n",
    "    return grid_search"
   ]
  },
  {
   "cell_type": "code",
   "execution_count": 1348,
   "metadata": {},
   "outputs": [],
   "source": [
    "#grid_search_clf = grid_search_wrapper(refit_score='precision_score')\n"
   ]
  },
  {
   "cell_type": "code",
   "execution_count": 1349,
   "metadata": {},
   "outputs": [
    {
     "name": "stdout",
     "output_type": "stream",
     "text": [
      "Accuracy of random forest classifier on test set: 0.74\n"
     ]
    }
   ],
   "source": [
    "randomForest = RandomForestClassifier( max_depth=25, max_features=3, min_samples_split=10, n_estimators=300)\n",
    "randomForest.fit(x_train, y_train)\n",
    "print('Accuracy of random forest classifier on test set: {:.2f}'.format(randomForest.score(x_test, y_test)))"
   ]
  },
  {
   "cell_type": "code",
   "execution_count": 1350,
   "metadata": {},
   "outputs": [
    {
     "data": {
      "text/plain": [
       "array([[71, 25],\n",
       "       [22, 65]], dtype=int64)"
      ]
     },
     "execution_count": 1350,
     "metadata": {},
     "output_type": "execute_result"
    }
   ],
   "source": [
    "test_y_pred = randomForest.predict(x_test)\n",
    "cf_mt = confusion_matrix(y_test, test_y_pred)\n",
    "cf_mt"
   ]
  },
  {
   "cell_type": "code",
   "execution_count": 1351,
   "metadata": {},
   "outputs": [
    {
     "name": "stdout",
     "output_type": "stream",
     "text": [
      "0.7431693989071039\n",
      "Accuracy: 0.727 (0.078)\n",
      "Logloss: -0.487 (0.102)\n",
      "AUC: 0.842 (0.078)\n",
      "[[71 25]\n",
      " [21 66]]\n"
     ]
    },
    {
     "data": {
      "text/plain": [
       "Text(0.5,15,'Predicted label')"
      ]
     },
     "execution_count": 1351,
     "metadata": {},
     "output_type": "execute_result"
    },
    {
     "data": {
      "image/png": "[encoded data removed]",
      "text/plain": [
       "<Figure size 432x288 with 2 Axes>"
      ]
     },
     "metadata": {},
     "output_type": "display_data"
    }
   ],
   "source": [
    "print(randomForest.score(x_test, y_test))\n",
    "seed = 7\n",
    "k_fold = KFold(n_splits=10, random_state=seed)\n",
    "scoring = 'accuracy'\n",
    "results = results=cross_val_score(randomForest, x_test, y_test, cv=k_fold, n_jobs=1, scoring=scoring)\n",
    "print(\"Accuracy: %.3f (%.3f)\" % (results.mean(), results.std()))\n",
    "scoring = 'neg_log_loss'\n",
    "results = results=cross_val_score(randomForest, x_test, y_test, cv=k_fold, n_jobs=1, scoring=scoring)\n",
    "print(\"Logloss: %.3f (%.3f)\" % (results.mean(), results.std()))\n",
    "scoring = 'roc_auc'\n",
    "results = results=cross_val_score(randomForest, x_test, y_test, cv=k_fold, n_jobs=1, scoring=scoring)\n",
    "print(\"AUC: %.3f (%.3f)\" % (results.mean(), results.std()))\n",
    "\n",
    "randomForest.fit(x_train,y_train)\n",
    "predicted=randomForest.predict(x_test)\n",
    "matrix = confusion_matrix(y_test, predicted)\n",
    "print(matrix)\n",
    "\n",
    "\n",
    "confusion_matrix_df = pd.DataFrame(matrix, ('False', 'True'), ('False', 'True'))\n",
    "heatmap = sns.heatmap(confusion_matrix_df, annot=True, annot_kws={\"size\": 20}, fmt=\"d\")\n",
    "heatmap.yaxis.set_ticklabels(heatmap.yaxis.get_ticklabels(), rotation=0, ha='right', fontsize = 14)\n",
    "heatmap.xaxis.set_ticklabels(heatmap.xaxis.get_ticklabels(), rotation=45, ha='right', fontsize = 14)\n",
    "plt.ylabel('True label', fontsize = 14)\n",
    "plt.xlabel('Predicted label', fontsize = 14)"
   ]
  },
  {
   "cell_type": "code",
   "execution_count": 1352,
   "metadata": {},
   "outputs": [
    {
     "data": {
      "image/png": "[encoded data removed]",
      "text/plain": [
       "<Figure size 432x288 with 1 Axes>"
      ]
     },
     "metadata": {},
     "output_type": "display_data"
    }
   ],
   "source": [
    "probs = randomForest.predict_proba(x_test)\n",
    "preds = probs[:,1]\n",
    "fpr, tpr, threshold = roc_curve(y_test, preds)\n",
    "roc_auc = auc(fpr, tpr)\n",
    "\n",
    "\n",
    "plt.title('Receiver Operating Characteristic')\n",
    "plt.plot(fpr, tpr, 'b', label = 'AUC = %0.2f' % roc_auc)\n",
    "plt.legend(loc = 'lower right')\n",
    "plt.plot([0, 1], [0, 1],'r--')\n",
    "plt.xlim([0, 1])\n",
    "plt.ylim([0, 1])\n",
    "plt.ylabel('True Positive Rate')\n",
    "plt.xlabel('False Positive Rate')\n",
    "plt.show()"
   ]
  },
  {
   "cell_type": "code",
   "execution_count": 1353,
   "metadata": {},
   "outputs": [
    {
     "data": {
      "text/plain": [
       "array([0.13660813, 0.0603227 , 0.12954157, 0.12984137, 0.14409988,\n",
       "       0.15588332, 0.13926012, 0.08261418, 0.008444  , 0.0082327 ,\n",
       "       0.00031969, 0.00483235])"
      ]
     },
     "execution_count": 1353,
     "metadata": {},
     "output_type": "execute_result"
    }
   ],
   "source": [
    "randomForest.feature_importances_"
   ]
  },
  {
   "cell_type": "code",
   "execution_count": 1354,
   "metadata": {},
   "outputs": [
    {
     "name": "stdout",
     "output_type": "stream",
     "text": [
      "Feature ranking:\n",
      "1. feature 5 (0.155883)\n",
      "2. feature 4 (0.144100)\n",
      "3. feature 6 (0.139260)\n",
      "4. feature 0 (0.136608)\n",
      "5. feature 3 (0.129841)\n",
      "6. feature 2 (0.129542)\n",
      "7. feature 7 (0.082614)\n",
      "8. feature 1 (0.060323)\n",
      "9. feature 8 (0.008444)\n",
      "10. feature 9 (0.008233)\n",
      "11. feature 11 (0.004832)\n",
      "12. feature 10 (0.000320)\n"
     ]
    },
    {
     "data": {
      "image/png": "[encoded data removed]",
      "text/plain": [
       "<Figure size 432x288 with 1 Axes>"
      ]
     },
     "metadata": {},
     "output_type": "display_data"
    }
   ],
   "source": [
    "importances = randomForest.feature_importances_\n",
    "std = np.std([tree.feature_importances_ for tree in randomForest.estimators_],\n",
    "             axis=0)\n",
    "indices = np.argsort(importances)[::-1]\n",
    "\n",
    "# Print the feature ranking\n",
    "print(\"Feature ranking:\")\n",
    "\n",
    "for f in range(golden_x.shape[1]):\n",
    "    print(\"%d. feature %d (%f)\" % (f + 1, indices[f], importances[indices[f]]))\n",
    "\n",
    "# Plot the feature importances of the forest\n",
    "plt.figure()\n",
    "plt.title(\"Feature importances\")\n",
    "plt.bar(range(golden_x.shape[1]), importances[indices],\n",
    "       color=\"r\", yerr=std[indices], align=\"center\")\n",
    "plt.xticks(range(golden_x.shape[1]), indices)\n",
    "plt.xlim([-1, golden_x.shape[1]])\n",
    "plt.show()"
   ]
  },
  {
   "cell_type": "code",
   "execution_count": null,
   "metadata": {},
   "outputs": [],
   "source": []
  },
  {
   "cell_type": "code",
   "execution_count": null,
   "metadata": {},
   "outputs": [],
   "source": []
  },
  {
   "cell_type": "code",
   "execution_count": null,
   "metadata": {},
   "outputs": [],
   "source": []
  },
  {
   "cell_type": "code",
   "execution_count": null,
   "metadata": {},
   "outputs": [],
   "source": []
  }
 ],
 "metadata": {
  "kernelspec": {
   "display_name": "Python 3",
   "language": "python",
   "name": "python3"
  },
  "language_info": {
   "codemirror_mode": {
    "name": "ipython",
    "version": 3
   },
   "file_extension": ".py",
   "mimetype": "text/x-python",
   "name": "python",
   "nbconvert_exporter": "python",
   "pygments_lexer": "ipython3",
   "version": "3.6.4"
  }
 },
 "nbformat": 4,
 "nbformat_minor": 2
}
